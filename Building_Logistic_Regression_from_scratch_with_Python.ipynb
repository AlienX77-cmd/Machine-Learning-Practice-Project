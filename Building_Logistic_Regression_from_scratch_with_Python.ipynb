{
  "nbformat": 4,
  "nbformat_minor": 0,
  "metadata": {
    "colab": {
      "provenance": [],
      "authorship_tag": "ABX9TyNcngqETPnQJExJ31+VPjKV",
      "include_colab_link": true
    },
    "kernelspec": {
      "name": "python3",
      "display_name": "Python 3"
    },
    "language_info": {
      "name": "python"
    }
  },
  "cells": [
    {
      "cell_type": "markdown",
      "metadata": {
        "id": "view-in-github",
        "colab_type": "text"
      },
      "source": [
        "<a href=\"https://colab.research.google.com/github/AlienX77-cmd/Machine-Learning-Practice-Project/blob/main/Building_Logistic_Regression_from_scratch_with_Python.ipynb\" target=\"_parent\"><img src=\"https://colab.research.google.com/assets/colab-badge.svg\" alt=\"Open In Colab\"/></a>"
      ]
    },
    {
      "cell_type": "markdown",
      "source": [
        "##**Logistic Regression:**"
      ],
      "metadata": {
        "id": "Gg9Rd6L5Yq0z"
      }
    },
    {
      "cell_type": "markdown",
      "source": [
        "![Logistic Regression Formula.png](data:image/png;base64,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)"
      ],
      "metadata": {
        "id": "d4_FDYJgYul1"
      }
    },
    {
      "cell_type": "markdown",
      "source": [
        "Y_hat --> predicted value\n",
        "\n",
        "X --> Input Variable\n",
        "\n",
        "w --> weight\n",
        "\n",
        "b --> bias\n"
      ],
      "metadata": {
        "id": "9f9bPI4pYxTb"
      }
    },
    {
      "cell_type": "markdown",
      "source": [
        "**Gradient Descent:**\n",
        "\n",
        "Gradient Descent is an optimization algorithm used for minimizing the loss function in various machine learning algorithms. It is used for updating the parameters of the learning model.\n",
        "\n",
        "w = w - α*dw\n",
        "\n",
        "b = b - α*db\n"
      ],
      "metadata": {
        "id": "NDWdTDsjY0E8"
      }
    },
    {
      "cell_type": "markdown",
      "source": [
        "**Learning Rate:**\n",
        "\n",
        "Learning rate is a tuning parameter in an optimization algorithm that determines the step size at each iteration while moving toward a minimum of a loss function.\n"
      ],
      "metadata": {
        "id": "4bPURIKaY7hS"
      }
    },
    {
      "cell_type": "markdown",
      "source": [
        "**Derivatives:**"
      ],
      "metadata": {
        "id": "yFmst-2kY-KL"
      }
    },
    {
      "cell_type": "markdown",
      "source": [
        "![Logistic Regression Derivatives.png](data:image/png;base64,iVBORw0KGgoAAAANSUhEUgAAAacAAAElCAIAAADP9bocAAAAAXNSR0IArs4c6QAAAARnQU1BAACxjwv8YQUAAAAJcEhZcwAAFiUAABYlAUlSJPAAAChZSURBVHhe7d17WxPJ1sbhccbRUZHBIyICAoJ4wuPM3t//k733zmr7yhsQI+mEhHp+f3AlXdWHWoenVnUn4bd/R/zzM76FEMK14Lf/hhBCS0T1QghtEdULIbRFVC+E0BZRvRBCW0T1QghtEdULIbRFVC+E0BZRvRBCW0T1QghtEdULIbRFVC+E0BZRvRBCW0T1QghtEdULIbRFVC+E0BZRvRBCW0T1QghtEdULIbRFVC+E0BZRvRBCW0T1QghtEdULIbRFVC+E0BZRvRBCW0T1QghtEdULIbRFVC+E0BZRvRBCW0T1Vo///Oc///zzz5cvXz5//uyFt11DCGEKonqrB6V79+7dixcvnjx5cnJy8vXr164hhDAFUb2VQU1H4Ojd/v4+vbt3797du3dfvXql4ut6hBCmIKq3Gvz777/U7c2bNzs7Ow8fPrx9+/bvv//ub1QvhF8lqrcafPjw4eXLl5ubm1SP0m1tban1onohXIKo3mrw6dOnk5OTo6MjK9zT01MKuL6+HtUL4RJE9VYDK9z+ce23b98ODg7+/vvvqF4IlyCqtzL0n1CJ6oUwC1G91SOqdzHq4k+fPh0dHb148WJ3d/fk5ITF8qnG0BPVWz2iehdA3b58+XJ4eLixsfH777/fvHnz6dOnb968+eeff7oeoXmieqvHtVQ9aqVG697MAOMo7u7fv//XX3/duXOHifx9+PDh6enpIMe/fgxl+RUiqrd6XCfVU4K5/rdv36rODMrrS2eg7GWZ4+NjxR2le/To0d7enkUuQ1HA7e3td+/eRfjOwmj1uSj25wiV8rW3UlRv9bgeqkekSJ58M4StrS3l2OPHj9+/f3/ppagdJe2TJ09u3brFOGSUoT59+kT4iCC8mEVVryus9ObNm/X1dUZ7/vy5aePjx4/X20pRvdXjeqgekXr9+vXm5ua9e/eMRS1GswyNGnY9fhECV99auXv3Lvt4W2s3JZ5ktt1Z9vf387XlCViJTQgfFzAR65mETD/XWPiWTvXMMzJ5d3dXSsySA9cVschEyhZioahhqNPT065tdbCM4l/F3cbGhqWo5RVtmtHdNRkwCGljor5mrC8vW+3WCu7SteQ1htlZr6xE+PDs2bPySNdjZmqS42ihOw6PdD1GnuK7rmEEb6o9TWBdj4FYOtU7Ojpi9D/++EMVcO0r7ekRl+KG+8WiWUFRQ/Ju3rxpQectQ6n4ViWf+fTk5IR/1V8GwuOzZBfL0FCWYQRpc0HAsA8r9bZa5gm1d3dd7QWD0mT4umF2kWLA/ms/Sj8V31BWcpFUbG1t7caNG7+NqC+SO13XY1StV+73Hf766y/6O66Mg7B0qieH79+/b+RPnz798OFDVK8QjqZKMXFn9FyS3okeeOGtYFI36dD1XmI4VHFqyWkgssvcLldnSa1KJzWjoykNxEzXcIaqLtmK4JLdZZ4kener6NXCP3oAbSOxI0+WpcalmO0aLgtHOPXOzs7oRugd9vR2EOFzkPLUn3/+KW4pmuPXjYiux6haNwU+ePCgVM+gSvJcQ9djIJZX9VQxUb0eKVpfv/1f3X8GYSqAVmKpK4IpHZES9K78ApGaEge0LquYIXyHh4dnY6ZPZjPESkyo3C3bSZ6rVe9MqEMPmdBU9ZGxy52uYTasJ7a2tiwmZq/EJyDljmmqhsue8EKN2sxUVZ5rKMkbRHbHieqFxSF8SbPiheTxsuyaveByBMcRLVJF2KgiLQkn8kSfN2/eOK8qg/ApYWwZPJeGxSjkf38fQ3E6ccHeKvT0MSLdBplCilIfPiI9Tk1wh7KVQ5nzXLCKT003IeXk9fj4uO7e1JC7hqGJ6oXFIZPVYtIJCq5B0skRZCkhk0iETy6dLU+sraihFdOPFGQJMQS5oCj+kVIrgmiEQUkWVSFZH6oocxZ6qnhkLkemgE7dtc2G47hOYmpQrnz8SbEXZkQi7oxGzUcGWE2DE9ULi0P+bG5ukqe6ozdgWPdLJ3pqZUTmuoZRpsku6ynnvWC1uGyIfNdpLAZFzdlt4u6eCpeU16C0DjKF9DBg3S5Udr18+ZIIdg2z4QqNwszkskm5+an3lGTf2dlxRn7kI9vnNzNdjeoZj3nJzM9VDAqv5QCnqgUmVE9ngasnzrWFLfat45w73elgxzrCxIQZpqSSkJtY+NIG7Kc0U/ogy9se10ZG5T+NIKnj82UVmHJMkyJitaZS+U8IqJ4rZ70+vLmgz5Rzy9sZ4RrV1qNHjxiNswZcbMpEi3EFXb8qNxYXT1sNx/YBH6H8iKtRPYFocjZBCdBa79SHtswDYndC9ZignmdxPDP1k0PBOjqwlOD40WMsu5gznctBHEr/riFMDVmRXZalVlWXTjAupj5WN8+ePRMDA0a2OBEttSijfaLIBVeTJZXLVlyIq729vYn4WXJUqVXQ0Qjqw2g2VsyrxaQJzr2VOSM1yclQzqpyr2uYGcFTD2p5SlknH20h6LbQAY5Tu8xV8rBo1avoFHwGKToZtDBgISsZyF9Nbr3qMQrT1DRO+CjjuFHqgDrXB3xEwMREoYPQqXxwZDlwuRKj6k05z0M/xQXXxXc7rz5ikWrwmnnlEqrHI/aSqLwAs9fgRXdfRDh+pZPjO4uM5feaR4ctMBdATfk1KH+9tsUQvDBGgxLY5z62npHyl1pBWhE+hh3KWS5VHsl0Fy+pHbkeNEltG2XNAhy0UNVjOKGpLpM/TFnTrwHDi3qyQwH91dqrHsiWwLWRmSZki28okWwcfcTnt7NLp4obO7KyWq8vAX4Vx1HnCzWX+lNc/LD3rRYPs7t+RQRjchy7MTLz0vRKPH95c8oYdTS6qeYavHbocSX9w1ynqIWSObJOeu4DgZWAC5i98sKkLhdsoUcywkaqIU26roPCZWapSivnlWgDmk7d4+L5RUo6uKKHmxY2Jy1U9Qzp7du3RIEAcSHP0REuhAGTCSYoWzB0r3p2rJSzi9gdX7xAZJeMlnsmbn9AsskxhxUl7HvpBY4dHZl7XPxPsdYWMZc+15VTIsVupl+uYU8+4hEGNOsYl43Vakbp9rkQB+TNkiQzECd2DcMhJwWYYODrWiuYDl2koFIoeSvYVk7ywPgCT2AblBhmOsInwISZ6o87xqN9WHZ2dpxUWtXTkkrGQeAaI6pkKckTSAubkxaqegzHZ1XTGbMopFnVZMBa1erUrQw9rnrSrBYvpZVSrvaCbGQyQVByKSwm5EZnu9QZJwTxl3CFCgdZ5Ep+imFeeim9DAg+rhGaxkJH2O3o6EidyykywUYmJXlmbBnY7XMhTFELmUrdc2+/DkIt/cicidAVCidJRWedcXyyXCGkgCtncIOCuq+U3aAGf3Q7Af86o7SSYoJ/QNXrn+Y7OAcJsEWWCAtVvX6o9EvmTIyz5mpJVbYYVz3b+xsZ4lg29rtwxvr6OtUzpdtRNOgwHt/9rOKAUnRAz82DCnF11lA42qWHTPhIlfquNI6RSQk7cx+Tml04aEplN9lwRE1pjmN66xqGxnhNORTB5FrTpJBwtX0szUKFKLOM1ic/R4RPaZ+f0j/MNbRaLTHm4I9uJ6hFUiXjgLnDjOJKRPFOxcPEzfp5s1DV4yQ5c4HDjJx3BStbjKteaQHFtN3M0K+PHEHBaAvhk5kOLtYFx7iH+jsIOojXRRr3Ehgm4xjRUEzMAb9EJbnUJViMz4y1HmFSFbTtjDylPRemei5J2IiHyih+pxEueJBSgjUM3NHUPj+FxYSc9O52ng0hbfqpQfECvCWsc43neaieC3bZih6p6shWdXRcFs9VvidYqOqpY2uaUqX/6APffZ9x1av0Y6kq8lUZbGRjTezMpwwkl+JARnlLUkW5DrrZ6Ggsy4WDuG2uqM7Iyv/uUA6Eozlmd/RfxCQh1hmWwbnMocwoVeVxE++UF7reF8J9Ipub5q164HqhYu4sC7hyUnVusP0qxiu0RKZwmgbXwHrdzrPBF5Y7VRCIZzkyj0e3EwyueiV5po1Hjx4JA7HESk5hhSecuk7z52pUb1zRJrigD4GTeLxuIq27DKKZqLGaedVrESmveiPqoJvOhNL2Ke+7/4hSXjo7Wjj+BN0uV1cuT61X5mVJRxCjLKyAoiAkz2tm5w4dDLPb4UKYrr+vN6AWnEt/rlI9l2rLJXxxFqqnYhVRnXEvxAwhsQccacWGcg9coG7oGuYGeXIuqmfIP0rYX6K025qs5k7GqdtW3jJs12n+rJLqKRZkXS9hQrlu9pE5c7uI1L80zr7ivu/Ac0JfinYHuhS9w7qgvhDRuTv65ES389QY75TCOiWOdolgtQtjkjzaUepmqmdVSzZTi9diVKvcY5NunwvplUgKKcYVEV3DHHDxdbWlemJjEMmD4wgz1Upn3CnQv9t5ZpzXoFhPPHPEjPE8DWJYJnLZs4E+VS5apLAEFzwqEgghx5fCFLbrNH9WY4VbVB4ykCm0NMVcoXCo2qEikrpRPUdwHB10qzWvDpcreXrq9pZ6pxYvF2PuupzqLQmMKcrpFDNKXZ7ytiq+unvAmDzotcDt9rkQfnScCnEOmmuIl2SPq17XsOJwgUlddC1A9QQApyvH+IsNZ6+X7S5gXLbcrNud3GSjjDYc+W7jIMI6DVf2NIOCnJ0GjbmEzDrorOoREXvxOhWjm7KoRHB89SqdtNpIdHTQzVtrjR+J7PS4WnEmDkTeT5Fp5w5wdSFzfMfUHHS5cXFlZZEA4Lj5xXdUb3Z4x+mUeAzIZfzVNVwKHpGMrlnRoCAgeX0I9VWO0LKYmzFJp2ShqmdUYrFqsbOlUBlaYnAqQ59VPR1sUbuxESFzNF4hcOOrV1pDUp1CWeG1bjrYwugzppnduUSZ4yJ/im78OuMZlwoGrEcZl1Y99PeJJADvz8k+Ub3ZKRs6HWepG2a8I2HKFDbih7QdHh7Kjt71RmEsRqTW4SlNtX2uLFT12LGqMxi/+qvPH4JiraSVICr0BOtZ1QPH284N5fj6qMr+2Lc1eiNqqg8EsbUti7HmNYZIsbOZ+axTpqef2NXgPDWniT2qNzsSswoIzpp41ECwBIPVFcPCiwsmsOpM8hyqdE2qjseP2bSeFBuUPkRgTnPhOAtVPeNnvlrAGicTqHX/VxqNvpFm8JqUaQx9bq0HR1AkljLqTPIEgaKvV8/eiKgTkb9ZypMwIOY5Nbj4ttKhobzZNQxKVG92KtGsq+SRtdT7sW/gTJj33Dwten1U4sjrR48eSdWu7TsGZS6UyA41kcvzY6GqxwqUnsPUX3SNQekXW8ALY7bdCxC+c63ZT0FsRNF045jx+aGs7FCOf0HNGK4EIW6BU3NVPRbsGgYlqjc78pRU8ZSUlHHj89P0qidblTWy1QU7lHJEUdK1fWdc9QgCZzla1zY3Fqp6sKgx4W9vb5M2g2QOf8u4CmkrXHCtmeFca3pbT7tL0exLMceTp1yivnMEwkcWnYv1F1A2h5/C+6oGjpa6yr05LXIrSESRCBEnIqprWHG+fPliqrhz546smai/hkW+qLkslZxLGjLmeBpWil2setKt5EyrJJWJldFEsOvxvRI8Gn3qW6tDyVaysLe3N7EKHpxFq17BTMZWJR69U6+JUVUAS2my9pES1MrMcNaa8kQHu9jRNHL2qYjgMGNILR3IH9N3DWEJKO/U3QmTf39DdkAq5ZylQutgnp+IXiTiXLSL+bo/cLZuGgo5yHocdO7dISnp1NJz9MnUO+fmqbcOoqnyVLezyVjHMSLbq09RZeyc7vkWV6N6BsyFQtOwC6+rIqsmySA9JkxZ1BRRe+nmtS1d2whv7aupOkz4LFwtfFqFmCqM9s3pq2kVAxUk1yYAKvKFNLw4Nztmx2EpHWGlemRLYk7kF/TpzfujPB3vU5xNRn1qRF2PEfYieWdPOiBXo3qhWUSzmLaueTj6Uo16//XoN8S75nB1lKoeHx9bciq+zExcM1f1uSqieuEKMJ/LLgWF7CJ8b9++XcAMH34Esyu7lHUno0/U3r9/f2Njg+RxStfjehHVC1dAlRVybHNzk/A9ePDgxehjTHO9mxPOhS/U2qejT8uah9bW1rZG3xjjoOs6CUX1lhHJ//Hjx1evXu2NqFLIbGyjteHu7i6N0FrPzoSsF4eHh7bDdt26Ay0xlWyyyzXTPuspg3LlRtT1CAuBur0b/Wjgs2fPFHq0j1O45rpKHqJ6S4doM/EeHBzU7ZXbt28/H/23ik+fPlE0AnFv9FluyxB6YSPJ0/nx48c637p1y3RNAVcoZEm8xdT29rasM5aUewvGwvb4+Fh9Z9bxwvx6jfWuiOotFwLO3Lu/v0/yLABpAY2zABSUL1++tN1GCrixsUENNdE7UuhvaZ+ehE/ncx+9LSeuk9JJNtes0Lv2KbdsMLjKjv1xvUu8nqjeclESYMVhJVvyR9oUcUSQqNle6uAt1atPq+pZS11qaJ2oDFQPZqkYwo+I6i01VO/OnTvKN0LWf3ST6lG3v0Y/vT3+Gf3+W671Za8UTSGcS1RvqdnZ2VG7ra2tkT+SV0JG0R49ekT1lIEWvFYl1VnRZ+VLCu0VyQvhR0T1lhSyZYW7NfovqCo7q9d+++non2Fa9tpuJdsL3MuXL0sKrYVrSwjhLFG9JaXu7j1+/FjtNv5jFbZbyda39xWAlLG2/zv6pWIS+WDs/wWHEM4S1VtSrFtfvXpVz2otXb98/5S8F97a+HD0u/m1vCV5ZLFu6vlLFqtzCOEsUb0lhbq9GP02yZ07d6hYPceA5e3u7q4C8MnYL/xoPRn9t1nbtepTnUMIZ4nqLSn18RQr2bW1tX55i/5B7dbYv55Q8R0cHPw9+j19FWL9uAXy4ZUQzhLVW1Io1/r6ukLv8ePHFLDb+oMHtb3qUUlFH2XU7fDwUDFYHUIIPVG9ZaQeZdwd/Sjm9vZ2f1MP9aCWGu7v73ebRv3fvHlTjz6ePn1KEImgLeM7hhCKqN4yonarr51Z5Fqxets1jD63TAoJ3Ovv/wIYij714O7o/yjBEvj4ev033hAGJKq3jFAx5ZtFLi0jXv1KFl9HvyNte/98o9Cnmqp1Yq8QQk9UL4TQFlG9EEJbRPVCCG0R1QshtEVUL4TQFlG9EEJbRPVCCG0R1QshtEVUL4TQFlG9EEJbRPVCCG0R1QshtEVUL4TQFlG9EEJbRPVCCG0R1QshtEVUL4TQFlG9EEJbRPVCCG0R1QshtEVUL4TQFlG9EEJbRPVCCG0R1QshtEVUL4TQFlG9EEJbRPVCCG0R1QshtEVUL4TQFlG9EEJbRPVCCG0R1QshtEVUL4TQFlG9EEJbRPVCCG0R1QshtEVUL4TQFlG9EEJbRPVCCG0R1QshtEVUL4TQFlG9EEJbRPVCCG0R1QshtEVUL4TQFlG9EEJbRPVCCG0R1QshtEVUL4TQFlG9EEJbRPVCCG0R1QshtEVUL4TQFlG9EEJbRPVCCG0R1QshtEVUL4TQFlG9EEJbRPVCCG0R1QshtEVUL4TQFlG9EEJbRPVCCG0R1QshtEVUL4TQFlG9EEJbRPVCCG0R1QshtEVUL4TQFlG9EEJbRPVCCG0R1QshtEVUL4TQFlG9EEJbRPVCCG0R1QshtEVUL4TQFlG9EEJbRPVCCG0R1QshtEVUL4TQFlG9EEJbRPVCCG0R1QshtEVUL4TQFlG9EEJbRPVCCG0R1QshtEVUL4TQFlG9EEJbRPVCCG0R1QshtEVUL4TQFlG9EEJbRPVCCG0R1QshtEVUL4TQFlG9EEJbRPVCCG0R1QshtEVUL4TQFlG9EEJbRPVCCG0R1QshtEVUL4TQFlG9EEJbRPVCCG0R1QshtEVUL4TQFlG9pebff//99u3b58+fv3796nW3NYQwA1G9pebTp0+vXr16/Pjx7u7ux48fI3whzE5Ubxn5559/aNzx8fH29vbGxsatW7c2Nzc/fPgQ1QthdqJ6y8V//vMfS1oCd3h4SOnW1tZu3rx548aNJ0+eRPVCGISo3nJB8qrEI3mEz8L20aNHhC+qF8JQRPWWC2vbd+/eET5Y5L5+/frZs2d//vlnVC+EoYjqLRdWuISvVzcKuLW1FdULYUCieksH4eteRfVCmANRvaUmqncxX79+ZaK9vb2dnZ39/f2PHz+qlLu2EH5AVG+piepdgKL47du3z58/v3379h9//HH37t0SvvFiOYSzRPWWmqjejyBtnz9/3t7eJnl37tz5awThe/nypXIvwhcuIKq31Fwn1aNE3759Oz09ffXqlXHNok32dRyr2r///pvS0T6vNzc3Cd/Dhw8PDw+/fPkS4Zug7P/+/fvj42N/v3792jW0R1Rvqbkeqiff6JS158nJiVqMMPkr6y4tTA5lMUvvQOy8JXNv3rzZ2NhQ9/nrdctZfS6srTo+ODh4+vTpixcvXr9+7W2bdXFUb6m5HqqnxHj79i15Wl9fv3//vhGRv1nyrSSPWSRwXzYSPlXegwcPbt269ezZM2fseofvsFLdCVUjg0e85Z2uuRmWTvXM21ZAu7u75iL+qMTwV2RLFXOUJoFena8xNWSLkfpuhvqolKJrXhGMghONgjyRvMePH+/t7SnEVBnl2cshAIQB2KQPElPCp0+fjo6ObHdGr6tzGKeKYrW2eZRH+IWtehs2wtKpnqg1C/3xxx+1cqnqhkvkiQn8xo0bmoR1db6WGLLQPD09FZ3b29v37t37/ffflUg7OzuyXTKv0E0rMq2akFq3b98m3Jw7S7nqaMJAVPh7QaLazkQMhZX4hS4XaVBw2RdcraYavnExxSwx4FB8wSP8Qv5E2spNqLOwdKqn0JPhpE2q9Gs6f6mALb/99hvhU/FV5+uHkQprYlfPJS3iSJ5RM4iFW920Mnzp0e2wxEhLXlPfWY3yqeJ9xnttjuBoa2trfYXSNfx/GIeJGEotU59l6RqWFRfJs+B3V1sxP0GlgMLfLFg3Ln80/CnhC/bkl3oE5OCrMpXOzvKq3vidLH+9tkX+4xqrnsircDTGc7E20boSM7MErnymPgrVGVe1kOr0znpfoloKKHnOHrCqS8sFE4ZTCyfn7dqWlYODAxOD6c1le32unBmsppoIdXv//v2MMcB0LMMvJXx7e3uEr2u77kT1wlyQVMqxBw8eyFIKJaPKlbMg88moFCUQSp5z6x1Sa2JQFxNHNVEfQssMmWYihnLZillDmFBzb09OTsS/QdHH58+fD1Lsswy/OLXDUlKpd3YWuZZE9cLwSB4Vq/WaTK46YhDpqTBQOcpSAiEMvO3avlNSK35EkfOuxK0AF3l0dHT79u0bN24QNUMYvxXAmMq63d3d6mCRO+BtOCZ1ZG5iUv5y3haEL6oXhkdOykz5yY8KLmncNcxM3bNT6NWRiUXXMFIHpZ8lG3Wo+KkPtXTNS0yF98OHD0k5qI8FbNf2vdXS3qAMzQCH1ab++aEyc1UsNiNXo3oVoJ8/f7ZmUc/Da77k4MPDw2lUr44gB/ojeOEtn7UwWc0VNuQOXDoBuFIFsba2poiwHBvP4RlxSTJTJFjkEghn6T0uSJxIk4KIOow3LT8sZmGujO3VvL9yTQcHByVMytgBp5CC0fiIp+RdfXq8a7i+XI3qyajXr19vjj62Onp4dUddwOKnp6f7+/vTqB7J4/6trS3RYFFQD7Zsf/v27QrF+nLCNSoLeNFt+kXMQCqXWt5OrNdmhGf5l6KRPMInJPrypIRD8Fis2X5ycrJCYSDCBT+b12ezxhebkkV2jKrAWwZogq9dhsKJ+Iin2E0S8V3XcH1ZtOqVfu3t7Zm1GLp8CcJHAZ89e8bB9TzrAtWzryPIK9WEHR2nbkzQPkcwT569yT09Qs3ucsla+6c4F51diZtH0yMHeEECGGC36VdgQAnMNZzIO0qJcuKAkGPeL4+b6ti/IsRGVZ54UBytVvaWmhO1Cn4DqSf1JMkLw5QjJvia1Lt9BsIBHZanCK4TMeMKzRaXY6Gqx5oC1ERtQmbiKqolGLwQr7bwrr9aL1A9HQSH4K7dzZACwo7CxUEeP348yxNDO5pO64n+TyENVgeCptt5NTFkBYUEK6OpkpThDFvrrMq9UpZp8kE3c0ZlETcNXpuAotXDXMJnshQbrt/V1hZO6SNntRBI9TCX3axjDMqcUQ+FbBnq0e0EfOos/CWz/OW7VTTdL7FQ1atZhVio4TmSXyUY14KtxXGJl2zhgAtUz+6CgHo6Wu3ObeZJPtPk7yxTfZ1L8DnUT3G1puXBb7UsEuOttRWhL4OzqgJKjvEOl3GNJkW01mkKjSpPCBD7kKR51FzlIwencU4kcg4PD4WToBJdq/Lo9iwum3abuc3fimWO6G/4mIQGfHQ7gZnJ6eQdY/IdD3YN15SFql5N0VXTmZAlVW9f7tRa3x7n8otVj4cqRfsg8KI6cJuD0ywRU02/iqmv8lbm/xTKaxk4j3JmYVQBbs4wFn+5gGqQPDqoyrCR3hEUGzmo3HExjsYmvEySeHMeqgdnYX8rMmdxqVxPHbz2gkzPSR3mTcW5edRsCgO0cPGCMQd/dDsOHyk4WM+J+G5F54zpWajqUaIq4PvbMV3DCB4VrLyrw8UrXHmovpuIgG/fvvWPulQB5syuYVkRxORyQC49RfdCT+YY+X93HB49YkOzC5iU9jn+NJIHruGImtsk8JxUT6hQN1fL3cKp1rZO6lI1za4OBlsfEhitJX6CbkNJkuOYexjfuOh4lczzeHQ7Dh/xFH8xIN8ZUddwTVmo6lGiUiVe9PrsMwdxw+iCWLl3gepJzrMRVmlgbrRvrXq6hmXFFVqMD8gsQ2ZPBhT9pvqqL2ryICLvR79AOaXkwUHk7bxVry7Y5dWlcrrTiZChHt26bCGqyFVI/hTTsCu59KwzDjuPP8w1LgNkT7NO12MOjKuec83JZcvDQlVPRtVNCnml7hO1XcMYfZ8LVE+dWJ3H6ftUuIjCrmFZMYoazlCca5ZpIBMy1pxhyrG2lQAmnrt375qcTDCSXx5OX0DJT5kjV+eqeoX61ClUeYZfdcpQpxNLlh1KXTPoT2Er1fEgJVKpOQM6JskTydLhR8kyFL3qLUBhl4GrUb1xRZtgdtW7oM+UOJQ1C99Pg1i/XEQuSa0nzRTdSiQWq7WtOYkZ/d3c3FTsgJqo+KYUPikkc6rWm999vYL99/b25CqPs4CLPDeoLoFYMnGqdsu2F2OSYK4BF4bc4YDU3NCG0tML6FUvtd7wrITqOY5cUuN0EX0hagHS8ObNm27nX0F5NZLNwbjcCouWEYvSOMZX1h0fHxt+vXVYtZ4C0NsSvm63HyNFqaT8UapwpSN0DXPAuQ4PD52Lx7nDxXcNMyMMfslBrmTKWngaFHdWzSVDVrsLUL2NjY26Mcp38z7dlXM9V7jCRQnQNfwijiN55Hm3erkQk7ygNDN3O68gxlvaYbUo+r0l4uo7liR/3tpogLRPN2+73X6MytGhGIfqmRUoQtcwB1ySgOlVb67nWiTvvv/nAGZcgOqxG0/xl9Nx+iA3KJeZK3uawbiDP82gpPTUvo4gjbuGX8SRSwVE208xIVsRuLZu52sBzWJqPiIo3aZfgQFVhXVbSi6ZQgYsgiaI6s0O7whg1lMu+Dvve4jLwEJVT8kgnRTSqrmzz7xKbigaZ1/ikyuOpr5zZMd/OPpCT9fw6zgyRXaKn1IfWZimAloh6AjJu/Q30kB96rMX884iLojqzUhfm/MXr7Hh/GapJWGhqke5dnZ2bo0gTPKhL/ckhqJAK9lSIwjiC1RPBaGnLX06eSFQHLMOTjqVG9UUfhWOICW49G0yWcpZxAj7+/vzuzse1ZsdRrNekTXMyGtzPdeSsFDVUxZZ2NYClpVfvHjxZvTvssDNTK9JpWbOuaDWs68OE99I88Jbx6zlbQv3JpYZxucOk5O8VZhzbtcwNFwf1ZsR56onJ/x1dgV2LVmo6qmcTfvcSbPoGpFS2dWnJbzgYNu9AF07V/WIWnWDF3r2uzuaY9ru+M5y7av0ZUbp3f+qaN3D7RqGJqo3O7zDRzzFX/P7qu9SsVDVA5uqy6xAS6f41V9RS602NjasW8HNKr4J1bPasp1v7Li5ualO/Hv0y3r27Y+jyZHneiMpTIMp58uXL3zBKfJ2b2+PR+YxDznL0fffXlfjXxvVe//9lz5JuULMMLuGQeERfuEdPmJDOeVELZQLi1a9gpyxddVolEtpTdEODw/NaZr29/fX19fljCAu1eMJTbyiJ8l7/fq1t7pRRlscwXEczTHtXqcIV44qjF9MVJzbT2DD8u3bN+WJ+ZLkDfs54atF5FcWqMLmt+rsiwlFBhuaP7qG687VqB5zc6QY5d3CaxFM3arJEtW0M54nmmypniaoc49gy/gu4WqRUeYh5Z5pSeUyj4KlqhXRUgFwbeqUPgvgxZzGxSMqCTOTipKn2LBruO5cjeqFFjCNvRv9LIpCTGodHx/PQ/jC5eALHvn777+5pr5403+g4toT1QtzRCH2+vVra0/VhNSqZ+sKmWtTlK0ijM8LfMEj/MI7fMRTXXMDRPXCHKkVqKSqBHv48OH+/r6VVFM5tlTwyOfPn61n+UINXnfJuaOpeSiqd5WUKHz48OHVq1e7u7sUoT46gNPT08PDQxt3dnYODg681bnWjN7aqMle1inLH68u8uTkpH7CAM+ePVNo1G3crkeYP6zNETTuxegnmp88eeIFvzR42yGqd5VY69Uza1FYn0N8+vSpUqgk79Ho38XdunVrbW1NH9H5fvTvQWxXN9m+vr4+/v2WZUbKKTGOjo5InuHIt0/T/R59GArWFlfmy42NDfFWv63S5sQT1btKCBkVEIhqn62trfujz/Go4KqaU/cROxpH4IQpHbRRq3LPdrF7+/ZtSxWh3B1uuZFgBNqQ63lrar3FQ/hYXsCYclq2f1TvKhF5yh/1GiGgX1SPwKmDSJuNX79+JXz1baF79+6RRZ31tJdWOlidV/EjivItknclxPKI6i0FBG539G+CCdnz58/7n04Y/2bS5uamidrGf77/hxCdVX+rUuuFsCRE9ZaCWupa3qrpTk5OVHO1XU1H7KiedW7/HUmtisFa4dYDjeocQpiGqN5S8Gn0E971tSpr2H4Ncjz6ZrhCz0q2/4w+mfO2voqn6CspDCFMSVTv6qFlH0Y/ZkvIJr50ub+/T9qsfA/HfhraOpc46r++vk4uu60hhOmI6l09ZO7o6EhBp9yzYu2Xt9gZ/U/0iZ+GVgzSR/2ftPEbkCEMS1Tv6jk9PVXi3Rr9D8D+5p0CkBrWowx/rWSrs1Z9SJ7lsHVubuqF8KtE9a6e/pGFv+q4+uzu+IPal2P/mFlxpx68ffu2wtCyl+qpDftbfiGEnxLVu3rqkcXNmze3t7f7ryuMP6i1/u1rul71LHttp4z1xbXxu4EhhAuI6l09BwcHd0c/Cr039j9860GtZeyd//9vxqjhycnJ/fv319bWnjx5Qu/s3tpvZoQwC1G9q4dsra+vV+3Wbfquemo9ZeD4g1rFoNXu1taWXWifF3UrMCvcEKYkqnf1KN8IWX01sts0eppB+GxEv+wtvK0me3kRyQvhl4jqhRDaIqoXQmiLqF4IoS2ieiGEtojqhRDaIqoXQmiLqF4IoS2ieiGEtojqhRDaIqoXQmiLqF4IoS2ieiGEtojqhRDaIqoXQmiLqF4IoS2ieiGEtojqhRDaIqoXQmiLqF4IoS2ieiGEtojqhRDaIqoXQmiLqF4IoS2ieiGEtojqhRDaIqoXQmiLqF4IoS2ieiGEtojqhRDaIqoXQmiLqF4IoS2ieiGEtojqhRDaIqoXQmiLqF4IoS2ieiGElvjvf/8PreDFshNBBE0AAAAASUVORK5CYII=)"
      ],
      "metadata": {
        "id": "UIA_kAleZIsb"
      }
    },
    {
      "cell_type": "code",
      "execution_count": 1,
      "metadata": {
        "id": "MbHx8-TKYUPF"
      },
      "outputs": [],
      "source": [
        "import numpy as np"
      ]
    },
    {
      "cell_type": "code",
      "source": [
        "# Logistic Regression\n",
        "class Logistic_Regression():\n",
        "  \n",
        "  # Declaring the Learning Rate and The number of iterations (Hyperparameters)\n",
        "  def __init__ (self, learning_rate, no_of_iterations):\n",
        "    self.learning_rate = learning_rate\n",
        "    self.no_of_iterations = no_of_iterations\n",
        "\n",
        "  # Fit the function to train the model with the dataset\n",
        "  def fit(self, X, Y):\n",
        "\n",
        "    # m is the number of data points in the dataset (number of rows)\n",
        "    # n is number of input features in the dataset (number of columns)\n",
        "    self.m, self.n = X.shape\n",
        "\n",
        "    # Initiating weight and bias value\n",
        "    self.w = np.zeros(self.n)\n",
        "    self.b = 0\n",
        "    self.X = X\n",
        "    self.Y = Y\n",
        "\n",
        "    # Implementing Gradient Descent for Optimization\n",
        "    for i in range(self.no_of_iterations):\n",
        "      self.update_weights()\n",
        "\n",
        "  def update_weights(self):\n",
        "\n",
        "    # Y_hat formula (sigmoid function)\n",
        "    Y_hat = 1 / (1 + np.exp( - (self.X.dot(self.w) + self.b) ) )\n",
        "\n",
        "    # Derivatives\n",
        "    dw = (1/self.m)*np.dot(self.X.T, (Y_hat - self.Y))\n",
        "    db = (1/self.m)*np.sum(Y_hat - self.Y)\n",
        "\n",
        "    # Updating the weights and bias using Gradien Descent\n",
        "    self.w = self.w - self.learning_rate * dw\n",
        "    self.b = self.b - self.learning_rate * db\n",
        "\n",
        "  # Sigmoid Equation & Decision Boundary\n",
        "  def predict(self, X):\n",
        "    Y_prediction = 1 / (1 + np.exp( - (X.dot(self.w) + self.b) ) )\n",
        "    Y_prediction = np.where(Y_prediction > 0.5, 1 ,0) #if Y_prediction > 0.5 then return 1 else return 0\n",
        "    return Y_prediction\n"
      ],
      "metadata": {
        "id": "itTfmFR6ZMIB"
      },
      "execution_count": null,
      "outputs": []
    },
    {
      "cell_type": "markdown",
      "source": [
        "How to use:\n",
        "```\n",
        "model = Logistic_Regression(learning_rate = 0.01, no_of_iterations = 100)\n",
        "model.fit(X_train, Y_train)\n",
        "Prediction = model.predict(X_test)\n",
        "```\n",
        "\n"
      ],
      "metadata": {
        "id": "xdsL7Fv3brGx"
      }
    }
  ]
}