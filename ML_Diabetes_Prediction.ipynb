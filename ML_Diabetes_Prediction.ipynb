{
  "nbformat": 4,
  "nbformat_minor": 0,
  "metadata": {
    "colab": {
      "provenance": [],
      "authorship_tag": "ABX9TyO5/qrmRoxZ596rSh3A28mB",
      "include_colab_link": true
    },
    "kernelspec": {
      "name": "python3",
      "display_name": "Python 3"
    },
    "language_info": {
      "name": "python"
    }
  },
  "cells": [
    {
      "cell_type": "markdown",
      "metadata": {
        "id": "view-in-github",
        "colab_type": "text"
      },
      "source": [
        "<a href=\"https://colab.research.google.com/github/AlienX77-cmd/Machine-Learning-Practice-Project/blob/main/ML_Diabetes_Prediction.ipynb\" target=\"_parent\"><img src=\"https://colab.research.google.com/assets/colab-badge.svg\" alt=\"Open In Colab\"/></a>"
      ]
    },
    {
      "cell_type": "code",
      "execution_count": 2,
      "metadata": {
        "id": "mYo4215cAshX"
      },
      "outputs": [],
      "source": [
        "import numpy as np\n",
        "import pandas as pd\n",
        "from sklearn.model_selection import train_test_split\n",
        "from sklearn import svm\n",
        "from sklearn.metrics import accuracy_score"
      ]
    },
    {
      "cell_type": "markdown",
      "source": [
        "###*Using diabetes.csv file*"
      ],
      "metadata": {
        "id": "A7PSsix5CMzs"
      }
    },
    {
      "cell_type": "code",
      "source": [
        "from google.colab import files\n",
        "uploaded = files.upload()"
      ],
      "metadata": {
        "colab": {
          "base_uri": "https://localhost:8080/",
          "height": 75
        },
        "id": "lgmmGKC6B0T9",
        "outputId": "0d1bfa49-90f6-4805-d07e-b36020ba8cc3"
      },
      "execution_count": 3,
      "outputs": [
        {
          "output_type": "display_data",
          "data": {
            "text/plain": [
              "<IPython.core.display.HTML object>"
            ],
            "text/html": [
              "\n",
              "     <input type=\"file\" id=\"files-7ef5a628-2861-4eda-984e-d954de9838d1\" name=\"files[]\" multiple disabled\n",
              "        style=\"border:none\" />\n",
              "     <output id=\"result-7ef5a628-2861-4eda-984e-d954de9838d1\">\n",
              "      Upload widget is only available when the cell has been executed in the\n",
              "      current browser session. Please rerun this cell to enable.\n",
              "      </output>\n",
              "      <script>// Copyright 2017 Google LLC\n",
              "//\n",
              "// Licensed under the Apache License, Version 2.0 (the \"License\");\n",
              "// you may not use this file except in compliance with the License.\n",
              "// You may obtain a copy of the License at\n",
              "//\n",
              "//      http://www.apache.org/licenses/LICENSE-2.0\n",
              "//\n",
              "// Unless required by applicable law or agreed to in writing, software\n",
              "// distributed under the License is distributed on an \"AS IS\" BASIS,\n",
              "// WITHOUT WARRANTIES OR CONDITIONS OF ANY KIND, either express or implied.\n",
              "// See the License for the specific language governing permissions and\n",
              "// limitations under the License.\n",
              "\n",
              "/**\n",
              " * @fileoverview Helpers for google.colab Python module.\n",
              " */\n",
              "(function(scope) {\n",
              "function span(text, styleAttributes = {}) {\n",
              "  const element = document.createElement('span');\n",
              "  element.textContent = text;\n",
              "  for (const key of Object.keys(styleAttributes)) {\n",
              "    element.style[key] = styleAttributes[key];\n",
              "  }\n",
              "  return element;\n",
              "}\n",
              "\n",
              "// Max number of bytes which will be uploaded at a time.\n",
              "const MAX_PAYLOAD_SIZE = 100 * 1024;\n",
              "\n",
              "function _uploadFiles(inputId, outputId) {\n",
              "  const steps = uploadFilesStep(inputId, outputId);\n",
              "  const outputElement = document.getElementById(outputId);\n",
              "  // Cache steps on the outputElement to make it available for the next call\n",
              "  // to uploadFilesContinue from Python.\n",
              "  outputElement.steps = steps;\n",
              "\n",
              "  return _uploadFilesContinue(outputId);\n",
              "}\n",
              "\n",
              "// This is roughly an async generator (not supported in the browser yet),\n",
              "// where there are multiple asynchronous steps and the Python side is going\n",
              "// to poll for completion of each step.\n",
              "// This uses a Promise to block the python side on completion of each step,\n",
              "// then passes the result of the previous step as the input to the next step.\n",
              "function _uploadFilesContinue(outputId) {\n",
              "  const outputElement = document.getElementById(outputId);\n",
              "  const steps = outputElement.steps;\n",
              "\n",
              "  const next = steps.next(outputElement.lastPromiseValue);\n",
              "  return Promise.resolve(next.value.promise).then((value) => {\n",
              "    // Cache the last promise value to make it available to the next\n",
              "    // step of the generator.\n",
              "    outputElement.lastPromiseValue = value;\n",
              "    return next.value.response;\n",
              "  });\n",
              "}\n",
              "\n",
              "/**\n",
              " * Generator function which is called between each async step of the upload\n",
              " * process.\n",
              " * @param {string} inputId Element ID of the input file picker element.\n",
              " * @param {string} outputId Element ID of the output display.\n",
              " * @return {!Iterable<!Object>} Iterable of next steps.\n",
              " */\n",
              "function* uploadFilesStep(inputId, outputId) {\n",
              "  const inputElement = document.getElementById(inputId);\n",
              "  inputElement.disabled = false;\n",
              "\n",
              "  const outputElement = document.getElementById(outputId);\n",
              "  outputElement.innerHTML = '';\n",
              "\n",
              "  const pickedPromise = new Promise((resolve) => {\n",
              "    inputElement.addEventListener('change', (e) => {\n",
              "      resolve(e.target.files);\n",
              "    });\n",
              "  });\n",
              "\n",
              "  const cancel = document.createElement('button');\n",
              "  inputElement.parentElement.appendChild(cancel);\n",
              "  cancel.textContent = 'Cancel upload';\n",
              "  const cancelPromise = new Promise((resolve) => {\n",
              "    cancel.onclick = () => {\n",
              "      resolve(null);\n",
              "    };\n",
              "  });\n",
              "\n",
              "  // Wait for the user to pick the files.\n",
              "  const files = yield {\n",
              "    promise: Promise.race([pickedPromise, cancelPromise]),\n",
              "    response: {\n",
              "      action: 'starting',\n",
              "    }\n",
              "  };\n",
              "\n",
              "  cancel.remove();\n",
              "\n",
              "  // Disable the input element since further picks are not allowed.\n",
              "  inputElement.disabled = true;\n",
              "\n",
              "  if (!files) {\n",
              "    return {\n",
              "      response: {\n",
              "        action: 'complete',\n",
              "      }\n",
              "    };\n",
              "  }\n",
              "\n",
              "  for (const file of files) {\n",
              "    const li = document.createElement('li');\n",
              "    li.append(span(file.name, {fontWeight: 'bold'}));\n",
              "    li.append(span(\n",
              "        `(${file.type || 'n/a'}) - ${file.size} bytes, ` +\n",
              "        `last modified: ${\n",
              "            file.lastModifiedDate ? file.lastModifiedDate.toLocaleDateString() :\n",
              "                                    'n/a'} - `));\n",
              "    const percent = span('0% done');\n",
              "    li.appendChild(percent);\n",
              "\n",
              "    outputElement.appendChild(li);\n",
              "\n",
              "    const fileDataPromise = new Promise((resolve) => {\n",
              "      const reader = new FileReader();\n",
              "      reader.onload = (e) => {\n",
              "        resolve(e.target.result);\n",
              "      };\n",
              "      reader.readAsArrayBuffer(file);\n",
              "    });\n",
              "    // Wait for the data to be ready.\n",
              "    let fileData = yield {\n",
              "      promise: fileDataPromise,\n",
              "      response: {\n",
              "        action: 'continue',\n",
              "      }\n",
              "    };\n",
              "\n",
              "    // Use a chunked sending to avoid message size limits. See b/62115660.\n",
              "    let position = 0;\n",
              "    do {\n",
              "      const length = Math.min(fileData.byteLength - position, MAX_PAYLOAD_SIZE);\n",
              "      const chunk = new Uint8Array(fileData, position, length);\n",
              "      position += length;\n",
              "\n",
              "      const base64 = btoa(String.fromCharCode.apply(null, chunk));\n",
              "      yield {\n",
              "        response: {\n",
              "          action: 'append',\n",
              "          file: file.name,\n",
              "          data: base64,\n",
              "        },\n",
              "      };\n",
              "\n",
              "      let percentDone = fileData.byteLength === 0 ?\n",
              "          100 :\n",
              "          Math.round((position / fileData.byteLength) * 100);\n",
              "      percent.textContent = `${percentDone}% done`;\n",
              "\n",
              "    } while (position < fileData.byteLength);\n",
              "  }\n",
              "\n",
              "  // All done.\n",
              "  yield {\n",
              "    response: {\n",
              "      action: 'complete',\n",
              "    }\n",
              "  };\n",
              "}\n",
              "\n",
              "scope.google = scope.google || {};\n",
              "scope.google.colab = scope.google.colab || {};\n",
              "scope.google.colab._files = {\n",
              "  _uploadFiles,\n",
              "  _uploadFilesContinue,\n",
              "};\n",
              "})(self);\n",
              "</script> "
            ]
          },
          "metadata": {}
        },
        {
          "output_type": "stream",
          "name": "stdout",
          "text": [
            "Saving diabetes.csv to diabetes.csv\n"
          ]
        }
      ]
    },
    {
      "cell_type": "markdown",
      "source": [
        "##**Data Collection and Data Pre-Processing**"
      ],
      "metadata": {
        "id": "4gJDgUhACfHb"
      }
    },
    {
      "cell_type": "code",
      "source": [
        "diabetes_data = pd.read_csv('/content/diabetes.csv')"
      ],
      "metadata": {
        "id": "in9iQW2ICaJF"
      },
      "execution_count": 4,
      "outputs": []
    },
    {
      "cell_type": "code",
      "source": [
        "# Showing first five rows of the data frame\n",
        "diabetes_data.head()"
      ],
      "metadata": {
        "colab": {
          "base_uri": "https://localhost:8080/",
          "height": 270
        },
        "id": "qSCXcLeoD4y5",
        "outputId": "d57dab97-4dd3-4415-e105-1a35f8e628c7"
      },
      "execution_count": 5,
      "outputs": [
        {
          "output_type": "execute_result",
          "data": {
            "text/plain": [
              "   Pregnancies  Glucose  BloodPressure  SkinThickness  Insulin   BMI  \\\n",
              "0            6      148             72             35        0  33.6   \n",
              "1            1       85             66             29        0  26.6   \n",
              "2            8      183             64              0        0  23.3   \n",
              "3            1       89             66             23       94  28.1   \n",
              "4            0      137             40             35      168  43.1   \n",
              "\n",
              "   DiabetesPedigreeFunction  Age  Outcome  \n",
              "0                     0.627   50        1  \n",
              "1                     0.351   31        0  \n",
              "2                     0.672   32        1  \n",
              "3                     0.167   21        0  \n",
              "4                     2.288   33        1  "
            ],
            "text/html": [
              "\n",
              "  <div id=\"df-99508d67-5066-4e1f-b3ba-f645ede8639b\">\n",
              "    <div class=\"colab-df-container\">\n",
              "      <div>\n",
              "<style scoped>\n",
              "    .dataframe tbody tr th:only-of-type {\n",
              "        vertical-align: middle;\n",
              "    }\n",
              "\n",
              "    .dataframe tbody tr th {\n",
              "        vertical-align: top;\n",
              "    }\n",
              "\n",
              "    .dataframe thead th {\n",
              "        text-align: right;\n",
              "    }\n",
              "</style>\n",
              "<table border=\"1\" class=\"dataframe\">\n",
              "  <thead>\n",
              "    <tr style=\"text-align: right;\">\n",
              "      <th></th>\n",
              "      <th>Pregnancies</th>\n",
              "      <th>Glucose</th>\n",
              "      <th>BloodPressure</th>\n",
              "      <th>SkinThickness</th>\n",
              "      <th>Insulin</th>\n",
              "      <th>BMI</th>\n",
              "      <th>DiabetesPedigreeFunction</th>\n",
              "      <th>Age</th>\n",
              "      <th>Outcome</th>\n",
              "    </tr>\n",
              "  </thead>\n",
              "  <tbody>\n",
              "    <tr>\n",
              "      <th>0</th>\n",
              "      <td>6</td>\n",
              "      <td>148</td>\n",
              "      <td>72</td>\n",
              "      <td>35</td>\n",
              "      <td>0</td>\n",
              "      <td>33.6</td>\n",
              "      <td>0.627</td>\n",
              "      <td>50</td>\n",
              "      <td>1</td>\n",
              "    </tr>\n",
              "    <tr>\n",
              "      <th>1</th>\n",
              "      <td>1</td>\n",
              "      <td>85</td>\n",
              "      <td>66</td>\n",
              "      <td>29</td>\n",
              "      <td>0</td>\n",
              "      <td>26.6</td>\n",
              "      <td>0.351</td>\n",
              "      <td>31</td>\n",
              "      <td>0</td>\n",
              "    </tr>\n",
              "    <tr>\n",
              "      <th>2</th>\n",
              "      <td>8</td>\n",
              "      <td>183</td>\n",
              "      <td>64</td>\n",
              "      <td>0</td>\n",
              "      <td>0</td>\n",
              "      <td>23.3</td>\n",
              "      <td>0.672</td>\n",
              "      <td>32</td>\n",
              "      <td>1</td>\n",
              "    </tr>\n",
              "    <tr>\n",
              "      <th>3</th>\n",
              "      <td>1</td>\n",
              "      <td>89</td>\n",
              "      <td>66</td>\n",
              "      <td>23</td>\n",
              "      <td>94</td>\n",
              "      <td>28.1</td>\n",
              "      <td>0.167</td>\n",
              "      <td>21</td>\n",
              "      <td>0</td>\n",
              "    </tr>\n",
              "    <tr>\n",
              "      <th>4</th>\n",
              "      <td>0</td>\n",
              "      <td>137</td>\n",
              "      <td>40</td>\n",
              "      <td>35</td>\n",
              "      <td>168</td>\n",
              "      <td>43.1</td>\n",
              "      <td>2.288</td>\n",
              "      <td>33</td>\n",
              "      <td>1</td>\n",
              "    </tr>\n",
              "  </tbody>\n",
              "</table>\n",
              "</div>\n",
              "      <button class=\"colab-df-convert\" onclick=\"convertToInteractive('df-99508d67-5066-4e1f-b3ba-f645ede8639b')\"\n",
              "              title=\"Convert this dataframe to an interactive table.\"\n",
              "              style=\"display:none;\">\n",
              "        \n",
              "  <svg xmlns=\"http://www.w3.org/2000/svg\" height=\"24px\"viewBox=\"0 0 24 24\"\n",
              "       width=\"24px\">\n",
              "    <path d=\"M0 0h24v24H0V0z\" fill=\"none\"/>\n",
              "    <path d=\"M18.56 5.44l.94 2.06.94-2.06 2.06-.94-2.06-.94-.94-2.06-.94 2.06-2.06.94zm-11 1L8.5 8.5l.94-2.06 2.06-.94-2.06-.94L8.5 2.5l-.94 2.06-2.06.94zm10 10l.94 2.06.94-2.06 2.06-.94-2.06-.94-.94-2.06-.94 2.06-2.06.94z\"/><path d=\"M17.41 7.96l-1.37-1.37c-.4-.4-.92-.59-1.43-.59-.52 0-1.04.2-1.43.59L10.3 9.45l-7.72 7.72c-.78.78-.78 2.05 0 2.83L4 21.41c.39.39.9.59 1.41.59.51 0 1.02-.2 1.41-.59l7.78-7.78 2.81-2.81c.8-.78.8-2.07 0-2.86zM5.41 20L4 18.59l7.72-7.72 1.47 1.35L5.41 20z\"/>\n",
              "  </svg>\n",
              "      </button>\n",
              "      \n",
              "  <style>\n",
              "    .colab-df-container {\n",
              "      display:flex;\n",
              "      flex-wrap:wrap;\n",
              "      gap: 12px;\n",
              "    }\n",
              "\n",
              "    .colab-df-convert {\n",
              "      background-color: #E8F0FE;\n",
              "      border: none;\n",
              "      border-radius: 50%;\n",
              "      cursor: pointer;\n",
              "      display: none;\n",
              "      fill: #1967D2;\n",
              "      height: 32px;\n",
              "      padding: 0 0 0 0;\n",
              "      width: 32px;\n",
              "    }\n",
              "\n",
              "    .colab-df-convert:hover {\n",
              "      background-color: #E2EBFA;\n",
              "      box-shadow: 0px 1px 2px rgba(60, 64, 67, 0.3), 0px 1px 3px 1px rgba(60, 64, 67, 0.15);\n",
              "      fill: #174EA6;\n",
              "    }\n",
              "\n",
              "    [theme=dark] .colab-df-convert {\n",
              "      background-color: #3B4455;\n",
              "      fill: #D2E3FC;\n",
              "    }\n",
              "\n",
              "    [theme=dark] .colab-df-convert:hover {\n",
              "      background-color: #434B5C;\n",
              "      box-shadow: 0px 1px 3px 1px rgba(0, 0, 0, 0.15);\n",
              "      filter: drop-shadow(0px 1px 2px rgba(0, 0, 0, 0.3));\n",
              "      fill: #FFFFFF;\n",
              "    }\n",
              "  </style>\n",
              "\n",
              "      <script>\n",
              "        const buttonEl =\n",
              "          document.querySelector('#df-99508d67-5066-4e1f-b3ba-f645ede8639b button.colab-df-convert');\n",
              "        buttonEl.style.display =\n",
              "          google.colab.kernel.accessAllowed ? 'block' : 'none';\n",
              "\n",
              "        async function convertToInteractive(key) {\n",
              "          const element = document.querySelector('#df-99508d67-5066-4e1f-b3ba-f645ede8639b');\n",
              "          const dataTable =\n",
              "            await google.colab.kernel.invokeFunction('convertToInteractive',\n",
              "                                                     [key], {});\n",
              "          if (!dataTable) return;\n",
              "\n",
              "          const docLinkHtml = 'Like what you see? Visit the ' +\n",
              "            '<a target=\"_blank\" href=https://colab.research.google.com/notebooks/data_table.ipynb>data table notebook</a>'\n",
              "            + ' to learn more about interactive tables.';\n",
              "          element.innerHTML = '';\n",
              "          dataTable['output_type'] = 'display_data';\n",
              "          await google.colab.output.renderOutput(dataTable, element);\n",
              "          const docLink = document.createElement('div');\n",
              "          docLink.innerHTML = docLinkHtml;\n",
              "          element.appendChild(docLink);\n",
              "        }\n",
              "      </script>\n",
              "    </div>\n",
              "  </div>\n",
              "  "
            ]
          },
          "metadata": {},
          "execution_count": 5
        }
      ]
    },
    {
      "cell_type": "code",
      "source": [
        "# Showing the numbers of rows (data points) and columns (features) \n",
        "diabetes_data.shape"
      ],
      "metadata": {
        "colab": {
          "base_uri": "https://localhost:8080/"
        },
        "id": "OlbM2y61ECno",
        "outputId": "5b2c1117-02a1-4b2f-df38-c1a13e88abe6"
      },
      "execution_count": 7,
      "outputs": [
        {
          "output_type": "execute_result",
          "data": {
            "text/plain": [
              "(768, 9)"
            ]
          },
          "metadata": {},
          "execution_count": 7
        }
      ]
    },
    {
      "cell_type": "code",
      "source": [
        "# Showing the Statistical measures of the data\n",
        "diabetes_data.describe()"
      ],
      "metadata": {
        "colab": {
          "base_uri": "https://localhost:8080/",
          "height": 364
        },
        "id": "PCRIxp00E0Sz",
        "outputId": "11eef041-3cfd-4b4c-eb11-1b868c2bf308"
      },
      "execution_count": 8,
      "outputs": [
        {
          "output_type": "execute_result",
          "data": {
            "text/plain": [
              "       Pregnancies     Glucose  BloodPressure  SkinThickness     Insulin  \\\n",
              "count   768.000000  768.000000     768.000000     768.000000  768.000000   \n",
              "mean      3.845052  120.894531      69.105469      20.536458   79.799479   \n",
              "std       3.369578   31.972618      19.355807      15.952218  115.244002   \n",
              "min       0.000000    0.000000       0.000000       0.000000    0.000000   \n",
              "25%       1.000000   99.000000      62.000000       0.000000    0.000000   \n",
              "50%       3.000000  117.000000      72.000000      23.000000   30.500000   \n",
              "75%       6.000000  140.250000      80.000000      32.000000  127.250000   \n",
              "max      17.000000  199.000000     122.000000      99.000000  846.000000   \n",
              "\n",
              "              BMI  DiabetesPedigreeFunction         Age     Outcome  \n",
              "count  768.000000                768.000000  768.000000  768.000000  \n",
              "mean    31.992578                  0.471876   33.240885    0.348958  \n",
              "std      7.884160                  0.331329   11.760232    0.476951  \n",
              "min      0.000000                  0.078000   21.000000    0.000000  \n",
              "25%     27.300000                  0.243750   24.000000    0.000000  \n",
              "50%     32.000000                  0.372500   29.000000    0.000000  \n",
              "75%     36.600000                  0.626250   41.000000    1.000000  \n",
              "max     67.100000                  2.420000   81.000000    1.000000  "
            ],
            "text/html": [
              "\n",
              "  <div id=\"df-b048320c-c4f3-46f2-a213-ea27aaf46ada\">\n",
              "    <div class=\"colab-df-container\">\n",
              "      <div>\n",
              "<style scoped>\n",
              "    .dataframe tbody tr th:only-of-type {\n",
              "        vertical-align: middle;\n",
              "    }\n",
              "\n",
              "    .dataframe tbody tr th {\n",
              "        vertical-align: top;\n",
              "    }\n",
              "\n",
              "    .dataframe thead th {\n",
              "        text-align: right;\n",
              "    }\n",
              "</style>\n",
              "<table border=\"1\" class=\"dataframe\">\n",
              "  <thead>\n",
              "    <tr style=\"text-align: right;\">\n",
              "      <th></th>\n",
              "      <th>Pregnancies</th>\n",
              "      <th>Glucose</th>\n",
              "      <th>BloodPressure</th>\n",
              "      <th>SkinThickness</th>\n",
              "      <th>Insulin</th>\n",
              "      <th>BMI</th>\n",
              "      <th>DiabetesPedigreeFunction</th>\n",
              "      <th>Age</th>\n",
              "      <th>Outcome</th>\n",
              "    </tr>\n",
              "  </thead>\n",
              "  <tbody>\n",
              "    <tr>\n",
              "      <th>count</th>\n",
              "      <td>768.000000</td>\n",
              "      <td>768.000000</td>\n",
              "      <td>768.000000</td>\n",
              "      <td>768.000000</td>\n",
              "      <td>768.000000</td>\n",
              "      <td>768.000000</td>\n",
              "      <td>768.000000</td>\n",
              "      <td>768.000000</td>\n",
              "      <td>768.000000</td>\n",
              "    </tr>\n",
              "    <tr>\n",
              "      <th>mean</th>\n",
              "      <td>3.845052</td>\n",
              "      <td>120.894531</td>\n",
              "      <td>69.105469</td>\n",
              "      <td>20.536458</td>\n",
              "      <td>79.799479</td>\n",
              "      <td>31.992578</td>\n",
              "      <td>0.471876</td>\n",
              "      <td>33.240885</td>\n",
              "      <td>0.348958</td>\n",
              "    </tr>\n",
              "    <tr>\n",
              "      <th>std</th>\n",
              "      <td>3.369578</td>\n",
              "      <td>31.972618</td>\n",
              "      <td>19.355807</td>\n",
              "      <td>15.952218</td>\n",
              "      <td>115.244002</td>\n",
              "      <td>7.884160</td>\n",
              "      <td>0.331329</td>\n",
              "      <td>11.760232</td>\n",
              "      <td>0.476951</td>\n",
              "    </tr>\n",
              "    <tr>\n",
              "      <th>min</th>\n",
              "      <td>0.000000</td>\n",
              "      <td>0.000000</td>\n",
              "      <td>0.000000</td>\n",
              "      <td>0.000000</td>\n",
              "      <td>0.000000</td>\n",
              "      <td>0.000000</td>\n",
              "      <td>0.078000</td>\n",
              "      <td>21.000000</td>\n",
              "      <td>0.000000</td>\n",
              "    </tr>\n",
              "    <tr>\n",
              "      <th>25%</th>\n",
              "      <td>1.000000</td>\n",
              "      <td>99.000000</td>\n",
              "      <td>62.000000</td>\n",
              "      <td>0.000000</td>\n",
              "      <td>0.000000</td>\n",
              "      <td>27.300000</td>\n",
              "      <td>0.243750</td>\n",
              "      <td>24.000000</td>\n",
              "      <td>0.000000</td>\n",
              "    </tr>\n",
              "    <tr>\n",
              "      <th>50%</th>\n",
              "      <td>3.000000</td>\n",
              "      <td>117.000000</td>\n",
              "      <td>72.000000</td>\n",
              "      <td>23.000000</td>\n",
              "      <td>30.500000</td>\n",
              "      <td>32.000000</td>\n",
              "      <td>0.372500</td>\n",
              "      <td>29.000000</td>\n",
              "      <td>0.000000</td>\n",
              "    </tr>\n",
              "    <tr>\n",
              "      <th>75%</th>\n",
              "      <td>6.000000</td>\n",
              "      <td>140.250000</td>\n",
              "      <td>80.000000</td>\n",
              "      <td>32.000000</td>\n",
              "      <td>127.250000</td>\n",
              "      <td>36.600000</td>\n",
              "      <td>0.626250</td>\n",
              "      <td>41.000000</td>\n",
              "      <td>1.000000</td>\n",
              "    </tr>\n",
              "    <tr>\n",
              "      <th>max</th>\n",
              "      <td>17.000000</td>\n",
              "      <td>199.000000</td>\n",
              "      <td>122.000000</td>\n",
              "      <td>99.000000</td>\n",
              "      <td>846.000000</td>\n",
              "      <td>67.100000</td>\n",
              "      <td>2.420000</td>\n",
              "      <td>81.000000</td>\n",
              "      <td>1.000000</td>\n",
              "    </tr>\n",
              "  </tbody>\n",
              "</table>\n",
              "</div>\n",
              "      <button class=\"colab-df-convert\" onclick=\"convertToInteractive('df-b048320c-c4f3-46f2-a213-ea27aaf46ada')\"\n",
              "              title=\"Convert this dataframe to an interactive table.\"\n",
              "              style=\"display:none;\">\n",
              "        \n",
              "  <svg xmlns=\"http://www.w3.org/2000/svg\" height=\"24px\"viewBox=\"0 0 24 24\"\n",
              "       width=\"24px\">\n",
              "    <path d=\"M0 0h24v24H0V0z\" fill=\"none\"/>\n",
              "    <path d=\"M18.56 5.44l.94 2.06.94-2.06 2.06-.94-2.06-.94-.94-2.06-.94 2.06-2.06.94zm-11 1L8.5 8.5l.94-2.06 2.06-.94-2.06-.94L8.5 2.5l-.94 2.06-2.06.94zm10 10l.94 2.06.94-2.06 2.06-.94-2.06-.94-.94-2.06-.94 2.06-2.06.94z\"/><path d=\"M17.41 7.96l-1.37-1.37c-.4-.4-.92-.59-1.43-.59-.52 0-1.04.2-1.43.59L10.3 9.45l-7.72 7.72c-.78.78-.78 2.05 0 2.83L4 21.41c.39.39.9.59 1.41.59.51 0 1.02-.2 1.41-.59l7.78-7.78 2.81-2.81c.8-.78.8-2.07 0-2.86zM5.41 20L4 18.59l7.72-7.72 1.47 1.35L5.41 20z\"/>\n",
              "  </svg>\n",
              "      </button>\n",
              "      \n",
              "  <style>\n",
              "    .colab-df-container {\n",
              "      display:flex;\n",
              "      flex-wrap:wrap;\n",
              "      gap: 12px;\n",
              "    }\n",
              "\n",
              "    .colab-df-convert {\n",
              "      background-color: #E8F0FE;\n",
              "      border: none;\n",
              "      border-radius: 50%;\n",
              "      cursor: pointer;\n",
              "      display: none;\n",
              "      fill: #1967D2;\n",
              "      height: 32px;\n",
              "      padding: 0 0 0 0;\n",
              "      width: 32px;\n",
              "    }\n",
              "\n",
              "    .colab-df-convert:hover {\n",
              "      background-color: #E2EBFA;\n",
              "      box-shadow: 0px 1px 2px rgba(60, 64, 67, 0.3), 0px 1px 3px 1px rgba(60, 64, 67, 0.15);\n",
              "      fill: #174EA6;\n",
              "    }\n",
              "\n",
              "    [theme=dark] .colab-df-convert {\n",
              "      background-color: #3B4455;\n",
              "      fill: #D2E3FC;\n",
              "    }\n",
              "\n",
              "    [theme=dark] .colab-df-convert:hover {\n",
              "      background-color: #434B5C;\n",
              "      box-shadow: 0px 1px 3px 1px rgba(0, 0, 0, 0.15);\n",
              "      filter: drop-shadow(0px 1px 2px rgba(0, 0, 0, 0.3));\n",
              "      fill: #FFFFFF;\n",
              "    }\n",
              "  </style>\n",
              "\n",
              "      <script>\n",
              "        const buttonEl =\n",
              "          document.querySelector('#df-b048320c-c4f3-46f2-a213-ea27aaf46ada button.colab-df-convert');\n",
              "        buttonEl.style.display =\n",
              "          google.colab.kernel.accessAllowed ? 'block' : 'none';\n",
              "\n",
              "        async function convertToInteractive(key) {\n",
              "          const element = document.querySelector('#df-b048320c-c4f3-46f2-a213-ea27aaf46ada');\n",
              "          const dataTable =\n",
              "            await google.colab.kernel.invokeFunction('convertToInteractive',\n",
              "                                                     [key], {});\n",
              "          if (!dataTable) return;\n",
              "\n",
              "          const docLinkHtml = 'Like what you see? Visit the ' +\n",
              "            '<a target=\"_blank\" href=https://colab.research.google.com/notebooks/data_table.ipynb>data table notebook</a>'\n",
              "            + ' to learn more about interactive tables.';\n",
              "          element.innerHTML = '';\n",
              "          dataTable['output_type'] = 'display_data';\n",
              "          await google.colab.output.renderOutput(dataTable, element);\n",
              "          const docLink = document.createElement('div');\n",
              "          docLink.innerHTML = docLinkHtml;\n",
              "          element.appendChild(docLink);\n",
              "        }\n",
              "      </script>\n",
              "    </div>\n",
              "  </div>\n",
              "  "
            ]
          },
          "metadata": {},
          "execution_count": 8
        }
      ]
    },
    {
      "cell_type": "code",
      "source": [
        "diabetes_data['Outcome'].value_counts()"
      ],
      "metadata": {
        "colab": {
          "base_uri": "https://localhost:8080/"
        },
        "id": "JRVPDjgxE8Sc",
        "outputId": "785ffe3a-fc72-457d-c431-7584c9edd3af"
      },
      "execution_count": 9,
      "outputs": [
        {
          "output_type": "execute_result",
          "data": {
            "text/plain": [
              "0    500\n",
              "1    268\n",
              "Name: Outcome, dtype: int64"
            ]
          },
          "metadata": {},
          "execution_count": 9
        }
      ]
    },
    {
      "cell_type": "markdown",
      "source": [
        "###*The values of outcome feature aren't well distributed*"
      ],
      "metadata": {
        "id": "eZQCdzf4HK9C"
      }
    },
    {
      "cell_type": "markdown",
      "source": [
        "0 --> Non-Diabetic\n",
        "\n",
        "1 --> Diabetic"
      ],
      "metadata": {
        "id": "G7qJ03VBFPHL"
      }
    },
    {
      "cell_type": "code",
      "source": [
        "diabetes_data.groupby('Outcome').mean()"
      ],
      "metadata": {
        "colab": {
          "base_uri": "https://localhost:8080/",
          "height": 207
        },
        "id": "sham6htXFLf0",
        "outputId": "f72590a9-d7c1-4b3e-d010-a2771f6d7171"
      },
      "execution_count": 10,
      "outputs": [
        {
          "output_type": "execute_result",
          "data": {
            "text/plain": [
              "         Pregnancies     Glucose  BloodPressure  SkinThickness     Insulin  \\\n",
              "Outcome                                                                      \n",
              "0           3.298000  109.980000      68.184000      19.664000   68.792000   \n",
              "1           4.865672  141.257463      70.824627      22.164179  100.335821   \n",
              "\n",
              "               BMI  DiabetesPedigreeFunction        Age  \n",
              "Outcome                                                  \n",
              "0        30.304200                  0.429734  31.190000  \n",
              "1        35.142537                  0.550500  37.067164  "
            ],
            "text/html": [
              "\n",
              "  <div id=\"df-a9a46e8c-9f94-46d0-b559-46550f401381\">\n",
              "    <div class=\"colab-df-container\">\n",
              "      <div>\n",
              "<style scoped>\n",
              "    .dataframe tbody tr th:only-of-type {\n",
              "        vertical-align: middle;\n",
              "    }\n",
              "\n",
              "    .dataframe tbody tr th {\n",
              "        vertical-align: top;\n",
              "    }\n",
              "\n",
              "    .dataframe thead th {\n",
              "        text-align: right;\n",
              "    }\n",
              "</style>\n",
              "<table border=\"1\" class=\"dataframe\">\n",
              "  <thead>\n",
              "    <tr style=\"text-align: right;\">\n",
              "      <th></th>\n",
              "      <th>Pregnancies</th>\n",
              "      <th>Glucose</th>\n",
              "      <th>BloodPressure</th>\n",
              "      <th>SkinThickness</th>\n",
              "      <th>Insulin</th>\n",
              "      <th>BMI</th>\n",
              "      <th>DiabetesPedigreeFunction</th>\n",
              "      <th>Age</th>\n",
              "    </tr>\n",
              "    <tr>\n",
              "      <th>Outcome</th>\n",
              "      <th></th>\n",
              "      <th></th>\n",
              "      <th></th>\n",
              "      <th></th>\n",
              "      <th></th>\n",
              "      <th></th>\n",
              "      <th></th>\n",
              "      <th></th>\n",
              "    </tr>\n",
              "  </thead>\n",
              "  <tbody>\n",
              "    <tr>\n",
              "      <th>0</th>\n",
              "      <td>3.298000</td>\n",
              "      <td>109.980000</td>\n",
              "      <td>68.184000</td>\n",
              "      <td>19.664000</td>\n",
              "      <td>68.792000</td>\n",
              "      <td>30.304200</td>\n",
              "      <td>0.429734</td>\n",
              "      <td>31.190000</td>\n",
              "    </tr>\n",
              "    <tr>\n",
              "      <th>1</th>\n",
              "      <td>4.865672</td>\n",
              "      <td>141.257463</td>\n",
              "      <td>70.824627</td>\n",
              "      <td>22.164179</td>\n",
              "      <td>100.335821</td>\n",
              "      <td>35.142537</td>\n",
              "      <td>0.550500</td>\n",
              "      <td>37.067164</td>\n",
              "    </tr>\n",
              "  </tbody>\n",
              "</table>\n",
              "</div>\n",
              "      <button class=\"colab-df-convert\" onclick=\"convertToInteractive('df-a9a46e8c-9f94-46d0-b559-46550f401381')\"\n",
              "              title=\"Convert this dataframe to an interactive table.\"\n",
              "              style=\"display:none;\">\n",
              "        \n",
              "  <svg xmlns=\"http://www.w3.org/2000/svg\" height=\"24px\"viewBox=\"0 0 24 24\"\n",
              "       width=\"24px\">\n",
              "    <path d=\"M0 0h24v24H0V0z\" fill=\"none\"/>\n",
              "    <path d=\"M18.56 5.44l.94 2.06.94-2.06 2.06-.94-2.06-.94-.94-2.06-.94 2.06-2.06.94zm-11 1L8.5 8.5l.94-2.06 2.06-.94-2.06-.94L8.5 2.5l-.94 2.06-2.06.94zm10 10l.94 2.06.94-2.06 2.06-.94-2.06-.94-.94-2.06-.94 2.06-2.06.94z\"/><path d=\"M17.41 7.96l-1.37-1.37c-.4-.4-.92-.59-1.43-.59-.52 0-1.04.2-1.43.59L10.3 9.45l-7.72 7.72c-.78.78-.78 2.05 0 2.83L4 21.41c.39.39.9.59 1.41.59.51 0 1.02-.2 1.41-.59l7.78-7.78 2.81-2.81c.8-.78.8-2.07 0-2.86zM5.41 20L4 18.59l7.72-7.72 1.47 1.35L5.41 20z\"/>\n",
              "  </svg>\n",
              "      </button>\n",
              "      \n",
              "  <style>\n",
              "    .colab-df-container {\n",
              "      display:flex;\n",
              "      flex-wrap:wrap;\n",
              "      gap: 12px;\n",
              "    }\n",
              "\n",
              "    .colab-df-convert {\n",
              "      background-color: #E8F0FE;\n",
              "      border: none;\n",
              "      border-radius: 50%;\n",
              "      cursor: pointer;\n",
              "      display: none;\n",
              "      fill: #1967D2;\n",
              "      height: 32px;\n",
              "      padding: 0 0 0 0;\n",
              "      width: 32px;\n",
              "    }\n",
              "\n",
              "    .colab-df-convert:hover {\n",
              "      background-color: #E2EBFA;\n",
              "      box-shadow: 0px 1px 2px rgba(60, 64, 67, 0.3), 0px 1px 3px 1px rgba(60, 64, 67, 0.15);\n",
              "      fill: #174EA6;\n",
              "    }\n",
              "\n",
              "    [theme=dark] .colab-df-convert {\n",
              "      background-color: #3B4455;\n",
              "      fill: #D2E3FC;\n",
              "    }\n",
              "\n",
              "    [theme=dark] .colab-df-convert:hover {\n",
              "      background-color: #434B5C;\n",
              "      box-shadow: 0px 1px 3px 1px rgba(0, 0, 0, 0.15);\n",
              "      filter: drop-shadow(0px 1px 2px rgba(0, 0, 0, 0.3));\n",
              "      fill: #FFFFFF;\n",
              "    }\n",
              "  </style>\n",
              "\n",
              "      <script>\n",
              "        const buttonEl =\n",
              "          document.querySelector('#df-a9a46e8c-9f94-46d0-b559-46550f401381 button.colab-df-convert');\n",
              "        buttonEl.style.display =\n",
              "          google.colab.kernel.accessAllowed ? 'block' : 'none';\n",
              "\n",
              "        async function convertToInteractive(key) {\n",
              "          const element = document.querySelector('#df-a9a46e8c-9f94-46d0-b559-46550f401381');\n",
              "          const dataTable =\n",
              "            await google.colab.kernel.invokeFunction('convertToInteractive',\n",
              "                                                     [key], {});\n",
              "          if (!dataTable) return;\n",
              "\n",
              "          const docLinkHtml = 'Like what you see? Visit the ' +\n",
              "            '<a target=\"_blank\" href=https://colab.research.google.com/notebooks/data_table.ipynb>data table notebook</a>'\n",
              "            + ' to learn more about interactive tables.';\n",
              "          element.innerHTML = '';\n",
              "          dataTable['output_type'] = 'display_data';\n",
              "          await google.colab.output.renderOutput(dataTable, element);\n",
              "          const docLink = document.createElement('div');\n",
              "          docLink.innerHTML = docLinkHtml;\n",
              "          element.appendChild(docLink);\n",
              "        }\n",
              "      </script>\n",
              "    </div>\n",
              "  </div>\n",
              "  "
            ]
          },
          "metadata": {},
          "execution_count": 10
        }
      ]
    },
    {
      "cell_type": "markdown",
      "source": [
        "###**- Seperating the data and target(outcome)**"
      ],
      "metadata": {
        "id": "30pMKnINH2MK"
      }
    },
    {
      "cell_type": "code",
      "source": [
        "# Let X = data and Y = target (outcome)\n",
        "X = diabetes_data.drop(columns=\"Outcome\", axis=1)\n",
        "Y = diabetes_data['Outcome']"
      ],
      "metadata": {
        "id": "aZozTcPRFa8E"
      },
      "execution_count": 13,
      "outputs": []
    },
    {
      "cell_type": "code",
      "source": [
        "print(X)"
      ],
      "metadata": {
        "colab": {
          "base_uri": "https://localhost:8080/"
        },
        "id": "IJ-s6doCIFtt",
        "outputId": "cb397e93-80d3-4d22-c62f-10dcd4e8cf9d"
      },
      "execution_count": 14,
      "outputs": [
        {
          "output_type": "stream",
          "name": "stdout",
          "text": [
            "     Pregnancies  Glucose  BloodPressure  SkinThickness  Insulin   BMI  \\\n",
            "0              6      148             72             35        0  33.6   \n",
            "1              1       85             66             29        0  26.6   \n",
            "2              8      183             64              0        0  23.3   \n",
            "3              1       89             66             23       94  28.1   \n",
            "4              0      137             40             35      168  43.1   \n",
            "..           ...      ...            ...            ...      ...   ...   \n",
            "763           10      101             76             48      180  32.9   \n",
            "764            2      122             70             27        0  36.8   \n",
            "765            5      121             72             23      112  26.2   \n",
            "766            1      126             60              0        0  30.1   \n",
            "767            1       93             70             31        0  30.4   \n",
            "\n",
            "     DiabetesPedigreeFunction  Age  \n",
            "0                       0.627   50  \n",
            "1                       0.351   31  \n",
            "2                       0.672   32  \n",
            "3                       0.167   21  \n",
            "4                       2.288   33  \n",
            "..                        ...  ...  \n",
            "763                     0.171   63  \n",
            "764                     0.340   27  \n",
            "765                     0.245   30  \n",
            "766                     0.349   47  \n",
            "767                     0.315   23  \n",
            "\n",
            "[768 rows x 8 columns]\n"
          ]
        }
      ]
    },
    {
      "cell_type": "code",
      "source": [
        "print(Y)"
      ],
      "metadata": {
        "colab": {
          "base_uri": "https://localhost:8080/"
        },
        "id": "6SW_BoN0IKn5",
        "outputId": "a35cfe29-dd11-4090-990a-50b93eff7cd5"
      },
      "execution_count": 15,
      "outputs": [
        {
          "output_type": "stream",
          "name": "stdout",
          "text": [
            "0      1\n",
            "1      0\n",
            "2      1\n",
            "3      0\n",
            "4      1\n",
            "      ..\n",
            "763    0\n",
            "764    0\n",
            "765    0\n",
            "766    1\n",
            "767    0\n",
            "Name: Outcome, Length: 768, dtype: int64\n"
          ]
        }
      ]
    },
    {
      "cell_type": "markdown",
      "source": [
        "###**- Splitting data into Training data and Test data**"
      ],
      "metadata": {
        "id": "4mmvmATzIOcx"
      }
    },
    {
      "cell_type": "code",
      "source": [
        "# stratify = Y so that the outcome value will be well distributed into training and testing data when using train test split function\n",
        "X_train, X_test, Y_train, Y_test = train_test_split(X, Y, test_size=0.2, stratify=Y, random_state=2)\n",
        "# test_size = 0.2 means that 20% of data will be in test data and 80% of data is training data"
      ],
      "metadata": {
        "id": "RIk9UE1VIMAq"
      },
      "execution_count": 17,
      "outputs": []
    },
    {
      "cell_type": "code",
      "source": [
        "print(X.shape, X_train.shape, X_test.shape)"
      ],
      "metadata": {
        "colab": {
          "base_uri": "https://localhost:8080/"
        },
        "id": "rgQtvdd6ImjE",
        "outputId": "574ee39e-0840-494d-c9b5-261e0fa71e55"
      },
      "execution_count": 18,
      "outputs": [
        {
          "output_type": "stream",
          "name": "stdout",
          "text": [
            "(768, 8) (614, 8) (154, 8)\n"
          ]
        }
      ]
    },
    {
      "cell_type": "markdown",
      "source": [
        "##**Support Vector Machine Model Training**"
      ],
      "metadata": {
        "id": "JlZQTO2FIzCS"
      }
    },
    {
      "cell_type": "markdown",
      "source": [
        "![support-vector-machine-algorithm5.png](data:image/png;base64,iVBORw0KGgoAAAANSUhEUgAAA20AAAJpCAIAAACxdk0/AAAAAXNSR0IArs4c6QAAAARnQU1BAACxjwv8YQUAAAAJcEhZcwAAFiUAABYlAUlSJPAAAP+lSURBVHhe7J0FWFRLG4CvXRgoJoKF1+7uLizsrmt3dyt6bcVWVCzUq2K3GCjdtXTH7gLb3ef/DufIvyICIqsg3/vMo8vMnDlzYnffnTkz8xeBIAiCIAiCID8OeiSCIAiCIAiSF9AjEQRBEARBkLyAHokgCIIgCILkBfRIBEEQBEEQJC+gRyIIgiAIgiB5AT0SQRAEQRAEyQvokQiCIAiCIEheQI9EEARBEARB8gJ6JIIgCIIgCJIX0CMRBEEQBEGQvIAeiSAIgiAIguQF9EgEQRAEQRAkL6BHIgiCIAiCIHkBPRJBEARBEATJC+iRCIIgCIIgSF5Aj0QQBEEQBCmiaHU6zXcCnSNb0CMRBEEQBEGKKOiRCIIgCIIgSF5Aj0QQBEEQBEHyAnokgiAIgiAIkhfQIxEEQRAEQZC8gB6JIAiCIAiC5AX0SARBEARBECQvoEciCIIgCIIgeQE9snCg0+m0Wq1GQwa1WgNBpVJnFcgkKhsELVze3F1IBEEQBEGQHwU9shCgVKojI5LdXENevfS6c+fjVbvXJ20ebd1it3nTFf2wZfOV3btunjr56Jb9ewiOb31DQxKYTK5UqqALQhAEQRAEyT/QIwsiKSn8kJB4F2fG40euN647nj3zZNvWq8uWnJ4149DYMbuHD9vWt/e6ls0XtGg27+swv13bxX37rLMatRPC3DlHN2+6vH/fLdj89q0Pr155e3iERUcxxWKZWq2h94QgCIIgCJJX0CMLBDqdTqVSSyRyPl+cmsJ/9dLryOF78+cd79plRa2ak0qVGPYzoWKF0Q3qzRg6ZMvKFWdtL77w9o5ISEjl8yUymQKEEju+EQRBEATJG+iRBQKxSBYQEHPt6ts1qy+A8HXssPRvizl1TacaVxlbvuyITF74o6FMKUuj8qOqm0yoZza9edN5nTsuGz1q56aNlx84OMfFpSgUKroSCIIgCIIgPwJ65O9EJlOGhSU+e+Z+/PiDZUtPWw7bCp5XscLoMqWGZ3LB/A3VjMe1brlw3Jg969fZXjj//P07/+RkDgolgiAIgiA/BHrkb0Cn08nlytRUga9v5KmTj6xG7zKrO61MKctMtvdrQtO///ln9tG7d52Cg2O5XJFKBZcee7oRBEEQBMkZ9MjfgEKhCg6OO3zo3sABGxs1nFXNeNzPd17nORiVH1Wj+kSLRrMnT9p/+dLLpCSOUqmmK4ogCIIgCPJ90CN/HXBKQdECA2NsL75YuvhU966rqlUdb+gu7NyHembTBw3ctHbNhfTnJtkajZauN4IgCIIgSFagR/4i1GqNSCQN8I85fOhe926rqlQak0njCkIAqa1ccczE8dZX7d6EhSWKRDK69giCIAiCIN+AHvmL4PPFnp7hc/852rTJXKPyo0qX/D1PQ+YYoGKVK1q1arFg2dIznh5hdO0RBEEQBEG+AT3yVxAWlnj16pvp0w40+fufSkajM6lbAQyVKlo1azJ3zuwjt+zfS6UK7ONGEARBEORb0CMNi1yuTEpKO3/u6eiROypXtCpbuqA8DZmbUKP6xNGjdr165c1kclElEQRBEATJBHqkYUlISL1x3bFb15Xlyvy2Edl5DqVLWppUHd++3ZJnTz1wkW4EQRAEQTKBHmlAkpM59jff9ei2qobJhEyKVlgC6G9V43Fjx+yGA6GPCkEQBEEQJB30SINArZf9+JHrjGkHM5lZYQw1qk+cPetwYGCMWIwjuBEEQRAEoUGPNAggkWlpwn/mHK1c0SqTkxXS0KrFgk0bL4eHJ+JqNwiCIAiCUKBHGoTIyORtW6+2a7O4cA2sySYYVx7TptXCW/bvmclc+iARBEEQBCnaoEfmP1yu6PEj104dllUzHpfJxnIZaphMBAe1GrULQveuq0xrT9FfOBHctK7p1BGW2yF18MBNkFN/R0blR9WqOaltm8VdOi3v0H7p343n1DCZkC+jfCpWGDVv7rE3r33o40QQBEEQpGiDHpn/eHtFbNt69WfmiWzVYsHqleedPwe7ujBOnng4aMAmfVOE10OHbHF86+fiwvjvjtPyZWcaW8wpXdISZNGk6vimTeYOGbx5x/ZrR4/c32d9a+ECm3591tc3nwF+WabUT01+DpvXM5u+e9cNhUKl1WLvNoIgCIIUddAj859z55517bziZ5oAK1e0mjnjUGREUlqawM8v6sTxBw3rz8xI7d1zzZHD91JS+BAePnTp0X11DZMJVSqNadF8/uHD9945+gUExMTGshMTUuPjUsLDkzw8wmxtX/buubZm9YkZheQhlC45rEL5URMnWH947y8USumjRRAEQRCkqIIemZ+o1RoOR7h2zQWTauN/cuXDXj3W2F15zUzmCgQSN7dQq9G76tSeUrb0cCh51cpzEAP7YjDiDx74r3atyaB3kDp06JZPn4KYTG5YWCK4o4d7WHBwnEgkk8uV0dGsC+ef9+m1Vr9/PG+hXZvF27baJSSk0secC9RqdXx8fHJyslgs1mpxPnMEQRAE+UNAj8xPxGIZCNzECdaZ3CsPoXbNyUMGbXZ3C1Wp1Fyu6PixB2CWVSqN6dxp+Y0bjhKJHOJvXHccNWIHld+87rQxVrsdHX0/OQWdtHm0ccOlDettjx657+kZDptrNFoQyhXLz/5kkySEasbjevdaGxAQnXsjlEgkT548efnyZXh4uFKppGORwo5Op+JwlElJSiZTK5Xqvn8/aAQCJYsFOeFW1srldKwB0IhEsAs1j6dTq+koBEEQxJCgR+YnTCb3xIkHPbqtyuReeQjlyoyoW2fq5UuvEhJSFQoVgxG3cIFNPbPp27dd9faOkMngu5s7f97xjOcmy5cdCY44auTOwQM31TefYVp7CoRmTeZOnrjv9WtvuJqgfadPPwEZzdhF3kLZ0sMbN5r99o2PSJTbru20tLT169evWrXq+vXrAoGAjkUKOTqNhnnyZOT8+TGrVonc3TVCIZ3wDRwHh9iNGyMXLGDb2kr8/enYfEen4716xTp/nm1nB28POhJBEAQxJOiR+UlUZPKcOUcsGs3O5F55C0blR4EFPn7kqtXqxGLZubNPp0ze//qVN5vNA7k8c/pJ184r9POXKWVZt84U/bVzKpQbCeppd+U1Vb07tz+OGb0rIzXPAQzV9uKL2BgWVWz2KBSK0NDQoUOHdurUafny5SxWrrZCCjhaiUQeGRk+fbpPkyZ+7duzzp6VhYXRaXro1GqNQBC3aZNf27Y+TZvGrFkjeGewhZF0uoQ9exjDh4dNniwNDqYjEQRBEEOCHpmfBAXF9uyxumqVsZnEK28h3Qunbtp0GcRRpVK7uYXcuOHIYvIEAsnHDwH9+q7PsZMaSgAZBeOkqnfv7qfx4/ZmypOHAPslm0W9Iqhis4fJZD548KBJkyZGRkZ9+vQJCAiQG7JnE/k1qFJTwQiD+vRxMzLyrFUrcu5c/qtXdJoeGqFQ7O0dOnasW8WKrhUqRMyaxX32jE7Ld3S6+G3bgvv3Dx09WhoQQEciCIIghgQ9Mj/x9Y1s3Gj2T06vox/Klh4+sP/Gy5dewbe2QqESi2UajTY0JOHokfs1TCaUKZXDJOcVyo9q1HDWtatvqOqdPfu0d6+1mfLkIZhUHb9s6Wknp0Cq2Oz5+PHjnDlzatSoUbx48UaNGtnZ2cXGxtJpSKElwyPdTUx8/v7br23b5BMn6DQ95NHRifv3Bw8e7Fm3rsE9EnYXGQnaKvHz04jFdBSCIAhiSNAj8w2hUPrypZd53WmZrOsnQ33z6VOn/BsV9f/nvW7d+jB82Lby5UZmyvltMK09ZemSUy7OwSqVhscTrVp5DmIy5clDqFxxzIjh2x3uf6Yr9B10Op1Cobh27VrLli3Lly//119/VatWbdasWe/fv6dzIIWWDI/0adIkxMrK28Iidt06JZutU6noHOlIfH0hFUJgz57gkaHjxqX99x+dpocWbpTYWLBAZVIS8RMj+rUymUYkAonUaTR01NeQy97zeEoWS83NvCyTms8H61WlpEAhdFR+odWq0tJUbDbsQr9iZGVgp1FRKg5Hi+PPEAQpnKBH5hvJyZybN9/VrZMPoqYfqlebMGjgprDQRHo3BHHu7NPOnZbnOD9l1Spje/da+/ixK5PJBYl8/95v2JAtmfLkLRiVH9W184qrdnQz5/fQaDRRUVHbtm0DiSxevDh4ZNmyZZs2bXr+/HmRSITrdBdqwIp4z5+DHYJKJv77r0+zZmFTpgg/fdJvCITXvGfPIClqwYKohQs9atYMHjqUffkynQyfPkqlLDxc5OrKffqUefp08vHj7EuXQE9BKDNG7YAXwp9CZ2eJvz/In/5AbEVCgtjDQ+jkpIiLo+QPnAxKE378CH4Gf0JmRWKi2NsbItUcjiwsTODomHb7NvvKlbQ7d6BMcgg5nw9aKfbx4Tg4ME+eTLl2jf/6tTQkRCuVZhgt+TBoTAzf0VEaFAQCTUVmAPYp+PBB7OUFDkrFQH2gQAiwFbnT9+9Tb95MsbNLu3tX5OICO4XCFfHxIjc3zv37TBsbSIWjhlOBzagIghQ60CPzjbhY9iXbl3Vq5bNHtmq5YN06W/35Gt+/91+y+FTFCjmsl9O+3ZLt266x2XwwNgYjfu4/x/JxAFBuPFKhUNy4cWP48OHFihUDiaQAoVy2bJm/v7/q64YrpHABGpR69WpA587h06eDQgV07w5OmXTkCPglnYMgpMHBiQcOuFetCqLJtrUN6NQpaMAA/e5vyBy3eTMUAnncq1SB4FG9unf9+vE7d4KEUXkkAQHxu3b5tWkDOwJdA62k4gHWxYtQoE+jRuB/UB9ynI21dUCXLt6NGoE4QgZwRFBGxsiRAV27ggXGbtjg07Spe7Vq7sbGnqamfu3agTWK3N1B5kLHjPFu2JCsg7GxX9u20cuXgx1mtBHKIyKSDh+GDSPnzQN7piIzSDp40MvcPHjIEO4T+kFkOMaQUaMgJB06FLtuHRwRHBe509q1ocJsOzvwS+bZsyGjR3vVrQvxEPzbt4/bskXKYFAlIAiCFBbQI/ONWPDIi/npkaVL0kO237/zEwqlaamCmBiWSqVOSeH/d+djsyZzKxlZZdqECqCYXTot32d9OzAwVqFQubqGbN16tenfcytXHJMpZ95CbjxSrVanpqYuWrSoXr16tEJ+oWfPnidOnJBIJHRWpBAiA7U6cgSUK2rBAmVyMvwb2KdPxMyZcr2HX3kvXkQuWAB+lnrjBrwO6tcveNCg5OPH6WS4Sbhc5unTIH/JNjap9vbsy5dBK/3btQvq3z9h9251WppOqVTzeCJyIn4rcMGo+fNlYWE6lUojFAqdnCLmzAFrjN24UejiooHbSacDAQXj9KxTR/iZfOgCPBJck3w609Q0bMqU2PXroc6pt25BHaCqHiYmoWPHRs6fD4YKG7LOn0+5ciVq4cKAnj0DunVjXbgAx0jVE3YKKuxarlz4zJkZsphBorU1aCIcPufhQyoG9hLYq5dvs2YhI0bErFpFtjhev564fz/szqd58xArK1DGsMmT4V/QazBd6kCg5pANZyxCEKRwgR6Zb6SmCu7f+2xmOjWTdeU5lC09omXzBf/uv8PhCMVi2ds3PufOPqWmkwwJiV+44MTfFnMybQKhmvG4Du2W7tl908srXCpVBATE7NxxvWP7pT+zTmOmUMlodN/e6+xvZveYY1pa2ocPH0AZS5cuTfvjF2rWrDl58uTIyEgcuF14kcItuGePb6tWUUuWaMRiUCWGpWVgz55iLy+tQkHlYZ07xxg2DKSQ//YtiF3wkCEQ9D1SK5UKnZ3FPj5KFkun0UA5IldXMDkwqpDRo8Xe3lT3tFYiYZ48yRg61K916xQ7O3lUlDw6GiQseOBAMDMoWc3hkMV93yNJz+vbl3nqlCw8HHYE4gvl+DRtCgEELnzqVN7z5yo2G3bEd3SMmD3bu1Gj8GnT4DVZbJ480r9LF49q1cAjYaeKhAQt3OtRUSxbW7927aBwsMyoRYt4z56BSYMBw4bgtVB+zJo1IhcXqhAEQZBCAXpkfuLjE6m/EPZPhkpGVgvmHQd9VKs1iYmpq1aea9F8/vNnHikpfAFf4uoSMmL49kyrL5YpZdmuzeItm6+Abmq1upgY1rq1F1u1XKCf5+dDlUpjxljtfvSI7Dr8Hn5+fhs2bKhfvz4tj1/TqlWrBw8eJCcn07mRwoa+R4I48l+/jpgxw+fvvzkODkqqa1urjdu0yb9du5i1ayW+vrRHDh6cfOxYegF6wGeNDj5yNDq1GoSS+/Rp8KBBgd27k41zieRjwTqtFiQv6cABMDCw1ZTr1wWfPvm1bUuWduLE/xfI+b5HejdoELtxIzgulRGQ+PlFLlgAFQ4eMIDz33/63fFgfqRiNmmScu0aFZMXj+zYEfJDncFcqUgA/BXE17N2bbBJ8MWMPnrw4JQrV1zLlyefH71yhYpEEAQpFKBH5id+flEtms3/+TWsIVSuNKZliwUO9z+npQnAGi9ffjV44KbaNSfNnnn4w4eA9PHX4h3br8HuMjYpV2ZEl84rrPfeCgtNkMuU7m6hW7fYtW610Lhy/sxnmRGqGY/7Z87Rt2986cP+Brlcfv/+fZBFIyMj2hy/platWjNmzPic/mWPFEb0PRIUUJGQELdli2fduuCOIg8PjUQC7hg+fXpA9+6cBw/AnyiP9O/aNWH3brqIL6h5PGlQEGRjnjkTv3Ur6aNNmoCHgXHKo6PJHDodqapv3kTOmwd7hHIiZs70bdkSioJqwN7Ti8nOI32bNWNfukSXlo6UwYjbuhUKCRk+XPDuHdSBTiAIMDn/zp09atZknT9PxeTZI1Nv3SI73L8Atho5d663hYV/p06y0NCMMUM6pRL8GzwSTleyjQ0ViSAIUihAj8xPGIz4QQM21TD52TWsITRvOm/1qvMR4UkqlToyMnnWzMMN6s00Kj/qb4s5Z04/4XLI8c4vXnjO/edohXIjy5SyBLdr33bJ3r32np7hkARbOX0MBNGcNGGf1ahdVBjYf2OL5v/3zjyHmtUnQsne3t+dhzwkJGTnzp3lypWjhml/CyRZWFhcunSJ+830K0ihADQRDNLn77/hX8rzwLr8WrcOGTUKlEiVkpJiZwevQ62sZBERZP81eOTgwT7NmsWuW0cXAZ8+MpnYxyfl2rX4HTti1q6NXrYsYvZsxvDhXg0a+LVrl7BvX8YTigCoatrt2/4dOniZmYEsho4bB0qX0YdOko1HtmrFuXePnFToC6CGCdbWkDlk9GiyaVBvuc6U69cDevRwNzZmnj5NxeTZIzNlhtNCnrSmTcFTFV/Posp9+hQ8Eo4u6fBhOgpBEKQwgB6Zn8TEsJYtO92s6bxM4vWjoVyZEWOtdnt6hAuFUi5X+OaNj77/LVpo4+YaolZruFzRzZvvzOpOq1hhNGRYt9Y2IoL8pkxfR1EO9unqEqIf7tz+ANtmlJO3ULrkMDPTqdeuvtUfQp5Bev+k5tq1a5aWlrQzfp8VK1Z4enrCJvTGSOFB+OkT+JlXvXrRy5dTMbznz8MmTAAzA/2SR0XFrFoVMnJk7Jo11Iw8QmdnhqWlp5lZ1OLFVH5yUp64uNhNmwK6dQMfJQe7bN+euH9/9MqVvq1bf+uRkF8eEQGFeNSqBSqWdOCANDAQbjg6GUCPRBAE+eWgR+YnKSn8S7Yv+/ZZl8m9fjQ0afzP9q1XRSKpRq0BZSTnD9eblrJ1y4VbNttJpXJQSS/P8MWLTlo0mj2w/8bHj1xTU+mvQ40Gvr6VoKH6wdsrYuf26xnl5C2ULzuyRbP5Li4MhSKLiXvkcjmTyVywYEGdOnVoW/w+7dq127dvn/Yn5p1GfhekRw4ZEtirFwgWFSPx8UnYsQOMEGRO6OQU1Lt3+LRpKVev6tJnzyHbLxcvJtsvv3ikLDycdf48GFWolRXTxkbi5yePjZUyGNyHD4MHDsyiPTI2FkoDI/SsXRtULKhv37Q7d0hJzfioQo9EEAT55aBH5idisdzLK3za1AMgW5n064dCsyZz5/5z7O5/ThA2brjUru0S/Sl+jCuP7dF99dmzT+3t358+9XjBvOONGsxq33bJzh3Xr1x+TW2VZTh65P6kifsyyslbMK87beIE64jw/38l65OUlHTr1q0ePXqUKlWKtsXvU6VKlbFjxwYEBAi/TDqNFBYoj4SQMR+kMjk57e5d32bNQB+TDh3ybtgwZvVqsacn9fyiNDg4bssW3xYtMjxS8P59xD//eJqaxqxYQT4smK6bai4X4hnDhn3lkTqdViLhPn4cMX16YM+eoRMmUE8Zxq5bR5afMTO5wTxSHh0NagheGDp+PBwjFUmi00G1E3bvRo9EEKTIgh6Zn2g0WlDJbVuv1q0z9WdW2TatM7V1y4U9uq2CAI6YKRVCxQqjLRrO7tBuKZWnhskE4ypjm/z9T+eOy6mYLAOUqd+umbfQo/sqG5uHLFYWzzUqlUpnZ+dx48blpjGSonnz5gcPHgwLC8Pe7cKF0MkpeNAgULQMj9QqlZLAwIDu3QO6dGEMH+5Zt27y0aPkjDzpV1YaGpqwZ49v69ZRCxeS5qfTcR48COrf38PEJGHvXvIxR8gGVpacnGpvH9S3r75HQn4QTdBQn8aNQUPB5MDP/Fq3Dh44EIQVdkGrpME8Uslkss6fd6tYMWjAANa5c1T9IUC1FXFxoMvokQiCFFnQI/MTOGlarfb+vc/jx+2tkIv1r78XypUdAaZYpdIYCFmWA5IK8ZWMrKg8ZUsPL1NquFH5UZUr0jFZBigTSs5U1I+GaVMPBAXFSqV64xu+EBMTY2NjU7Vq1dw0RlIYGRk1bdr00aNHOJdk4ULw7l1g9+5frU+j0ykSE6MWLfJr29a7YUOQPO7DhxmNhRkeGTFrlorF0imVvJcvQ8eP96hVK3r5cllICMSAlonc3MLGj/f+epyNRixO3L8f5NK/fXvYSslmQ3zsunXgrOCyvBcvlCwWuQ+DeaROpeI9e+bdqJGPhQXUlqo/RCoSEhIPHAjs2RM9EkGQIgt6ZP4TFpZ47KhDDZOJoHeZJKxQh3JlRnTquOz4MQfywU3NVw81gj2DCF67di3TKog5Urx48bJlyy5btuzjx490WUhhgPf8uVf9+uBb//dI8DYOB9wrqF8/EMGY1atF7u50gp5Hhk2aJA0O1kok0qCgxEOHfJs1Ax+NXrGCdf588tGj8Vu3xqxc6ac3zkbJZHKfPWMMHw5iGr9tmzw2FtwUtA9ENnz6dN+WLSNmzhR8/AhWZziPBCR+flELF/q2aBHQpQtUknX2LPPkSahP5Pz5QQMHQjmg1OiRCIIUQdAj8x+FQuXkFNSn19oa1fNhAqACEsCJq1ebsH7tRRfnLJYAlkqlYWFhc+bMqVq1Km2IXyhdurSRkVGJdEAZ4fW3K9y0aNFi586dfD5fnfGsG1Kw4b9549e2bdjEiSk3btBRBKGRSIQfPoAIMiwtU2/e1FcleXQ088yZkFGjopctAyfTiMVqHk/o4gIW6N+pE+lzY8bAVpGzZ3MfPoyYPTvEygrykyNvgoMTDx4EF6SetqSmY9RptfACMjCGDQvs2RMcEQoEj2SeOgVeGNi7N7U8t0YoTLt7N/Kff0JGjuS/egUal14XEnKF63PnIHP0kiUSX1/9Zbu5jx+HTZ0KtUq1t6ejQAHZbFDniBkzQBAhQIEhI0YwhgyJ3bQpdv36yHnzIPDfvqUys69cCR03Dg5K8P6rNZ/AsxN274bDDJswQV9qAcGHD3A+YSv25ct0FIIgSGEAPTL/0el0ycmcWzff9+65JpONFd5QtcrY9u2WPH3qzudnsS52XFzcv//+2759+28njKxdu3aHDh0qVKhQqVKlhg0bdurU6dunJ8Eshw4d+vbtWw61wB1S4AEN4j54IHJ1VSQk0FFw52s0Kg4HbI//+rUiPl4rldIJoHQikSwkBOwTNlFxuTqVClxQK5OBKXIePEjcvz/p0CHuo0eQh1wd0d2d9+KFyNNTzecrk5NhK3A7sE/6MUoKnQ52LXJxoZJUaWkQJ2UwIDPv6VN1+p+wF/BF4adPEKlISqJmIKL4f31cXKDOZHPmFxRxceB/UBl5VBQdlX5ocDiy0FCIp2qbcu2a0NlZyWTKwsNhFxCgqlRmiOE7OpITsH+9WDbUX+zrC0YrePdO/+QAZLPrgwewlf76NwiCIAUf9EiDIJcp4+LYGzdcat7sZ+eSLAihQrmRPXustrF5FBXFVKu/LB/yheTk5P/++6979+4ZjZHgjvDnrFmzdu7cefjw4S1btpiamkLksGHDrly5cvbs2Y0bN06aNKlly5YVK1akNjE3N586daqzs7NEb/0PpMBCTiuVnKzm8f6/LCEAP6FUKpA/VUoKxP9/pRlIgftGJIJ4NZerVSppHUzPD+VIAwMhgJuSdqXTQbEqFovUO6USYiADBM03g/pBy0jRZDLJMtMdkdoF9fxieg6tViIBpyTrI5NlVx+9yadgj6rUVChWfykaCvKomUyqtvLoaKgnlEPm53AgZJwKUGGyhOTkr04O7FSrJU8Omw2p+pUBICfkh3iyYRVBEKTwgB5pQF6+8Fqy+JR5+jzhmcyscIWWzRds3nQlNpYNX6P0saWT/jUtef78+YIFC4yNjUEWW7Vq1bNnz3/++efo0aOOjo5JSUnR0dFgmX///Xe9evUgHqRTJBJFREQ8efJk69atY8aM6dq1K6SCZdaqVWv//v3+/v5qtRqHbyMIgiBIwQc90oCo1Ro3t9CZMw7Xrzcjk5kVrrBhva2He5gWbpav7wq5XB4aGrpkyRKwQHNz89mzZ1+9epXBYHA4HIVCAToIopmYmJjJI6EUiFepVLA5i8Vyc3M7ePCgpaVl1apVQUNBJYVCoebr1hoEQRAEQQog6JGGhcsVubmGLFl8qpB2cFs0nLV40cl3jn487v8HImQgFos/f/4M7nj69GkHBwd3d/e4uDiI1B8u861H0gnpgE3yeDyQ0Y8fP965c+fIkSPwb2xsLGgonQNBEARBkIIKeqTB0el0L194LV1yumH9mYWlg7t0ScvyZUe0a7N4+bIzHz8EpKX9f1YUfaRSaUBAAIPBYLFY2u8sb5i9R+qj0WjCwsKCgoJgEyX1fBuCIAiCIAUY9MhfhLMzY9bMw/XMpv/MOje/JoBEVig3smb1iYcP3YuNZdMHkFdy75EIgiAIghQu0CN/ETyuyMsz/NDBu0MGba5kZFWQbdK87jSr0btu3/oQFpaY5bo1PwR6JIIgCIL8qaBH/jrUak1wUKztxRfTpx1o03qRSdXxmQTu94aypYdDlTp3XL5k0UmQSB5P/O0UP3kAPRJBEARB/lTQI381IpEsICB606bL3butqlplXIVyo8qU+p3LJ5YuOQwqUMlotGntKT26rz586F5g4Fcrtv0k6JEIgiAI8qeCHvmr0Wi0Egm5StyL5557d9v367O+Tq3JmdzuV4byZUeCQU4Yv9fmxENnZ0ZcXApUj65rfoAeiSAIgiB/KuiRvw0eT+zvF33t6tsN62xHjdjRovn8qlXGZZI8w4UK5UfVrjmpY/ulkybu27XzxoMHzmFhiQqFKt8nAEePRBAEQZA/FfTI3098XMqTx26rV53v22ddowaz6taZYlJ1vFH5UZnM7+dD2TIjKlYYXc14XJ1aU1q3Wjhq5I7du244OvqJxXKNJutZe34e9EgEQRAE+VNBj/z9KJVqPl+SkJAa4B/z5Inb/n23pk7+t1XLBZks8OdD7ZqTOrRfOm7snp07rj9wcI6MTGYyuSKRVEuuVENXJt9Bj0QQBEGQPxX0yAKESqVJSxMGBES/fOl1+fIr6732K5admTxx34D+G7p2Wdmq5cJ6ZtPLlRmRyQ6/DWVKD69ebQJkbt50Xo9uq4Zbbps5/eC6tRcOH7537erbp0/dfXwiWSwevVcDgx5ZlNHAz5SAAJGLi9jHR8lma7+zTJFOqVQmJkIeobOzxNdXzftFN2eWwK86RWwsBI1QSEchCIIg3wE9suCi0WgjwpPAKc+fe/bv/jsb1l+aPetI755runZeQYX2bZe0armgRbP5ENq0Wtipw7IunZZDfM/uq61G75o96/DqVecPH7p788Y7p48BiYmpMtlvWGwQPbIoAzaWfORI7Pr1Cfv28R0dVWlpdMLXqLlc7sOHCdbWkDP52DFZaCid8DuQ+PiwL12CIA0OpqMQBEGQ74AeWaBRqdRSqUIolPJ5Yg5HmJLCT0riJCWmUcHDI+zFc8/79z5DcHzrGxKSEBeXQiYlpbFYPMjMSRPy+WKxSCaTKdVquKYG673+PuiRRRmRq6t/u3Zedev6d+wYs26dlMGgE75GHhERPm2ab4sWPn//HTJqlODjRzrhd5B89KiXmRkE9uXLdBSCIAjyHdAjCzFisQxkMTmJAwEsU6lUa7W/wRSzBz2yKCP48MHT1NTd2NirXr3Anj0F79/rVCo67QsaoZD/7p1/hw4eNWp41a8fNHAg39GRTvsd8J49i166FAJUno5CEARBvgN6JGJY0COLMiCOHtWrgx36NG7sWbNmytWrqpQUOu0LsshI1rlz3hYWXnXr+rZsGdSvH//tWzrtd6BITBS5ukJQMpl0FIIgCPId0CMRw4IeWZShPDKof//gQYPcjIziNm4Ue3jQaV/gv3kTtXixX9u2AV27gkTCv7yXL+m034JWq1OrIcALOgZBEAT5DuiRiGFBjyyy6JRKMEIPE5OIGTOiFi3yMjcPnzw57b//6OQvsC9cCOrbN2zixPCpUxmWll5mZpz79+k0glBzOCIPj5Rr1xJ2745esiRy7tyYVauYJ05IfHz0h3VDNuHnz2xbW+7Tp2o+n/vkSeK//8Zt3ixydlanpYERauVysa8vlBO3aRNoa8zq1cxTp6BksZdX6u3bECS+vlRR0sBAyJZ09KjY25uKIQt3dU08eFDk6irx8+M4OCQdPhyzZk3k/PmwC869e4rY2G/76xEEQYoC6JGIYUGPLLKoudy027fdq1WLXbMm6eDBoH79Anv3Br0jlSv980WnVqtSU0HF/Fq1Sty3L37nztAJE9wqVUq9dYsqAZBHRrKvXAF3DJ8yJWTkyKABAwJ79mQMHhy/bZvw0yeNREIVJY+JYZ07Fzp2bNSSJfy3b6OXLw8eOjRk9Gju48fKxEQVh8N3dEywtgZVhfjgwYMhCSwQapWwZ0/49OmgpxmCCw4KMQHdumVUQx4bC4bq16FD/Pbt4JfRK1dGzpsXamUFefzatoWKsS9eVLJYZBMmgiBIEQM9EjEs6JFFFlBA5okT7lWrJuzcCZYWu369b7NmYGxqgYBSLrBAwfv34dOm+bVrB/KXam8PfuZWubK+R0r8/RP27YvbupV14YLw40feixdQDtgbZIvbskUeFaXTaCCbLCwsYe9ev9atfVu2jJgzBwwvdPz45JMnYXMlmy3y9AwZMcLn778DOneO37WLc/8+Oc3Q/v0glD7Nmvk0bx7Ypw/r/HlqjynXrwf06OFubMw8fZqKgcJBf13LlfNt2hRUOMTKCioDhTBPngzo2BEOEOovdHbG+SYRBCmCoEcihgU9ssii75GCd++4T58G9uxJTuvz4YOaz4cMai6XeeoUY8QIxrBhsvBwyPCtR4KcySIiZKGhirg4NYejSkkRe3omHz3qWbdu2MSJHAcHnVIJ2TI80qt+fdgFuKDYy0seEwObi729Ew8c8GnSJHT0aDA/KYOhZDKVLBYUy754MWzCBI8aNQK6d8+NR3o3aBC1cCFUACoDhUCtWGfPBg8Z4t2oEexdEhBA5UcQBCk6oEcihgU9ssii75Egc+BeoWPHBvXrl3zsmCIhATIok5NBy8DDopcuVaWm8l69ojwSTO7bPmKtXK5KSwM1BEEE5/MyMwMrTTp8WCuTQer/2yNbtIhetgyslNoK4D5+HDphgmft2nEbN8oYDKr9kgK2it+5061ixYCuXXPjkf5duiQfP05FAqCwsKPo5cs969QJmzz59w4zzzMasRguh9jHB/ye9/IlFQTv30v8/BSJiZBK5zMAUDhcUKGLC1SAfEQhJ+AGAHeH/HC36F9HBEF+I+iRiGFBjyyygGMlHz0KQgYeSQkcGF5gjx4RM2dK0/+EDEG9e4eMGME6d04jEGR4JOviRY1IRJei0+lUKqpVku/omHr9OpQZtWiRR40avi1bxm7YoJVKIVeGRwYPHMi5d09/diEQRL82bbzMzVOymlccrDH3Hhk+cyb3yRMqMoNEa2uP6tUD+/ThPHxIRxUqFDEx3IcP4zZtCpsyhWFpSTYPDx8eNnVq3LZtaffuSYODwdQNJG3y6OjUW7ci5s7lPHigiI+nY+GKazTwswE0PdN+RW5uySdOwE0idHXVpF93BEF+O+iRiGFBjyyywLc+eJ57lSq0R2q1TBub4CFDwP8ETk7ymJi0u3fhdfTy5dLAQHJw9xePTNy3DwyDKgQMUhIYGLd5M8hNYK9eYRMngu4EDx7sXrVqlh4ZMnIk2W+uN5Q78cABz7p1A7p0Ab+ko/RAjxR7esbv3OnXvn3QgAFw/mPWrYteuTJ8xozA3r0DuneHQ061tzfQVJpCJ6fYdeu8LSzid+wQubtTkRqJBO4N3vPnIldXRVKSvkqmXLkSOmaMd+PGZJXYbDoWQZDfCnokYljQI4ss/HfvohYvBi9MOnpUmZREaLX8t2/BVDxr1069eZP7/Hn8rl1+7dolHTxIjlDRagUfP0avWAHeCVYB3gklgCMKnZ3jNm4M6tcPBDF240bmqVOsixfjt2+HQrL2yNGjRS4uGoEgvQokCXv2kJ7Xty/30SM6Sg/0SOHnzyCOnnXqhI4dC+cWbJ738mXa7dtJhw6Bu8OZCR0/Hi6NITq44cSmXL0aMXt22p078qgoKhJepN66FTl3Lpx/aUiI/oRKgnfv4FdB1KJFwk+f1HqXGEGQ3wh6JGJY0COLLGT74ty54JHsK1fIpxh1OgXcDQcPggKC8yXu3x82dSpj6FBwSiq/xNsbBBEELsMjFQkJSYcPg+IE9e7NOntWI5Ho0ucGl/j6ejdunEuPBAWEEgK6dUu7dy/T1OI6jSbFzg49kvLImBUrJP7++t4G5yR44ED3qlXhVMhjYujYL8C1gMxZdkBnRqfTKhRkzi9TPmWg5nDE3t761wt+OUSvWuVpahq9bJnEz0+/PnAXKVNSZOHhuXmYMjvS65NztREEyQXokYhhQY8ssmR4ZKq9PSVw8M0N1ujTrFnE7NmhEycG9u4du349eAyVH3SNfJ6yalXaI3U6wbt3UQsXetSsCa5GKsUXC/whj2RfuuTfsaNHrVrMU6conaUTqAHjJ0+iR37PI8UeHrFr18IVjF6+XPDxIx37BY1QqIiNhWshj4yEM0nHZgWcdmlQEAT4YZBJ3XRqNVxB/chsPBLuIjI/+OjPLTUEJUiDg8FHVWlpP1kUgiDokYhhQY8ssmR4ZNrt23QUQfDfvg0ZNSqof3/fVq382rZNvXWLGrsNkOO7bWzAI+M2bwahAeHjPX0aMXMmWFrSwYPwxU9lUyQmply75lWvXi49UvD+PSWjkfPmCT58oLwE7AFkgvfiReQ//6BHfs8jweYTdu6EKxi1eDHf0ZGKVAsE0oAAtq1t/M6d0StWwCWOXroUXqfY2cHm+t3NWoVC7OMDvyIS9uyJWrQoasGCmNWrE/ftE3t5wS8KyKBKTYWrAxeO8+CBLCJCIxJBsXCZyPNftWpAt26wX/hRAT8A4LYB15QyGGl370J+uMSqlBQVh8O6eBFS4TrCttROKdR8vsjDg3XhQsqVKxntl3Bo4LJkCen1iV6yJG7TJvjpAuZKPlCbu+88BEEygR6JGBb0yCIL9/Hj8KlT3SpV0vdIUA0wAzBIELuALl3AM7TpSgFkeCRojdDFhWyPBAVctAgsLXrxYu6jR8rEREV8PPfhQxAX8EgoJDceqYiLAzX0a98+sFevmHXrxJ6estBQsFLYRfz27RCJHvk9jxS5uYH5uVepErdxIzkOJr07GE4gaH1gjx5w/v07dQro3t2/Qwf/9NMLZwk2IR0xvctbmZQEMYzhw31btIBrDSeZ/LdLl7Q7d8iGYTixISEJu3bBHRLxzz+8ly9BK+GG8W7c2KNWLTcjI/jXp0kT+L0RMnJk8vHjOrUadDNsyhT3ypWTjx2ThoTIY2IYlpZQDVBPuMr6Igj3ElwX/86dQ0aMgAMETYQ9KmJjk0+cCJs4EWoLkgo1gbsCfo2ATUIe8sBRJRHkx0GPRAwLemSRhXXhQkDPniAE+h6pSknhvXoFX+E+zZpFLVgAX+0ZX94ZHhk+bRrlZCCO5JTj4BMWFqFjxoApxm3ZEj59elDv3v4dO5Ld4rnwSPAPKDlu82bwGE9TU/+2bcEtQkaN8m/XLmLGDBAR9MjveSTr7Nmg/v3hirDOnQNRI89kTAzIt3fDhqBiifv2SXx9weyFnz4l7NnjXb++b9OmUIgyORl0U8Vm854/D+zZE4wN9B1KlkdFiTw9U+3t4XxSFz2TR2rlcvjlkLh/P1wdOKUgoHD10/77j//6tTQoCNxU3yPlERFqLhd+k0D54ItQfsYPEkDs4cEYMgTuh+jly6l+cNgp89QpyAnFwpWFHxJk6+adO8EDBlAmquJw9I8dQZBcgh6JGBb0yCIL9+nTmDVrwqdOBVOho+ATRy6Xx8bGrlsXvWJF6o0b+s/VKZlM7qNHYRMngrQJnZ0hRiuTiT09yRE5EyaAIEbMng06mGxjA84HQhm7di34DRQIORWJiam3bkUtWQJCA3ai/XochkYiEXt5sW1toT5hkydHzJ0LLyAn7A6sCDwGlJT9ZXZJwbt3UHLohAlQfyoGdBZsJsTKKunIkYzpaTIAS4YywWjBX+moQkWGR0bMmsV7+lQWGgonECJT7OxCraz82rULHjIEzgmcQ41QCOeQbF9s3jzp6FGyLRkkXqcjO5FdXOK3bgW5DOrXj33lijIpCQoB2/Np2hTyp968CXl0Gg0553lcXEYfdCaPhAyq1FS4KJHz53vWrh35zz/8N28gP/z2IEf063SZPBKqBNcFfmD4NG6ccvUq+ZskHbj6oPsgu1Bz5pkzZIxSyX38OGT4cKge/N4ApyTH/SgUoLbwawdUMqhvX7BeJYtFlYAgSO5Bj0QMC3pkkQWMhP/yJWhBxhOQFPD9zX/9GgL5dZ5ugRSgFyAWqXfuCJ2cyG7KdMjuyPh4MM4Ea+v4nTtT7e0lgYEqNhvy8J49A93UUUt1pz+0B/YgeP+eXOxEr2kqAxWHI/b1Tb19G7SG9+KFPDpazeGwL150q1wZJDXt7l0qG7gFpEI2stksHZAYaVAQbAV2pfz6WACoT9qdO/xXr/4/k3ahIsMjwbHiNm4ERUs+cgQ0PWzSpMBevULHjmWeOgWHBpIH1zF85ky/9u3hdMHJ0W+9g2snDQwkla558/AZMyQBAdLg4MSDB32aNGEMGwaOTj7++M0g60weSUVmM84mk0fCVYadxqxeDcoYvXSp8NMnKhvcPMzTp6FY+F0B9wMIqDIlBcTXq27dsKlT4UKD1FJBxWJJ/P2hTN8WLeDuyngGF0GQ3IMeiRgW9MgiC5gHSADpAd8MiaXiIUNGpzZJ+kImIAekGmZsAhm0WogE4wSnJFNhq/Rxu2QJGcsnUttSMd/78MooHwLk1GpBOBL//de9atWYlStBTOlc6c/20Tuio7Kq2BfopKwOs1CQ4ZFuFSu6GxvD2QCH82vbNmzChERra4GjI3g/HJpGLBZ7egZ06eLfuXPc9u2g8vT2FOmnKHr5cp+mTf07dhS5uoLN8169AumE0oIGDGCdOQO/K+jMX/hJj4QY2Cnr3Dnf5s0DunbNmEAKLmXMihVwOGDAUE+4oFDzmFWrPKpXj1q0KOXaNZGzc0YA+wwbP96rfn3wZqg2VQKCILkHPRIxLOiRyG9HK5VKg4PBbOi/0/1DI5Wyzp8PGTHCy9wcXnw7P2IRIcMjGcOGgVWn3riR9t9/3CdPwMbIk/ZlhUk4e/yXL/3atQvs0yf5xAk1h0PF6xO/fbtv69ZwPgUfP4J9KuLjQfhCrKx8W7YM7NUrYubMpEOHSMVMS6Py/7xHAmSH9ejR3o0aQeHkc7FaLdvWNtTKKrBHD96zZ1ANuNbcp0/Dp08Hs4SaBPXtSz4gqxe8LSw869ZlWFpmtGgiCJJ70CMRw4IeifxeyHbH+HiQDNaFC2RX+KdPYE78N29S7e1Dx44N6No1bMIEiDHEei2FggyP/HacjT4qFguMza9Nm6D+/ZlnzmQ5YWTC7t2QwbNWLbI3Gc68SiUNCWFfuRI5fz5sBQ4a0KNH7Lp1YIpkG2c+eaTE1xf261WvXszKldKAAI1QGLd1a2DPntHLl0t8fCCDTq1OvX0brrVb5cpwuUNGjYJCMgWoIRSC/doIkgfQIxHDgh6J/F60cjmoic/ff7tVqED2sQ4cGDx0qH+nTvCnR40aYePH8169yrJ1rYiQW4/kcPiOjtT0SUlHjmS0KeoTt3mzb8uW3o0aZTwkQKERCMjRM3PmeDds6GZkBE5PdovrdPnikSCOoK2+zZuHjhuXeuOGLCwsYtYsuL4pdnbUyBvaI8eNg2Msyg3PCGIg0CMRw4IeifxedFotSA/32bPkkyfjtm2LWbMGAhgP2Azn3j2xl5cqJUWX1bicIkIuPRJOkSw8PKhfP2o5InLBdD0gVZWaGjFjhm+LFmETJ4L/0QnpQJlkc+aTJ9FLl3qYmETOm0fOK67V5otHgiZKGQzG0KFBffqAqiYfPw6vQ0aPlkdHU3NCkc9H+vjARfeoXp18EBY7rxEkX0GPRAwLeiTy+0lfvUYRFyfy8OA9fw5OKfjwgVzmpKj2ZeuTS48EwBSjFi3ya9MmoFs3zv37GSoJJiePjU25ejWwRw9IYp4+rYiP1yoU5Ozfcrnuy3AlkMKEPXs8atQInzqV++gRxGfpkWJPz7gtW7zMzCLnzhU6OVE94BRZeiSgZDLhhwE4rl/btqHjxgUPGRK7bt3/D0Sngx8SUCvvxo0hiXXuHLkcYsYILbg7FApqXnQEQfIAeiRiWNAjEaQgk3uPBO1OvXkzZMwYL3Pz0PHjOQ4Oaj5fIxSCxsHrgK5dverXD58yRRoSopFIVGy22MtLFhGhZLMhj0Yg4L96Fb18OewoetkyslHwO+2RUgYj+ehR7wYNQkaNAjeFcrRSKVWr73kklA8/D8Ag3atU8W7UCDw15fp1fVME+K9fQ4E+TZuCngrevYM6Q5WoismjoyFk+C6CID8EeiRiWNAjEaQgk3uPBNMCKUy5do2cJ7Jp04Bu3cImTYpZtQqcMqBzZ+/69aMWLOA8eqQB7dNoRJ6esZs3h4wcGTZ5cszq1VGLFgUPHuzfoQNj5EjO/fsgoN97PpJc8ejJE/+2baHAgO7dQT3Zly9LvL3BO7/nkVBnRWIi2XNtYuJubBy/fTs5x9DX0zBBsfy3b0ExodqBPXqETZgAVYLKw79QSXih5vEyqSeCILkBPRIxLOiRyM+g0WhkMhmLxeKDeSAGAJQrxc4uauFCcmBKXFyOzXKyiIjUW7di160LnzYNDDJizhyQs4hZs+I2beK9eJHR2S2Pikq5fj162TJIIvNMmwYvYtauTbW3l0dHU3kgM+fePYhnnTuX8UilVi6HXSRaW8MmYHgRs2ezL1wAwQUvFHl4JNvYQAzv2bOv1p5JX/gb9BSkMGLGDN7Tp98+sQDHBaYIJhq/axeUADUPmzo1cv588NTopUuZNjYakQibJBEkD6BHIoYFPRL5GcRicXR0tLu7O/xLRyH5CvgT6KPExwf+1aSvc0gnfB+dSqVis4UfP4J6Ms+e5Tg4iL291UJhpvY8nVIpZTC4jx4xz5yBwHv9OpOnamUyUEmxlxe5tpDe7wQoR798oYsLOaBep1NzufLISMgPEgm6Sef+gio1VRocTA2coqOyAooS+/iwoeQzZ9iXL5OLdwcHU+XTORAE+RHQIxHDgh6J/AwMBuPcuXPv37+HG4mOQvIVEDsQPq1UqlUqdblckkenA5UEAVWlpYG9keNp0vuyM6uYTgemSC4/mJICQQOiqVR+lYdaqUgi0abPFk5HAl+XrxGLKUOFf8kxMRIJ2fn+7cJCkCqTkanZdk+T2aRSsmSoVVoa1IpcJwl7tBEkr6BHIoYFPRL5GcAg58yZ4+LiIhKJ6CgEQRCkwIAeiRgW9Egkz4A73rlzZ/jw4QEBAXQUgiAIUpBAj0QMC3okkjd0Ot3nz59tbGzWrVsXGRlJxyIIgiAFCfRIxLCgRyJ5Q6vVHjx4cMWKFZcuXcLbBkEQpGCCHokYFvRIJA/I5fKkpKQpU6bMmDHD3d1dKBTSCQiCIEhBAj0SMSzokUgeSEhIuHHjRq9evZYuXapWq3W5+zxCEARBfjHokYhhQY9E8oCrq+uoUaMGDx58+PBhOgpBEAQpeKBHIoYFPRL5UUQi0a1bt2rWrDlt2jQHBwc6FkEQBCl4oEcihgU9EvlRQkJCdu3aVbx48a1bt/r6+tKxCIIgSMEDPRIxLOiRyI9y5cqVQYMGlShR4tq1awKBgI5FEARBCh7okYhhQY9Eco9KpeLxeCtXrmySzrt37+gEBPkOWrlczeGo2GytREJHIQjyC0GPRAwLeiSSewQCgaen59ChQxs0aLBw4UJcxiZ76PWm5fLvrotNLWANGZRKOuaPQ5mcLHR25r98KY+KoqMQBPmFoEcihgU9Esk9UVFRe/bsadWqVYcOHS5fvhwfH08nIFkh8fPjPnqUevu2ksWio75GzeMJ3r9Pu3cP/iVy95le6OC9ehUxe3Zgr14p167RUQiC/ELQIxHDgh6J5BK1Wu3i4tKnT59atWoNGzYsKChIJBLRaUhWpN68GbV4cdikSZLvNNwqYmMT9u6NmDkT/iW+12ZZyEm7cwck0r1q1eSjR+koBEF+IeiRiGFBj0RyCZfLtbe3r1ChgrGx8fz58+lY5Psk7Nnj17atR40ago8f6aivkQYFhU6Y4NWgQei4cTqNho79s0CPRJDfC3okYljQI5Fc4uTktHz58jJlynTs2PHQoUN0LPJ90CMB9EgE+b2gRyKGBT0SySUXL17s3r17yZIlJ02a9PDhQzoW+T7okQB6JIL8XtAjEcOCHonkiFqt5vF4a9euNTExAY/cunVrUFAQnYZ8nx/1SJ1WqxYI5FFRioQEeEFn+oJWLlelpcmjo1WpqVqZDGKULJYiPl7N5WqEQoiEDaWBgRJ/fymDAfEQ+e04cZ1Kpebz5TEx0uBgyCkLCVHExkKx+hZL5uHxoDSqZCWTKYuIgD9VKSmQpBGJlElJEKAcjUSiSEyUhYVJAgIkfn6y8HAVi0WOPdfbbxYeqdVqpVJlcjJZYQYDNoTNYVvYERyj/rbwJ1QV4qE+cELgtMhCQyE/nDc4D2oOB+pDZ9UD6gw5pSEhUCyZE2r+5YwhSBEEPRIxLOiRSI6ARD579mz48OGlS5euVKnS9evXlX/uPDX5yI96JLgO39ExYtasuK1b+a9f05m+ADKXam8fOW9eypUrYF2ETpd88mTc5s3cBw+ETk4pV69G/vOPf8eOvi1bBvXrF7dlC+xUI5VmGgYO6sl78SJ62TJwO9/mzYMHD45ZuRKKBSmkc6Tn4T59CtXgODgI3r9PPn48bNKkyLlz2Zcvq9hskYtL4r59EPivXom9vOJ37w4ZPdqvTRufv/+Go2CePg2CSOrgF771SEiVBAUlHjgQOWdOUN++sCFsHjZ+POwIjlGrUFDZAHlkJFQ1+cgR7uPH/Ldv47dvZ1ha+jRpEtCtW9TChVAyCCKdVQ/Bhw9x27YFDxwIxQZ07QoHAicHjJlORpAiBnokYljQI5EciY+P37JlS6tWrapVqzZgwABHR0c6AcmWH26PVKt5r16B2wX26JF48GCmxjnwtuglS/w7dGCdO6dkMkEQwbFAGWM3bIhasAC8KmbVqpg1a8KnTw/q3582rf/+02+Hk/j7g+eFjh0bMXNm1OLFkD9ywYLQMWMggGmBtFHZ5DExrPPnQdeiV6wATw0eMiTEygr2wn30SM3hgNKFTZkCFYadxqxdGwn7Xb06evlyyBPYsydjyJDYtWslAQEZLYVZeKRMJnRxAb2LXroUMsPmUB/GsGHglAl794rc3alsgMTPD0QQ3DFy/nwQWcgcu3591KJFcNQQH2plxbl/X5mYSOcmCNBcOBA4cDgiODlwgFBJqBj8mbh/vyw0VAtijSBFjAyPJF9otSq1Wq3VwutcWSR6JJIj6JFI9sBnjp+f3+DBg01MTCwsLPbs2RMcHEynIdlCeaR7tWrJNjagkt+GFDs7UCJPU1PKI2ETEKzwqVO96tWLmDNHHhVFN+zBJ75Gwzp7FoTMr3Xr1Fu3qHgyp7k5WGPwgAGgTWCNIGFge3Fbt/p37OjXpk1GITr42pDLmWfOhIwe7du6Nega7+VLsbc3x8EBrAtiQC45Dx+SXdI6nTwiIvnIEbeKFUFGSQkbPTrB2hqKlYWEgIel3b4Ne4TC/Tt3DgE/+/df3osXQmdnsq30n3/827WDw2FfuqT4ondZeKRCAUYbt2VL6o0bwk+f4DUUHr1ypbeFBQg068IF8lSkf8eJPTy86tf3MjMDawybOBHsVvD+vfDzZzixcN48TExArMmpN9PRiERCJ6fgoUODeveOmjcPagWbw7/xO3fC2QA7h82V+PmGFD3gvQTWSImjUCiMjY3lcLlyvYb/7EGPRHIAPRLJHj6f//z5czMzs+LFi3fq1OnDhw8cDodOQ7KF8kjX8uXdTUw8atbMIlSvDroGGTI8Uh4ZyTpzBrYC70m9eVOVlgaRYIEasTh2/XqvBg3Cp00TODlRmgUe6VqhAhSSdOiQNDAQ/EynVoMLymNjYddggeBPIJeKhAStTKZMSAAV8+/SBZKkoaGQjVxuR6kE04qYNQtcDeLJJyA1mgyP9KhRI2LGDNBHNZdL5k/XO/BI8EJwOIalJeviRRWHQyapVLB3sMmYNWvcKlUKnz6d++QJeQqyfD4Svs9g1xIJWWGViqoz/82bsClTwBrjNm2Cg6We7KQ8Eo4xeOBAiZ8fWQ3Ir1LBaUk6ehR25N++PevcOapUaUBA4v79nnXrxqxeLfb0JO05vWS1QBC9dKl/hw6gv+CsVGYEKZoEBwfb2to6OzuzvrM4wregRyI5gB6JZI+Xl9fWrVuNjY2NjIxGjhyZkJCAD0fmEsojQcjAYMDhvg3Bw4aBGrobG2d4pEYkAiNkDBni165d9LJl8pgYMlIiEbm7g0H6tmzJPHVKFhGRXjzpke5Vqvj8/TdIG2xIRQLgYcJPn8KnTPFu3Dh20yaxr68yOZnyOcawYaChIGR0VtCv4OCkw4dB16IWLwZvA/HK8EjQ0MR9+0D4qLpRUB4JXhi9ZInYxwfy0wkEoeZw2FeueJmbg8Im29hQkVl45BfAYsEIZaGhfEdHqANjxAjP2rWjFi6UhYdTT0nS7ZFQt4ULSYlUq6kN4QUU69u6tVe9eonW1lQk99GjsMmTvS0smGfOqHk8SrUByAwnDbzcp0kT/tu3uMw3UtTQpEO9dnFxWb9+/alTp5w/fxboPRWdDeiRSA6gRyLZc+vWrX79+pUrV65Jkybr1q2T4hNmuYbySFCohN270+7d+zYkHzsW0KMHyFOGRwJaqRQUDTYM6ttX7O1NNb+xL16kniAUubiQkpQOeKRHrVpQgv4zhQCYE1hXzKpVnnXrhk6YIPjwQcpgxKxd69uiBSgd+/Jlzr173MePqQB/xqxZ42lqGjZpEqiYVibL8EjGyJEp16/ThX4hwyPh6MjROV8PCee9egUGDDIXt2ULFZOlR4LpQpV4L16k2NklnzgBmcOnTw/o2tXDxCRi1iyxlxf1ICPlkeCLcVu36gsrwHv+nOzarlkTkqgY5unTfm3aQP7Y9eszjg4C5+FDiCHPs6kpVEaVkkLlR5Aigigd6vWnT5+WLVu2ZcsW+GAPCgykIrMHPRLJAfRIJHusra0rVqxYvHjxsWPHOjg4YGNk7qE88kfnj9QqFKwLF4KHDPFu0ABsCVxNkZAQvXw52Fj4tGkZEglQT1KGWFlJfH3pKD3iNm8GzQrq3x90TeThwRg+3Mvc3LVcOdfy5bMMjBEjUq5d00okGR4JuwMJo4v7QoZHggTTUXqAswYPGuRZp070ihVUTJYeKQsNjdu0ya91axBHn+bNA/v0Ac/zbtzYvUqVPHtk/Pbt5NFR4ZujgwC+zjp/nmriRZCiQ2w61GsvL6+d6Zy0OXnn1m0qMnvQI5EcQI9EvodMJnN3d585c2bJkiWLFSu2adOm6Oho7dftT0g25M0j4YXE3z9m9WrwnrgtW4TOzvAnmFbw0KFJhw9rxGIqG5AHjwzo3DnpwIEsAwgfNc7a0B4pcnWN37ED7BDqDzsSvHsHx5hy9Wr4rFlQw5/xSKqXP3LOnEyHRoXkEyfEPj76MxwhSFEgIB3qNXjknj17zpw+c/rUqSOHD1OR2YMeieQAeiTyPTgczsmTJ3v27Fm6dGlTU9OLFy8qFIpcTxaB5NEjCZ1OIxQyz5zxadIkZORI5unT3EePfBo3BsHiOzpSDw5SkB5pZsawtAQ9oqPS0anVqrS0mJUrPc3MwiZNgr2DaIZPn+7dqBEUKHJ3lwYHy8LCMgVlYqJGICC02lx6JEhtxgOLGfBevvRr08a7ceP4bduomG89knXuXPDAgd4NG0IMORFmOnAIsZs2eVtY5NkjE/fvBw31bd6caWOT6dCoII+MBIkEUabyI0gRAdzR09Mz4/U+630PHBzsb948jB6J5AvokUiWgC8mJCTMmDHDzMzM2Nh45MiRL1++pNOQ3JFHj0yH+/Rp8LBhoFDgVVCOd4MG8C85nlqvPRg80rNWLbA0kYuLvtKR42w+fw6fMgVMNH7XLkn6ajHxO3eC4YFHgqWRvvh9cumR8bt3k4O19eoDipZ686ZbhQoB3buzzp6lIr/1yNj160GLgwYOFHz4QMXA3Sby9IxZuxZMN88eyb5wIaBzZ6/0WYdQFhEkA+90qNc+Pj5HDh9xd3P/5PTJ3t6eiswe9EgkB9AjkSyRSCQeHh6dOnUqW7asubn5/v37cS3EH+VnPFLi6xu/Y4dPs2a+LVoEDxwIZpZy7RrpUnrtweCRYHtedeuSDXt667Uok5PBrvw7dPDv1In/5o0qNVXN44nc3BhDh4JKxm3ZkjHiO0ty6ZGgpCk3blDCRyH89Cl6+XK3SpWiFi7kv31LRWbpkV716kFNeK9eUTFauTzt7l04Ro/q1fPskcKPH2OWL/esXTt62TKhs3Om84kgRZa42DgI1OvY2Njnz59HR0czmcyEhAQqMnvQI5EcQI9EsiQiIuLs2bNgkCVLlmzbtu3bt29x2sgf5Wc8UpWSwnvxAkQQ1ApsMnLu3IwJtzMgPbJSJc86dUKtrJIOHeK/eydydQXBSjpyJLBnT7C3mDVrFHFx1DSNoJJQH1JJu3VL2LuX8+CB8PNnkEuQP3BN2EoeHU0Vm0uPhEOLXLAg9dYtqJjAyQlyRq9YEQTld+kCygv7pfN/45HwIqBzZ09TU1BA3suXUIdUe3uQy8DeveFc5dkjlUlJnLt3ITJ4yBBQydSbNwVwQjw8RO7ucIDwWuzjo/90KYIUEYTpUK8FAgFIJPyrUCjU3zyXkiXokUgOoEciWfL69euJEycaGxtXrlzZ0tISb4w8AG4HCuXTuLHQ2ZmO+hppSEjE7Nl+bdpEzJz5bfuZMjmZMWwY5ZGsc+dA7+iEL4BHgnj5tmwJSgc5o5Ysid20KWzSJN9WrbwbNYpZvlzo5KT/PCVoWfz27VAfv9atGcOHx6xaFbd5c8zatVGLF4OngtJR2eRRUcxTp7zMzCLnz+c+e0ZFZvB/j2zTJmT06JAxY6KWLgWDZFhaQk0gKX7HDv32ThBWqJt3w4bM06epGNgR7BEEkVylZto0yA/lgElHL18ONYckibc3tZwjmB9UNaBHDxDfTF3VoIYho0b5/P13wpf5IwFFQkLiv/8GDxoEZwxMGjQ3bvt2OGR4AQeL69kgRRNqMRvqNfyX+xURKdAjkRxAj0SyxNbW1szMrHTp0u3atduxYwdXb+ZqJJfwnj1LtLaOXb8+YzRJJkBr2BcuxG3dyrpwIdNEjICKzQZT9G3eHMRIEhBArYWoD6SC7QUPGcK2tWVfuhS9ciW58vXEiaBNrLNnxZ6e5OTkel8ZGolEHhnJe/4c1Cp8xowQK6uQsWMjFy4EFYPNpV+Wu1SlpPDfvo1etYp9+fK3C8BkeCQIqODdu6TDh8lFuseOBRGEI027dUuZlKRfVbGXV/KRI5A5o6dbLRBA3ZIOHoQ6hI4fD/rIPHMGzhVYb8KePSxbW9BrqgRFbCycHJBI7qNHmTxbGhSUfOwY7JH7+DEdBd+RSqWSyYQdJR89CoIOpyJs4sSIWbNg7yCRInd3zZdWGQQpsvyQRALokUgOoEcWHeBXaG76MjQaTVxc3ObNm8uUKVOsWLFJkya9fv0apx/PA4q4OLAooYvL9+aa0UokYG/UAGp94QNAAUG2ggcPDurfP2HXrixnzyY9sl69kNGjhZ8/g6ryX71Ku3Mn7d49ECl5RESWzkR2cHO5Ig8P0K/UmzchcJ88Ebm6ShmMjJkptTKZIiGBLDMkhFqYUZ8Mj0w6dAiKEvv4cJ8+Tb11i3PvnsjZWREfT+f7AtRc4usrhKQvK24D1LI9sGHaf/9xnz+Hwwf/U6elib294TU5fCf9LoVscHLgHCpiYjKdHzWHA44L5/bb+SChVlAI6DIUTlbs/n04ISDiqtRUHH+DFE3gYx/eTElJSXl4PAk9EskB9Miig0qlgssNl1ggEGQzDaRcLn/27NnEiROLFy9evnz5bdu2paamZiyrhfwCtAoFaBbzxAm/1q0j58whu6ezWs2P9sjvzB9pIDI8Msv5IxEEKWjodDqxWBwTHf3hw4eAwED4E7RSqVQq9B56yQb0SCQH0COLDqCP9+/fv3HjhqOjoyz9+bMsgZ+te/bsad++fdmyZdu0aXP58mWUyF+KVquIjwdL82vVyq9tW7BJ8mHBrLwfPRJBkBwBa2SxWJ8+fTp//vzLly/VGg2Px0tOSorJ3dpO6JFIDqBHFh2kUqm7u/vOnTunTp0KNhn9ZXyuPvCJA/fA+PHjq1WrZmxsDLfEu3fv6DTE8KhSUgTv3sVt3hzUr59P48axGzeKXFzotG9Aj0QQJEeio6LcXF3hk9zGxubhw4cCodDXx/fN69ePHj6ic2QLeiSSA+iRRQeNRpOWlrZu3bqaNWsOHz7czs4uPj4+Uwc3n893dXVt37598eLFzczMLly4EBUVRachhkcWHs60sQnq29e/Y8eIWbMEHz+qvz/CCXSTYWkZs3q1LDSUjjI8vFevIv75J6hPn9QbN+goBEEKMB/ef7hlf+v58+fHjx+/f/8+i8l89fLVVburZ86coXNkC3okkgPokUUKsMZDhw7Vrl27XLlyffv2hZ+nmR6RYTAYBw8ebNSoUZkyZdq2bRsQEICd2r8SeXR0ypUroIbkJDVMJjls+ftzdEh8fclpEb28fuUwZGVyssjVlf/6dcZ8kwiCFGQc7jscOXLk6tWr8NkOX/cJ8fFv3769d/fubftbdI5sQY9EcgA9sqhx7dq17t27ly1btnr16j169Ni8ebOnp2eGTTo6Oo4cOdLExKRJkyYrVqzI5YIHSH6hEYnkkZFib295VBQ5uDjbid40AgG5Vs2vXTMa1FbN5apSUrIc+oMgSEHj3r17hw4dunLlyoEDB+zs7Dw8PG7dunXt6rU7t27TObIFPRLJAfTIosbLly+nT59esWLFv/76q1y5cnDdd+7cCZ8sUqlUKBTCp4y5uTlY5pAhQ+DTh/dlLhgEQRCkMPL8+fMLFy44ODicOXPm5s2bnz59srW1PXf23FU7OzpHtqBHIjmAHlnU8PHxAXE0NjYGj6SAS7948eLY2Njg4OAdO3ZQkfPnz4d7Q/n1YnQIgiBI4cLLy+vNmze+vr5PnzxxfOsYFBhkZ2d3PB06R7agRyI5gB5Z1ABfhN+m1atXp3wRKF++fOPGjceMGbNs2bJhw4aVLFmyefPmR48elclk2UwziSAIghR8WCxWfHx8ampqRHh4THQMvPD29v786TMEOke2oEciOYAeWdQQCARPnz6tXbs2bZHplChRokKFCnAbmJubly5dulevXocOHfL7QlBQENhnUlISfB7pI5FIclwdB0EQBPmNKBQKuVyuUqnEYjF8aCuVSk4ah81iQ6BzZAt6JJID6JFFEPgxCpe7ePHitEV+DXhkt27dZs2atfELu3btsrOzc3BwAAEFnj179uLFC0dHR5BLXC8RQRCkcKH7Av13tqBHIjmAHlkEYTAYQ4YMMTExoc3xa8AvK1euXLt27fpfaNiwYfPmzVu3bt02nS5dukyaNOnEiROBgYHokQiCIAUcEEatTgcBXsA/MplSLJaKxWI6OVvQI5EcQI8sgkREREybNs3c3Jw2x1xTrly5Bg0ajBkzZu/eva9evYKbJ88DcWBDNpsNhbx79y4sLAwH9BiO1NRUJpOZy7YHBEH+PPQ9UqPRsNmpERFRQUFBdHK2oEciOYAeWQSJjo5etGiRhYUFrYe5oHjx4kZGRs2aNYOb5MWLFxwOhy7rx4GPMvgdHBUV9eTJE1DSGTNmXLx4USAQ0MlIPqFWqyUSCVwpj3TQIxGkaALiCD/U4dNAKpXKZDL4+IWf7k5OTo8fP6ZzZAt6JJID6JFFELjo+/bta9++PS2JOVGiRAmQSCsrKxC+8PBwPp//M8NrFArFo0ePli1b1q5dOxMTkwYNGkyfPp3FYtHJSD4BV/n169fW1tb37t2Dq4YeiSBFEx6PF8JgvHr5ytHR8fPnz15eXr6+vq6urvAnnSNb0CORHECPLIKAtJ0+fbpbt260J2YL1Qy5YMGCW7duRUVF/cxMQPBx5uHhYWNjM2HChCZNmlSoUKFu3bqgp+fPn8f2yPwCFD8tLe3NmzdXrlw5c+YMXDX4zsD55BGkyOLv7//k8eM7t27f++/ujRs3bG1tX7x48ezZs9u3cT0bJD9AjyyCpKamwqdJ3759aVX8DiVKlKhcuXLHjh1XrFgB/vczLgL2qVAonJycNm7caGFhAW4KJYNKTpo0yd7eHuqjv4q3SCSCfclkMlza+4eAkwznLSIi4tWrV5s3b96wYcOFCxfYbLbqF66aiCBIQQOU8eLFi8/hvydPz587D58MV69epaYip3NkC3okkgPokUUQoVAISjdq1ChaGL8D2N7gwYPPnz8fExMjlUp/xupACuPj48Eaq1atWqZMGarkc+fOhYaGQmUylQx1e/jwIYPBAKGko5BcIJFIHj9+vHz5cktLy0OHDrm4uPD5fDi32KONIEWZ+/fv37x5k8lkxsfFPXn8eP369ZdsL12+dAk9Eskf0COLIOBnrq6uY8aMoYUxKywsLGbNmnX79u2IiAilUvmTLqJWqwUCAXx+de3atWPHjvCD2MHBITIyUi6X0znSAe/5/PnzypUrraysII+vry+O484RrVYLb9vXr1/v27dv3rx54JE2NjYeHh4/MxYKQZA/hpcvX16/fv3Tp08fPnywu3IFPlrhXwA9Eskf0COLIBKJxMfHZ/z48bQzfk2JEiXMzc3nzp0Lnz5CoZDe5qcBE3327Nnhw4etra1DQkIUCgWdoAebzYafzn379q1UqVLjxo0vXrwYHx9PpyHfoNFoeDxecHAwfEksW7YMztvkyZNtbW3hpGFfNoIgFO7u7vb29vDJABw9enTHjh0PHjx49OjR9WvX6RzZgh6J5AB6ZBEEHA5UY8aMGbQ5fo2RkdGaNWvgx+vPN0NmAgqUpvO9zlbIkJqaOnv27AoVKoDOguneu3ePTkO+Ac7kx48fFyxYAM7dunVrUEn4wuDz+bgqOoIgGcTExLx8+fJEOsePHz9z5kyAv390VBQjmEHnyBb0SCQH0COLIOAZEolk4cKFtDl+oUyZMt26dTtw4ICrq2taWhqd+weBW4jBYAgEgjzMDQQVA5UEd5w4cSLUx8zMbNGiRf7+/rlcd6HowOVynZ2d9+7da2Vl1a5dO/hJcPLkSWos1M88xoogyJ9HUlKSk5PThXTg09XT0xM+3uFDlZ+7WTLQI5EcQI8ssixbtozSR6B48eKlS5fu0qXLvn374uPjMz22mBvAGvl8PjifnZ3d/v37nz9/DrcWnfaDwIa2traNGjWqUKFCmzZtoLTIyEjUIwA8WyaThYaG3r17d+XKlZ06dWrdujU49507d2JjY+lMCIIgenA53OCgIPhMBry9veGDWqVWa3U6Te66m9AjkRxAjyyy6HtkqVKlqlWrdvbs2YSEBDr5BxEKhV5eXosXL27SpEmVKlWGDBny7NkzOu3HCQwMXLVqFagk2C3cma9evQJ/otOKMOD3YPk7duxo1apVsWLF6tevDzYZFxeXB+9HEKSIoFKpRCIRi8mEIBAIQB8zAp0jW9AjkRxAjyyyZHhkmTJlunbteubMmeDg4DzomlKpdHZ23r9//7Bhw8D8jIyMatSoMW/evE+fPtE5fhwul+vm5jZ+/HgoytjY+MiRI6GhoXRaUcXPz+/EiRMjR44EU2/atOnEiRMvX74Mwk09b0pnQhAE+RqdTqdWq+HXJqBUqdAjkXwGPbLIAh5JdWd3797d2to6Pj7+RyUSPpvi4uIeP368atWqzp07V6hQoUqVKm3btp09e/aNGzeioqLofD8OiJFEIjl79uyMGTNGjx598+bN6OhoOq2IIRaL4difP3++ZcuWvn37glXDGV6wYIGDgwO+WxEE+SHAHLU6XUagY7MFPRLJAfTIIgt4ZNmyZevUqXPixAmQSDr2RwDVu3v3brdu3SpXrlyyZEn4t0OHDgcPHoyMjMyXeWdAUr29vd3c3IrmqolarVYul4eEhFy8eBFOLDh6pUqVmjVrduDAAQaDkb9D6REEQbIEPRLJAfTIIsuaNWvATs6fPw9SAr5Cx/4I4JGXL182NTUFxenSpcumTZvevHkTGxsrlUrzxXKgVkKhMG9Dvws7IOIsFuvKlSszZsxo3rw5GKSFhcWUKVMeP34cEREBZ57OhyAIYkjQI5EcQI8sstjb2+/bt49a85CO+kGUSiWII4jOggULTpw44e7ujn7z82jT16d5+/attbX10KFD4Y1ZtWrVnj17rlu3DiSSz+cXQatGEOR3gR6J5AB6ZJGFxWLFxcWBtdB/54mUlBQPD4+oqCjwGzoKySs6nU4mkzGZzIcPH86cObNixYrlypWrVatWnz59zp8/Hx4eTudDEAT5VaBHIjmAHllkUalUWS5O+ENAIWKxWC6X45Dhnwck8vPnz8uXL+/cuXP16tVBIps3b75u3TonJyd4Y+bt2QMEQZCfAT0SyQH0SCR7qNnFL1y48P79ezab/ZPtlz+DTqdTKpVBQUFv376Nj4/Pc3d8AYTH47m7u587d2727NnwZqxQoYKpqamlpeWRI0dcXV1FItFvPO0IghRl0CORHECPRLIEpE2hUDCZTNDHPXv2NGvWbPny5U5OTr/x4TyVShUbG3vy5Mk5c+bcuHEjMjKysNsVnGRqPM27d+82bNjQpk0bIyOj8uXLm5ubT5w48fr166mpqXRWBEGQ3wF6JJID6JFIliiVyri4uEOHDg0aNKh69eqlS5fu2rXrgQMHfmPvKp/PP3/+/ODBg01MTNq1a3f16tX8Ghj+uwBTh3fcsWPHBg4cWK1atTJlyhgbG8OhnThxwsfHh1x5Ap8WQBDkt4IeieQAeiSSCXCX6Ojo27dvL1q0qEuXLiCRRkZG8GLbtm0fPnz4je2RMpnM2dl53rx5IFuVK1eeP3/++/fvVfkxUeVvAU7y/fv316xZ06NHDzDjv/76q3nz5rNnz7azs2MwGGKxmM6HIAjy+0CPRHIAPRLRRy6Xwy1x6dKlUaNGgT4C5ubmAwYMOHDggKenJ5jcb2z/02q1UqkU6ta9e/dy5cq1bdt269atCQkJPz9a6FcCIi4QCMAUL1y4MGHChGrVqsGxgEe2adNm7dq1L168kEgk2AyJIEgBAT0SyQH0SEQf0LLbt2936NChTDqNGzdes2bNx48feTyeSqX67Z3IUIHw8PCTJ0/WqFGjZMmSUM+7d+/CPUwnFwZAIt3c3ObMmdO0aVM4w8WLFweVHD58+OPHj+Pi4pRKZaHuqUcQ5A8DPRLJAfRIRB+xWBwYGDhu3Lhu3brNmDHj6tWrPj4+HA6n4LSQQQ3d3d2nTJlibm4OBjZ06NAXL14UiiZJuVwOBnn06NGxY8c2bNiwQoUKlSpV6tKly5YtW+AQmEwmzuyDIEhBAz0SyQH0SAQAgwGPcXZ29vb2ZrFYZ8+ePX78+NOnTwvmwtbgtXfu3BkxYkTlypWrVKly6tSpgjyuWafTSSSS6Ojo169fb9iwoWvXruXLly9dunT9+vXhEA4dOuTr64sGiSBIwQQ9EskB9EgEgOvu4ODQt2/fadOmBQUFicXigt+7evDgwaZNm1atWnXHjh1QZzq24KHRaKKiok6ePNmtW7eKFSv+9ddfJUqUqFSp0sKFC52cnArXw50IghQ10CORHECPLLKAe7m5uVHjr/38/JYtW2ZhYdGsWbMVK1YEBgYqlUoqW4HF19f3TjpQW6FQSMcWMOD9BYIOytixY0dQ3pIlS5qamg4fPvzChQuenp4cDgcnGEcQpCCDHonkAHpkUUMmk8XHx79+/Xrnzp2bN28Gm+HxeOHh4QcPHmzVqlXlypWbN29+5syZgr+as0Qi4XK58O9vnIroe0CVxGKxl5fX2bNnJ06cCG+usmXLVqxYsVOnTosWLbpx4waLxSq8Mxb9JGoNkcoh3LwJVir5usCi1RFCMREZS/gEEVIZHYkgRQ30SCQH0COLDlqtVqFQREVF3bx5s3fv3iYmJo0aNdq2bVtgYCA4DTjZ1KlTq1SpUqZMmUGDBoHrgAzh2OE8AOcNTmZQUNCyZcvgnUV1ZIOgt27dGrQyLCyMzlckgRuKJyDeORNzVhMv3hFcPhlTAIFayRVEAIM4c5VYt4eISSBwLiakaIIeieQAemQRAUwRLq69vf28efNatWplbGxsZGTUsWPHS5cuxcTEgC8qlcrHjx9PmTKFmolmwYIF3t7ef9Ia1r8MOG9Hjx4dPHhwgwYNypcvDxLZsmXLVatWvX37Ni4uTiKR0PmKHhotIZERl24RI2cSpu2JYVOJU1cIsbQgKppQRPgGEfPWEm0GkAHqGRpJJyFIkQI9EskB9Mg/Hq1Wy+fznZ2dDx06NHr0aLjQZcqUgX/hNcT4+PhAKmQDlYSrf/Hixfbt21esWLFt27Y7duyIiIjAgSC5RC6Xx8fHP3nyZP369T169ACDLFu2bP369a2srP79999Pnz5BhiL+NGRKGnHrITF6DmHSgihWh6jajHz9/B3ZzV2gEIiIDy7E2t1Eo25EKTPCyIIYOJE4e5WIiScK3jMUCGJY0CORHECP/ONRq9Wgg9u3b69duzb1lB5c7unTp7948eLb9amDgoL27t0LGcqVK9esWbO7d+8ymUw6rcADRyoSiaDCYrEYXtOxuUCZjkajyVs/PtihRCKBk3zz5s0BAwbUqFGjRIkScAJBImfOnOno6MjlcumsRRipjHByI3qOJoybEn/VpoN5R2L6cuKzByEpGA3f4PkKJeEVQKzfQ1S0IErU/X9VLacRNx3ITnkcGYUUKdAjkRxAj/zjoTxy7dq1YDagOGCQt2/fZjAYfD7/2+YxMMvQ0NBx48bVrFmzUqVKgwYNunfvHp1W4ElKSgKTGz9+/P379xMSEujYnAB9DA8Ph6Nms9l5G/sCZ/Lx48eLFy9u3bp1lSpVSpUqZWJi0rdv3wsXLgQHBwsEgh+S2j8Vx8/Ewg1kS2RJPTkrU4+o2Zr4Zw3xzJHO9nsRiQlGONmd3aALUcKUbDTNqGrNVoTVHMLVm+AX0LkBEMQgoEciOYAe+ccDskhN3D1v3rydO3c+e/YMrnI2ZiOTya5fvz5y5Mjy5cuDd65cudLHx6dQ9G6/evVq/vz5UOcpU6aASkKdc9O+qFQqIbO9vb2bm5tYLKZjcwH1UCmcHBsbG5DXxo0bl02na9eucNJu3boVHR1dZAdl6yOWEO9diBXbiCa9yG7iDDOjQvE6hEV3Ys0uIjjsNw+LFgiJj67Eyu3E3z2yqGdJM7L1dMF6cngQT1BAhwchSL6DHonkAHpkEYHFYvn7+6elpYH60FHfAbwTsoEbwV0BVtS5c2dra+ukpKSCr0Q3btwYNWpUmTJlqlevvmzZssjIyNysEyOVSnfs2LFixYpr167lfl0cOI1g535+fqDmLVq0gJ3CuapVq1anTp0OHToUEBCQty7yPw+RmPAOIBZuJOUsk5nph07DiKPnifAocpT0r0erJffr5k1stCa7s/VbTPVDCVPCqBGxfBvZKqlUoUoiRQL0SCQH0COLCGq1GqQql48AQjYwJNDHOnXqlCtXDtzo6dOnYKJ0ckEFanj69Gmoc/ny5aHOUP/c3M8ikWjChAk9e/bcunVr7nvD4+Pj4Y0zbNgwU1NTkMhixYrBm2jhwoXu7u5QDRyclMEHV7I726wjUbpeZi3TD+UaEI27k2NZImLoDX8lEik5HHvBeqJue6L4193ZmQKkNutNDsFJ5RAqfFoBKQKgRyI5gB75xxAZGfno0aP9+/eDyvxQ/2yWUEO8x44dC1pWrVq1cePGPX/+vIDrkUqlgmNfvXq1ubk51Llv376gvykpKXRyVsBhurm59ejRAzYZP358REQEnfAdwLCFQiGcim3btg0ePLh69eply5atXbs2mOjRo0c/ffoEZx7y0LmLNnI58fYT2Z3duAf5HGQmIfs2lK1PDou+cIMc1v0rHyhVqYigMGLbQaL1gCy6s78NRhZEhyHErqNkRzyC/PHk4JE6rVYrlSri4qRBQbKQEPiApBMyodPpNBolkykNDIQAL7S56C3KA1R9lMnJivh4jVisw4fTDQ96ZGGH6mANDg6mlk6pW7fuwYMHc/Sh3MDj8c6fPz9o0CCjdDZt2hQaGlrAJYnL5X7+/Hno0KGVK1c2NjZeuXIluF02dQ4PDz9+/HiTJk0qVKjQoUMHHx+fbJ4clUgk0dHRIJEzZ85s1KhRiRIlwFZbt249ffr0J0+eJCUl0fmQ9GcNvQKIJZuJpr0ye9j3QrE6ZKvk2LnEw5fk/OS/YFi0TkdOXRkeTbaDNu9D9mhnqtL3QvmGRKOupPIy2XRRCPKnkoNHamUyWVhY4sGDYZMnR86ZI3J3pxO+BvQOrI5tZxc6fjwEeAHqaYh3OVmf8HCWrW3S4cMSf3+1QEAnIAYDPbKww2azX758OW3aNLiIZcuWBbmZNGnSgwcP6OSfAIwqJSVl//79FhYWpUuX7tSpE7zOzROHvxH4KSoUCo8ePdqjRw84FTVq1IA6i8ViiKdzfI2Tk9PYsWMhW7FixczMzOBMCr7/sRMSEnLkyJGWLVtWqVIFCi9fvjwIqy18XiUlwUcXNkPq4+xJzFtHmHX47rOGWQZQyUp/E73HEH7B5Pw7hgaumEhM/HuKaN2fKG2eXXd2pgA5S9Qlhk4lrtyhi0KQP5UcPFKVlpZ2717oxIneDRv6/P13yrVrak4WE8KC3ok9PaOXL/dq0ABCwp49spAQkEs6Of9Q83i8Z88i/vknZNSoVHt7RXw8nYAYDPTIwotEInn37t2OHTsGDhxobm4OcgMXccKECTdv3oyJyYenzHQ6nUqlcnZ2Xr9+vbGxcdWqVYcMGfLkyZMCPqMk+BwIH5yW+vXrt2jR4tixYyKRKEuPBOO0s7MDfQT//uuvv8AmT58+HRmZxbolYIq3b99euHBhhw4dKlasCKeid+/eO3fufPr0KTUoG0fVZABnIpVDnLYjGnYlu6ozGViOAfwM7HPPMVIlDU0Kh7jhQFhOJyo2/gGJzAi12hBTlxIungSPnMgfQf5McvBIJVjDiRMBPXq4GRm5V60at3mz2MuLTtMD5JJ19ixjyBD3KlVcy5ePXb9eGhhoEI8UCASOjjFr1kTMns15+FCJ/USGBz2ykMLn8z09PVeuXNm8efOSJUuC53Xu3Hnx4sUODg5wTelM+QH8uHvz5k3fvn2rVatWp06dmTNngrwW/PUSHR0dFy1atGHDhpcvX8pksiw9z9fXd926dWCQFHAOV69e7eLiQient8iCawYGBl6+fHnUqFG1a9emZnEfPXq0jY1NWFgYlExnRb4AZ5qVQhy/SK58mP3YmixDcVOidhti1U7CJYvvonyGlUpcuEn0HZerxze/DdVaEOPmEe+diTScZh75c8mtR4JE+jRpEjJmDMvWlk7TQxEfHz5lil+bNl4NGoBxGs4jSXQ6eUSExN8fH478NaBHFlK8vb23bt0KZgMCBHLTrVs3W1tbJpP5vQ7cn4HNZkPhPXv2hH0VK1bM2to6NjaWTiuowG/ShISE7KeQPHnyZK9evdIdksTIyAhk8eHDh3QyQYjF4qCgoOXLlzdq1AgOHPI0a9Zs48aNPj4+uPJ49rx3IaYsIaq3zOxeOYYy9cle5kevCHZup2DKO2oNuQTi+r3kXOh5aI/sM444e430ZgT5g8mtR3rVrw+mGNS3b9zGjXTaF7RSqdjLK7B798CePRnDh7sbG0ctWiT8/Fn39cNAWrlcxWaDAipiYtRc7s9YoEYi0Qiym+ZVp1TKo6Kg8uRwH71sGpFImZgoYzDgBR2VT8DBaqRS8GnFN9OCaIRCRVwcBHX6IsWFDvTIQkpqaurLly979+49cuTI/fv3v3nzBtzOQOOpoVgofPv27U2bNi1RokSfPn3AwCTwPi3ATwSq1WqZTPY9q4YjSklJmTlzZrVq1SiJBEqXLt28efMLFy5QeYKDg8+dO2dpaQkSWb169QYNGixduvTWrVsQz+fz8WnI7EnjkgvYDJ781SqI2QcwubL1yV7mq3eJ+KRf8XwkfHuo1OTc46t3ElWa/MCjnOUaEPU6EQfPECFZPASBIH8UOXgkWFHi/v1B/foFdOuW+O+/gb16gU2CiukPx4YvkBQ7O9/mzcOnT0/Ys8ezdm14wXv6lDJFcrh3QoLgw4fUmzeTjx+HDFAg6/x5/uvX8pgYMk+654FZCt6/5z56BAIKmpjhoJBBymBw7t/nPXsmCw/XymSq1FShkxP38WNynA1lZjodlM978UISECDx9eW/eQP1SbS2Tjp6NNXeXuTmpmQyVRyOyMMD/kw6fDh+xw725cuwO6i5/oGAevJevky7fVsWlnm2BrBAgZNT2n//QRI4KFRPDQW6ukI15JGRYm9v7tOnUGbSgQNJR45w7t6V+PjAWVKlpYnc3WGniQcOQGBfusR3dFSyWNpCNXUcemQhRaVSwbU7ceIEmE1oaOgvmCSc6imuWLEiSNWYMWPevn2b+1m7CxpMJvPRo0ddunShFTKd4sWLV6lSZdeuXUlJSR8/frS2th48eHCFChXgrTFkyJBt27Y5OTlxsnqCHMkSkZg4fYXoN56cTCc3rX2l6xGdhxHHLhDJ7F86NSOXTy5RM3w6+bxjpiplGco3JFr1Ixfgcff5FbKLIL+XHDwSVC9m7VqGpWX4tGncJ0+CBw8O6t8fbE/F/v9kBoJ37yLnzQOPBIUSfPzo1aBByJgxqbdu6dK/t8DhQLZCJ0zwbtzYo0YNCO4mJp516gQPGZJy9aqax6O6v0EKwyZN8m3ZMnzyZNLVqMnttFoVl5t08KCXuXlgt25sW1uQMJGrK+T0ad4cdFAaFAS5wDVDx47179Ilfvv22A0bGMOG0TsyNobKQN24z54JXVyily/369DBo3p1CJ61aoUMH556/TpUj9xROinXrpE9+FWqsM6coaModDowSDgEKJN1+rQ8OhrsU+LtDSX7NG3KOncOThEYNgg0WXiNGvAids0acF84G1FLlvh37EgftZkZnEDwXaXe2Sv4oEcWcHQ6eAeQ0H//PmQy2atXrywsLMqVK2dmZjZjxgwvL69C1ywH5xPw9PScNm1a3bp1aYXUY86cOffu3Rs1ahQcIxwp9UhoIVpkvOCg0xFiKXH4LFGjFbmooL6KfRtK1iU7l8nhNeSn/q+GmULceUT0ssq5SRKEuEEXcj4jdho58SSC/PHk4JGy8PCI2bODhw6NWbNGmZwcMWtWQJcucdu3QzydgyBS7e0D+/QJGTUq7e5dkbu7d8OG+h6p5nJFbm4gW6yzZ3nPn4N0gg5Gzp3r26IFuGnavXsaiYTMxuHwHR1Dx4zx79QpZvVqKYMBkVqJBDKHjB7t16YN++JF2Kmaz4fSsvRIcFOoW9j48Yn79oE4QojbsiWwZ09QPSg2euXKyIULWefPg9Sm3b4dMmKEX6tWYJxQYe2XVeDy4JEeJiYB3bqFz5yZeOAA/+1bKDx+505vCwtwRyg8cs6cuI0byWbIN2+g/lANODlwPgUfPtAlFwbQIwsyYGkSicTFxcX9O3Ny/Uq0Wm1sbOy5c+c6depUtmxZU1PTEydOZDm6ucBCnU8Oh3P79u3atWtTw7QzAeLYpk2b6tWrN2zYEGzy+vXrIJ3sQvXjsOAAvzL8gglrm5yb+toOJHYfJXwDyVbMX49CSY4Nggq0G5S5YvqhuClRoSG57M27z+Q6it9/9gpB/hxy8sjQ0LApU4KHDAEnA98CdQvs1YthaSn29CSTtVq1QJB0+DBIYez69SJXV7GXVyaP1MpkyqQkaWCgPCoK9Eun1SoSE8E4A7p2BQOL3bgRRBOyQWY1j5d87Bhj+HC/tm1Trl6VhYXJQkIiZswIHjAgeskSUEYoSiMSid3ds/RI98qVYddQT+Hnz5ATgvDTp9gNGzxr1fJu3Dhs4sSU69dlEREasRicNenAgaA+fbzq1wd3zBj0nQePhMzgqfHbtsGBQzXgKwgcMXz6dN9mzXyaNAkdNy715k3ID0dHPSEAh+bbqhWYpVYqLSyfMeiRBZa0tDQ3N7eTJ08uXLhw7969SUlJv33uRqlUGhUVtWbNmsaNGxcrVmz48OF2dnYikahQtErCCXz37t3Ro0ePHz++YMECWhuzAvzSwsJi3rx5d+7cwUUOfxLwQg9fYtJCcjYffSfLCMXqkM8aLt1M+AQSYrLZ4bfh4kWOuTFpQc4lmamSEErWJeq0JSYvJhxekE9/okQiRYQf80gwLXBEr7p1eS9egBtBAJOLWbUKRI195Yo8Job2yNGjU27coDySRkdONKeVSDRCIYijxN8fzM+3ZUv4V7+LHEpL2LvXw8Qkcu5c1tmzqTduBHTuHD55Mv/VK2opnew80tjYr3VrwcePGU8fwiawIdTH08wMCoS9U/FQGeHHj9GLF8OO4rdupZ04b+2RNWoEDx7MffqUzkkQSrBke3tQZN/WrWPWrgVzpRMIgvvsGdTco3r1hN27lWBjBhrPnt+gRxZAtOS6TtKPHz+uX7/exMSkXLlyAwcO/PTpEzf9V9lv5+XLl3PmzCldurSRkdGkSZP8/Px+fhnGXwBIJBg5nExTU1MzMzPaGbOiSpUqlpaW9+7dg+OCzzZ6eySv8IXEvafEqNnk8JRMD0qWNCMq/01MWkQ4PKcz/16c3Mi1Gau3zOKBTuOmxOBJhJM7+TwlghQdfswjhZ8/gzWCsSUfOwaGBF9lKdevh44bF9Cpk9jbGwSO8sigAQOYp0/rvvQXA1qZDPJzHz9mXbgQv2tXxOzZvi1agIQF9eun/4QiFMh79QrMLKBLF1AxeAG7Zp48qebzqZE32Xikl7k5Y+RIiZ9fhp/BJmIPD28LC59mzUDpyCZAOkEH2eI2bHCvVi166dKMXuY8eKRXvXpRS5cK9eaTU6Wk8N+8Cerb179Tp8R//1XozX4ieP8+atEij5o1Y9evlzEYGWOJCjjokQUQPh/usjczZ86sU6dOyZIlqUf0fHx8sllq5VcC1btz5w7cM5UqVWrYsOHs2bNDQkLotAIMeOHo0aPLlCkDBgz/0s6YFdR8nKDI8NYo4Ov3FArUGoLDI85dIxeqyTRTo2l7Yvx84uUHgsujM/9ewBFdvIgBE7KYQR388uLNX732N4L8dnLwSElAQGDv3mBXlEcqk5NBED1MTKIWL+a/fasWCGI3bmQMHx45Zw61tAzlkf5duiTs20e1C4JygSmm3rgBJYBFxaxZE71iRfi0aaRHmpgE9uxJtszpAZbGOncOJBJSvRs1it+2TX8xxuw8skEDUD1p8FdLHEh8fb0bN/Zt1QrqCS5Lx+p0kA3q4161auTChXAgVHRePLJBg9gNGzJaNAF1Wprw48eg/v0DunZNOnJEf8UdgZNT9LJlHrVqkQ+ABgRAtemEgg16ZAFEKoV7P2ju3LlgM8WKFbOwsFizZk2B6mANCwuztrZu3bo1qGTjxo3Pnz8fHR1NpxVUQMR37NhRtWrVEiVK0MKYLfXr1x8zZszp06f9/PwkGd0dSF7xZ5ArEFp0J1slKTOr3IQYMYN48oaUswKCRktIpMQZO6L/+P8bZIVGRL9xxAlbIiwKx9YgRY4cPBIMybtBA/+OHRP27KHaF3nPn/s0acIYMYJ18SIoYOi4cSFWVmB+qjTyjS728fFt1syvXbu4zZspj4Q8HAcHxtChfm3bhowZA/LHPHUq6dChwL59PU1Nv/VINY8ncnMLHjjQzcgIMrAvXdJXMfTIXw96ZIHl7NmzXbt2LV26dKNGjcAjORwO/Naj0343MpksISEBTNfU1LRs2bJWVla3b98G/TXELOj5BY/Hu3//fp06dUqVKkWrYk6UL18eLHnv3r1eXl5CobAgjJovvCiUhG8QMWM5Od65pBnZ4Nd1BHH0PJ1acNDpiEQmceQcOX68tDlZz6a9SLMML+g/lBDEIOTKIxkjR6ZcvUo970gOl546NbBXr5h164SuriBeEf/8A/pI9RqD2AUPHhzYu3eGR/LfvPFv186/ffvYtWuloaFKFkvN5UoZjIjZs8HwvvVISWBg7Pr1kB+kzcvMLGziRNBQOg098neAHllgCQkJOXToUPXq1StUqNCjR49r167BxaLTfjc6HfzwVL58+XLmzJnFihWrWLEiOKWfn19BXuUFqrdr1y6oKrUyTW4oXrw4eLy5ufnkyZNfv36dkpJCl4X8OOBnQhHhHUBMXkTUaEk060V2E4OxFUBUasLNm5ycvG57okkvYtlWsiWywPyIQ5BfSq48EiyNHH+d7j2y8PCko0cDunVjWFomHT7s37kzCBmoIfW0nyw0NHTcuKCBAymPVKWksM6fB12DzOwrV8gZdtJbI5SJiRGzZnk3apTJI5VJSSl2dv4dO4I+Rs6ZEzZ5MjnN0ObN8shIykoN6pGp9vZB/fq5GxuD/8GOyE81Cp0u9ebNECsr9Ej0yAKFSCRycnKaPn26hYVFnz597t27x9R72rggAPWxtbVt164dyFmLFi3Wrl0bFRVVABvttFp4T8svXLjQs2fP3DdGZlCyZEkzM7NRo0YdPnzYxcUFiirIza4FGfgaEYmJmw7Elv3EiYtEcPgvnW/8h0jjEp89yMnGrU+QL37vQHIE+Y1k55E6rVbk5kb6mZ5HqtLSBB8+gG/5NG0aMnp08KBBrC+rhAGysLCwqVODBgyIXbcOzE8eFZV04ICbkRHZrHj/PpVHK5WC3oWMGOFZp87/PVKnAxPlPXsWtWCBp6lp0sGD8Drl6lXwSMbw4ezLlyEbVMCgHsl98iRswgQPExNyffAv42B0KpWaz4f6QFXRI9EjCxpsNtvBwWHRokWgaH5+fsL0aQ0KFFCrzZs3N23a1MjICO6iO3fuFMBbSCqV+vv7z5o1q1y5crlvjPyW9u3bb9iwwdnZGScD+hkSkglGOMFkEwV8CJNSSbh6E6G48iFStMnOI0EEQRm96tfX90j45a4Ri8MnTQLfAhGMWbkStCk9Ownlkf6dO4NjgWyR7ZFnz7pWqABSxTx1KiMP8+RJnyZNID7DI6FwtUhELjnTunXw4MHkHJAKhZLFipwzx69ly6A+fYROThqh0KAeKfHxSdi5Ew4KzDXlyhWqBZScR93ZmTF0qFulSuiR6JEFDaohDawFhFKlUhXAOWhA0UJDQydPnly7du1KlSqNGDHi4cOHdFqBIS4ubtWqVc2aNfsZiQRKlSpVt27dIUOG3L9/v6C1DRci4Cc8fDpqtf/vEyqYQPWUKhydjRR1svNIFZuddueOl5nZVx6Z3kQXv22bX5s2nrVrs86fl8fEUPEA5ZEgeWETJoC3wVcc79WroH79fFu0CB40CLZK2LMndt26iBkzQkaP9mnWLMMj5bGxSUePBvXtyxgyJPX2bSoSSuA8eBA2ebJXvXrRK1aQS28b0iPheLkPH5JTP7ZqBeKYsGtXorV13MaN4VOmhE+fHtirF3okemTBhFwVsaDeTmC6QqHw7t27VlZWJUuWBJtcsWKFu7t7wZkuB4TPwcGhU6dOoLm0D/71l5GRUZMmTSCyf//+o0ePnjFjxpIlS9anc/DgwUvZcuXKlU+fPiV9WeAAQRDkDyY7jySXxn70KGTUqLitW/nv32fMdwgv0u7fj16+HFyQdDu9GYZBm+J37gwdP57q14YYeWRk8smTYVOmgFoFDx4cNnFi1MKFcZs2JR8/HrV4MbxWslggpiB2MWvWhE+dmrB3ryo1lRobDjuCOrAuXCCnFpo/n/f8OXgk5Izfvh1ysm1tQemobHGbN4eOGxe3bZu+1AKy8HDYI1gg8+xZqj4kOh1kAwMGZ008eDDDAqEasshIMF2oP7hvyMiRIKzh06bBvphnziTu28ewtOQ4OCiTkqB6YMyJ//4LO2WePi3VmxtPIxBI/PzAF8EyQb71l9KGeHDlkBEjmDY2cFoyzmcBBz0S+UlAJeG2OXr0aOPGjcuWLduhQ4ddu3bBR0UBGV3u4eGxY8eOjh07tm7dumvXriCOw4YNmzZt2ubNm0EZz58/f/v27RcvXri6ugamk/0SiODHkCEuLo7D4dBRCIIgfy7Z9mvL5crkZJGzM0gPKYt6405UbLY0MBCSQJvoyHS0Uil4nsjVVeLvT3tS+oOP0oCAtNu3QbxAraRBQWSfdVKSxNdX7OGhSktTCwSKxEThp08iDw+53sTdFKqUFLG3N6SS62sLBBCgBJGbG0gkrbA6HVkZFxeIp1brzgC8EyojcneXR0Xp9J58h2ywudDJSRYaSi3MSAPHqNVKAgJSb95M2L8/5epVobOzistV83hk/k+fFElJWpkMioKSYVvYKXly9B5Ko56nJA/NywusGs4hnUAQEA+HAOZNLc/4//NZsEGPRPIFb2/vLVu21K5du1ixYi1atHj16lVa+mRhv507d+5MmTJl06ZNoIyvX78ODw8XCAQajQb0lwI+w/ShN8uWXGZDEAQp7GQ7zgY+SeVyNYcD1pWpExZEkFrhELSJjkoHNgHBgnjSL/U+SSGzMjFRFhYGvkhal04HJUMe8DOtUgmFgJzBjsg/v5kWBPYFBkZWQyyGnBDIXUNOvVpRlYF/MzXyQQaIh8ykX+rVh6ynREKX+U2jCJSjSEggaxsfD3nonabnJyUSdgHfEumDfsidZjo58K0DKgmHxudTxknHw06hkPTVvb89nwUZ9MhCB9yecrlcIpHIZDLQIDr2d8Pn852dnceNG1enTh0TE5PJkye/ePEC6vnblQvucA8Pj+Dg4JiYmJSUFDhvBfYhAQRBkIJGdh6JIAB6ZOFCoVCwWKznz5/fv3//48ePBWpha1DJK1euDB48uEKFCnXr1t20aZOPj08hkjaQcqFQCHZO/40gCFLkQY9EcgA9snDB4XA+fPgArtahQ4f58+fHxMQUnCZJqIlIJNqzZ4+JiUmJEiU6duxobW0NMYWiFxh8VyAQ+Pr6xsXFaQrJw80IgiCGBj0SyQH0yMIFi8V6+vQpSGSlSpVat259+/ZtuIJ02u8GfBEMzMXFZd26dVWqVIEaDho06O3bt4ViGRg3N7f169cPHDgQPDgsLKzgLEGJIAjyG0GPRHIAPbJwIRAIvL29p02bZmZmBq42ZcqUx48fSyQSg7b5gR2KxeLAwEAvL68cF9HmcDhv3rwZNmxYzZo169atO3/+/I8fPxb8zuIXL16MGDHC2Ni4V69eJ0+eZLPZ2CqJIAiCHonkAHpkoQNM7vbt26NHjy5TpkzFihVXr14dGhqq+npIXP6iVCqZTObZs2e3b98eFBTE5/OzV0mQsIsXL/bt27ds2bKVKlXav39/VFQUnVZQcXJymjt3bq1atcDOoebOzs6g7HRakUeuILh8gplCKJT6AxoLBFAfuPfTuASHR0ikBa56CFLYQY9EcgA9stABDpeWlnbs2LEGDRqUK1euQ4cOu3fv5vF4dLIB0Ol0oJInT560tLScMGHC48ePs98dSC2o5ObNm83MzEqVKtW5c+dDhw7RaQUVDofj6OjYq1cv8Mg6derAe+Gj3lJeRRmNhnDzJvYeJ8b+Q/gEkipZoFCqiMhYYs1OYusB4uFLQoqjpBAkX0GPRHIAPbKQ4ubmtnbtWhC16tWrDxo06P3794aeGfv+/fuTJ0+GPU6aNOn06dMeHh58Pp9Oy4rXr1/Pnz+/cuXK1apVGz16tJOTU0Geu1utVjOZzH///bdLly5ly5a1sLA4fPhwQkJCEe/d5gsIb39i/R6iwxCiRiti/V7iswe58HRBaPaDOoBEuvsSu44QLfsRrQcQs1cRn93JhkkEQfIL9EgkB9AjCylisRhMbvDgwbVq1WrZsuWlS5ei09d/Mhz+/v67du0qV64caFabNm02bdr04cOHlJSU7y38LRAInj9/3qlTpypVqjRs2HDJkiWenp6KjHWnCh5KpTI4OHj16tVVq1YtUaLE2LFjHzx4UJArbGgkUsLDl9h5mLDoRvxVmyhpRtTrRGz5l2z/++3DkOCOUyiJsChi91GiYReidD2yhnXbExutCXcf0i8RBMkX0CORHECPLKRotVo2m33y5MkpU6ZMmzYtMDBQ8vVqT/kOn8+/c+eOkZFRsWLFQCWrV68OFnvixAkmk5mlbGk0mvj4+CtXrnTt2rV06dLVqlWzsbExtOz+DGDDcCBPnjyBU1qpUiU4wOnTpwv1lrMqaoCQbdpHVG9JlDYnLa1YHaKUOdFxKLHzCMH+3WsVgSkmJBOrdhAt+pLVg7pBDUuZESYtiH9PEfFJBaLFFEH+ANAjkRxAjyy8gPQwGIw3b968fv0aJM/QPbBqtdrFxaV3795ghH+lY2Ji0q1bt6VLl9rb20NN5HJ5pvE3MpkMxHHNmjUWFhZgn/37979w4cK32QoUCQkJ8I7o27fv2LFjT506Jf1mCa6igEBIeAcQ63YTbQaQfqYfjJsR3UcSZ6+RbYG/C5BIDz9i20GyekaNMtew52ji0BkiLpGQ/X/ZWgRB8gh6JJID6JFI7omIiNiyZUvz5s0pj6QoU6aMpaXlwYMHnZyc4uLivm0WffTo0fTp0ytUqGBkZDRhwgQfHx+RSESnFUiYTOahQ4fu3LkDx1sEn49UKInAEPKhw+Z9MisaFYwsiH7jiSt3yFHSv/4XgVZHhEQS+2yIBl2IsvUz1w1CmXpE1+HETQciNuE3VA9B/jDQI5EcQI9Ecg+bzXZwcOjVqxetkOlQ3dwmJiYdO3Y8fvx4cHAwnfsLPB4P7rGWLVtWqlTJwsJi0aJFYWFhdFqBBNxRLBbLZLKiuRJ3Eou4cpt8FLJcg8yKRoVidUhXm7CAHB/969v8VGpi11Gi7UCiRF26OztTgMiq6Y2mT17j8G0E+VkM5ZGqtDTey5fcZ89Enp5amUz3nZ/s8GEs8fbmOzoK3r+XhYVpfmsjhCIhQeLrq2KztXLs7fg/6JFI7pHL5fHx8ZMmTSpTpgxtkV8oUaIEaCKo5LRp0/79919HR0cmk0ltBTYWGhp64sQJUEkjI6PmzZufOXMmPDycSkUKDgolKZEnbIn+E8imvuKmmRVNP5h3JCYvIl59INip9Oa/gJgE4tItos9YonKTzPXRD6XMSZWctJBslQTT1WCrJILkFYN4JHiYyMMjcv78iFmzEg8ckEVEaLJ6wF+n1cpjYxP37o1atCh2/XrOvXuK37SAG7lYm0DAffgwYfduzv378pgYOgFBj/wTkclkEonke8Oof54NGzaYmprS/vgNYIpNmzZdsGDBpUuXXFxcoqKiBAKBUCiEF3PmzKlTpw446IgRI27cuCEWi4tgr3GBRa4gomLJ3uoB6RKZycyyDHXaEUs3Ex9cflGzX3wSce0uMXASOZgmU02yDDVaEVOWEG4+5OxFCILkDYN4pDIpiW1r616tmmuFCoG9e6fZ20MMnaYH6KbAycnbwgKy+bZsGb9rl/SbDq9fA9RE4uMD4utRq1ZQ//7cx4/pBAQ98k8kPj4+IiIC7M1Ai9xcuHChb9++tDZmRbFixYoXL169enXIdvjwYR8fH/BarVb78OHDSZMmQQZInTlzZkhIiBw7BwoMyWyy9a5R19xKJISSZoRxU8L6BBEd/yvGR1+0JwZMJIpn1Zf9vdCoG7F4MxFUoB+jQJACjUE8Uh4Twzx50r1KFQh+bdpELVokDQyk0/SQhYYm29j4WFi4Vazo27x5/M6d0qAgOu3XotNo1Dxe2u3bMWvWsC9flhXsZ7NyhMvlRkVFMRiM4Pzg3bt3R48erV+/fp06dcaMGfP+/XuIDAgI8PT0fP78OSgmYgiePXsGZxjOM3UV8gt3d/d79+4tWrRoypQp+/fvh4sLt0paWlr+CqWHh8fatWspZcyG0qVLm5iYtGrVytLSctWqVXZ2dq9fvz527Fj79u0rVqwI8Rs3bgTfNZDs5i8ajQZU2N/fH9yXjvqDgCuQyCRsbIneY8jhz9l3Z+sHciYgM6LdIHItGdBQw021mZBMXLhJDJtGTkKUqQ7ZhwqNyMkv1+8lPrrRRSEI8kMYxiMjI5OPHweJ9Gnc2L9DB/9Onfhv32q/+QjhvXgROX9+YI8enqamPs2axW3ZIgkIoNN+B/KoKOGnT/Lo6Fw+pqlUKoVCYUpKCvsL8fHx4eHh8N0PwBf2m1zz5MkT+Ha/kU+cPHlyz549W7du3ZIfLF++HPSxatWqlStXbtOmzYoVKyBy06ZNq1evnjFjBiQhhmD69OmgViBS1FXIL1auXDlu3DgzMzNjY+NOnTotWLAAbhUbGxtwOPru+Qnu3r0LdzLcz7dv3168eDFti7kAhNLc3Hzo0KGbN29ev379oEGDatSoATXs2LEjVCymwD9nolarY2Nj7e3t4QyfPXsWPhPgw4FOMzwaLdlrDJYmEtMx+Q6U7x1AzFpJtkRmOXIl+1DanOg/nlxXhmew7mPfIGLiQnKa8Uy7zk0ALe4+kjh3jS4KQZAfwjAeGRGRfOwYeGTw0KEMS0u3SpVS7OxUqV8/a63Vss6cCerbN3LePL/27X2aNIlesULs40OnprcRgnpqZTKtVAq/9CGQ43Xgd3Gm3hGtVqtUQoAkehOpFAI9nYNOB5E6yCCTkSVQhUBmiFSptHK5Tq3OKBBeQwyUAKl0zJdtyRcZ9flSGV5aWkR4uKuLy6cvPHz48OLFi/vSAd8almvg+7JevXpG6VSoUKF8+fLl8pWyZcuWKVMGvq3zQKlSpUqWLFksneLFi8OfdMJPAAWWKALAYebL6cov4B6AOwHuB3gBdaMcDupJReYNuFep+XoA0NP27dsPGTIEjLBt27ZU+bkE7i6oCVSyQYMGgwcPtrCwqFixIpQ5fPhwBweHAv6UpEwme/z4cePGjeFUDBw40NHR8Zct8AifXiIJuX7Mo1cEI5xc6toQgKG+dybGzydK1s0sYbkJJeoSnS2JBy9I2TUQbt5Eb6vcPhaZKYBHNu1FHDhNF4UgyA9hEI+UBgcn/vsveGTM6tWxa9e6VawYt2WL2NOTTobPPpVKkZgYu369X7t2ycePh44f79u6dciYMcJPn6gM5AOL/v6ss2fjNm6MmDEjZMSIsHHj4jZv5ty/Dz5K2uQX5DExrIsXIfCePZOGhLDOn49avBjcVBEXB6lge7LQ0NSbN2PXrQsZOTJsypTYjRtT7e3F3t68Fy/id+4Uuriov3zi89+8gRjYaUb3OhwIZIb9in19wXGTDh+OXrYsbNKk0LFjITL1yRNhYiKPw+F9ISUlJTExMTqd0NBQ71zj6urq5OT0Nh34Qrp27ZqNjc2R/MPa2nrt2rUz8sS4ceP69OlTqVIl+I6Eb/fx48fTCT8BiEKXLl3a/OmAUkyYMIE+5gLAmjVr4E6A+2HhwoVw/imBa9269caNG//991/qVvkhTpw4cfXq1UePHlG37sePH+FOhvv53bt3W7ZsocrPJZUrVwb1nD179tmzZ93d3e3s7KysrMAsq1evvmrVKn9//4K8/CBoroeHx7Rp08Ck69atC+8ROIRfUGGQSJmccHhOTF1CitqWf8lVCg2x4p9aQ3D5xMnLRNcR9AKDPxRa9iNXIyT7tQ3WSstkE3ceEX3H/cCzm1QAM67ShNhzjPBn0EUhCPJDGMQjRW5usRs2uFWuzLSxYdvaepmbh02YkHb7Np2cPt0P79Wr8KlTA7p2Fbx/D24X0L178ODB8JrOIJFAhoh//gEjjJg5M2z8eMbQocFDhoRPnw5SKNdbOU3s5QXZIICzJu7bFz5jBmQLmzwZ/FKVliZydgY1jJg1K8TKCgJsHjl/ftTSpQn79kUtWRLQrRtooiIhgSqKeepUQJcukIf/9i0VI3B0BAEFx43fsQMkMnLBgqhFi+BYAnv2hJxQVNqdO/k+V5FcLk9NTQUTjcg/goOD4Qv+eZ64fv365s2bTU1Na9SoMWjQIPiTTvgJbty4ce7cOXDlPxv4PfDw4UP6mAsALi4uQUFBcD9QnmdiYlK6dGnw3Z07d37+/Jm6VX4IuEvhtxP8WKPv3S/4+PiAm9KGmC3ly5f/+++/4XfFkiVL4Iy9fPkSygQtg99j8Cc4LmQA5d2/f39CQsKv7Cz+UaDCt27d6t27NwgxvFnA18F96TTDoNGQ3cSPXhGzVhA1W5M+1HkYsfcYuUyL3DAG6xtE7D1BNOj8A65WriHxd09i3R5yyLZBZ/yGQ05ikXOPd7HMXIdsQkkzonF3Yt5awsWTXCscQZA8YBCP5L18CWLnVqlS2n//CT58COrXL6Bz54Q9e8j+4vROZFVqKjhf8KBBIaNHq9hs5unTIH8Q/u+RMhnvxQsohH3hAv/1a+HHjyxbWxBBr3r1GEOGcJ8+zeiMFn7+DBsG9e8PJurfsWPImDEx69alXLtGSqSra9ymTZ5160IS6CAUyH/zhn3pUvi0aVAlbwsLj5o1WWfOZFhpwu7dHtWrB/bty330iIrhPn4MYuparpxvq1ah48bFbdvGe/YMUuN37/Zt0cLLzCxk1CgQVrJz/M8Fx2v/kTg5OfXv37969eq1atUaOnSoh4dHPlralStXQA1pVcyK4sWLlytXrmrVqmCxy5cvf/ToEWgivfEXvL29t27dam5uDirZoUOHFy9egLPSaQUPtVotFApXrlxZv379kiVLdurU6eTJk2DYhlvgkS8kXL2JUbPIyWsoKwK9A4tyeE4OOjHQboPDiAnzCbMOuXpKskRdcgrJpVvIZbh/Df4MYvsholJjUhAzVSbLULMV+dAnI4IQG3bleQT5kzG4R0qDg+N37PBv3z5q4UJQRl36d5UiISFsyhTwv7jNm9Vc7rceqdNq1TyePDISNlHz+RqhEF6wLl6EPKCSrHPntDIZpZKkRw4eDFLo36lT9IoVUIIiNlYJWwmFyTY2/m3bQlLS4cMQCQVCUVCOLCwsYvZsL3Pz3Hpk+fJBAwYkHz+uiI8nC+Fy4aDiNm4M6NLFr317joOD8o9WK/TIPxJwslevXvXt27dixYqmpqZHjhxhMPKtYw/8r0GDBrQzZkXlypUHDhyYMWCcy+V+2wssFotBJYcNG2ZiYlKtWjVLS8vnz5/TaQWP9CexNS4uLsuWLStWrJiRkdHEiRPfvn0rEBhqaMnL96RE1m5LDoimrKi4KTn5doch5ByKXD6dLX8RSQifQGLSou+uZKMfqrcgrOYQfsHkVr8GiZT44Er8s4Y03UyVyTLMX0e8ccJ5yBHkpzC4R6pYLN6zZ4E9e4ZYWQmdnNQCgVYqFXt5QUzo+PEpN25oxGLSIwcNCurbN6NDmQY+m5VK8DZQPZG7e9KRI+CR7lWrgvApExOpX9yUR3qamkIS+J8qLQ0itUqlLCICtNKrfv3QceP4b96kF/cFrTbxwAGwwNx7ZNSiRXxHRyoS0IhEnPv3Q62sfP7+GyT1d017+WtAj/wjUalUHA5nz549I0aMAFe7f/9+UlaTvP4oSqUSDHXWrFkVKlSgnVGP0qVLw400atSozZs337p1KzAwEGQxm7nQ+Xy+ra3toEGDoLSaNWvCVgEBAQV5zA2Px7tz50737t2rVKnSvHnzdevWxaU/qJ2/qDXk1NlrdpEtkRkSSQVQybL1Sc+799QgegQfunIFOYvkyFlEie/P/lOyLjnkZeJC4tbDX73wIDuNeP2RGDGTqNY8c630Q/WWhOV04v4zIoX8xkAQJO8YxCO5T56AfrlVrAgeqZXJFHFxIaNGBfbunXzsGPifIjEx9fZt35Yto5YsEXt7axUK8Migfv382rbl6bU3wIbK5GSJnx//9euUq1dB8qBM/86d3SpXjl27VhoQQPaS63lkxKxZ4KxUeye4KWwVNmkS6XmHDmX2PJ0OKgYWm3uPTDp4UKa3Shs5DMjbO3LePK8GDWI3bNAfQvTngR75p6LVat3c3Ozt7a9cucJisejYn4PL5X748GHgwIG0OaZTLH19bRDB9u3bL1u27PHjx6mpqbnRQbVaDVa6f//+Ro0alSpVqmfPnkePHgX9LcirWoeFhUElO3Xq1LRp06lTp0ZERNAJ+QRoWXQcsWk/0WZgZjfKCLXakCNvfIMIgZDeKn9hpRJX75Jtflk+KFmsDtksOmACLZHf/5lgKODuOHKO6D6KXPwwy/73io3JETl3n5CTYiII8pMYxCNB+8Dt3IyMQNfILyuZLHrp0oCuXcPGj5cyGCJX19j16/07dEg+cYLqngaPhFT3qlXT7t6liyAIib8/iF1Q376QEyyTMXIkmKh348agp1l6ZNTChRmT+Kj5fLadXfDQoWCrabduZYykoUGP/BHQI/9gpFIpn8/n8Xj5ZWagTRs3bmzWrBmtkOmULFmSapxzdnaOj48XCoWwu9wsyQh5IKe7u/uWLVuqVq1avnz5fv36vX//Pi2926FgolAokpKSrK2tT5w4ERIS8u0gpJ/EL4gcttK8T3aDXUqaEfU6EZMXk8O3DQHcLMFh5JOIzXpn3jWEMvWIln1pSzPo2JrvAXdWfDJx+CzZ6Z/l6HKQSJtLBIdHqP7kJ9sR5BdhEI9knTsX1L+/t4UFeBj8CV8FYIqM4cP92rUTubqm3bnDGDEidMwYzv37VH72lStBAwaQ3nnnDvm3TgdmlmhtHdirF6hn3JYtKXZ2kASex7C0BN3M2iMXLya3TUfN47EuXAgeNMivdWvYS+bnF9EjfwT0SCT3eHp69unTp1q1apRBGhkZtWnTZt68edRsPiKRKA+90hwO582bN0OHDq1Ro0bt2rWnTZv24cOHgjx2G9zX19c3NDQUKpkbXc49rt6kvbXoSxhZZHajTKFcA7K9cNtBQ6mkQEQ+KLloI7muYMZOi9UhJbK3FXH4HBGTYMBZfnJEpSK7/kG4G3X9quvfqBG5uM6hs+Rcm7/FcRHkz8MgHsk8dSpo4MDAHj3oBxO1WsGHD1ELF4LtkTpobe3Xtm3c5s0iN3ohqrS7d0PHjiX7wdM9EgQx+dgxMEswUSgqY5VCwcePUUuXetSokbNHCgSp9vZgrr7Nm7MvX84wRRqtNvXmzRArK/TI3IAeieQSiUTy5MmTWrVqlSxZsmzZsnXq1AGn3LZtm6ur608ON2EymSdOnOjduzc157m1tXVkZCSdVjSQSMnJxrceIDUow4pyDB2GkjMjJjINNROQw3NiyhJyacES6fOTlzYnp4rcZ0POPaQ3ye/vAUzXy5+YtJCo05Y+G2Xrkw2oWw+SPf4IguQXhvJIcvx1xnyQOp0yKSnx3389TEyiV64EZfRp0gTcMaOZkJziZ84cclwO5ZFqdeScOX6tWoWMGSP29c2YVSf3HqmVyUTu7uSg7Pr1o1esyBBWGq2WefYsmC56ZG5Aj0RyCYPB2L9/f/ny5f/6668GDRosWrTozZs3bDZbqVT+5PQ3KpWKxWJRw8BBUnv06AFaSacVDYLDiNW7yO7sUua0FeUmQOYulsTxi6TYGQIun7hxn6wV1T5atRnZmwxVhc/mX/9YZCa0OnIZnrtPiNGz6bNRrxM5lLsgOC6C/EkY0iP15vEBsUu5dg30MbBnT/9OnYL69xd7eZEPR6ZDju+eO5dcPvH6dWqFw4jp070bNQoeNEhCzeWr04G6sa9cCezTx71KlRw9EpJUaWkJe/f6Nm8e2L07+9IlclXG9A82jVgsCw0FbQXFRI/MDeiRRY34+Hg/Pz+BQPCjD00+evRoypQplStXHjJkyIEDB9zc3FJTU/Plycv0mRuU7969W7p0admyZU1MTMaMGfP27Vson87xR+MXTK7a16w3OUCEUqLcB3C7biMJ+wcGGVMC1zY0kjhtR7aStu5PrNhGePoZcJnvHwW+IhKSiBO2RJfhRMOuxMINhONnQzXNIkiRxSAemXjwYKb1aQD+mzchI0d6N2zo17Zt9NKl+mNfMjySeeaMisPRqdUxK1f6tmjh26oVmKUkIEAaEsJ3dARjg20hW44eScF9+DBs4kSfxo0j586FcoSfPomcnXnPn5Pd7gMGgESiR+YG9MiiA7haVFTUtWvXdu/e/erVq9xfa2pAzKlTp4YOHTpixIiLFy+G671f8gsOh/Pw4cOOHTtWqVKlfv36CxYscHV1zfeBLIZAo4EfsOKkpCR4N+XhCdEPLsTSzeSQkeK5mP07U4BNKjUmXSoqli4tfwEtS0gmtv5LPrj5yZ0Q5vPyXvmAdwD5QOSK7cST1+RcSL+9oRRB/jAM4pExq1aB2AUNGqTvkdKgoMT9+32aNg0eMiTl2jU1l0sn6Hlkwq5dspAQEET2pUsMS0u3ypUDevaMXLAgbvPmgB49GMOGhY4d616tWi49UslkchwcYEOPWrU8a9cO6NYtsEePgM6dwVAZQ4f+0PyR6JHokUWBtLS0w4cPd+vWjZr3+8WLF3RCToAbCYXCPXv2zJgxIzAwEF7n7/gSCigzPj7+5MmToJLFihUrWbKkjY3NtwvhFEDkcnlISMjNmzevXr2aB/GNTyLb/Ko2yzxbZG5CaXPyAcGnbww4jyNcaoGInGy8YI5cgeopVeQakiCRCILkOwbxyBQ7O7C6pCNHZKGhdBRBqNhswbt3MWvXQrzEz08r/f9qpvAn69y5iFmzyIcmExPhfS+PjeXcuxe9bFmIlVXY1Kkx69aByaXeuJFqbx85fz5YJlidLv1DC3aRuHdv1MKFbFtbqrQMwPYUiYnc58+TDh2KWbEiaunSuI0bk48dA7kEo2UMHw4eyb58GfJQ+dPu3YucOzdh584MLxR7eTFPnQqfPh3MEqyUigR0KhXYJ9QZyoRayaOi6IQ/EfTIooNEInn37t2ECRNKlSpVq1attWvXuru756ZjmvJILy+vT58+wYt86cvOEqlUGhUVtWbNmsaNG//111+DBw+2tbWFyDw08v0y4Kx6e3tPmzatc+fO48aNg1PK5//YajOggN4BxLYDRNNemTUx+1CmHjmN4hk7Iiae7OQ1HGqNYcv/SUAl4ZbERWsQxBAYxCMlAQG8V6/E3t5qHo+OSrc6UDFQSZAziKdaEylAMSEz9/FjaUiIRkT3i6hYLMH796yzZ5NPngR9lPj4KOLjFbGxvBcvILMqJYX8bIDPr7Q04efPvOfPQUapDfUB19TCz/+wMCgKyhc4OkqDgjQSCbla94gRXubmnIcP1V8+02Hv3GfPhE5OGQOAoMLglJxHj0BbNeL/P/UDlYetxD4+vJcvpYGB+of554EeWXQA/4Pra21tbWFhASrZrVu3gwcPcrncHL2Qep+Bz8nlckO0RGbi2bNns2bNKl26dM2aNcHPnJycftTMfiVwWtzc3Pr371+1alV4E23atAmE+0dVmy8kVXL2qtyu+EeFTkOJvcfJfmd8KBBBEANhEI8sKMD3mVZL/qv/xZb+xH7ivn2BvXv7tWol9vCg45HvgB5Z1Pj48eOSJUuMjY3Lly8/cOBAX19fodAw66LkFTCze/fugUSWKVOmUaNGCxYsCA4O/skh4QaFyWQeOHCgU6dOYOeVKlU6c+ZM3sT3/nNi4gJykp0sl2nRD8VNycZI6xNEWNGaHwlBkF/Nn+yRah5PERenYrH0+9BVKSn8169DRo7079w5atGijMkpke+BHlnU4HK5r1+/7t+/f40aNerWrTtt2jRXV1c6rWCg0WjCw8OPHz/esmVLkN3GjRvb2trGxMTQyQUPmUwWFBS0cuVKOJ+lS5ceOXLkjRs38tBwy04lrt8jRx9XbpJZHDOFhl3JBbhdvciJJxEEQQzHn+yR0qCg1Bs3kg4dYp0/n/bff9zHj9Pu3k0+fjxyzpzA7t3Dp07lPHxIzgeEZAt6ZBGEmve7R48eRkZGpqamly5dArmk0woGYrEYVHLRokUNGjQoU6bM2LFjb9++DZEFs1USaiWXyx0cHCZNmlS2bFkzMzN4K4WEhIi+PMaTe8IiycWj2w7Kbl3E+p3JHnAXT4L7Jz9xgyBIgeBP9kjBhw/k/EHNm0MI6N6dMWIE2ZfdurVXgwahY8eyL1/WiMX6j2kiWYIeWQRRKpVwodesWQPGU7169f379xtiHp+fh5qxsnTp0uC7cHMGBQUV5GmAWCzWzZs3wctLlSrVunXrM2fO5KENVaUiWKnEvHWEeccsereLmxLlGxJTlxAPXhbQ0dMIgvxh/MkeqREIZKGhnAcPko8fj9u6NXbTpoQ9e1jnzvGePZP4+6vYbFIiDT8moLCDHlkESX+KWPn27VsbG5tz584FBAQUTD/jcrmXLl2ysLAAj2zSpMmSJUvi4uLotIIHnNLAwMCVK1dCVUHQZ8+e7e3tTaflGvjEUiiIj67krNrkgoSmX3lk1ebE0GnE3acEB1siEQT5JfzR42zgM1elUqWmShkMoYuL4MMHsYeHLDxczedDPJ0DyQn0yCILi8UKCwuLjo4W601WUNDw9/fftm0b3J+VK1du06bNjRs3CrJK8vl8JycnqPCyZcugqnmb/BJUkssn7jwmhk8njJv+XyKrtyQGTyZuOBCxhlkFEUEQ5Fv+cI9Efp7/sXcWYFF0bQOW7m4QXjBeFbu7XkVUDBQUsf1Exe4Wu7sTOz8Tu0BFEenujiWW3O74n2Xn5efDWANhhee+zqXLnDNnz8zOzN57Ej0SkWeYTCbI7oQJE8zNzXV1dcePH//gwQMWi1UL0w/9NAkJCdHR0b9YwvQs8fkbko6SGnaSBm61v8T9xogPnBHTcWANgiC1CHokIgP0SESeEQqFDAbDx8dn3LhxioqKenp6ixYtio2N5XDkd8pEKBub/auLq3B5knrHFVvFrQdIJLJpT/Ge45KVb7DLN4IgtQl6JCID9EhEzgGVhKv0yJEjbdu21dTU7NChg5eXF4lE+n3L6sgJbI44MEy8ZqfY0V2yhHRYtEQu60ePb/gVkF+IKxkiyB8AeiQiA/RIpBKBQFBWVpaens5gMORthp1Pnz4tW7bMzs5OW1u7Y8eOjx8/LiwsJOLqNQEh4jPXxKQCiUTWD2h0cVyS+PIdcXiMZF1sBEHkGfRIRAbokUglTCbTz89vzZo1MTExv94yW7PQ6fTQ0NCRI0eampoaGRmNHTv25cuXRFy9hsOVTDZenyafCI0Ue+0Rm7YVz1sr9n1PbEQQRD5Bj0RkgB6JSBEKhT4+PrNnz27Xrt3q1avfv5evb3iBQFBcXHz16lVHR0dVVdXGjRuD74aHh8t/6zaUEMr5/Pnz169fUygNuv6NRheHRIpXbhO3/UcyF2bz3uK5a8SfwsTlWCuJIPKKDI8UwROuvJxPoVRdWrAaQjabX1YmoFKFXC6xqR4h4nL5paW0oCDax4/sjAyhHM9y/JtAj0SkgEdeuHABLE1ZWblNmzbbt2+Ha4MrT3c9PK6gSFu3brWzs1NRUenVq9eePXvIZDJPjuf5grJBCffu3Ttjxox58+aFhYXJ8yxLvxUKTSKR63dLJLJyMqOWfcXrdoojYiWdQREEkUNkeKSARqMHBdHDwtiZmV9bHoGbmwuOJZnZuz6uMcgvKaH6+8cNGRLTt2/eoUOcn5rv7Y8GPRKRIhKJUlNTN2zY0KhRIwUFhUGDBl2+fLmkpISIlg+gkAEBAUuXLjUwMFBUVOzevTv8WVYmv7NyQ9k+fvzYo0cPJSUlMzOzgwcPJiYmEnENjPAY8ca9YsNW/7NOj9pfYov24nPXxbn5RDIEQeQKGR7JSkxMdndP/c9/Cr29vzZ3d/Ht2wmjRqUvWkTx8yM21SP4xcXUd+9iBw6M7tGDdOAAJzubiGgwoEcilTAYjOfPn0+YMMHU1NTKysrFxSUsLIz59caKOgHU9tWrV8OGDQMts7S0nDZt2tu3b+V2GiAul5ufn79y5Up7e3t1dXUQynPnzsn5/Jc1DostjkkQr9sltu8nVrH+f4mEoGglWUm89yjxoTOSRXp49XwIPoL8ecjwSHpISJidXUS7dlnr1n2t2Trv4MEgQ8OYvn2Lb94kNtUj0CPRI5GqwPVw+/btPn36GBgY2Nra7tq1KyYmhoiTGwoLC0+ePNmvXz9tbW0bG5utW7fKYSEr4fF4z549mzFjhr6+PhQYxDcgIEDe7Pz3weaIUzPFe06Iuzv9j0FWDWq24qHu4tuPxPlknCATQeQL9EgZoEeiRyLVoFKpy5Yta9GihZqaGvx75swZeas8EwgEUMiVK1eC7CooKPTq1evQoUOwUT4r+aBUDAbj0qVLHTp00NLSgntt/vz5cN/J28xKvwP4QEgFkgXBpbOpV9PHqsHIXjxgrPhtoJjOIPaVB0BquTzJkPmGVH2MIP8DeqQM0CPRI5FqcLncjx8/zpkzR0dHx9TUdNu2bSUlJWBpRLQcAGbG5/PfvHkDQqaurg426ezsDGUuLS0lUsgZcPbi4+OPHDliZ2cHKtmxY0ew85SUFCK6ngKXDClffPyiuNdIse7fkibsau5YNajYSBYQH/Mf8b2nxO51DhhkcISk/Bv3SWZNR5CGSQ17pOThXVbGSk5mxsZySaRqo5tFAgE3P5+ZkMCIjZWM72YyeUVFjKgoTk6OgEaDAFGUd+9KHz8u9/VlREdDVpAhsXMVBBQKOzWV6u9f9vx5+evX9PBwbkGBsMpsdrAX5MxKSoIMRVwuj0yGd4GUUDDJ0HIaDaIgB+mbsjMyqB8+lD17Vv7yJS0oqFpWX/ZI+Jri8XiFhcy4OMm+L17A7pS3b9lpaZBhxX4ViERwjLALHAuvuJhfUsLJzIRTCiWBXagfP8LZ+OIBQuacrCx6cDAUSVKqT58gZziZorqon0CPRKoBlz+VSoWrYtKkSXPnzr1//z6FQpHDyrOioiIfH59+/foZGxs3bdp04cKFQUFB8jbtZSV0Oj0yMtLNzc3KysrCwmL9+vXh4eFEXH2EzZGs4njqsnjoREkPyKpja74WlKwkk0p6rhYHRYiZdT1zRjlVMjBo7U5x/7HiLo7iq3fFWblEFII0KGrYI8F1mImJhefP5+7ZU/bkCfd/nQP8DKwo78gR0v79YG9gbOBtOVu3ljx4AN5JDw3NP3o0dfbs+BEjktzdc7Zto/j7gw5WNS0wUQGDASkLz51Lmzs3cfz45MmTszZsgPeCDCUpK1oXwN7AvQpOn847fBjKQHn9Gt4lacKEomvXmPHx4GT5J08WenuzwGjDw4uuXk1ftCjRxSVx3LiMpUtLHz2SZPXvwX7RI6EYvJISyps3eQcOpC9cCKVNGDs2edq0grNnQVgl+1Z8p4L2wbuX+vjAsYBuUt+/L7p+PXvDhuQpUxLHjk3z9IQoySn63y9gOEvwLpAya/XqZHd3CJnLl0tKm5QE8i09wNoEPRL5InAlhIWFkclkeV7JOicn59ixY927d1dXV9fV1T169GhWVhYRJ3/QaLSrV6+6uLi0a9du9+7d8tyn8xeBZx5I5J3HEgMDiazmi98O9v3FSzeJUzLqcv0eDleyCuW2g2LbbpIi6TQXD58svvVQYrfYwI00NGraI+ErJSsrY8mS6O7d0+fNo4eFEYkq4JeXZyxeDE6W5OYGMie1paguXVLnzMn28oru3Ru2p82bByGmT5+Itm1j+vcnX74MVkfsLxbziouL//vflKlTY/r1S5k5E7Qv1cMjuk+f2AEDsjduhJTSGlA+hQLKCOIY07s3qGTypEmRnTrFDR1KvnSJERFBCwxMcnVNcHaGqISRIyGAkqbPnx8/bFhE69aQMnfHDkZMDMiiJKsveSR4KmzMWrs23skpfcGCzJUrQX+je/aUHIuHB7yFoGIyYfBaVnx89qZNke3bpy9enDJlSryjIzgrvF3C6NFhzZpBnqCVAjq9qitT3r5NmzMHjghcM2PRIggJI0bA6YWjKH/9umpdae2AHol8ES6XS6fTeTyePHfjgwdSfn7+ggULrKyslJSUevfufeLECSJO/oCfyeDloaGhr169At9lMOSpJ2DNAaZVWia+eEvc2VGsJ6s5+/Og2USikjuOiKPiiAxrGbjegyMkNZF/dSUkWKmx2KCVeOI88YPnkrWFEKRB8V0eGWprC05TdPUqmOLnAazu/9u14UFIoYDSgTlFduxYcu9e5QTmYHisxMT4oUNBMTOWL+fm5nIyMwvPnQtt3DiyXTtJ/dycOfknT5Y+elT27FneoUOJLi4hZmYgfJCJNAfImfrhQ/LEifHDh6fOmlV8+3b5y5cld+/m7twJWglKV3D6tLQGlF9WVnDmTJyDQ4iFBRgbSB7oWqG3Nz08nJ2aCqIGlhbWpEn8iBEpM2bk7t5d4uNT9vRp4dmzYHih1tZxgwZBAaTG9mWP5HAY0dFQgIKKAoPeQQ6kvXtBf6O7dcvdtYtV0bEJ7JARFQVWHaSvD0edMn06pCn18YFd8k+cSBwzJvzvv0FeqQEB/IpJ+CA9MzY2e8sWcNnUmTPzjx0re/4cAhQmefJkSJyzdSu8L6SsTdAjkT+dhw8fTp48WV1d3djYeMKECYGBgfK8bAybzaZSqfV4kI3EI8vFR70l/R1VbP7HEb8zmLYVr9khmbS89qFQJZOiw7t3GlK9VE17iKcvEb8PksxPhCANh+/ySNDE8ObNQcviHB0/DxH29pUeKd2r6Pr1hBEjPuno5O3fXzlxN7egAPwpqnPnhFGjQA355eWVHgmaBWoIyiVpt60ApLPo2jXIOdTKKnvdOgGDIRIKWQkJeQcPguelenhQ/PykdXjwL2SVvnAheB54IWQCT6lKjwwyMorq0gUMUiJqFe0NvOJiqUd+0tUNa9YMXLBy+nQhl0sPDQWJDPvrLyikpPMij/fl/pFCoYDJ/P8KWpEIpJNHJqd5eoa3aAFSC74r2fyvR8KpAG2FwsNe0lZsXkFB8a1bsf/8A7Yt8c7kZNgIRw1+CacCxLr0yRPevzM8Q85FN2/CgSeMGUO+ckW6sdZAj0T+dMrKyuAatre319HRadmy5fLly2NiYuRqJZ6GBpMtvukjmehHr8V39YysGtRtxa36iU9eEienE7nVGjyeODpevPWg+O8+1UslDY07iVdvF38Kr8s2dwSpZX6LR8JeWevWfdLTS5s3D6SN2BgenrVmTVjz5mmzZ7NTUyUt4JX1ke3bZ61dCxL5/+NIhEJ6WFjW6tXhf/+dPGUK7dMnUMlSH5+k8eND//or/9gxAZ0u9UL4F2wP9AtKAl5IefMGcq70SCh85sqVtKAgaSM1UOmRIHZJbm6MyEipj0oQibgkUt6hQyCC0T17gsmB+37ZIwEo6r8dYeAdISUcdfq8eeEtW4K8lj17BtsrPTLYxARKXvr4sVQipbtwSKTkiROldb204GDYKKDRUqZOldZcspKSKssM+dACA+EMx/Tpk+3lJd1Ya6BHIn86AoEgNTX11KlT7du3V1NTs7GxOXfunDx3lKz3wIMwM1d8/b64k4OM6X4+Dy37ihduECelSTop1jKkAvHJy2Kzdl8ts4q1pJJ151FJ78/KbzMEqd98l0dCSHRxKbpxo/j27c8DSE81j+QVFRXdvAl7xQ8dWnDypHRj2fPn8cOGSWxszx5Jj0ChsNIj4wYPzj95snJoixR2Rgb5wgVQzHgnp+JbtyRqeOoU/BlqZZXq4VHo7f3/4dy51JkzIzt1CrGwgELyyORKj4xo1arwzBl2WhqRaRWPjOzQAeSVnf4/P2lhx7KnTxNGj45s1y7vyBFWSspXPRJKmJ4OagjJsjduTF+0KGXatOhu3YLNzAI1NSXKWNUjzc3TPD0rlVqCEI6fk/Kf/4RYW4MB0z5+lLT7JydL3LdZMzhRpL17qx6jpKtAu3ZwSuHYiRxqC/RI5DspLi4OCgo6duxYdHS0vNX20en0lJQUT09PW1tbVVXVoUOHXrlyhc1mN4Q5GuUTFlsy/fj63eKODtVt7GtBxUbSM3LZZvH74NruhgjOmk8WH78gdnCrXqrPQ19n8d4TkuHbcIwIUu+p4XE2xKaKHcEOozp1AosSMpkQyJcuhbdokeTmVtnfsdIjE8aMKbp+vdq6i5Xt4OBwYJngprk7dwabmoJHwnsljhv3/8HVNRbeq3NnUMmiK1dA9So9Etyr5O7dqsPGKz0yumdPiRf+73rZILj0oKCkCRPCW7XK8vJixMR80SMl8/Lk5pIvXwaHhneJ6d8/pl8/SAMHGGRk9LlHguCmL1xIff++4k3+H5DCSo/kl5RQ/P2je/UKsbSM6tIlYdSoqscYP2IEHCCUKm3uXGLn2gI9EvlOQCI3bdrUunXr/fv3J1d01ZA3bt265erqqqWlpa2tPX36dPBdOV82RiSS9DmHmw4kODMzs56NvOFwxB9DxPPWSOYYV2pc3caqBWVrSbfIuWvEfgHE7rUGfPVlZEsa4v9x/a7R5Wp/ibsNF1++LdkLf6cg9Z7f5ZHs1NTsLVskPuTszIyPh5CzY0eIuXn2+vX0ijZc4Ec9MmfLliB9/bBmzZImTszetKlqAOfLWr8e3pEWGMgvLf3dHgnOR9q/P3bQoIjWrbM3bCh7+ZKdlcUjk7M3b47s0OHnPJJXWFj+/Hl09+5hTZuCNWasWPE/x7hxIxwgfArkq1eJnWsL9EjkOzl06FC7du3U1NS6dOmye/duYqs8UVJScuHChVatWoFH2tvbL1u2LLtKC4McAhJJpVJPnTrl6em5YcOG+Ph4IqJeIBJJFO3eU/GIqZJ5yKuq2OfBsJWknu/1ezGlyhS9tUNeofjKHXGLPmLtZt/VmxPS6DYXt/1HfPdJ3c9ziSC/m9/lkZLatTdv4oYOje7Vq+DsWQjgTGBIJffugclJ03zbI9lpaeCCEW3bVo7LIe3dG2pjE96iRe7u3fSIiM8DIzoadLNq/8gf9Uhw0NIHDxJGjAAdLDh1CsrwuUcK2WxmbCz4cUyfPqmzZlEDAsAgQRlhd9K+fSC+P1kfWV5O+/RJMuFRmzZpnp5lL15UOzppqNYQXwugRyLfydu3bxcuXKivr29sbDxq1ChfX9/if292OYHP50dHR+/atatZs2a6urqdO3cGrUyv9Xvq+2EwGOCOs2bNggK3adPm7Nmz9a9bZ06eZObFfmMkplhNyKQBtMykjdjFQzLfZH6hZBWcWoPLk0iktDlbs8kPTFGk1FgineNmia/dk7RuC7BWEqm//C6PlKwiU1SUNnt2VJcuKdOmQYgfMQLsDbyKSFHFI8HS8o4cETAYVdsA4K3BwML//jtlxgx6WJiQySy8cCG6d2+Q0YKTJyXLxvw7zOVzvscjISpz5UrJcJYqb8olkUi7d8f07g0+V/7qlaSr5WceCa5J8fWF3SGTvMOHwf8ke1YsxJazZUuEvf3PeSToKWgrSLNk0p9Zs1ipqVULVoegRyLfCVjjw4cP+/bta2Rk1LRp0wULFgQHB8vb+jE0Gg1Ucvz48WZmZjo6Oi4uLnfv3gVdk8+OkpUeaWpq2qhRowkTJty/fx9sGJ43RIp6QWGxeNcxyfBt5c9atxUtJc3Eg93EZ69J6vZqWcjKKOIX78TOM354snRpMG0r/s9SiShjR0mkHvO7PFKCSASaFTdkSLi9PQRQsYylS6sOean0SHCplOnTuYWFVaskSx8+lDTy/vUXvDWfShUJBJQ3b9Lmzg02MwP/Y8bGVg5n/pzv8chgU9Ponj0p/v5VZ/YGrUx0dgZ5TRg9mpObC4f8uUeCaxb/97/gi1U9EpQRCikpnrHxz3kk/Cmg0zNWrIjq1Cm6a1daUJBQPpYJQY9EvhOQm6ysrCNHjnTu3FlVVRXU5/Tp0zn/W+UvD4Da3rp1a9SoUWBmSkpK8+bNS05OlttpgEBwr1+/PmLECAUFBV1dXQ8PDwqFAs8bIrpeAM/y0nLxym1faDiWLqt98lLdrDqYmSNeuV1sP+B/ivT9AY5loIv4/SfJvOsIUl/5nR4pFpe/fJnm6RlkbAwhYcyY0idPpBNuS6n0yGATk6iuXTOWLSu5d48eFkYPDS04ezZ50qRQW9uUqVNBKEHI4DtKInC3b4P8gcClzZlDvnSJGhDASkiAQPX3p/j60gIDpTNQfo9HBhkYhDdrljJjRuH585I3DQsrvnVLUgPavHnCiBGSKk86HR7hX2jXZrEY4eExvXqBbia6uEDxwPnKnj3LWr8+fuhQOF0/7ZEiLldyxmbPDmvSJHny5PyjRyl+fsyYGDhA+CDg9MK/vH9nu6w10COR74fJZKampoKZ2djYqKmpDRs27PLly0Sc3ABmBnYLvtuuXTtNTU2w3i1btsB1zvvfrjXyQ3Z29tmzZ5s0aQIe2aVLl/3792dmZhJx9QKRSMzji98Fihd5SdYYrPQwtb/EPZzER7zFcUl109GQwRRHxolnr5TM9fM9PSOrhW7DxTuOiotKJN1AEaS+IsMjGZGRUV26gHXl7txZbV6eSgpOnw5v0ULSi/HBA2LTv7AzMkj79oFXBZubpy9YwCGRqtaxVXpkeMuWcYMGJY4Zk7F0afbGjZmrVsHr2H/+gTyLrl/n/LsuoojHY6el5e7YkTR+PDhiUsXC07nbtkHZsr284I1K79+Xdr7kl5eTr1xJHDcOSi5Z5rugQJoDUOmRodbWsf37SxZFnDMnZ8uWrLVrQd3gTWMHDcrbvx/sTVrfyS8tBclLHDs2ftgwkEtwWUkmZDIUEjKJ7tYtbdas7A0boNgghWC9kCz0r79AK2F38EhmXBzERrRtCyJO+/Spogj/D6hzZIcOSW5uIIiSv4VCXmEh+GLyxImxgweDpIJ9Qs65u3bBYcIJBI1m1/r3B3ok8qPcvXt3/PjxqqqqLVq0AEUDP5PDdtjQ0NDVq1eD7xoaGvbt2/f27dtyWHVaSXR09Ny5c+3s7IyMjKC09+7dI5PJRFx9oYwifuUvHjJB0hws9bD2g8QbdkvmYqzbduF7TyU9HX+of6SGndiuu2RWo0/hRCYIUl+R4ZGs5OSUadPSPD3JFy9WGwdTScm9e4murhnLl1PevSM2VSIUgvoEamlF9+iRf+wYsfFfqo6zydmxI3f37oTRo8P//luyCE3HjqBQ5a9f88v+pz1AMgcGjVb65AkYJwhuSOPGwaamYXZ2oHQgdpXpIU3Z06dZa9ZAySXjYKpUglZ6ZHTPnjnbt4OipUyfHtG6dbCZGegsGCpoHBSMSA1ZUamMmBjIPGPx4pK7d8EgYSMoNSs1Ne/QIfDOEAsL2D1lypSS+/dL7twh7dkD+iuZDp3FgtKCSYNng/IWnDgBbirNsxLpgoegmMwqwzCh8JAS1DZuyBCQXTgbYU2aRPfunezuXnTjBqfWe9mjRyI/CpPJhGvG3Ny8R48eu3fvplKpctgOy+Fw4uLi+vfvr6WlZWBgMGbMmGfPnsntdJJwDkElHR0dlZWV1dXV58+f/+7z5+2fT1GJZDDNoPGSWX5UbSRrw4TV9kKwXwAs9onv/6+mLTMoWIptuog9VoiD62LlRgSpZWR4pIDBYERHM2Njubm5kraHL8ErKGBERLASE/mlpcSmf4EdczZv/qSjk7lihbTptipVPbLQ2xuclR4WRvH3Bx0E+QO1AuerLq8Vw1l4RUXMhATqx4+gaxRfX/BCWlAQKympMr00DWxhxsWBWVbNpKpHkvbtgx3hAKnv30M+VH9/OBBufj4oIJG6IisQO0lWCQlwpESlbMW6iOzMTFpwMMXPD3ZnREXxCgu5BQXs9HQ4Cn5JiaQ6UyQSMpmc7GxGZCT8Kxkb9L9ADrAjHLikDf1fpO/ITk2lh4TAAcLZAEGnffoEmXDz8qqWrXZAj0R+FPi5l5mZeePGjbdv36anp8vnuBBQxtLS0qtXr4KcqaiomJmZrV+/HsxSPrseQqloNNrx48eHDx8Od+KePXtiY2OJuHoElycuIEvG3LjOEi/bJGnprv1Zfj5HIJT0zrxwU9JOXU0ZvxisOoonzReHx0gW40aQeo8Mj/xpQN1AKwtOnUocOza8RYui69elNXlVqeqRn8/785v4H4/8bN4f5HPQI5GfgMvllpSUyPka1jweLysra9euXfb29mpqav369Tt06FBRUZHcdpSMiYm5fv365s2b/f3961+7diVBEZKm5I+h4pLqVRN1BpsjWRRx1TbJLJLVrLFqULaWzF7k5imZyUheLyIEqWF+i0cKORxuXh7F3z/RxSWybdukiRMZERFEXBXQI/8I0COR+s3Hjx+XLVtmamqqqakJKvn+/fvSz5pWEATwC5AsqKPR5Mur7yhYivX+FvcZLZFIButrDXgIUt/4LR5JCwzM2bEjbtAgyYhmZ2eqv//nTd4AeuQfAXokUr+hUqnv3r3r27evoaGhubm5s7Pz26pL4SPIv5RTxY9fS1bfqRwJVDWo/SXu7Ch+9EoydTlOPI40HH6LRxbfvp08ZUpkx44pU6aQL17kl5d/0RG5+fmljx8njh2btW5d+atXolrpliSgUBgREekLF6bNmVN869bnre1INdAjkXpPYWHh0aNHQSW1tbVBJbdt21bPViD8NqR88fsg8YVb4uR0yfw7yDfIJomv3BUPcJGsfFhpkAqWYtW/xL1HSXp2FhaJ+bW44g6C1Dm/yyPTFyxInTWr7MWLagOuqyKgUpnx8eRLl8qePWMlJ9fO8i1CNptLIpU8eFBy9y4jMrLqABfki6BHIjUCi8UCXUtLSysqKpK3kTc8Hq+goGD9+vVwkSspKQ0aNOjkyZNMJlNQMfmXnANnEsoJ/MQpBeOh0sQPnovnrRHb9xefuSrxJOQbgGeXUcQb9kjmJFK0IiaVBIls3ku844hk3vL6NUM8gsjmt3gkr7CQlZrKyc0V0GiSYctfAcQRrA5EE5LV3totQqGIxxNQKHwKRTI1j7xO8yE/oEciNUJERMTOnTsdHBwOHjxIJpPlStEq5oHgv3//funSpRoaGtra2iNGjAgODi77+s9g+YHD4VAr+IlRTSVl4ievJUtXG9lLJrXpNly8/xQRhXwRcHWQ7/hkycSW2s2IjpLm7cR7jouj4iTjzbFbJNLQ+C0eCY/k2unsiNQC6JFIjfD48ePhw4ebmJjAv5cvX6Z9Ng1WnVNUVOTj49OvXz8jIyMbG5sZM2YEBQXJ7dhtAFxcWuZNmzZ5e3v/aFt8YZFkWsRxs8XWnYn2Wb2/xU5TJNWThZL1HJCvwmCKX74TT14gWeemRR/J4JuQSEnNLoI0QH6LRyL1CfRIpEZ49OjR0KFDDQ0Nraysxo8fHxMTw2AwiDi5ITMzc/fu3d27d9fS0tLW1j58+LA8r0DI5XITEhIWL15sZmb2zz//XLt2jUqlfk/rtlAomVv79Xvx/HViraaEREqDVSexyyzJujJlFCIx8kXyyeKnvuKxM8ULN4jffhTT5O5aRpBaAj0SkQF6JFIjwIV069Yt6ZLWTZs2BV2Tw5m0ORwOiURasmSJjY2NgoLCwIEDz549S8TJH1Da8PBwDw8PJSUldXV1T0/PT58+fU/rNpsjGVKzdJOkOq3aWn9KjcW6f4s9V0ssE/kGAoGkVjI+WdInksPB5myk4YIeicgAPRKpEVgsVlJS0sqVK9u2baulpdW5c2dQtKKiIrlaihAKAx72/PlzuNQbNWpkamo6ceLEd+/eyWdHSWm79qlTp7p3766hodGmTZvVq1eTyeRvL8lDpYtDo8VLNorb/SNWsRYrVJFIaQCzbN5bkiAsSkzHaravA+7IZIk5cj3XPoL8dtAjERmgRyI1BYPB8PPzmzFjhqGhoZKS0uTJk1+9eiWHHRBBzq5du9aqVSsdHR248hctWhQREcFms4loOSM8PHzLli12dnba2tpdu3Z98ODB125S8B4GUxwYJt58QLJatIpNdYOsGjoMFm/aJ05MRU9CEORboEciMkCPRGoQgUBw9erVfv36aWho2NjYzJ07Vw57SYpEopSUlH379rVu3VpBQUFfX9/b21tur3yhUJiUlOTk5GRiYgJF7d+//7Nnz4i4/wWMPSVDsrifYasvr8hSNShaiS07iG88kCx4jSAI8jXQIxEZoEciNUtqaurJkydBIvv27bt//375rOej0+kgZ56ennZ2dqqqqiNHjrx27RqLxZKrVvhKSktLb968CSqpo6MDNrlx48bY2NhqA25odHFUvHiRl7jtwIrm7IqJD78dNOzEA13EJy9JFmjB+ckRBPki6JGIDNAjkZqFx+MlJiYuX74cJNLf31+eJ9a5e/eum5ubmpqahYWFh4dHYGAg+CURJ0/AOSSRSDt37uzSpQsI+oYNGyIjIys9Ev6nM8SBoeJN+yXTZX+7ObtqANdUt5UsA3jtnri4FNf6QxDkC6BHIjJAj0QaLAwG4+LFi8bGxioqKi1btlyyZElGRsb3TKxTJwQEBGzfvn3ixImPHz+u2ltAKBSnZoi99kqW8pPZnP150Ptb/I+rODJOMsobQRCkGuiRiAzQI5EGi0AgiImJ2bFjR7NmzbS1tTt06HD9+vWcnBwiWs4oKytLTU2NjIystlwQny9ZPnv2CrHy9zVnVwuwV8u+ko6SuflEhgiCIJWgRyIyQI9EGjJUKhXMbOrUqdbW1jo6Ou7u7j4+PgwGQz47Sn4RgVAyzeG2w+JmvSTt1NU0UWYwai0e7CZ+/kZMxkVuEAT5DPRIRAbokUitIaiA+ENu4HA4t27dGjNmjKqqKqjkokWLEhMTf2Ix67rlQ7DYY4XYsmP1ice/ERQsxWq24t6jxXtOSPpHIgiCfA56JCID9Eik1oCrq7CwkPhDbhAKhUVFRUeOHLGzs9PU1Gzbtu3KlSvJ5D9sOhwQwTcB4qETxUb21X3xa0HdVtx3jPjoeUmLNo7XRhDki6BHIjJAj0R+NzweLz09/fr169u3b5cuEv3tFVnqhODg4OXLl8NdoK+v37Nnz3v37v0R9wKDwcjJyaHRaGwOv6hEfPaq2NFdrGrzvx0lzakKZrmKZvEK5tTKjRp2klVtdh2TzBaEIAjyNdAjERmgRyK/GxaL9eLFi759+zZu3NjV1TUkJARUkoiTG+h0enh4+MiRI01MTIyNjadMmQJlZrPZcjt8G4Ayx8TEgJrDKa0YfCPp47jnhLhJd4lKVipjI9N8BeN3yob7FYzfKJimKZnnKZiX2nVjT1sskUhczwZBkG+AHonIAD0S+d0IhUJfX99OnToZGBg0a9Zs1qxZiYmJRJzcAIUsKyuDe2HEiBHKyspQ1LVr1yYkJMhh1Wkl7969W7ZsWZMmTaZNm+bj4wPCC4UNiRRv2CM2aVPFIy14jQyfKSjbNFJuqqoxUN9ombrJpYmzYxJSJOsoyrEnIwhS96BHIjJAj0RqgZSUlP3793fs2BH8rFWrVidOnEhOTibi5AYej5ednb1r1y57e3s1NbXu3bvD69LSUjkcGyTl48ePCxYsUFRUtLOzW7FiBZxSFotVWi5+Fyh2nytZYrtSJRVMIpS0JiooWysp6Wqot1LWGNSlx382btpx6dKVt2/fpqWl/XHjihAEqR3QIxEZoEcitQCbzYZLa9asWVZWVqBoTk5OcrsO4bt37+bNm2dpaamtrd2nTx/QrJKSEiJOzkhPTz9w4AAUFU5p7969T58+nZOTw+fzyyji/z4SO/9HrNOc6CipYF6kbPpSQa1vo39RUVExMjLq16/f3Llzjx8/7u/vHxMTA0IJH1N5eTmHg5OSIwgiAT0SkQF6JFILiEQi8Bvp9DoKCgoaGhrglMnJyXK4+jaFQgGVHDRokLGxsbm5ubu7+/v374k4OQNOaXBw8KJFi+Dm1dHR6dKly6tXr6D8IOdMlvjkZXEPp8qOkoJGFuxG6mMJi2zUCD4FRUVFEFDYEY60adOmQ4YMgaxOnDjh6+ublZUlzx1DEQSpNdAjERmgRyK1RmZm5rFjx9q0aaOtrd2pU6dt27bJ4fUmEAigVN7e3v3791dXV7exsdmyZUt0dDQRLWeUlJR8+PDBycnJyMgIdNDT0/PNmzfSqNgk8b6TYttukkkipa3bVk22W1q0I0SyCuCUqqqqJiYm8Bzo0aPH8OHDJ0+evGTJku3bt587d+7JkydBQUGxsbHp6ely6P0IgvxW0CMRGaBHIrVJeHj4ypUrW7Zs2b59+0WLFmVnZxMR8gSXy4WCrVmzBiRSSUlpwIABR48elc/pigBwu927d4P/aWhowI0Mr0EuwYa5PHFErHjaInHTHmL9luI2A8Xu014MdZxOyOM3gaPW0tJq0qRJv379pkyZsmLFCpD+gwcP3r9///nz576+vjExMXLb3I8gSA2CHonIAD0SqU1AetLT0ydPnrxw4cKAgAA6nU5EyBkikcjPz8/T0xPkDKRq0KBBUVFRFAqFiJYnhEJhUlLS+vXrdXV1VVRU3Nzc3r59y2AwIIrGkKik+1xJA/epy+KPQQUHDhwkVPE7UFBQgGNXVlaGbFUrUK/A0tLSw8MD3kVaAARB6jHokYgM0COR2gSkh8lkBgUFRURElJSUyPOsOmQy2cfHp3///sbGxra2trNnz4Ziy+EAFFBe0PEXL14sWLBgxowZFy9eLCwslJ5YvkBMoYqfvBZfvy9OyxKXlnHgiDp16gTGSajijwAeCfvOmTPH29v748ePcrg0EYIgNQ56JCID9EgE+RrZ2dmHDh3q1q0biBfcIPv3709ISCDi5AwSifT27Vuwyc8nVCopk8xPLh02ExYWBrppY2NDuOF3oKCgYG5u3rlzZ1dX1127dr1580ae50JCEKRmQY9EZIAeiSBfg8/nUygUT09PaQXegAEDzpw5IxQK/9yxzHC/3759u0OHDlJH/DaKiorKysqamppOTk6nTp2CfXE+IARpaKBHIjJAj0SQryGdruj58+dwaygoKBgZGU2aNCk4OFg+O0p+D2w2OzMz09HRUU1NjbDFr9OuXbtZs2Zdvnw5ICAgOzsb9pXD+T4RBPmtoEciMkCPRH43AhG/VFAYwwn4wHr4knHtCf38c8blANajRG5IuaCIJ+KCrnG53KKiooKCAjk0FSjVjRs3unTpoq+v36pVq9WrV0dFRf25NXMsFsvT07Nx48aELX4Jc3PzMWPG7Ny58/Xr16WlpTwej9gZQZAGBnokIgP0SOT3IRKLhGJBmYAcxHq+u9RjTmHPMSQrhxytEbnGnoW9jpUvC2O/LuLl0pm0jMyMV69evXjxgs1my2GrcWpq6r59+9q3by8drXzhwgUSiUTEyTEg5WCNYIFVTykY8OHDh/v06UM445fo3r37y5cv8/PzsR8kgjRw0CMRGaBHIr8PnohbJii8Qd23hDx4XJ7tyFxTx1zdwTmaQ3J04LV7XvOFhf0v5u/w+fDfsa5jevXqNWPGjLS0NFAfYn+5AYoEdwoUz8LCAlRy4MCBFy9eJOLkmOLi4gcPHsTHx1c9pXw+H3x98uTJhDN+CQMDg549e167dq2goIDYDUGQBgl6JCID9Mh6AOhasSA/mvPBl3nzMd37Af3UE7q3P/NeOi+WJiwjEtUFJYK8F4zLK4uGj8g1AX2sFhxytIblGszP7r/q9ZROfdqZmJi0bt16586d4D3E/nIG3Cmurq4aGhpQ1JkzZ4aEhMjt/JdAYmLi+fPnx40bt3Xr1rdv31Z2GIAXWVlZmzZtUlNTU1RUJMyxAiMjo+HDh7dr187Q0BAOc8yYMRcuXCgqKuJyudJ9EQRpaKBHIjJAj/zT4Yo4hYJsf9b9Q2UL5hb2cs//ewypsXte86XkwdepeyI578qFxXxRHfRvE4j5Cdzg1UUjXEl/VTPIqmFYrv6oILtRcwY3bWGnra3dokWLq1ev0mg0Ihd5oqSkBLwKbhZNTU2QrQ0bNqSkpMht38FHjx65ubmBDkr7dJaXl1edrfPixYtmZmYqKiqEQlasYdO+ffu7d++uXbu2Z8+esKOWlpajo+PTp0/hsVB1XwRBGg7okYgM0CP/dLJ4ifdpJ2YXdBtLauyUazQ0V88xRwf+HZFrMj6vyaqiEf+lHSQLconUtUiZkPyaecM17y/HHElb9teCQ46WS6rdNv8Fg9x7g0eqq6tPnz792bNnRC7yBLhUfHz8gQMHQHZBs+zt7W/cuCG3HSVTU1OPHj2qr68Pp3TAgAEvXrwgk8lEXIVl9uvXr+qE5Hp6eiNHjszKysrIyLh06VKbNm1gi6GhYdeuXeERgQ3cCNIwQY9EZIAe+efCF/GKBKQH9JNLyIOG5xpW8zNpALlcSh4SwHpUJvh/h6gdCgRZPvTTI3KNqxXp8zA+p8nx3NVrTi4cPHiwiooKXI3Lli3Lz89ns9lEXnIDlUqNjIycOnWqtbU1WO/o0aPv3LnD4XDkcGwQnU5///79mDFjLC0trays3N3d/fz8pOslAgEBAbNmzTIzMyMsslGjbt267dq1i0aj8Xg8cNBTp04NGjTIyMhIS0sLDvPs2bPZ2dk4fySCNDTQIxEZoEf+uTBF9CD2843F46tpWbUwMtf0VPnqOM4nYrfagsRPu0s79j0e6ZbX5EzZmnsRl/bu3QvSo6qq2qNHj4cPH8pnHRjY7aVLl0aOHAmCBSo5f/78hIQE+RSswsLCq1evgg5CUXV0dLZu3RoXFyeNgjLv37/f1tYWDFK6jvaMGTPAO6UHwufzQUMPHDjQv39/XV1d2NfBweHixYvJycmVJoogSEMAPRKRAXrkn0upoOBE+YoZ+e2raVm1MDRXb3ZB94f0M8RutcWPemQsPTA4OHjs2LFWVlYWFhajR48OCgoi8pInhEIhmUw+duwY3DWampodOnTYsGFDUVERES1PCAQC0L5169bB3a2oqNitW7eDBw9Ko0Axnzx5Ym9vDx4JUSDE27dvLy0trTocBzweNBSc3sDAQENDo0mTJnv27ImJiZEmQBCkIYAeicgAPfLPpZCfvb54zBiSVTUtqxYccrRHkywuU7YTu9UWJYL8Z4xLXxypXS245/19jbIrnRcLNvbo0SMPD4/JkyffunVLbrse8ni80NBQLy+vxo0b6+vr9+3bF0qbk5NDRMsZ7969W7RoEZiiiYkJ3ONwVtkVxMbGgiOqqKjo6uoOGTLk7t271Waa5PP5mZmZsN3d3d3Ozk5NTa1z585btmyJioqC3YlECILUa9AjERmgR/655PMzFpIHDM81qKZlXwxnytcRu9UWLCEtkPVkUn6LYd8soWOurkdBFz/mf8mCHGn9GajkvXv36HS6PI8RplAonz59cnJyMjY2NjIymjhx4pMnT5hMphx2lKRSqc+ePevfv3+vXr2WL1+ekZEhnU6yoKBgxIgRenp6lpaW27Zti46OlqavBnwKoJJTpkwxNzdXVVXt3r37zp074+Li5HnOIwRBagr0SEQG6JF/LnLukWKxKJUb6VXsOj7PrlphqobRJIt1xWOKBLkiscTAwMNAXAA5FLKqQPFAJS9dujRkyBAFBQVlZeVVq1alpaXJ4QIwUFS4r+/cufPmzZvU1NTKluvi4uLZs2fb2to2b97c19e3vLxcuv1z4ON48eKFi4sLSLOSkhI8K/bt21fZ1RJBkHoMeiQiA/TIPxeyIHdbyaRvWxqEITnakOYGdS+xWy1CFZaEsl9vK5niSrKpVioIDjlaw3MNNxaPf8u8wxL9eZVbPB4vKytr165drVu3VlNT69mz5549e0DOwLqIFHIDm80mkUhQtqqjZEAcd+/ePW7cuClTpsicCLOwsPDVq1eTJ0+2s7PT0NBo3749eDOIKY7gRpD6DXokIgP0yD+XcmHRNequuYW9qvlZtTAs12AFeZgv4yaxWy0iFAs4ItYrxvVdJTM8CrqMz2vilGsM+jgy1xRezyzo5FXs+pxxqURQIBD/sHsJBAImk1lUVJSWlpaYmJiRkQF/EnG1yIcPHxYvXmxmZmZsbDxkyJDHjx/n5+cTcfINjUa7cOHC1q1bT548WVpaSmz9OuCgd+/enTFjhq2traqqatu2bRctWvT27duq01IiCFLPQI9EZIAe+efCFjEiOf7bSqYMydGu5o6VAaTNmWRxibI1hRtB7FbrgEqmcqNuUPZ6FY2bmt8GVPI/eR3Xk128yzYmskNp/DJRBUTqinZY4WeANVY0d/N5FXC5XAqFkp6e7ufnd/z48T179ly5cqVORrqw2eygoKBOnTppaGiATbq5ub179w4KTETLMXQ6/VYFoaGh37+mOZxweFCYmJgoKirCv+PGjfP19ZXD1nwEQWoE9EhEBuiRfy5CsYAqLH1EP7uY/M/Xekm65/0NohnN+cAQUondah0oJ7x7Hj89mRsexfH/xHj+IP7SndCLT8PvBkZ+iIgOT0pKAikEO5SOs8nIyIiuQlRUFJjZ3bt3z1Swa9euZcuWwbXq7Ow8cODA7t27jx8//vDhwyQS6ftlqAYBZSwoKPD29u7fv7+ampqFhcWOHTsSExOJaDkGTjiIeFZWFpz87xfBkpKSwMDALVu2dOnSRVVVFY53+vTp9+/fR5VEkHoJeiQiA/TIP500XvQ9+vGNxeNn5HcclWvmkKMF+jgsV9+FZD23sNehsoX+rPvlwmIitRzA5XJfv3596NCh5f+ydu3a/fv3nzhx4tSpU2CEGzduJCIqAGv08PBwcXEZVEHXrl2bNm1qamqqrq6uqanZrFkzSPDmzRsi97qAw+GA+27YsAHuI2VlZQcHBzgQKpUqhx0lKwHtgxK+ffs2NjYWhLJqfbBMwNcjIiK8vLw6duyooqICHweopK+vLzZwI0j9Az0SkQF6ZD2AIaREct6dLl8zv7DfuDw7V9Jf0/LbriI7/Zd6MIkbRiSSG9hs9o0bN5ydndXU1BQUFCrW5PsZwGCaNGni6ekZHBxMZF2ngMvOmzdPV1dXS0tr+PDhYFoUCoWIkz+kCzzC2Tt69Gh+fv5PKG9UVNT27dutrKzgg7CwsJA2cMvnzEcIgvw06JGIDNAj6wECMZ8uLM/jp6dwI+M5QfGcT4nc0HReTJEglymkEYnkBmHFejAXLlwYMGCAjo4OYYU/jr29/eLFi2NiYmg0uTjG8vLyJ0+edOrUSV9f39ra2s3NTU4E94u8fv3a1dXVzs5u4MCB+/btKy7+4RprOp0uVcmOHTuqqqqamJiMHz/+ypUrsB3buBGk3oAeicgAPRKpE5KTk8+cOTNo0CBTU1NCDL8bdXX1Fi1aLF++/O3bt7xvzlZTy2RlZe3du7dbt27gx5aWlgcPHkxJSSHi5IxPnz4tWLDAwsIC/M/R0RG08qdVcuvWrX369NHQ0IBnyJgxY86ePZueni7PbfoIgnw/6JGIDNAjkbqitLT08OHD/fr1U1VV/aEGblDPmTNn+vv7ExnJDRwOJz8/f8mSJY0bN4ZyDh8+/OLFiywWSw6Hb5eVlb1//753796amppmZmarVq0Cs/w5+UtISDh69GiHDh0MDAz09fXbt29/7do1EokER41t3Ajyp4MeicgAPRKpKwQCQVFR0Y4dO2xtbVVUVKSO+D00a9bsxo0bcrieNWgTj8fz9fX19PQEM9bV1XVzcwsLC6NS62yw/NeAk19YWLhr167u3burqak1adLk4MGD8HH8hPKy2ezMzMyHDx86ODhoaWmBmPbp0wfMEhu4EaQegB6JyAA9EqlbgoODN2zY0LJlS1AQwhNl0bhx42+sB13nFBQUgOZ26dJFX18flHf+/PlQVLlqf5fC5XIjIyOXLl1qamoK8jd69Ggo9s/N5c7hcMhk8rlz5yATDQ0NIyMjR0fHkydPZmVlYQM3gvzRoEciMkCPROoWsJnY2FgPD4/mzZsrKSkRqvh1II21tfXChQsDAwOJLOSPpKSkTZs2tW/fHuTYzMzM29sbbjQiTs64d+8eOJ+enp6dnd2sWbMKCwt/uhIxPz//8uXL3bp1M6yga9eu8Gdqaqp8tuwjCPI9oEciMkCPROoWkUhEpVJBCidOnAjWJbOjpK6ubv/+/X19fUtKSogs5A8wp+zsbNCyxo0bq6mpDR069Nq1a0ScnFFQUAAqaW9vb2lpOXr06JiYmKprcP8QIKAkEunZs2f9+vXTrKB169abN28GlcRluBHkDwU9EpEBeiRS5/D5/NLS0qtXr44ZM0ZVVZUQxv9FWVlZXV1dUVERtAzkzMXFZe3atVeuXImPj5fD3odCoRDM6cGDB+7u7lBmCwsLDw+Pjx8/yskURVXhcrnp6em7d+/es2fP/fv3i4qKfqUJHo4axPTChQtubm5WVlb6+vpdunRZsWJFZGSkHB47giAyQY9EZIAeWYPwRdxyQVEWLyGVG5XCjUjlRmbyEqSTOIrE2K4ng4yMjLNnz36to6SxsXGHDh26d+/eqlUrExMTJSUlS0vLIUOG7Nix4/Hjx7GxsXDpstlsIi/5AIwKjqh58+aamppt27Zds2ZNQkKCHNbMwXlLTEyERwGLxfr1EdaQQ35+/p07dyZPnmxra6utrd20aVP4mIKDg3GWcgT540CPRGSAHllTiMQikMhA1tMjZUu2lEzcUOyyuXjC4bJFTxgX0njRoJhEOuQrCIVCsJkVK1aAShLyWIVu3bpt37795cuXR44ccXJykraAKysrq6mpgV96eHhcvXpV3kZwgzOB4G7duhVESlFR0dra+tatWyCXRLQ8UbNz9EBWDAYjPj5+/PjxFhYW8DHBz4D169enpqbisBsE+bNAj0RkgB5ZI5QLi6I4/ufKN6wqcpqa32ZCXrPxeXZueU2n5LeeV9h3W8kUH/rpbF4SkRr5CjQaLTIycvr06SYmJoQ//svw4cMfPnyYnZ2dkpLi5+d36tQpuFw7duyoo6NjaGhoZ2fXo0ePKVOmHDhw4OPHj+Xl5USOdY10+cGpU6fa2Nhoa2u7uLjcu3evRqr95BwQU/g04ZOaO3eulZWVpqZm+/btly1bBmKNDdwI8geBHonIAD3y1+GJOAmc4ONly2YUdBiWqz84R7NaGE0yX0p2eMm4WiYgi8TYrieDCxcuODg4EP74L66urp8+faLT6ZCAz+eXlJS8evVq165doGgtW7ZUU1ODNHp6el27dl20aNH58+ffvn2bnJwsD1MYcjic69evjxo1Sl1dHYwKihcSEgIqSUTXX8CV2Wz2s2fPZsyYAY8XMH74pLZt2wYfTWFhYb03aQSpH6BHIjJAj/x1ygXkR/SzIIuOubrVDLJq2F0yM5T9SiDGmZllkJOTc+jQISUlpapjt8Ejg4KCpB5ZCQhleXn5ggULpPWXiv+ira3dv3//vXv3xsfHS1WyDq0F3hrKcOTIEUNDQ2Vl5Xbt2q1bt66goEDORQqKB6cXIP7+WUCjo6Ojx4wZY2lpqaKioqurO3PmzOfPn/N4PFRJBJF/0CMRGaBH/jqBrKe7Sv8DEumQo1XNHauG/xR09KZs5GFHSVmwWCx/f/+JEydKVxeU4u7uDjpSbZZskMiPHz+OGjVKOsq7ffv2nTt3NjU1lU6FbW9vP3ToUJC2hw8fZmVl/dwM2zUCiGxoaKiXlxccEYhUr169Hjx4IM/3Go1Gi42N3blz5/HjxxkMxq/U6QqFQgqF8v79e/ggunXrpqmpaW1tPX78eFDJwsJCIhGCIPIKeiQiA/TIX+cB/dRi8j/VrPHzMCLXZGvJJK5IvsYUyycFBQUgf4MHD9bW1q7QyEYeHh75+fnVpqSh0+kxMTFTpkwxMDCANF27doXXK1euBLNs1aoV7CudwtDNzW3Tpk03btwICwsD9ayTpWXKysoCAwNdXV0tLS2NjY2nT5/+4sULuR2/nJaWtmfPHvDd4cOHP378mEwmExE/Bagkm83+9OnT9u3bO3bsqKenZ2VlBZ8UyDR8pkQiBEHkEvRIRAbokb/ODereWQVdq1njF8OaolEcUf3vGFcjgGCtWbOmefPmUo9cunQpEfEZhw8f7tatm4KCAlzDq1evBlN89erVihUr2rdvb2ZmpqWlpaysDLFgMKCYHz9+zMnJAQHlcrngN0QWtQKNRrt8+fKwYcNUVVV1dHTWrl2bmppa5903vwg43z///GNiYgLW6+zsDH/WiHxnZmauX78ePghp/fG0adOePHkCilnLHwSCIN8PeiQiA/TIXwc98jfh6+s7c+ZMmR6Zlpa2f/9+bW1tUMaBAweCqyUkJKSnp4MyXrhwAXJo2bIliAsksLa2BomZOnXq0aNHw8PDKRQKkUWtAMpYWFi4c+dOuNfU1dU7deq0efPmaj0+5YSCikVuevbsCefN3Nx89+7dsbGxRNwvAMqYkZGxffv2rl27KioqQs7SBu6ioiIiBYIgcgZ6JCID9Mhf5x7t2MLC/tWU8fPgmKu7odgF27W/H7CZU6dONW3aVE9Pb+XKlcTWz+DxeAEBAe7u7o0bN5Yu7vf69evy8nI+nw+X96tXr/bt2zdt2rT+/fvb2dkpKSlZWVn169fP09Pz+PHjfn5+kKY25wb39/efP38+KJShoeGgQYNevHghh90EQfjy8/OXL18OTwZlZeXBgwefPXuWRqPVSO1paGjojh072rdvDx+rjY0NfHDnzp2Li4sjohEEkSfQIxEZoEf+Or7Mm+uLXapZ4+dhLKnxnlIP9Mgf4uPHj9OnT7e3t/fy8iI2fQkymQzuCLqjoaGhra29d+/exMREIk4sZjKZkZGRICszZsyAS93ExERTU7NRo0bwGvzy5s2bUVFR4KzSkd3EPr8NsLH3798PHDgQPBKsd9asWWCWXK48jr569uwZPBOkp3TSpEkRERE1VXualJS0fv36bt266erqgtn37t370KFDv7gkI4IgvwP0SEQG6JG/TjI34kz52mrW+HlYQR72mH6OL8Jvyh8A3MLPzw8k5vDhw8SmL8Hn88HPtm7d2qlTJ/CepUuXgoAScRXjPFgsVnFxcUpKiq+v75o1a7p37w4eqaamZmRk1KRJkz59+ixfvvzly5e10NItbd2+cuXKoEGDVFRUjI2Nt2/fDgWTwwE3VCr19u3bnTt3NjAwaNGixfz589PS0oi4X4PNZsOj5vz586NGjVJQUABPBZXctWuXvK1IhCAIeiQiA/TIX4ciLPFj/ndeYZ/RJItq7igNQ3P1XEm23uUbU7lRQlxo+0fgcrlgXadOnXr69Cmx6euAO548eXLt2rVPnjzJzs4mtlYBdBPcKDg4+OLFiytWrBg7dmzbtm3BO3V1de3t7V1dXTdt2nTr1q2IiAgQyl+fOvFrcDicjIwMLy8vuO+UlZX79u0LlsxkMuVwzE1ycvKBAwfatWvXtGnTiRMnxsTE1OBpASu9dOmSs7OzmZkZCH2vXr2OHDlSIx0xEQSpKdAjERmgR9YIWbzEa9Q9S8kOrnm2Q3P1KyeSHJKj40yymJHfYXPxhE+sZzjI5icAcYmMjPyemjAWi1VWVlZQUCCzmVja/+/hw4dr1qzp06cPSJKhoSEIpampqYODw+bNm58/fx4fHy9taf1NNYUvXryAOw78SVtb29HRUTonEREnN8ApzczMnDdvnouLy5YtW5KSkmq2Lyk8cO7fvz98+HBjY2M1NbXevXuDSsJDCRu4EUROQI9EZIAeWSPwRTyqsNSfeW9f6Ry3vKbS1RGH5GiPzDVZRXa6TT2Uzo2lCym4KOJPABoHXvg9YgEphUKh4DtWr4EEkIzJZBYWFsbExOzbt2/kyJGWlpbq6upgk+A0zZo1mz59+vXr139fpz1Q3qdPn/bo0QMU1sbGBt4OVJKIkxvgRMHhJyYmgkFCgWvcquFToNFod+7ccXV1VVBQgPPfq1evXbt2/eKMlQiC1BTokYgM0CNrCnDEIgEphhPwinHtMf3cQ/qZR/SzTxkXgljPs3gJbBFDiCsiyh/SrpPx8fEvXrw4c+bMvHnzQOz09fVBaOzs7AYNGjR37tyDBw++fPmypKSkZkfD8Pn8zMzMEydOSFd5gbcDnYWSENFyA4gjCDeb/bvGh0H+OTk5oOygkmDwRkZG3bt3X7Nmzfv37zkcTs1qK4IgPwp6JCID9EgEkQKqFBgYCDLn4uLSsWNHa2trEEptbe0OHTrMnDnz6tWrHz9+BPOrwWHd8I6Q4cKFC62srBo1auTo6Hj27NnaGTYub8CD6N69e6CStra2GhoaNjY2K1asCA4OBoXFWcoRpA5Bj0RkgB6JIFJEFY3dHA6HRCJdu3Zt1qxZ7dq1U1FRUVJSUlVV1dTUHDZs2MGDB+Pi4mpw8nCQpGfPnk2fPl1RUVFZWdnZ2Tk2NrYG8/9TkFYMx8TELFmyREdHB04FPJHgtGRkZMjnpEgI0kBAj0RkgB6J1FfAC9lstq+v74EDB3x8fDIzM4kIWYC4ZGdnh4SE3LlzZ9OmTUOHDrW2tm7UqJGZmVnHjh1Hjhy5cuXKmzdvpqam1khrb0FBwY0bN7p27WpgYAB3IohUVFRUA5QnUEkajfbu3bvVq1fb2Njo6upKJxuCLbU5UTyCIFVBj0RkgB6J1Fd4PF5aWtrmzZtB0dzd3UEl6XT6D/W3YzAYiYmJly5dWrx48fDhw9u2bWtsbKykpGRrazt69OidO3c+ePAgLCwM7ppfnA0nJSUFcpMu8dKyZcuTJ0+CpBJx8gdYHRTP398fDA9Oac22O1MolODg4NmzZ8N50NLSAqEEa//w4QMo5u+biQlBkK+BHonIAD0Sqa+A4jx+/HjMmDEKCgqNGjVavnx5cnLyz3U9ZDKZWVlZ+/btGzBggLKyMqgk5Kmqqgo3zqxZs+7du1dWVgY5//SgEFDe8vLySZMmaWtrq6ioODg4XLlyRW6HmBQVFR05cuSfCuCU1vgQHPBU0PcFCxaAVSsqKjZu3HjatGkJCQmgknJ7ThCkvoIeicgAPRKpr/D5/MLCwt27dzdv3hycr2vXrrt27QIjJKJ/BHBEFouVlpb25s2b06dPg/C1adMGnE9XV9fGxqZHjx6w5dixY2FhYT83SRDoEezo4+Pj7u4OhmpiYgJ6Gh4ezmAwiBTyRHZ2NjwrmjZtamtru2LFihqfrkgoFMJvAH9//zVr1pibm+vo6MAbOTk53blzB+cDQpBaBj0SkQF6ZD1AKBawRYxsXlIU530I+2Uw+0UY2y+WE1giyOOKGnrHsvfv3y9cuNDU1NTIyMjR0dHX17eoqIiI+3E4HE5BQcHjx49BSeF+6du3r7W1tYaGhqGhYb9+/ZYsWeLt7Q1vkZKSAil/tMEX7j7YvUOHDmBO8O+mTZtqfN7vGgHOwPbt2zt37qylpQU+ffTo0czMzBqvKaRQKJ8+fVq+fDn8ANDX19fU1Jw4ceKtW7dKS0t/TtYRBPkJ0CMRGaBH/ukIxHy6sDyDG3uHdmRbyZQV5KHLyY7risfsLZ3zgelTwM/kiTiiBrwYI3hYcHBw9+7dQc4sLS2nT5/+4cOHX+9px+VySSTShQsX3NzcbGxsQHTU1NRUVVV1dXVHjRp1/PjxtLS0kpISNpsNNvn9jhUXF7dt27YWLVqAmzZv3vz27dsgbUSc3ACnNDk5ec6cOerq6goKCs7Ozjdv3oQTUuMqKaiYpRyUvX379nBuQVudnJz8/f3hl0DNdspEEORroEciMkCP/NPJ5ac8pV8AfZya38Y17y9nkqUzyWIsqfH4PDuPgi6HyhZGsN+AaBKpGx4gHPn5+adPn+7bty+4iLm5+d69e9PT04nonwWyldZNRkZG+vj4gPwNHjzY2NhYRUXFyMioVatWgwYNWrNmDUQVFhZ+/+BrBoORlJQ0fvx4MzMzEF9HR0e4PYk4uQGOncViXb9+fcSIEaCSVlZW8OjIzs6u8Y6SIKagkikpKadOnbK3t9fT04PTMmDAgHv37mEDN4LUDuiRiAzQI/9chGIBTVj2nHF5VdEIp1wj6Yre1cKU/Nb7Sz1jOAF0IYXYreEBfpOcnLx27VpwEQMDA+k60UTcL8Pn88vLy6Ojo8GrVq9ePXLkSJBI6Wrdbdq0cXFx2bBhw82bN0E3aTTa94zyAem8fPky5AM5mJqaLly4EPatcUX7dUDvTp482bp1azil7du337dvH5xkIq5G4VUszAj5wy8BeC9tbe0JEyZcvHgxIyNDDk8LgtQz0CMRGaBH/rlwRKxkbvju0pnV3LFaGEUyv0Hdm8GTuwX3apmXL18uXbr0n3/+OX/+PFz2xNYapbi4+PHjx8uWLevfv3/jxo319PRUVVWVlZVBgEBeP3z4AOpTVlYG9vONJmCIgnyOHTvWtGlTdXX1rl27bt++PScnRw5nvQFxnDVrVvPmzU1MTPr06ePn50dE1DRw7GDhO3bsgLMBeg0qOXjw4AsXLqSnp8th/1EEqU+gRyIyQI/8c6EKS+7Rjy8i/1NNHKuFYbkGq4tG+DHlrnm0likqKkpISAgLCysoKPhNs3yD7lAoFLingoODL1686Obm1qRJEwUFBfAeS0vLdu3aTZ8+/dy5c7Gxsd+2H8gnIiJi27Zt1tbWWlpaIE8PHz6Uw46S4HZwpFOnTu3evfuGDRvguIiImkbawA0Wfvbs2S5duhgYGOjq6rZu3frQoUNxcXFEIgRBfgPokYgM0CP/XIoFeftKPSflt6omjtXCkBwdt7ymN6n7iN0aKiBn7Aq+p3H5F2GxWFlZWc+ePdu3bx+4Y79+/Ro3bixd62/gwIGenp7Hjx/39fWFNF8rTHl5+cePH11cXEBAQZtASZ8+ffo7xrL8CnBKqVTqixcvrly58unTp9LSUiLi98Dj8VJSUkDQx44da2Njo6am1qdPnz179sTHx8PHSiRCEKRGQY9EZIAe+edSwM9cXjR0JMm0mjh+MZwpX0fshtQiJSUlQUFBYI1Tpkyxt7e3sLDQ1NSUdp308PDw9vYOCwvLyckBGyN2qAKFQjl16pSDgwPsoq2tvXr1arAoUDciuqEC5n3t2rVx48YZGhqCmvfu3fvQoUNwZsDdiRQIgtQc6JGIDNAj/1xI/LTZBd0ccrSrKeMXA3pknQDSw2azwQjT09NfvXq1YMECMEjpWji6urqNGzfu1q3bxo0bP3z48HlFIyhjfn7+7t27mzVrpq6uDil37txJp9OJ6AYMnAQfH59Ro0YZGRnBmWnVqtWRI0cSExOJaARBag70SEQG6JF/LoX87A3FLmNJjaspY7UwJEfblWRzjbqb2A2pAngei8WqhckIuVxucXHxp0+frl27tmnTprFjx8JNp6mpqaOj065du3Hjxnl5ecGdGBMTU1keMEsejxcQELBixQpjY2NDQ8MhQ4Y8evQI5FKaZ0OGRCKBSsJ5s7GxgdPYo0cPOKsfP37EYTcIUrOgRyIyQI/8cykTFHpTvGYVdK0mjtXC0Fy9+YX9ntIvELsh/0KhUBISEp49exYbG1tSUkJs/c2AUMJddvfu3WXLlg0cOLB58+YgiGCTZmZmo0eP3r59O5QHbLKoqIjP54NKlpWV+fn5DRgwwMDAwMLCYsaMGfCn/LfhSitif6ugM5lMkPKJEydaW1urqKh07Nhx9erVwcHBcMaIFAiC/DLokYgM0CP/XBhC6nvmg/VFY6uJY7UwItd4f8mcMLYvsRvyL6GhoevWrbOzs5s3b96rV6+Irb8fsCsejwe6AwXYsmXLP//8Y2pqqqioCDKkq6tra2s7d+7cR48eUalUsDFQSTKZfObMmX79+kEaVVXVrVu3/o51CGsWGo0Gz5bfWjsIZwCkHKx6zpw5RkZGSkpKVlZWU6dO9ff3J1IgCPLLoEciMkCP/HPhi3hFgtw7tCPzCvsMyzWopo/SMDLXdFZBt3fMu6WCQmI35F/AHWfOnKmurt6sWbP169eTSKTfNB/QFwFHpFAocXFxvr6+oIkgQ+3bt9fT04PyNG3atH///qBE+/fvBysqKChISUnx8vJq0aKFsrLygAEDjh07RqfTIQciL7lBOoL72rVry5cvBxuGo/vda2EXFRXBKVq9enWHDh3U1NTgOebp6fn06VMckIQgNQJ6JCID9Mg/nSRu2FXqrgWF/cbn2Q3/1yYdcrSH5upPymu5tmj0Zcr2An4WkRqpQmhoKOijhYUF+MegQYNu3LhRWFhYJ3JWUlLy9u3bHTt2TJgwoUePHnAzamtrQ6m6dOkyb968ixcvfvjwAVxz/Pjxurq6pqamzs7Ob968AYUi9pcbwN7KysoWLVoEytu4ceMTJ06kpqYScb8NJpMZHBy8atWqVq1aqaiowNMMpDwwMPB3z0OEIA0B9EhEBuiR9YASQcED2okNxS5uec2G5uo55ug65Rq55v11oHRuMOs5kQj5EmBvo0aNMqlgyJAhoCN12/UwJyfnzp0706dPb9mypZKSkkIF+vr6Y8aM2bNnz+7du0HOVFVV4d8pU6ZAaeWwdZvD4cyfP9/GxkZdXb1fv36XL1+unUKGh4dv2rTJ0NAQzpilpeWkSZM+fvxYCyOoEKR+gx6JyAA9sh7AFXEK+JmJ3NAwtl8Q6/kn1rNg9osw9ut0Xky5gEwkQr5EYWHh06dPe/bsqaOjA7fAhg0bQkJCiLi6ACw2Pz8/MjISbBIK079/fzMzMxUVFXNz81atWrVp08bIyAg8EhQNVPLQoUO1UNv3owgEglevXk2dOlVRURFKC07s5+dXC9MVUSgU+OzWr1/frl07OD9WVlbu7u5Xr15lMBhy2AEAQf4U0CMRGaBHIg0ZPp9fXFy8du1aUDSQj+7dux8/fhy21Ll5lJWVgU2ePXt22bJlo0ePhuIZGBiAmWloaCgrKzeqYMSIERcvXpS3jpIikaioqMjb27tTp07a2tpQ8hUrViQkJNRCRS+NRgOVhE+zc+fOUtUeO3bszZs3s7Ozsbskgvwc6JGIDNAjkQYOGEZQUNC8efPAPNTU1Dw8PCIiIuRnnT0qlRoeHu7l5dW7d289PT2pRyooKIBHampqurq6xsTElJaW8ng8uWrjjo+P37NnT/PmzaGQoJIgc/CoIeJ+M7Gxsfv372/WrBlYrL6+fseOHe/du1dSUiKHfQAQRP5Bj0RkgB6JNHBAL8DV7ty54+Li8s8//xw+fJhMJstP9RWUhEajZWRkvHv37tSpU5MnT27VqhXYJHikkpKSjY3N2LFjz549GxkZyWAw5Kc7IBQGfG7ChAmNGzc2MDAYNmyYj48PEfebgbdOSkq6fv36gAEDQCV1dHSGDBly5swZbOBGkJ8APRKRAXrk70MkFvFE3Bx+chD7hS/j5kP6mYf00/7Me5Hstzm8ZJ6IIxTjIAB5IT09/cGDB1evXg0JCeFwOHJYd8VkMjMzM589e7Z///6ZM2f26tXL3NxcS0vLxMTEwcFhwYIFYMAvX74E4+RyufJQfjqdfuXKlXHjxrVp02bevHngwUTE7wc+wfz8/KNHj4JBqqurwykaOXLk5cuXc3JysIEbQX4I9EhEBuiRvwmhWMAS0bN5SffpJ7yKx80q6OZMsoSwiDxwT4nHA9rJLF4iU0gD1yR2QJDvg81mx8fHHzt2bNiwYRYWFhVdJRupqqqCVk6cOPH8+fNxcXEFBQV13m8S3p1MJoOaL168+MOHD7W2YlAlJBLJ29vb3t5eV1fX0NCwR48ed+/elc4Sim3cCPKdoEciMkCP/E3QhKVRHP9NxW5T89uMJlk45RoNydGBMCLXZCyp8cyCzluLJ8dyArkiXA4Y+TGEQiGoJCiaj4/PtGnTpB6poKCgoqICtgT38uDBg728vF69elVcXFyHLd3ganw+v7S0NCcnB6S29isCeTxeRkbG7du3e/furaWlpaOj061bt927d6enp+My3AjynaBHIjJAj/xNgEQeKJvnltfEMUencnWZyjA813BCXrPT5WtiOB+IHRDkB4G71dvbu3379mBIoJKKiorwQjq4pEOHDi4uLuvXr79161Z8fHwtTLsjn4Bww1k6e/YsnA1zc3Pw7F69em3atCkmJqbBnhME+SHQIxEZoEfWOCKxiCWi36Ydds37yzFXt5pBVgaHHK0ZBR2uU3dzRWzsKCmfCIVCFoslzz3qoqKiVq9e3bJlS1VVVRUVFTs7O3jdpEkTUEnYAtrk6Oi4d+/eN2/eJCUlFRUVyc849FpDJBKVlpbevXt39OjRVlZWWlpazZo1O3ToUHR0NJwNbOBGkG+DHonIAD2yxuGJuAnckAOl84ZIaiK1qulj1TA0V29nyYxcfgpHVJdrqCBfg8lkJiYmlpeXE3/LH3Q6PSEhYeLEiRYWFurq6r17916zZs3JkyeHDRtmaWmppKSkqalpbGzcunVrV1fXy5cvp6SkEHs2JAQCQVlZWUhIyNixY83NzdXU1Gxtbbds2ZKeno7DbhDk26BHIjJAj6xxQAo/MH02FbtVs8YvhrVFo8PZfnSh/JpKgwX87OLFi1OnTj169GhYWBixVc4QCoWgkrdu3RozZoyysrKVldWMGTOuX79+9+7dw4cPe3p69unTx9TUFBQTovr37w9bjh8//u7dOxKJRGRR6/B4PLC61NRUGo1GbPr9gEpSKJRHjx7BUw5UEvS6W7duXl5e8CkzGAwiEYIgn4EeiciggXikUCwAvSsR5Bfws6SBIijmiTi/Y7g0W8R4Qb+ymjyymjJ+MSwnD33LvFMuLCJ2rmn4Ih5TSC0WkP7/wIUlPBEXx4nLxNfXd/bs2RoaGr169dq/fz9Ij3zWXYFKwm176NAhOzs78MXOnTtv2bIlMzMzPz8/ODgYbHLixIkdO3a0tLSEWAMDA0gwf/788+fPBwUFQbLalDkoKpvNlq76CHaemJhYmyPKRSIRi8Xy8fEZN24cWLW2tra9vf3evXsDAwNLS0uxgRtBvgh6JCKDBuKRbBGzgJ/5mnH9v9QD0vCJ9bRUkC8Q1bwZyJVH0oRlydyIp/TzlQcewnpZJigEsSZSIF8BNGv16tWamprKysoODg7R0dFUKpWIkzPAz0JDQ9euXdu4cWMoLejR06dPpbOpg7fl5OSAPE2ZMsXGxkZBQUFJSUlNTc3MzKxHjx779u2Liooicvn9cDgceOCAxYLGWVhY3Lhxg8lkEnG1AsginU4PCQkZMWKEqamptN3fw8PDz88PG7gR5IugRyIyaAgeGcV5f426e1Ox26LCAXMKukvDcrLjnlKPB/RTGbw4Il0NwRWxg1jPt5ZMrqaMXwwbil1iOYEMYQ0LikAyeyUjhP3qEmXbuiLnBYX9Kg98BXnowdJ5foz/glgTqZEvUVJS8ujRo379+hkZGVlbW0+bNi0wMJDL5RLRckZZWVlAQICrq6ulpaWhoeGkSZNAJaXjSKSTckPhb968uWnTplGjRsHhaGlpSYd1wy7r16+/fv16XFzc7x53IhAIGAzGmjVrwHfBZcePH3/nzh0irraAMpSWlj5//nzp0qVw+Kqqqk2aNIEPF1SyqOh3/ZxDkD8X9EhEBvXbI5lCahov+kz52lkF3aoJHIQRuSaLyYPu0o7l8lME4hqrjeCLeFm8xJPlq4bnGjnkaFd70ypBy5lkcbhsIVmQy6vpWSQpwpJozoejZUtmFnT+7H01x5CsNhaNe8W4TubniHCo+NfJzs7ev39/165dNTU1TU1NDx48mJqaSsTJH1Qq9fz580OGDIHSgimuXr06MjKSx+MR0RXVgcnJyaCMixYtcnR0bN26NRgn2KStre3IkSO3bt368OHD6OjowsLC3zq94pUrV4YNG6aurm5jY+Pp6ZmWllbLtZLCimH479+/B4GGk6CjowOna86cOSCXqJIIUg30SEQG9dsjM3nxR8qWTMlvXU2kqoYFhf1u0g6AcRL71BCP6d7u+X8PzdWr9naVYUiO9tzCXvfpJ4gdapRkbsSBsnkT81pUe9OqYX3R2NeMG3yRnFawyQN8Pp9CocyePVtbW7tRo0YjRoy4du2a3HakAz2i0Wjbt2/X09NTUlLq0qULvP68LV7athsUFLRjx46ePXsaGRkpKioqKChoaGi0atVqxYoVoFP5+fkCgeA3HSk8c86cOWNmZqaqqtqxY8cjR45kZtZN1XhGRsayZcvgqOHw4fOFD/rNmzdy+/kiSJ2AHonIoB57JFNI+8h6NC2/7Yhc42oKVTU4kyw3FLvk8JK4NTr5Tjov5jp1DyjsF1XSMUd3NMniPGVTErfmBwKXC4teMK5MzG/hlGtU7X2rhol5fx8qXUARlvyOTqL1A1AKUMmnT59Onz4dVAPUZ86cOSA9LJY8ztMkLW1AQMDy5cvBDvX19QcPHvzy5UsymUyk+BdIVlZWlpKS8uHDh1OnTsHRNW3aVKcCeNGjRw93d/eDBw+GhoaCRhP71Bxw9kJCQhYuXNisWTMoZ+/eve/fv19cXExE1yJMJjMuLs7Lywt0FswbnoHSBu7aX8IRQeQW9EhEBvXYI/P5GXdpR79RI1gZZhZ08mfeKxbU5LEzRbRUXtTZ8nUri4ZPzm9VsS6itkOO9tBcffe85kvJDkfLFkdx/GnCMmKHmiOFG3mufEO1Y/w8wJlZUTQsgxfPEuHCHt+ioKDg2rVrnTp16tq166pVq+CWYcvxbN7gQK9fvx42bJipqamlpaWnp+e7d+++Ib5wOM+fP9+yZcukSZN69erVuHFjTU1NAwODnj17Ll68+Pz58+CaaagobI0AAH2nSURBVGlpNSuUYI2+vr7Ozs7GxsZ6enpr164NDg4m4mqdwMBAUEl7e3vQaDs7Ow8Pjxs3bjTMiTYR5HPQIxEZ1GOPjOMEnipf5ZijW82fPg/ueX+DeIF+EXvWEAIRv1RQ8IZ5e1/pHFDV8XlNxuXZTsm331Yy5TnjMkNI/U0VgQHMR9uLp1Q7xi+GuYW9g9kvywTV66uQaoBV7Nmz59ixY2/evCE2yTFgaWfOnBkwYICqqqquru6OHTsyMzNlNtcmJiaCNbq5ubVs2VJbWxv2VVRUhMfC5MmTIbfQ0FAajcbhcIQ1t2D33r17Qc21tLRGjx598+ZNYmtdAMe+bNmydu3aqaurw1H379//5MmTDAajNqclQhD5BD0SkUE99shQ9uv9pZ516JEisYgn4oKlZfOSErkh4LWxnMB4blAmL75EUCAAz/w9kziiR9Y4LBYrOzsbbpayspqvP65xeDwe3Mjr1q2ztrYGHezRowcYm0wlYjKZ+fn5cXFxd+7cWbt2LbiUsbExeJW5uXmLFi2GDh26evXqV69e1eAjIjk5+eLFi+7u7vCOcHqJrXUBHHtqauq5c+ecnZ0VFBT09fUHDRp0+PDhOpytHUHkBPRIRAb12COjOe+PlS39Ho+clN/qGmVXjU8AVFfUpkeWC4rAj/2Y/31IP3OHdgSCD/20L/NmDCegVFBIJELqgpcvX86cOdPAwMDIyGjkyJHv37//zm5/RUVFISEhly5dWrNmDXhVq1attLW19fT07O3tJ06cuGXLlmvXroWGhv56j0Yul5uRkfHo0SN4ClUdV15XpKenX7hwYciQISYVDBgw4OzZs0lJSUQ0gjRI0CMRGdRjj8zkJVyn7hmWa+DwzUWuIUzPb/eMfjGfn0Hs+YcTwnq5t2R2tWP8PMBpWVDYP4rjTxH+5KgChpAazn5ztHTJnMIeo0kW0mxHkcw9CroeLl0IxWAIKbhwTl1BoVBevHjRtWtXUEBbW9v58+cHBwf/0PyXpaWlfn5+y5Yt69atm4WFhb6+voqKiq6ubrt27dauXQuZk0gkeJeabeyuW6TPw4EDB+ro6KipqYFKnj59GvwbNBfHcSMNE/RIRAb12CPpwvI3zNtjSY0dc2VUSc4t7JXCjWSJ6skyu4X87NvUg9WO8fMwPNdgffGYcmHRz82dCYL4hnlnR8k0V9JfFaOIdKTZwgv404Vks6Vk0ivmjRqfGhP5TgQCQU5Ozrlz53r16gVKZGpqeujQofT0dCL6O+Dz+TQaLTs7OyAg4NSpU9OmTQMf1dTU1NDQAK3s3LkzbLl582ZSUpJ8DmD/CcCzwRqvXLkyevRoBQUFsMl//vnnwIEDGRkZcjsFPYL8VtAjERnUY4/ki/hJ3LA9pR7fnkZxan6bY2VLS+vRUoEcETOQ9WReYZ/KOsIvhoWFA27TDv+c59GFlBRuxL7SORPzW1bLtjK45/29s2RGPCfod4xJlwc4HE50dDS4GvG3/AF6l5qaunz58qZNm4IVDR48+MyZM2w2+4eqD0UiEYPBSEtLe/XqFZjozJkze/ToYWBgoK2tbWNjM3To0Hnz5sF2X19fOWme/kXgeMEaL1y4MHz4cENDQxMTk759+3p5eYFMg0pirSTS0ECPRGRQjz0SKBcUBbGeby6e4Er6a0iOTtUGbng9LFd/HMl2b8kssC5OjU4eWedk85KuUXcvKhw4hmT52YFrO+UaTcpveYmyNY0X83P2TOKn3aEd/uJiOVUDOPpV6s5MXjyxWz2ivLw8PDx8165dd+7cKSoqkueBvT4+PpMmTQLtA8aOHQvuS6PRiLgfARSKyWR++vRp7969I0eObNeunaWlpYaGhqamJjxAwC+vXr0K5yQrKwvy5//sctXgarC7tLmc2FQXwFHcuHEDLNnc3FxdXd3Ozm79+vWxsbGg5qiSSIMCPRKRQf32SJAktoj5kfV4X+mcUSSzqmNuQCIn5bU4WDovhPWSLWLUs258fBGPKix5TD+3oWjsKJJpZaNzxYEbeBR0vk07nMaL5v3sYjbx3KCNxePG59lVZvvFMJpkAS4byn5F7FaPePbs2ahRo2xsbODfK1eu/I75umuK4uLi27dvg/bp6ek1a9Zs7ty58fE/afagUGw2u6ysLD8//+nTp8uXL4dHB+iptN+kra3toEGDVq1a9eHDh58e2E4ikQICAl69epWRUZf9lcGD4afCx48f582bJ+0r2aJFCzh1mZmZ2MCNNCjQIxEZ1G+PlFIsyIvmfACpOk/ZeLx8uTRcomx9Qj8P20sFBUS6+gWYcS4v9RPr6R3akbPl6yoP/Bp19xvm7SxeIuMXloIMZr+cmPf3t9fLgTA0V28syfod8y6xWz0iKChoyZIlFhYWVlZW48ePDw8Pp9PldDp3UKKkpKQDBw6ASoLztWrV6sSJE78+zzaZTA4ODr527RqIo5OTEzxDpGPDW7duPWbMmA0bNty5cyc9Pf37186Gcqampp48eXLs2LGurq7Xr1+nUql1OIIH3hpU8sWLFwsWLLC2tgYLh0NbvXo1yGXd1pUiSG2CHonIoCF4pBSRWJjPz0jjxUhDoSCHI2LBRiK6nsIX8cEXc/gplQdeI7NFfmA9dMzVlTkQHhI45ui+Zt4gdqtHwJ3y4MGD7t27a2pqgmTs378/NjZWblu3QebS0tJmzJhhbm6uoqIyatSoq1ev1tQ823FxcWCTy5cvd3R0hCeJdFg3nBNnZ+cjR468fPkSzkxRUZHMRYC4XG50dPSiRYsqWuC1Z8+eHRgYWOfGJq2VnDRpkp2dnZaWlq2trZeXV1hYGIVC+em2ewT5g0CPRGTQcDwSEIqFAjF8c0oCvG4gU9LAYQr/PWoINaLOgawno0nmMgfCg0SOJpm9Zd4mdqtHCIXC/Px8kB64d9TU1Jo1a3b69GkwM/nsPAelAmW8f/++m5tbo0aNVFVVJ0+enJCQUCPjrCFnsD1Q1ZCQkH379vXq1cvAwEBRURHeBcTL3t5+6tSpPj4+8Kghdvg6kNXZs2fhlKqrq7do0WLp0qV1PvE7nDr4WCMiIsBrdXR0lJWVmzZtOnPmzNDQUFBMIhGC1F/QIxEZNCiPRGqKCPZbz8KeoJLVxLFaGJlrOqegexDrGbFb/QIk7MOHD6AXRkZGYBhTpkx59uyZPLd4kkgkb2/vDh066OrqtmnTZu3atUlJSTU4whq8KjEx8fnz50ePHoXT0r17dzgtoJLwbOnfv7+np+fx48f9/PwKCr7VkyQ8PHzTpk22trYgo71794anU52PiAe7pVAoL1++BK+1s7ODjxt+Nri4uDx48ODXJ2NHEDkHPRKRAXok8hOk8aKPlS2dnN+qmjhWCxPymh8qW5DEDSV2q1+IRCJQyevXrw8ePFha8bZy5UoymSzPzZ2xsbEbN25s0aIFWFqnTp0uXbqUmZlJxNUQcFrAFN++fbt///4JEyZ06dLFyspKQ0PD0tKyV69e4JdnzpwB/4b3ZTC+MGMrGFtAQABYGuxlYmICOYCdfzFlLVNWVvbx48fFixfDeQMRh08cHpgPHz6EAteD2Y4Q5GugRyIyQI9EfgKKsDiS824x+Z9vdJGEqLmFvYLZL+r3+t1ZWVnnz58HSVJQUOjevXtUVJTcDrgBuFxufn7+yJEjNSsYMWLE3bt3f1NbvEAggPe6du3auHHjbGxsQCXhFDVq1MjIyAjM++zZs2lpaUKh8PN3B2O7fPkypIHEwPr166Upiei6A46ISqVu2bKlWbNmioqKcAJHjx4dEREhz6P1EeQXQY9EZIAeifwEPBEXVPIh/fSqIqdq+lgZlpEd79GOlQjy6/eSNkwmMzY2dtWqVRs2bLh16xY4kDzXR4KNQYGhnM7OzkpKSmZmZvPmzfv06dP3j6r+fkAQ2Ww2PGGCg4N9fHw2bdrk6OhoaGgI+mViYtK+fXsnJ6fly5dDYTIyMqr2B+DxeDk5OZC+adOmysrKEydOfPr0KTgcEV13wBHBhxsTE3PgwIGWLVvq6ek1btwYpPzRo0fYwI3UV9AjERmgRyI/h0gsyuYlSqaoLHbxLOw5Jd9+Ql5TCJPz7ecU9lhfPPYB/WQmL77erBL0Deh0+ocPH6KioshksjxUm30bKCFY2tGjR1u3bg1K16lTp82bN//WaRHhHUEo4fxcvHhxwYIFw4cPh7eWdp20s7MbM2bM9u3bHzx4EB0dDTZWKZR+fn4rV64cNmwYxAYGBsrPiYUTFRcXt3Hjxu7du+vr62tra8OT8/bt2/AslefesQjyc6BHIjJAj0R+BZqwLJkXfot24EDZ3C3F7hD2l3pep+5N4IZQhaVEIkT+CA8PX7duHdz1GhoaHTp0ePbsWS3UqEnbhV+/fr127drOnTtLl4pRUlICoezZsyeYma+vb1ZWFpPJ5PP5LBYLnk6vXr3Kzs4m9pcboHhwIF5eXiDEqqqqoJLgu6CS8PyU59poBPkJ0CMRGaBHIr+CQMxnimiFguxsXlIGLw4CvCjkZzGEVL4IBx/ILzQaLSwszMnJycTExNDQcNSoUU+ePCHifhvSduHS0tK0tLSQkJDjx4+7ubmBTWpqaurp6dnZ2XXs2HHy5MknT55MSkqCEnI4HEgsc+LJ2kd6IPHx8SdOnOjTpw+cQyMjo27dukHJExMTiUQIUi9Aj0RkgB6JIA0TKpV65swZBwcH0DiQuRUrVkRERNTm0GOwyUePHm3duhWePP369bO0tFRVVbWwsBgwYMDSpUtPnz7t6+ubkZEht+OWuFxucnKyt7f3iBEjoPBqamqDBw8+cuRISkoKNnAj9Qb0SEQG6JEIUuNI66vKy8tpNBqxSf4QCARkMnn37t1w76uoqHTt2nX79u1FRUW1PKJFKBQmJiaeO3fOxcWlRYsWRkZGWlpaioqKzZs3nzhx4vnz58PCwqBULBZLHobafA6U6sKFC6CS2traSkpK/fv3BzvPysr6ff1NEaQ2QY9EZIAeiSA1DpvNhlsJ9OLuXfldWxxkl8fjBQUFrVu3zsTEBOytX79+r1+/BmkjUtQWcLrgTcEm79y5s2bNmn/++QecTF1dHZzS1tZ26NChmzdv/vTpU2mpPPa4hdNYXFx869YtKKehoaGOjk6nTp1OnTqVnJxMpECQPxn0SEQG6JEIUuMkJSVt2rQJxMLDw+P9+/d1vrjfNygpKfH19R02bJipqam5ufmUKVP8/PzqpC5NUDHfZEhIyM2bN9evXz969Gh4LqmoqIBNSvtNenl5eXt7P3/+PDw8/NuL4tQ+WVlZN27cGDVqlKWlJRj5wIEDt2/f/vHjRzns3IkgPwR6JCID9EgEqXECAgL69u0LAgR31qJFiyIiIuS5wxyZTD506FC/fv00NTV1dHQ2b96cmpoqqruFwvl8PhTpwYMHCxcu7Ny5s62tLZxJZWVlQ0PDDh06gFBu2bLlyZMn0kmC5Gc+ICaTef78eWdnZxMTEyhtu3btVq5cGR0dLc99GxBEJuiRiAzQIxGkxsnJybl48SI4kIqKioWFxalTp2p8+cEahMvlwnPAy8vLzs4OCtylS5edO3fW4fw1oLACgYBOp5NIpODg4GPHjo0bN87AwECtAl1d3caNG7u6ul67di0jI0N+KvzAaKlUKgju9OnTQXyhqE2aNPH09IQfFUQKBPkDQY9EZIAeiSA1DpPJTE9PX7BgQdOmTcHMhg8ffvXqVTAe+ak8qwp4G6ikn5/f/PnztbW1wdicnJzqpKNkNaQ2mZyc/OLFiyNHjsyYMaNbt27SFXGsra3/+eefWbNmHT58+N27dyUlJXUovlXJz8+H0i5cuLBNmzbq6urNmzdfsmSJr6+vnBQPQX4U9EhEBuiRCPKbuHv3rpubm4aGhrGxsYeHR1RUFIPBIOLkD1Cxhw8fdu3aVU9PD54Gnp6e8tO9TyqUYLo7duwYPXq0paWloqKigoICnNtOnTqBr9+6devTp0/g7nCGITGxWx0BvyICAgIWLVpkZ2enrKzcqlUr0MrIyEhchhv5E0GPRGSAHokgv4mysrLz589bW1uD7rRr127t2rVyuDRLJUKhEIp35MiRbt26gaWpq6sfPHgwJyeHiK5rpKPLi4uLIyIiHB0d4ZQ2atQIVBJETUtLC8zSwcFh27Zt8fHxdT7fpLSogYGBq1ev1tfXV1JSsrW1nTVrVnBwMJECQf4c0CMRGaBHIshvgs/ng/R4eXk1adLE3Nx85MiRkZGRtTnR94/CZDKTk5OXL1/erFkzULQBAwacOHECNtZ5DV8lcErLy8v37t3bs2dP8EhARUUFnFJNTc3U1BRkfdSoUXDC79+/n5GRASUndqsLSktLP3z4sHTpUnt7eyghXAMzZ868c+eOXJ1PBJEJeiQiA/TIPwWRWFQuLMrmJcZxAqUhgRucxUsoFxQJRHxJPCJ/gPSEhoaCQIwYMWLZsmWJiYnyPz31kydPpk6dqq6urq+vP3bs2ICAALmat0goFAYFBa1cudLMzExTUxP8bODAgX379m3RogUUWFFREV64ubnt27fPx8cnKiqquLi4rs45jUb7+PEjeDkILpxPGxubCRMmwOmFxyyqJPKngB6JyAA98k9BKBaEs/0uUDavLhohDV7Frt7lXrCRKaSJIB6RS8AYwGbi4uKoVOofYQ9MJvPBgwempqaqqqpgabNnz46NjSXi5IaXL186OTnBU2vixImPHj3y8/Pz8vLq3LmzmpqagoKCtKrS3t5+/vz50lE4dTiNUUpKypEjRywsLOB8gulCIZ89e1a3daUI8v2gRyIyQI+Uf3giTgI35ETZipVFTtPz27uSbKRhfJ7dtPx2y8mOp8pXp/GimSKcpk4eAYOhUCg0Go3P59ehzXw/ILvJycn79+9v166dpqZms2bNQIOSkpKIaPkAnlSvX7++ceMGaGJBQYF0ORzYcuHCBRDfDh06KCoq6ujo2NnZ9enTZ8aMGYcOHXr//n2djHRhMBjwK+L06dNQEm1tbVBJZ2fnS5cuYQM38keAHonIAD1S/snkxd+g7nPP+3t4ruHgHM1qYWiu3rT8tpep25O5ERUN3Ajyq4D6gDh6enrCY0FZWXnEiBFXrlyRh6HQlYCUQ3lKS0vhX2JTxUbY4ufnt3v3bjc3t65du1paWqqpqZmZmfXq1Wvu3Llnz5719/ev/cWv2Ww2PGn37t3bt29fVVVVKI+Li8u9e/fy8/NRJRE5Bz0SkQF6pJwjEose072XkR2r6WPVMDRX3y2v2UP6GbqQAumJPRHk1/Dx8XF3dweP1NbWnj59Opgli8Ui4uQb8LacnJzjx4+PGTPGxsZGT09PRUUFDgQEbty4ceDEoJJ0Or2Wl8OBIp06dapx48YaGhqGhoa9e/d+9uwZiC+o5B9RUY00TNAjERmgR8ozQrGAJWIcKlvgTLKs5o5Vg0OO9rBcg2NlSxO4IbALsTOC/BpFRUUXLlxo2rSpjo5Oy5YtFyxYkJaWRsTJN2CH0irA8PBwcLW1a9f269cPbBgEztTUtE2bNg4ODqtXrwZRhmOstRH0UCRwcTilPXr0kDZw9+zZc+/evbVfP4og3w96JCID9MgagSGkZvESkrkRiZyQJG5oBi+uRJDPF3F/sXaQLWLm8dM3FLtWE8cvhm3Fkz+yHmPTtvwD0pCdne3v7//27Vs5F4jo6GiQsBYtWujp6YF+nT9/PiMjg4j7ExAIBAwGIzg42Nvbe/Hixc7OznAUoMWampqtWrUaP378jh077ty5A7pZXl5eC0LJYrFycnIOHTo0fPhwY2NjsMk+ffqASiYmJuLIG0Q+QY9EZIAe+SuIxEKQRYqwOI4T+F/aofPlG0+XrT5TvvYGde975oMcXgpLRP+VCkKasCyGE7CyyKmaMn4xbChy8WPc5Ivkd3pCREppaemtW7c8PDxmzpyZmZnJ4XCICPkD5CYtLc3d3d3ExATca+TIkfC4gAL/ce2w4OvFxcWvX79es2ZN9+7drayswCbV1dXh3/79+2/YsOHNmzdwpBQKpRaGQ0FJbt68OWjQIFNTUzir8Pg9c+ZMcnIyiCw2cCPyBnokIgP0yF+BLWLk8lPPUzYtIv/jnve3W16T8Xl2ENzzms8s6LS5eEIUx58qLCVS/zjokfWSlJSU4cOHg8rY29tv2bIlJiaGiJA/hEIhqOT9+/fHjRunqKior68/f/782NhYOVkv8fsBPwNBpFKp8MQLCQk5fPjw2LFjbW1t1dTUQCUtLS1btmw5ffr0S5cuwTPwdx8dlKSgoODt27ejRo2SzoLZunXr3bt3Z2VlQRSRCEHkA/RIRAbokT8NX8RP58WeKV8zp7CnU65xNatzzNEZl2e7p9QjgPUQVFL4U/M7MoU0eIu1Rc7VMv9iQI/8U4CbbtWqVaAOYDCdO3e+cOFCYWEhESd/gErm5OQcPXoUCgzG07Fjx40bN8KWP9d4OBxOYmLi48eP9+/fP3v27N69e4PMKSgowDPQwcFhyZIlp06d8vPzg2P8fVXFAoGgvLz81q1bEydONDU11dLS6tu3765du5KTk7GBG5Er0CMRGaBH/jSlgoLnjMtjSY0dc3WrKZ00OORoj8g1PlQ2P477iSf6mS8k2AveZWfJ9C/O+FMlaA3J0YFkQaxn2D9S/mEwGJ8+fZo+fbquri7oC9x3vr6+tdCc+isEBQWBYNnZ2YHxtG3b9uHDh/Lsvt8JfBDR0dGHDh1ycXFp0aKFhYWFtra2oqJiu3btPDw8Ll26FBYWRiKRaDTa75idBz5uUMY7d+4MHz5cqpJt2rQ5efJkZGQklUrFBm5ETkCPRGSAHvnTBLAebSuZMjRXDzTuM7EjAqjk7IJuFyib6MJyYrcfQSQWCcT8K9Tt/ynoWC3nqgEkciTJ9L+0g+WCYpz3R/6RjiY+f/78gAEDVFVV4dZbsGBB7Yzz+GnAbEJDQ52dnc3MzPT19YcNGwYqScT9scAHweFwysrKEhISbt++vWzZsh49ejRq1EhNTU1PT8/a2hoOc/v27R8+fKDT6cQ+NQrIYklJydu3b4cOHWpiYiJdJXzhwoX+/v7YwI3ICeiRiAzQI3+aB/ST8wr7DMnRrmZ11YILyWZbyWSKsJjY7ceJ4vgfK1vilGv4tfdyIVlvL5kSxvbFRu0/iLi4uH379tnY2ICWdevW7dixY+np6USc/CEQCEpLSy9fvgzGo6KiYm5uvmLFioiICHl23+8HtJ5EIgUHB9+4ccPLy8vJycnOzk5RURHcrlOnTq6urmvWrIEo+MhqfHw9nFhQycePH8NviTZt2sDvipYtW86ZM+f9+/fFxT//0ECQmgI9EpEBeuRPc5Gy1S2vqcPXKyOlYViu/nKyY5ng5xsBGULKJ9bTtUWjZxR0GEOycszRkb4paOVokvmUfPsNxa7vmPfIghxiB+RPgMPhhIaGuru7g0qClo0ePTowMJCIk0v4fD48LrZv3w4FBpXs1avX3r17CwoK6odKSgGhhGfgtWvX5s2bBwfYokULIyMjNTU1EMphw4bt2rXrzZs3iYmJZDK5xsdWgzguW7asefPmmpqa8DReunQpvFd5+c+0YyBIDYIeicgAPfKnOVK22EFWZaQ0LCzsXyooIHb7cURiEVvELOBn3aDuW140dBTJDFQSsnXKNVpQ2O8SZWsM52PFBEO1tzIH8uuAhVAolODg4BEjRvwRHgkIhcKAgABQHGNjY1DJbt26vXv3rrT052ckkDfgQ5E2dsNBJSUlHTp0aOjQoTo6OsrKyqqqqgYGBq1atQLFvH//fklJSc0KNOQGhrpgwQJ4GisqKmpoaMBrkEsiGkHqCPRIRAbokT/NVerOSfktZdZHDs3VW0YeUvoL9ZGASCzkiThZvMQwtu8b5n9fM66/YlzzZd4KZr/I4MX+9HhwpG7h8/nl5eWPHj06d+6cn59fUVERESHHSGdhdHJyMjMzMzU1dXd3f/Xq1e8b11xXgE0ymczk5OQXL14cOXJkypQpHTt2NDQ0BKds1qzZwIEDZ8yYcfz4cVB/SFZTo3DodHpoaOiqVavatm2rpKQEj2UPD4+XL1/+ERcGUl9Bj0RkgB750zxnXFpOdhxSUTX4jTAuz3ZHybRf6R+J1G9oNBqFQiH++BMAlTxx4kT//v01NDSMjY29vLxiY2NBvIjo+gWPxyOTyU+ePNm5c+fkyZN79OhhZWWlqamppaXVp0+fJUuWXLt2zd/fPz09ncVi1chJgNxWrFgBtgpvYWtrO3PmzHv37mVlZRHRCFK7oEciMkCP/GmCWS/2lHg45nx50p/KsKCw303afoaQSuyGIH84AoGASqWuXr1aW1tbQUGhV69eBw4caAjji0Gg4Wk5btw46XyTjSpQVFQcPHjw0aNHa3C+yfj4eE9Pz6ZNm0L+8EaDBg06f/48EYcgtQt6JCID9MifhszPfU6/PD2//Yhck2ruKA1DcnTGkBqfKl+TzovFkdRIvUFUsTaMn5/f3LlzQSUNDQ2dnJxevnxJJpOJFPUULpdLIpFCQkJu3bq1fv16R0dHa2tr8DwTE5N27dqNGDFi8+bNPj4+ycnJv7giDo1Gi4qKOnz48PDhw0ElIX84w2fPnsXnM1L7oEciMkCP/Gn4Im4GL+4CZcti8j9jSJbVJHJkrun0/Ha7Sv7zifWUK+LgtI5IPQOs8eHDh/369TMyMrKxsZk9e3ZAQMDvXlFQTgDPi4yMvHTp0rJly8Am4fmpp6enoqICNunm5rZly5a7d++CCJaUlPxK10nw0VOnTvXu3RtM3czMbMiQIVevXs3IyCCiEaRWQI9EZIAe+SsIRHyGkHqTun8xeeAokhm448hcE/gXXs8q6Hq4bEESN4yJLdrID8LhcBgMBp1OBwup2cllahYSiXTkyJEePXqoqqqCSMFreJ4QcQ2D4uJif3//xYsXd+7cWUdHR11dXUlJSUNDo1OnTmvXrn337h0kYLFYP93on5OTA+7Ys2dPOMNqamoODg4XL16swZE9CCIT9EhEBuiRv4J0vZlCflYs5+Nb5u1H9LP3aMcf0E++ZlwPZ/tl85JAIiEBkRpBvgMej+fj47Np06YVK1YkJCTU+MTXNQj4LogOWJSVlZWKikq/fv1OnDhBxDUM4MMqKytLTk5++/YtGN7UqVNbtGihqKgITmlra9urVy/Ycvz48ZCQkJ8zPzabnZ+ff+bMmWHDhkG2hoaGoJL79+/PyMiQ5wsDqU+gRyIyQI+sEfgiLk1YWijIzuOn5/MzygVFHBGLiEMaNkKhMCsrKzAw8PXr1zLHZYNtlJeXr1y5skuXLm3btj19+nRKSgoRJ688fPhw0qRJmpqaxsbG48aN+/DhA6gVEddgAKUuKCh49uzZzp074Wz07NkT3FpLS8vCwqJ///7z588/e/asv78/XAmQ8oeGdYtEIvDUkydPDhw40NTU1NzcvE+fPrt37w4NDQWVlOfqaqR+gB6JyAA9EkFqHBAF+I6nUqlkMjktLe3y5csrVqyYO3euzJUPeTwe6MjEiRNNTEzAQkaNGnX79m0wD3nWBbDGu3fvtmrVSltbu0mTJnPmzKk36yX+BDQaLT4+/tixY+PHj4fnqpGRkbq6uoaGBmjlzJkzr169GhcXBx8xg8H4IZvMzMyEq8jR0dHMzExNTa1p06bbtm2DjaiSyO8GPRKRAXokgtQ4dDo9KSnp2rVrixYt6t27N9xfgwcP3rlzJ4lEIlJ8BXACNpt97949FxcXRUVFAwODhQsXgnmAShIp5A8+n5+amnr8+PGOHTuC4oAwnTlzpsHOdygQCFgsVmFhIXxqjx49Wrp0aefOneEngaqqKvw2aNGiBVwP69evf/36tbT/K7GbLOACgDxhLw8PD/B1TU3N9u3bL1++HM4zNnAjvxX0SEQG6JEIUiPQaLTMzMzg4ODbt2/v2bPH09NTOpJXXV0djNDJyenFixffs1yyUCjMzs4+duxYp06dwD/g382bN8N9Ks8TNDIYDPDmuXPnwmNEWVkZDvbKlSs/2oBbz4DPq6Sk5OPHjxcvXly7du3YsWNBInV0dDQ0NEABJ0yYsH37drhUoqOjqVTq9wglnMzS0tKHDx/OmDHD0tJSX1+/Q4cOW7dulTZwE4kQpKZBj0RkgB6JID+BqGIORXDHoqIi0L7ExERfX19vb+81a9Y4ODhYWVlVzFEtQUFBAexh4cKFhYWF39/aGxYWBvJha2sr1Y5nz57J/+J4t27dcnFxgQJra2tPnjw5NjaWyWQScQ0b+OyePn26ePHi3r17W1tb6+npwS8EIyOjYcOGgU2+fv06JSUFHBEuD5mN1JDs/fv3Y8aMgWtMU1OzadOmO3bsSEhIAJX/uaE8CPJt0CMRGaBHIshPwOVyQQ4CAgIuXLiwcuVKcMdWrVqZm5sbGhqCIigrKxMW2aiRdCAzKCZ45/d3ZaNSqcHBwYMGDQLnAOEYP378y5cviTh5hUwmX7x4Ec6DdBHq2bNnp6amEnENGzA88Dw4P4GBgXv37nV0dLS0tFRSUoJLxdjYuGXLlrNmzbp37x4kkOmCkIBCoXz48GHGjBng62pqam3atFmwYEF4ePiftbom8qeAHonIAD0SQb4NKGNZWRkoEYjdq1ev7t69e/z48Q0bNsB3/9ixY/v379+6dWtQPVVVVcIc/xd1dfXFixfDFz+R3fcBulBcXHz27NmhQ4daWVl5eHi8e/eOiJNXeDxeTEzMjh074HliY2MzadKkpKQkIg6pAH4exMXFPX78+ODBg+DZXbt2BY+EK6dp06Ygl6CDsN3Pz49EIn2jSwBcG3BBPnz40NPTE041/HoBd582bdrTp09LS0uJRAhSQ6BHIjJAj0SQLwIaB1/5/v7+L168uHXr1qFDh1avXj1z5swxY8Z06NDBxMSE8MRvoqSkBIrp7e0tc4TN5/D5/JycnJMnT06ePPnChQvJyclEhBwjHa0MTxI4S3v27IHHCxGB/C8lJSVBQUE7d+4cN24cXE7W1tbS0TPwm2TOnDmXLl0KCwvLzs4G7yR2+AxpA/eiRYtgd9gXmDt3LvzOodPpNduVVgRKy2Ry8/LYKSnMuDhGdDQzIYGdkcEjk0XYL7MBgB6JyAA9EkG+yJMnT6ZNm2ZmZqanp6erqyv9mldXV1dTU1NWVlZUVCRU8ZtoaWnZ29vD9/3PjTiBvVgsFsgEm82W2eIpD4hEImmtZGJiIpPJ/LmjbgjAmYETBacoPT398ePHCxYsaNOmjYKCAlxaGhoaoJXDhg07ePAg2CSxw2dADtJZytevX9+kSRP4xWJoaDh+/Hg4+d+wz58A3oaVmkq+eDFz1arkyZMTx45NnT07d8eO0nv3QCWJREj9BT0SkQF6JIJ8kezs7BcvXuzcuRO+m1u1akWI4Q8CX/AeHh7x8fFEpg0AUEkajcZgMIi/kW8CLlhQUBAaGnrz5s0NGzY4ODhYWlqqqqrCD5jOnTuPHTt25cqVd+7c+eJ09FJrDwkJ2b59OzzD4QePra2tu7v78+fPS0pKiES/gIjL5ebnF164kDJ9evzQoSCRafPnpy9cmDJjRvLEibCRHhEBJSBS12v4ZWWM6GgBjUb83ZBAj0RkgB6JIF8DvuOzsrIePHiwbt26IUOGSPtBEob4ffTq1evKlSv5+flEjgjyFaRzJ3l7e8+dO/eff/6Bny7SMVsglC4uLvv27fP19Y2KigLprDZgC2QvOjp6+fLlHTt2lFacz5s37+HDh/Bs/8VpR/nl5WVPnyZNmBDRsmWSi0vujh1FV68W376df+JEtpdX+uLFoFbCBtC0zUpKKrl7N2fbNrasdQTqJeiRiAzQIxFEJkwmMzMzc/fu3X369CEM8fsYO3ZsdnY2+CiREYLIgsViSYcr9ejRAzxSeiGBHbZo0cLT0xMEkfrZfJNglhQKZdWqVXZ2dpAY9nJ0dLxx40ZhYSGR4qfgZGamz5sX1blzgpMTMy5OQKcTEWIx6COfShXJ8ZymNQgYZGTHjsEmJpQ3b4hNDQn0SEQG6JEIIhP42gaVTElJefXq1fHjx93d3eGWkX7BfwNTU9PFixeDFtR410YOh0Mmk+V5kRvkp4GrBUwxOTkZLrajR4/OmDGjbdu2BgYGoJKgifBLBracOXMmODi4tLRU2gNV2sAdHh6+b9++7t27Gxsbw7XXu3fvc+fO/cr67Mz4+Jg+fSLbtUvz9OQVFf2PNQqFkj8bxpKM6JEI8i3QIxHk+wF1y8/P9/HxWbFiRc+ePXV0dAhn/BKQADyA2LMmkOpCRETE3bt3L1y4kJqaWrMjcxG5gsvlSjvp7t69e8qUKT169DAzM5NOOTl48GD4iXLq1Kk3b95kZmbCbxW4NiB9fHz84cOHHRwcwCPV1NRGjBghXaMSoohMfwRmTAz4U3iLFmlz5vDLykRfGTUF28F8mXFxVH9/VlKS4LNpLBlRURDFiIwk+hdK08fHUwMCuAUFXBKJGRtb/vx58e3bxTdvljx4QA8J4VbtCvLF9C9efDX9v0hGCCUlUd+/L334sOj6dUhc+ugRLTCQm5cnrPIbDE4cMyGBHhbGiInhkcnwRuWvXhXduMGIjmZnZpb7+qbMmBH+999BBgak/fvLX78Gm2QlJPAbzBRL6JGIDNAjEeRHEQqFiYmJ4Ii2traEM34JDw+PV69eEfvUBNLmy7Vr17Zr165t27a3b9/GqacbCGlpad7e3sOHD7e2ttbQ0FBRUVFUVDQ0NHR2dr548SL8omAwGCCLAoEAhBL8ctCgQZBGQUEBXly9erWgoOAnKsVZiYlxjo5hdnYJTk6s5GQBnf5FlQQPg9jcvXsTx40rOHECHIuI+JfsjRshKmv9enbFvPTS9KS9e5MnTy578aLUxyd3+/a4QYPCmjYNsbQMt7dPX7Cg9PFjiepJa1ul6fft+5/0gwd/Lb0U+MnFycwkHTiQ5O4e1alTsJlZqJVVVJcuIIWgntzcXBGckIr6VH55ed7BgxnLluVs2QKaSNqzJ87BIdjUNHfnTlDV+JEjI1q1CjYy+qStHd2zZ7yTU6Kra/7RoyDH0jeq96BHIjJAj0SQHwIkkkQinThxQrr+NeGMX2Lr1q0Jn32n/gpSj1ywYIGJiYm2tvasWbNevHhBxCH1GhaLBVddRETErVu3Vq9e3a9fPzMzMzBFU1PT1q1bjxw5cvv27U+fPs3MzITE8FS/dOkSGKSBgQG4Zu/evS9cuAAmKs3q++Hk5oICRnXrBsYG+lX83/+CmUmjqgICB1KVsXhxZLt22V5e9PBwIuJfYN+Idu2Sp0xhxsbCn0T6JUsi7O3T5s5NnjQpyc0td9u23F27MpYujenfP7JTp6QJE+DtuAUFVdOHt2olST95ctL48blbtxLpBwwg0t+6JU0vpdzXN83TU9K509k5a+3avMOHwQvTZs+ObNs2duDAnM2b2RkZQhYLUvKKizNXrkx0cZGGhFGjEsaMSZk5s+T+fYqfX+aqVTH9+oGwftLVhXfJWLkya8OGkjt3pE7cEECPRGSAHokg3w+NRktMTASJdHJy0tTUNDIy6tChA3ypw2tCHitQVlbW1dW9ePFiWVkZsWdNIJ0y8PTp0wMHDlRQUACBWLNmTUZGBkgGkQKp7xQXFwcHB4MXLlu2bNiwYS1btpTOb9q5c+cJEyZs2bLl3r17MTExoaGh3t7ejo6OoJvwk2P48OEHDx4MDw//oT61AhqN+v59xooV0d27hzdvnuTqmrNlC/nKFUnTcJV2ZLgoGeHhqbNmhdragmbRgoOJiH8B7YOoxLFjpXV40vSgdEGGhlFdu4Jl5h05Qvv4EWIp/v4Fp07FDRoU2b59krs7KKmIz5d4ZGX6igrF6ukHD5aknzBBml5aEynp1NihAyhj7o4dcBSs5GRmdHTJvXtgouC7sL3g3DkQZSgPr6gofcGC6F69Ijt2jHNwyFyxggx37vPnsAu4ZvmrV/COYc2bS9q19+4tf/my3M+PGR+P7doIQoAeiSDfCTgcfEMfPXpUWhOpo6PTq1evTZs2nTlzBm4fJSUlwiL/HV1bs43alaSnpx8+fFhfXx9stUePHpcuXYK7uOpEMEhDICcn5/Hjx0uWLOndu7dUFuF6MDQ07Nmz586dO9++fZuamgov4CcHiCZcnHDRenl5paWl/ejsASBhmatWRdjbh1hZQQj/+++MxYvLHj2S9JismDzypz3yk45OqI1NwcmTAiaz6pCdnE2bQPWCTU1B+wRUaqVHStPnnzhRPf3mzZL0JibS9AI6veT2bXg7cF/S/v3MuDgiHZgxnc6EH4Jjx4Y1bRo/bBg9LAzykXpkeKtWkHnG0qVgyUTqf8FxNgjyLdAjEeQ7CQkJ2bBhg62tLUgkfGGDRN6+fRusLiIiYuTIkfBdTlhko0aWlpYuLi5BQUHEnjUKh8MJDAycMmWKjY2NgYEBqOSbN29w7HZDg8vllpeXZ2VlwcVw9uxZuN6sra1BJUEo4UXnzp2dnZ23bNmyY8cODw8PExMTuGjt7e2XLVv2o5elgEZjp6aWv3oFuhY/fHiolZVUwkj79nGysiDBT3tksJlZ/MiRpY8fV+t2WfrwYcrkyUFGRrk7dzJjYio98qvpHz1KmTIlyNBQmp5XXAymG9WxY0zv3rCjtPFaikgggD/hQKK6doUilb18CZlXeiS4cqmPD++zyZLQIxHkW6BHIohMKBRKVFTUmjVrOnXqpKCgABLp5OR07tw5uH34fD7cNVu3bu3YsSNhkY0atWjRYuPGjTXbObIqBQUFPj4+w4YNg5Lo6+vDe4V/1ikNaSCwWKyMjIxHjx7t3Llz2rRp/fv3t7CwAGsEdxw4cKCrqysIJRgkXCcaGhqtW7deu3ZtQEDAD430F/H5AgoFnKz41i2QqrjBgyMqmoZL7tyRjH3+WY8MsbZOnTOH+v69NFkl9JCQzOXLgwwMMpYsofr7V3pkSOPGkvT+/kS6f5GkX7GiMj03Pz9h5Mjwli0TXV2lLdfVKPT2Bg8OMjYmX7nCI5MrPRJkkREZCW9HpPsX9EgE+RbokQjybRgMRlhYGJhiq1atlJSUdHR0BgwYcOrUKTqdLh0DS6VSX79+PXbsWGVlZalHdunSBW4rEokkzaHGAQmg0Wjbtm3r2rWrrq7uhAkTHjx4QMQhDZWysjK4UE+ePDlu3Lg2bdqYmpqqq6vD5WpjY9OhQwdLS0vpxdm2bdsVK1akpKT8xNqVEqGk0/OOHo0dNCjI0DBz6VLqhw8/7ZGS9CtWfJ6eGR+f7eUVpK+f6uEhrTIk0v/1lyT9Z/Wp1dJzc3Oje/WSTlf0xfmAiu/eTXJzg/LnHznCTk2t9Miozp3ZXxqNhB6JIN8CPRJBvk1oaKiXl5eJiYmqqqq+vj444u3btwsKCqRTQAPwAr6SN2zYAGkUFRXhq3rgwIHx8fGgetIENY5IJII3jYqK2rVrV8eOHc+cOZPaYEaPIl8DftWw2WywSbgY7t696+np2bx5c01NTRUVFRDKyh85ampqLVq0WLx4MUgnsef3U3HlcfPySPv3f9LVjR8+vOj6dfTI+g16JCID9EgE+RogguHh4WvWrJG2WRsaGg4fPvzSpUtZWVmfNwveuHHD0dERvqRBN52dncvLy3kVoxB+H1QqNTo6+ubNm4mJifQqa9YhDRy48OBJ/uHDh8uXL69bt2706NHweNfQ0JB6JKClpdWyZcs5c+bcu3fvJ9ZbEvF45IsXP+noxPTpU3ju3P97pI1N+sKFn49T+apHVqSnfvwoTVYJxc8PFBA8L3vjRnpY2P97JKRfsIAaEECk+xfQuzRPz8r03IICeMfwli3jhw1jpaRI1t35X/IOHYrt3z+0ceOSe/f4cJ+iR34T9EhEBuiRCPJFyGTyu3fvNm7c2LZtW+nwBQcHh5MnTzIYjC9+70ZERGzatElPT8/IyGjGjBmVtZUIUodkZmbevn3b09Ozf//+TZs2hd9C8FNHapNmZmbjxo2Dixwu9S9eriK40Gk00Wf9BfmlpflHj37S1Y0bMoR85Yp0nvCMRYtCra2T3NzKq0xTIGSxONnZCSNGfNEjQywsEl1cSh89kgyFkY6/FolA+wpOn44fOjSkcWOwVS6J9P/9I83NJekfPvxC+mHDQqyspOmheJJpL7t0iWjTpvTxYx6ZLElZAWTFKyyUTP3Ttm1Mz57SqlCZHpm7cydEBRsbl79+/cWZ2Os36JGIDNAjEeSL3L1718XFxcDAACRSV1cXbBLulNLS0q/NsEOn0588eWJjYyOd1hE9EpEHQAU5HA6NRnv//v22bduGDBlS2VFSUVHRxMSkb9++L1++/OIUpIKKrsGfNw2DKaZ6eAQZGKQvXEh5+1YicwIBac+eUCurCHv7oqtXiXRiMTs1lbR/f2SnTl/0SMk8PlZWOdu3szMzJavLgBby+XwqNfU//wlr0gT2ogYESDpw/OuRRPpt29gZGd9ID8Uu9fFJcnUFs0yZMaNqJSI3L6/kv/+N7d8/skOHzFWrQH9ho0yPzDtwILpXryBjY8mqOT84a1I9AD0SkQF6JIJUA2QRbgp3d3crKyv4rjUyMho6dOiNGzcyMzO/McoVvrCjo6OnT58+ceLEQ4cOfU03EaROgKs6Li7u9evXR48ehUd9mzZt9PT0VFVV4fKGS/3WrVugklV//AiZTEZEBCgaOBaIlHQl6+LbtwtOnkx2d4/p0yd20CDYUjlLTvGtW3FDhoQ0bpzo4pJ36FCJj0/huXNZ69cnurpGdekCkve5Rwbp6YW3aBE/dGjG0qVF164V//e/kHn6vHlRnTrFOTgUnDolHW39/x4pTe/omLFkSfX0gwdXpge55Obm5h05Ilkap3375MmT8w4ehKKSL1/O9vKClFHduqXOmkX9+JFfXg7pZXokHDsc1Cdd3ZSpU/OPHy97+ZKTlQXnh4iu76BHIjJAj0SQqhQUFDx58sTV1VU6G5+uri5I5IkTJ+h0+jckUgrse+3ate3bt1+8eLGuPJLH4zEYDCqVijNKIl8kPz/f19d38+bN48eP79q1q42Nja2tLajky5cvyWRyZZ8NIYNBCw4G+YtzdEwaNw7EK33hQvCtlOnTwfySJ07MP3KEk5MjTQwwIiNJ+/eD/8X07ZswalTGsmVpc+akeniA88EuIHOwLysxEVJWemSwqSmoZ8LIkZB/+qJFafPmJbm5RXftmuDkRNqzh5OdLa38q/RISXoHh/9JP2ECkX737sr0Uuihobm7dkFiEMcEZ2dID4VJdHaO7tkzbe5cEGIBkymt1OSXluZs3Ro/fDjIYtUjqoQeHi5p2u7SJbpXL9DinC1b6CEhUgdtCKBHIjJAj0SQqvj4+IwePVpHR6dRxbI0bdu2vXHjxneOYmGz2dnZ2aCSsEtdeSSFQklLS4uOjgYnIDYhyGfA9ZmVlXXnzp1p06aBShoZGfXt2/fdu3dVG7j5FEr569cFp05lrFgR7+QkEcrx4zNXriRfuMCIiCB6KFYBhKzk3r2s1ashGYTsDRtKfHzAt8pfvSq6cqX45k2edL3synE2FeO1i27cAKtLW7AANC5x3LjMFSsofn684mJpnkClR0rGay9fXnT9esnt22ClX0tfiQDu2+DgvIMHk6dNA01Mmjgxc82aosuXpdOnVwLGXPbkSf6xYwVnzvC/spApKykp79Ch5EmTQEzTZs2iBQSgRyIIAXokgkih0Wg3b950d3e3sLBQVlaGO2LcuHG3b9/+dnN2VYRCIXwN5+TkwG1FbKpFeDweGOTx48ddXFzc3Nzu3r0LXovN68jXYDKZ8MAPCwuDrwAvL6+xY8dOmTLlzJkzcAFzuVxIIIJLqqiInZHBjI2lBQZSP36kBQfDa052NiimNJOqiGC3vDxmXBw9JAQCMyGBm58vyYRM5kCeublghJCsmkdS3rzhkkiM6GhaUJA0f3hTyEqaJ/A/HllhjUT64OAvpq9EJBCAF7LT0uhhYVB+emgolE1Sbfm/TdKQDASXnZ4u6ab5lTkWQEkl+YSG0j59Aofml5R8LWX9Az0SkQF6JIIAcOU/efJk/PjxNjY2ampqcDvMmDEDJLKsrOw7JbLOge/rlJSUVatWmZqaGhsbL126NCIiAjYS0QjyFahUanh4+OnTp9esWXP48OFAUK7fOY1UNY8EFyQivkI1j/x8/kjkt4IeicgAPRJp4IhEIg6H8+jRo9GjRxsYGCgpKZmbm0+ePNnPz49I8YcgFArh6x88oEmTJqqqqj179ty3bx94MI4cR74HuBEYDEZkZKSPjw9cNsTW3wB65J8FeiQiA/RIpIEDEnnz5s0JEyaYmpqqqKg0bdp0xowZAQEBpaWlRIo/B4FAEBISIl1ZR19ff9CgQc+ePSv8d0QtgnybivkiaWQy+bdWY6NH/lmgRyIyQI9EGjL5+fmPHz8GiYTrHyTSzs5u9uzZT58+/a3ter8V0F8/P7+hQ4eCFltYWMBN/e7dO2zdRuQHEY/HTk8vOHUqbc4c8uXLrJQUIuIrEOlPn5akv3RJZnqkZkGPRGSAHok0WGg02pMnT5ydnaU1kebm5tOmTXvx4gUR/cdCJpOPHTvWr18/dXV1HR2d/fv3FxYW4oAbRF6omCoc1JARHs7JyhLI/M32o+mRGgU9EpEBeiTSYLl586abm5uhoaG0JhIkMiAgoPzPn86Dx+MVFBR4eXnZ2NioqqqOGDHiypUrlfMCIkidI12lRshgwL/SSRy/zY+mR2oQ9EhEBuiRSAMENOvhw4fu7u7S5uxevXqtWbPmxYsXlC/NZvKH8vLly0WLFvXt23fdunXv3r3D0TYIgvwE6JGIDNAjkYZGaWnpkydPRo8ebWFhoaWl1bx583379sXExBDR9YWioqLAwMDDhw8HBwd/cfVkBEEQmaBHIjJAj0QaGnDBjxs3TkdHR1lZuXPnzmBaSUlJ9W8VQYFAAPoI0lxt3WQEQZDvBz0SkQF6JNJwoNFo4eHhs2fPtra2btSoUd++fXfu3JmYmMhgMIgUCIIgSBXQIxEZoEciDQSQyLCwsE2bNnXo0MHQ0LBTp04HDhyIjo4mohEEQZDPQI9EZIAeiTQQwsPDQSJNTEx0dHSGDBny7t27goKCP2XNQwRBkDoBPRKRAXokUu9hMBihoaFr1qzp0KEDSKSbm9uNGzdKS0u5XC6RAkGQryPi8filpZysLE5OjpDF+trMOyL4WVZWxsnOlszyyGDgBD31A/RIRAbokUj9hkKhhIWFeXl59ezZEy5yJyenW7du4VKBCPL9gDuyMzKKb90iX7hACw3lf2WOVT6FUvb8eeG5c8U3b4JQglYSETUK6Ckaam2CHonIAD0Sqd9ERkZu3brVxMTEyspq0qRJsbGxNBqNiEMQ5DsQ0OnMuLhEV9eINm0yV62C10TE/8JKSUkcMya8RYtEFxcBlUpsrWmEbLaAwRDj+ky1BXokIgP0SKS+wufzSSTSnj172rdv37Rp02XLln348IFKpWKfSAT5IUR8Pnhh2qxZYU2axA4cSA0IICKqIGQwqB8+RHXqFNWtW9a6dRLVq1H4FAo9NDR7wwbSgQPlvr4i7JRSW6BHIjJAj0TqJWw2Ozs729vbe/z48V26dFm6dOm7d+9gIy4zjSA/R87mzRFt24ZYW5fcu/e5JnKys8mXL4fa2iY4Oxddvy6s6QlZuXl5JXfvRnXpkjh+PPnKFSFOrV9boEciMkCPROofQqGQRCI9ePCge/fu/fv337FjR0lJCRGHIMhPAZoY7+QUqKGRd/gwJyuL2PovtMDAzJUrQ6ysMpcvZ8bGEp0j4WebUCjicoVstpDJhH/htaR34xd/zsGPPIFAso42iyVJLE3P40ly4PPZqamF3t5hdnZQhsILF/gUimStbYitCuTA5/9/DvDvl95OBBnyeBAFOVcWT1LBKZ2uv1oxKsvcUEGPRGSAHonUM6QSefr0aQcHh8mTJ3t7e2dkZPCqfd8gCPKDUN+/T1+8GDwybf58ytu3xNZ/AcuM6ds3rFmz/OPHBXS6VN3AxniFhaUPH5L2789aswYEFF6zEhO/WJsooFJBQIuuXcvZsSNz1aqstWsLTp+m+Ptzc3OpHz6ARKbNnRtibh7VpQu8AJUkX7tGeffu/x0RHLKsjB4aWnjxYvamTZBD9ubNxTdvMuPjwQWrqiRIMNXfv/jWLW5BAScnp+zJk7wDB0ru3+fk5oJfCmg02IV88WLO9u3ZXl4kiLpzBwpG7NzwQI9EZIAeidQnBAL4MqLeuHFjyZIlkyZNunLlSmpqKhGHIMgvAD6Xf+JEkJ5e/LBhhefPE1srqvf45eU527aFNW0aO2hQ6YMH0u28oiJqQABp7970RYtSZsyQhjRPz+yNG2E7r7hYmgwQMpnslJSiq1fBNZOnTEmeNAn+hcSp//lPwZkzrIQEsLqMpUvjHByCjIxAVeFF6uzZafPmFZw6JRVEMFdWcjL50iXQR8m+06cnT50K+aRMnZq9fr1EGfPyJDZZAVhp7q5diePGFd++DQcCaRJdXPIOHWLGxYFWQvmz1q2DjSnTpqXMnAlvBDZZ+vixdN8GCHokIgP0SKTeIBKJKBRKTEyMp6fn4sWLnz59Wv6VCUoQBPkJyl++DLOzi2zTBtSqsr1YyOEwoqNBEEP/+gtsj/bpkySpUAi6Bl4Y9tdf4J3pS5aAqIH5xfTpAzlkr1snSVaxu4jP52RmFpw+HTdoEETFDhiQsXgx2Cfp4EEwubyDB1lJSeCLabNnw75BBgahtrbwIsndPXnyZEgjyUQkYqemgnHG9usX0bp13NCh2Vu2kPbty1y5MrpnT2mepY8ecfPzJQUTi4vv3k1yc/ukpwc5JLq6hrdsmeDsDAVgREWVv3oFUSEWFvGOjpmrV+fu3Zu5Zg28ABOV7tsAQY9EZIAeidQbWCyWr68vSKS3t3dISEhZWRkOzUaQGoQeEpI0fjyIV+p//sMrLJT0KRSLBRRK4YUL8UOHgsOBb0lahwUCAYMBrhnTt2/88OEl9+6xMzNB49jp6YVnz8YNHhzdvXv+0aMCJhN0k5ubW3T9elSnTrGDBmWtX8+Mi5MkzsuTpE9NhX+FLBa8F+3jR9KePaE2NpAMHJEZG8tKSZGqoZDNLrl/P7pbN8gkY9kyelgYJysLcoAEpU+eJE+a9H/tnQdYE0n/x//ve2fF3tvZe8HeTk+9sx0ixS7q2cUu9t7FXs7ee++9YEdUpENoAUKA0EMoARIg9f7fZUMuBjRegHtVfp9nHh7YnZ2dmV12Pzs7M+vZuLH/gAGQ4OxC5HhkmTJebdrw7eywHKlhF5lhYYJ163yQTteuKS9eZIaGIhFmWnWBQLf1tKhBHkkYgDyS+G4IDw9/9uzZiRMnfH19Uwtt+jqCKLLAzOBw3h06BAweLH79WpGcjIVyoTBs/nyooX///hIvL5VUqhCL05yducOGcbp3hy9CH9nNQbqra/iSJZ7NmmETpAYTRTr8OXNcKlXiz52b54xCLFBD4dmzHg0aBFpY6I3XlgYGRm7Y4FqtWvCYMYk3b6qystgRM2qFAv4Xs2ePb48ebnXqxB44IE9IwHKNR5YtC7mMP3FCmZrKDqOB0YYvXuzdti2nW7dUJydFUhKTepGHPJIwAHkk8d0AfeRwOOnp6coiPLiSIAoPaJnY0ZFpUOzePWb37iyBgBlJHRoaMGiQT+fO/Fmz5NlfisLymL17EcevT5/k7Na+zPBwNsDPYKKeTZoE2dikPHumlEjijh3z7dnTtXr1+NOn8xx/w/IZj0y8dSto9GiXypWx08xc/aGxF960afDU8EWL0j08/lKrWY90qVABRgvf1cRD6eLjo3ft8v3lF6/WraN37EBWZTExyCHKqIlRJCGPJAxAHkl8N2Rmo1KpaJJIgigMmAlxJJLgsWNhWsHjxkn9/RXJyeJXr3w6doRKxp86pRSLES2Dyw2dMcOzRQuPhg2DxowJHj8+ZOJENgSNHAm5dK1aNcDMDF6oEIsFq1a5163L6dkz+dEjtsdknnzGI6O2b/fp2tW1WrVkBwf2VbsuyAyUF2uRk8Q7d/72yEqVYnbtyggK0sTLHu6T7u7OmzrVrUYN93r1/AcOFKxbl+7iUsQbJskjCQOQRxIEQRBfjmDtWk63bt4dOqQ6OUl8fKJ37fJo0oQ3ZUq6mxs7Jlrq5xdkY+PRqJFns2ahM2fqBt60aSETJgQOGRKxYkXy48fK9PTwpUtda9Tw69tX238xTz7jkZEbN3q3awdTZKYBykUmnx936JBr9erc4cNF167pemTsvn267ZdqhQLKmOLgAH3kDh3K6d7dt0cPSHPc4cMSLy9NpKIHeSRhAPJIgiAI4suBxgVaWsLMRDduIASPG+fZtKlg/XpFYiLb0VDrkT5dusQdPx5/5ozw3Dm9AF3LCApSy2SC1auZ9sju3Zn2yE/zGY+M3r6dw7ZHPnnymfZIGGHSvXuf8UgWlUyWGRGRcPUqf+5c35493WrW9O/fP/bAAW23y6IGeSRhAPJIgiAI4stJc3YOs7NzqVIleufOyA0bIFt+v/4KydNqFgQREubVqlXAoEEZwcGKpCRon37IymL6HarVkDxvU1P3n35iGgs/zWc8UnjmTIC5uWuVKoggi4vTLM0h7f378CVLXCpX5tvZsZMNfd4jEYF5fZ+RIRMK4Z2QSPcGDeDKsuho7QyURQrySMIAxnikWs1+pSAzNFQuFOr+P39E9oQOWQKBIjn5W+mnrJbLcclTF/SXYT8PrllZkZGZfD6ugPqf+cpBmZaGyzGupOwAye8S3EXCFi6M3rVLGhCgWUQQxNeHXCSKPXjQrWbNkIkTudbWns2a8efM0f3CDS5lCRcvQi45PXowc4BHR2tW5IXo+nXukCGuVatGrFol4XA0S3PxGY9MffOGP3u2S4UKvGnTUp490ywFKhXML/7ECb/ffnOrXh3WqDte+5MemQNuWxJvb9inZ8uWgVZW+B3XYc26ogR5JGEAIzwS3iOLj09+8iRmzx78Y0v9/Nh3GXqoZTKYQcL58+nu7sxnsr4ymE+sZj8Na/7+6y9FYmK6h4fw3Lk0V1f2cvPvoJJKcc2NO3Ik6eFD5Sdmq8HzffSOHXjsTndz0yz67ghbtAh3Jr9+/VKeP9csIgjiqyTp3j3vdu18e/SARLrXqxd39GhmaKhmHa5pEklGYGCora1P164hEyYk3rqFx2B5fDwEFD+Zx+bQUFxv2ci46kZu3Ohev37AoEHR27dDJeGdWIvIkDxZVBTTCqhS4ZqcdOeOR+PG2GmkvX1meDgeqnHxRApIEF7r2bQpp1s3werVED4skcXEYC/iV694U6d6Nm/u37dvioMDu8dPeSR2lMHl4mKLzRXIalyc+OVLnq0tSho8dixK9BXeyP4FyCMJAxjhkczXC7y8QmfO/FCunFuNGjF//qmUSHSFjAULAwcP9u3dO2b/fu2HBL4eUApcFGCTmr//+ouZxmzu3A/lyzMPtZ/t8V2w4PqIx2VcjnG9yxIINEs/BhfiD2XL4qIcs2+fZtF3B3kkQXwrpL5/D0F0b9DAuXRpCFzqu3f673zV6vjTp/3NzBAhwNwc5ofnZFhd8sOHeB6O3rkz1cmJjajKyBC/eQPPc6tdm7kMTp+ecOkS1sLh8PCMZ2xoJdvrUerr69WyJfzPr1cv0dWrqc7OsEk2kTRn55CJEz0aNPBq1Yo3ebLw3LnEGzdi9+4N+P13aK53+/ZIR3t1/ZRHQj0j1qwRrF+PHCKr0FbBypXutWt7t2kjWLs29z2uiEAeSRjASI/09AydMeNDmTJs52X8W+buOAJLw/Ol7y+/QH2+Ho/ElSLlyZOIZcvijhzBcyfKolmR3R079vBhuFr07t1Sf3/N0sKH8chff/Vo2jRk8uRPeuTNm7gc+3TuHLN3r2bRdwd5JEF8KzBfpjl5MtDKyq9Pn9Dp0zN4PN1ncpasiIiku3fD5s/nDhvm368fYkIWuUOHsp/Yhjuy0dRKpVwoTH76VLBmDXfECP8BA/z794f/ca2suMOHM7ePHI/E1Ttq0yashU369uqFx348YLN6p0hKSnNxid62LWTcOFxOsS88nAcMGBBobh62cCHEFJlhGy9ByrNn4YsWcXr0YOQyMpJdCHCfgu+GTJrEHTJEk42BAwMsLGL375d4e2siFT3IIwkD5McjXcqX92rRgvPzz6GzZ2eGhup1lPw6PRKCiGdc77ZtQ6dNS3d3180zcyVydY3etSv17Vt5zjuXfwHySBbySIL4VlCKxVI/v/hTp5gOOffvKz7xIXtFYmLau3dxhw6FL1nCmzwZAQIX8+efomvX8BiviZTdywiXYlyQhefPR65fz58zJ9TWNmzevMiNG5MePtT2sFdJJOkeHnHHjoUtWMCbOjVq61bmWpHTTAgfRZZEV64IVq/G7Ql2y+xrzx7x69fwVF3NzeByk+7cwSrsUbfHuUIsTnrwANYYsWIFb9o0JBKxahXKmBEcrMo1DLzoQB5JGCA/HsnMyGVtDSfz6dQJoiOLitJt+f+cR6rVuC4gHVw7mJAzcE+zVpfsoXN4GGWiZWbin5npi6lSsQuZ37VbaWMimm6yOqjlcjyz4orm0ahRyPjxac7OuHBgoSZaTgrMn9kXHfzCrJXL88hbdhE0kT+VB2QAm+d6TNfDGI/M7typm1VdmDxgv1jLrkKuskvBVpcmh7pV9Kmax14+X5acbDAp4He5HJHx86PaY4+XblLZcXJXSx4eyeYByeJU0dlWv8g5hdLsS+8QfKqA2E6vKnKnTBAEUbQhjyQMkB+P9GjcGE+WwePGebVqFTh4MB4ccfPWRPqsR+LhNdXRMe7oUTxuIgjPnoXeMZ+fggfoolIpMzIk3t54SI1YvTpy82bhuXMSH5+siAj8TLhyRRoYqB1AhzSl/v6Jt25F79oVvmwZAh5bYYpaX0Hi4pcvkUiglZVbrVp+ffpE2tvHnz6ddPduupsbfEKZmioNCEi4fDnVyQk+hw2xOR5bk5880RsljVVKqTT1/fvE27fxU57zCX8UHw/ZouvXkTLKFXvoUPKDB1k5PXg+xT/1SBREFhOT+vat6MYN5ByP2ppIOWSEhEDFUJBMPp8xsKyslKdPETICA1EQCYeTcPGiYM0awdq1sQcPMo2vOfnXRSWVYnM83Edt28bEPHQIKWDJ3/6nVqNoYkdHZAN5wEFBYWN27Uq6dy8rOhr2hmf9xLt3cfhkcXGZYWGJd+4gKTzfR23dmvz4ce5qye2RqE9smPLkCQ4lqjRi5cqoHTuYbbPTZ+MA5sD5+aFQ+MmcG15eyHb0jh3YV+yBA2kfPkAT81RJnEWiy5fZkzDu8OFkBwdmyHwRbnggCILQgzySMEB+PNKzRQvcsGN27+YOHepevz7UBDdm7Q37Ux4J24M4hs2dGzptGm/KFISQiRPDly5lurBkf62VjYZ7P6wF4hixbFnI+PHBY8fypk0Lmz8/YsWK+BMnIIvcESMgeTAqNj50AY4YvngxMhY8fjzWBo0aFbZgAVSPnXVCLZfDKoJGjoSNuVSuDPfF7zxbW0iS6OpVaBOSgoZyhw2L3r497f175ARqgj2GTp+OcqHU7I6ASiKBskRu2hQ6cya2zYqMROIQWZh01ObNzAcbJk8OQdFQwMmTY/fvT/fw+MxrESM8ErYEtQqysYnetg26pomUAw4Kf9481GqaqysyBs2KWL48fMkS4ZkzsCVkm29nh+zBpwMtLFBdKOZH75jgqbGxKQ4OKAsKGDJpEhv4s2fjWEt9fTWDytXq1DdvEAfZQL3hoOAwofZi9u+HyGK/WIIaiD95EllFlUITUdtM/6f+/ZE3TbVIJNn7ZMjtkZBISHnYvHn8uXN506fjsAZaW/OmTkUlIMPM6K5sZFFRomvXsApPNdgXzhCcToiPzASYmaEq8Mghz5khmQW+CN/FoQ+1tWVPQt6kSTjQEOt0T0+mYfITTZgEQRBFCvJIwgD590jxq1fwM/effvIfMICZ9D8jg22yyu2RTDNeejr+9O3Z07ttWzgWLAQB0fAnp3t3pitMTj8bqJLw/Hnvdu08mzTx79cPkoqY/DlzfDp0CLS09O3Tx6VCBXiDdrRdwoULyACEQLBuHSwzYuVK7NqjUSPf3r1Tnj6FGahlsqjt2wPMzb1MTV0qVfJs2hT7hQOFLVwIr4WUZIaEwJM+lCvHfIb19m14ZNzx4/4DB7rVqQNN0W32w+/M7vr353TrhhqAxyiSk9Pd3IJGj/Zu3x7ZQB4it2yBhHk2b47CIvNMBx291tYcNB7ZqBFcWeLtjT9zByjg3x6ZPQVGlL29W61a/n37QmT/Tjn7FTbc17NlS+Qt9d07LJOLRH6//YZtQyZM8GnfHr/DsVBFqCufTp1QFZCtuKNHGXnCgVOrcQSTHz+GYCHz3CFDwpcvj9q6FY6Lovl07Mh8kTYwkNEstRrVwh0+3KViRaSMZwmcD/iJSoP/MdlYtMijYUNon1+vXpyuXYPHjRNs2ICFOC6oUmRPsHo1jrI287k9EjYfuXEj6hmPB9E7dyIbOPQejRvjGQAVgr2w0eCUWOVcqpRf374BgwdzunRBDeAQhM6e7dWypVv16tgjnFXrnShgyrNnOIVQHJg0exKiCN6mpqif6B07ZDhYOu2dBEEQRRbySMIA+fdImBzu93ARuAs0gum5nO2CuT0SssVMOTtsGBwC6pbu5SWLjkYQv34dvmSJW40a+MmqD4AeMXZVr1740qWQgCyBADEzeLxUZ2cYCbRVzyNlMTGIlhESws4chvgQGuzLNXtmIuYtqlrNtDjeuQOLcq9XD6uSbt+W+vpiFbQMcqbnkZAqWB3kxrVatfBly5gPIeSQyefDbOArKC+KBkOFREKYmCFHM2agBqBHyK2Ew4natg0mCnUTv3iR5+tjgL2jpK5Vqni1bg2bgSvnDtDfv/tHZssiat6vTx/3+vUjN21SiESsjTEvo0NDg0aNgiBGrl+fERzMpJ/tkUwTbOvW/NmzE2/eRP5RFYiZeOMGVuE4okpRt0zXArk8KzoaiunXu3fI+PGpb96wNY/IUVu2IDKnU6fEW7eYDgw5HvmhbFk8BkDHIWdSf395fDzTdqtWo+o+lC+PIxVsYxN37BhzaKKiUNvprq4hEyfC5iGXyQ4OiqSk7GrIwyNRM9ivNCCAqU8c06gonDP8efPg3EEjR2onHNZ6pHvdusg5jhS2wmkg9fODfbIFjN2/X9vmKn7zBrl1rVoVfo/f2ZMQRw2ZxHMLd8QI0c2bRXPCYYIgCD3IIwkD5N8jZVFRuMdD2vz69oVPwAUhZ4iW2yNhJNjKt1cviAVu6kyvtWzgndBKj4YNAy0thefPQ4nkcXGRGzZAkmAzCZcvMy+Fs98zwvZgMFiF+72eR6oVir+jyeFZoqS7d3m2trCcMDu71Ldv2Wjpnp7hy5cz42wmToQ6aPMA9D1SrYb4Mk2tdeuiIMgGGw07grD69+2LokWsWAGJVIjFCVeueLVsGWhhEX/8OGNR2S2ysDr4JXaEiorZs4dpxssL1iNRHNitb+/e8M7cwbtDh4/G2bCfJluwAJbGmzYNZsbsNPt1LePf2fNrQLOQMhayHvmhTBmvVq2wFs6UnQAD/Ax1CJ/z7dkTBWSMKj4++dEj3x49YK7Cc+e0cwUDOB/25Vq9evSuXcz7d61Hli8f8PvvwtOnlampum2u8EJnExOUK8renjVaFhxB7CvQ2hoVG7V9O3u2gNweieOIoPldqWTajMPDI9et82zWDFWKU4VdpfVInw4dIO6oCrZFHDvCkUKe3erUCZk8WezoyMaP3bfPv39/b1NTCDGOHbsQBwuPDf4DBuAQCFavZquOIAiiiEMeSRigQDwSLgXzC1+82LN5cyga9AJKoeeR0C+Jjw+nc2efTp3C5s9nhkSEh2sDnAASADuM2rIFt39IEm/KFEgSVAm/a3acQ8KlS9whQ3J7JDyDaWbj8WAPSffvQ7mCx46FPzFeeOcOG+0feGQ22JDTrRvKxWQsu5mNnRsCeYNCoaTYb0ZISNTmzdgR0mS6S+YUKpPPlwYEoKIgiCiO1mX1+Ls9slUrphvo9Om5A1RSzyOzIiNhY16tW0P44k+dYtvPoKr8efN8OnZEOqhzptUwxyORPvxS1+cA5CmDx0NBIMGwbam/v4TDEWSLWpCNjfj1a8TXFifl6dPwpUtdKlbE4WMOSo5HIuWI5cvTXFw0ieagaY+sVw+6plmUDYwQmYersZOPJj95wi7P7ZEARZALhZlhYRJfX2Zo0bVrzInXvDkOU+zBg2wcrUcGjRghun6dXciQPRxKsHata9WqsEPmHMBzSFYWf9YsFBAPLThJtKVDgPRzhw3DSYh0dG2bIAiiyEIeSRigQDwSSgGdwj0+aORIqEPozJlQAT2PlCcmJj18CANwr1uX8/PPwX/8oR3AgRBgZuZep45L5cqQUWyYcPFioIWFZ9OmwlOntN3gtGi+RvCxRyJ9yI1gzRrsFFaEbd3r13etXh36lR+PRPyIFSugHfw5c5hufzIZ87Z0+3a3GjUi169n8qZWi1+9QpGdTUyY/nbW1rrlYnrddejgWqMGRDD58WM2TT1Yj2Te1drYQGWgwrlD/IkTeh6plsulgYFIFl7Onz2bfWkOmfPt2dOvb194LY4I8oaFrEd6NGwYPG6cfmVmT8eDTML2kHPsPdXRMWj0aFiyl6kpJA+1pC0L2yEBuozliXfv/u2R1arF7t2rZ6gAXoj6xwkAAdUsygGZj9mzh/kuxa+/wrzZhXl6ZAaXiyLjiOCcwfnm0bgx4uAYoTZyeyQKmHTvHrtQg0oVuWmT1iMZbw4JQQGRZ29T08AhQ7SlQ0D9e7VogVW+PXpkRURoUiAIgijCkEcSBigYj8wmk8+PO3zYs0kTn65dBevWYTnzljDHI2XR0YgMD4AwwRV4U6ciBW1gNSXQ0jLuyBFlWlr8qVNMh8vmzUWXL2vT15J46xZu+VqPZN6Di0SJN2+GTpsWYG4O9RGsXg0jFKxaxR0yJJ/tkcg2UvZu1y7QygoLFWJxioNDqK0tVBWZhJcgTtKDByHjx8Mj4XDBY8bolgsBqUGv4ce5W+xYNB75z+chl8XFhS9dyunRI2DgQAmHg0pGDmHPyEOiTrOcxiObNGHSz2sSIlQ+xBH+jRymPHsW8PvvcDXoqV5BcMggauzAFOabZlqPrF497tAhHH1Ncjnk6YVaYvftc6lYkdOzJ54Z2CW546e+fw8LhBajRFgbtW0b7BNPIDiLPpQtm4dHjh+fdP8+u1BLlL291iOVqanpHh44K2D2nO7dcWg+KqCtLZ5P4NP8uXPl8fGa7QmCIIow5JGEAQrQI4HEywtGhdt84ODBsAHoCyRAzyO92raFuMQdPy48dy53YCaSTE9n+s9ZWX2yPfLGDZiZ1iORn7QPH0JnzfJo0AAeAC9h5hdUKj/yQmM9EqYo9feHWjG9IVeuzIqIiDt61H/gQK6Vlfar/6xHMsI6cmTUli16JUJAcZhZD3U+wKWL0R6pFItRFZBvb1NTKB0qPHrXLtcqVSDQEp2veH3GI1FLKCAy796gAYwQjgWP9Dczg8/ByONOnBCePatXFgTx69dMOkZ7pFqtysyM3rnTpXJl//79tW+ideNrOsLa28P/vFq1it6xA3lTSqVYLjx/HuoMB82PRzLtr5aW2EqvaGxAIjgJNdsTBPHtgAu2UCgUiUT4RbOIyB/kkYQBCtYjFcnJqc7O0CwvU1P+3Ln+ffsGjRjBeqQiJSXl6VPPZs04P/8cuXmzXCiEweQO6uwvkcBUQiZMgBdGbtyoq0QszFtva2utR0KnonfvZoTD1FTs5IQdQY8QrUA8EtKjSEwMX7rUr08fpsXO2Tls4ULvNm0QUztuJtXRkT9nzoeyZcMXLUp980avRExgP5eiMwZFF6M9EnUFn0M9o6KYmW5Wr2ZaFmvXFl29qh2eAj7jkUqJRMrlcocOhauFL14sDQhIdXIK/uMP97p1Q6dPhxqibvXLgsCWxViPZBQ/PBxSjg1xlLVvvXXjo8ag3RA+n44dUfnIGFOi7Nf0+fFInFp4Egi2sWFqY+pUPLToF40N2aPRNdsTBPHtEBwcfPXq1fv37+MXzSIif5BHEgYoWI/EzV6RlBS1ZYv/gAFebdpA7OAomnE2MpmEw4GKwQx4U6YwSz4xRR+WZ0ZERKxYwbxsNTMT3biBPbL3dab9LCMjYtUqr5YttR4JeQ1ftsy7XTvvtm3TvbyYyNmkvn0L54Pe5csjsweeC8+c4Vpbo7zwWiisb8+eYkdH7YQ1kD/oHWQF3pOQM6z7yzHaI5lRI1Jp7P79vj16+PfvjzpnwsCB4levNBGyYT3SpUoV319+gSZqZhHPRhYdHX/6NJYz47UvXcKfGcHBSNCrdWuUhZnOM2c4cx58gUcy42zq148/eVL3e+U4QLC9IBsbHN+obdvyHK+NhwGJhweK492hg2DtWk3iajW2xUE3+r02zh+oc8Ty5d7t23O6dEl59qwofzaXIL4/RCKRo6PjxIkTV6xY8fr1a4nOlw4I4yCPJAxQsB7JAlnhz5/vUrmyW+3aEEHWI7EcPyPt7f369GGs5epViZcXtlUkJkLIZDExGVwujIptCsJP4dmzfr17wxjC5s9PefFC6ucnDQyE+SXduwfFgXD87ZEpKYL16+FYns2aJVy5AhOSx8dnhobGHTsWmKt/pNTfH+7CDNe1sBBdvpwVEaFMS2M99VMeCQNO9/Dgz54NYYLwsZ0gsyIjtR6MzZOfPMEqTrduyC0yCe9BHlA0ZqxxaCjTifPT81ob75HZJD96BCdGidzr1eP06CHYsAFl1KzLhvXIDyYmHg0bwoNhwKht5A2ZTLp7N3jsWJ8uXULGj8dWqApIeZqzc6ClJcQLBxFKypRFKGTKEheH7DENwOzcil/gkcgzhC/U1hZ6h2ONkqLe0lxdwxctwsFFTSY/fIiF2vhaj4Ts4ogHmJvjgYEZ6v7mDfKMbZlTa+5cCCgOqxEeyS6B6yPbzEgpe/vUd+9wDjAFTEpCTnAOQKbhmnB0NjJBEN8Qcrmcx+P169evW7duc+bMefDgQVhYWFZWlpreMBgLeSRhgMLwSNyG4XOeTZu6VKyoHWeD5bBDuCB/zhz3OnU8W7aEmSWcPw9FgBwgnYhVq1KePoUusIkwDWMHD3o0aOBWpw4SCVuwIHzZspDsV67ebdpAm/5+ry2RMEIzZIhrtWqww9h9+2An0Tt3Bo0a5dWqFVRG1yORftLt297t2rnXr8+1skq8dUvq6wtDYl62fsIjGdTq2P37kT6siPPzz1Fbtig/bqjLCgsTnjwJz4P4cocOjd27N/n+/VRHx+THj6N37Yravl0vvi759EhUacyePVB2iBRsKe3DB7igZl02mvbIChVgTu61avEmTUq8fl38+jW2CrS2/lC+PNQt7sgRlJGND01Ehjk9e7rWqBE0ejQqGaVAWSCd8SdPwthgeEy8L2mPLFvWrXp1t1q1AgYOTLh4EccXjwcoJg6rd8eO4StW6PYZ1fVI5m+VKmTCBOTZo1GjyA0bkGekwLW2hqx7m5oi20Z7JCo57vBhpOzZpAkOFsrOFNDJCdmL2rwZe2G+60jtlATxbSISiRYuXNiiRQsTE5PWrVvv378/Li5ORU+GxkIeSRjACI/ELRbuwrzhtbDADViea2QrnEzq7x+9YwczevqPPxIuXGDbnJi3imlpqe/eQdcgKP7ZH3rx79+fO2xY8LhxvGnTkh48kOXM26dMT8/gciEu/HnzEIE7cmTIlClQydgDByJWrAj4/XetR6oVCrgs8+p5+HCfjh39eveGQfLnzo07ehQRfLp04dvZJT96xCYLl80MDQ1buNC3Rw+v5s39+vRBQeBeajyxRkTAcny6dg1fsiTlxQs2vhZIBm/yZE6PHmGLF4sdHZl2Ux1UUimjkmfOhM2fH2hlhWSZ/pRmZsFjx/KmTIncvFkGVf1Ek6QiKSlk0qSAQYMEa9awwp2blGfPfDp1YkYRXbigWZQDqjTFwQFa7N6gAc/WVhYfr9s5ErAeCf/Gz/BFi+DxQSNHogKRQ1Q+pBnmpGuByCckHjviz5oVaGnp37cvNJeJmV2rTI9V9k20Wp385An83rdXLzwGZOV6nIAXQuDgvjiy4YsXB48ZEzh4MPIApcORgsXCR3X7FeCE8e3TB9WlnTEURw3pQxx9f/450Nwc6WDv8EJUsm/PnsJz59jW68zw8PgTJyCmEcuXw4/ZbbXEHTuGyExHzJxjip1mBAYKT58OnTULpyhTun79UFJmnqMJE3DaoPjkkQTxjZKamnrq1Kl+/fr98MMP5cqV69y584wZMy5cuBCWa8gm8SWQRxIGMMYjlUpYERwCd1xpQIDmLefHMO8l/f3jT58Wnj+f7uamO/pVJZHgPi28cIH5AvKMGZAzeJ5g/fq4w4fTPTx029LgQ/Aq3P6xo+idO2MPHUq6dw+2B7nkDh3qUrEivE1rsYz6XLoEBeTPnh2xdCnsAboj5XKjd+0SXbum7YQHoBHQMlgLf+ZMWAv2K+Vw2J6daS4uiJ90505Gzjf0tEBWku7fj9m3L9nBgXG13INm1GrorPjFCxgSXA1qGGprG7FyJVw28e5deVLSpzwSDgqTY1rFHj78VLMllBoZRn2iMjWLckCNIWPu9erBy1Hq3AKkHWcDk8NRQy1BxOFkkMKozZsTb93KrYAAQs/U0s6dkDaUBQGWBolPvH1b04ioVmcEBGDzmL17mQOX82F0Ldr2RRwvFA2HG2IaOnMm9o6zQtOoqQMONKoX2dOO0EfOoexRW7bgmIbNmxe9fTs0Mc3VFd6MnUI32Q4JisTEVGfnqO3bcXpkhoSw22phnlv+/BNarHtMUUsKkQieypwGs2Yxs1DNmoWM4QkHpf6M9BME8ZWTmZnp6uo6ZcqUYsWK/ec//ylevHjt2rUHDx68c+dOR0fHuLi4rJw+9MSXQB5JGMAIj/z3yN2jRa1Wq1Sxhw/DTlyrVRO/fKlZXmRRqWCWgrVr3WrXjli2DO6eW3C1Hpl7vHahov+emiAIovBR4aqYnm5vb1+hQoUffvjh/3KoXLkybPIhnmkFAplMRj0mvxDySMIAX61HquVy5qXnx51aVFJpZlhY6IwZPp06BZiZpbu7a1YUSVBFWVFRzOvgHj04XbsKz59n2n1zXRzJIwmCKFIolcpLly716tWrdOnSGov8v/8rVqxY1apVO3ToMH78+FOnTgmFQtikZgPi05BHEgb4aj0yMzw82cFBdPVq0v374jdvmE/2vX2beOtWVPaIb/+BA2MPHfrUqJSigCwuDtUS8+efgebm3m3bClavTvf01Kz7GPJIgiCKGk5OTrNnz65UqZLGInWoWbPmgAED7O3tb9686efnl56eDu/UbEbkgjySMMBX65GpTk7hixf79u4daGnJ9F1btYpvZ8cdPtyrRQtOly4Ry5fLoqP1BrsUKVLfvQtbsMDb1NSzadOgYcMkPj6f+gSLIjExYPBg7/btUY3/pnlHrFzp0bQpDl/usS8EQRCFSmho6NGjR+vUqfPf//5X448f8+OPP/bu3XvLli3u7u6xsbGwSXrZnSfkkYQBvlqPlMXGil++jN62DfYTNHo0DDJ4wgSoZNTmzUn37mlG1BbhqRySHz8OHjPGr29fwZo1ae/fK9PS8hj6kw38Mnr3bsHq1cKzZ+GUmqWFj+jGDTwJxOzZo/3wD0EQxL8DO9qma9euJiYmGnP8mP/85z/lypWrW7cu4syfP//SpUsBAQE0BCc35JHfM1KpVCQSReQPFxeXQ4cONWjQoHbt2iNHjsQ/nmbF/5qwoCCeq6v/7dveR464b93qtnGjx86dPsePB9y5w3N3D+fxNPGKKn6PHr3fsMF1wwa/69f5fn4RYWGaFblAXfnfueN39Sr3yRPUqmZp4cN98cIXl+Y7d0K9vDSLCIIg/i2cnJwsLS1r1qypMcdPULx48ebNm5uZmc2dO/fYsWMvXrzg8XgKmrEhB/LI7xmBQODo6Hg6f+zevXvmzJk1atSoXLnyL7/8smfPHs0K4uvm6NGjBw4cOHnypOZvgiAIQgfczqysrOrWrasRRkOUKlXK1NR04sSJR44c8fb2joqKStX5iuyXo1Aos7LkEkkmQnp6RmqqVCRKTRCmiERisViCJeyqjIwsmewbsFXyyO8ZBwcHKGDt/AGDrFSp0o8//vjDDz+ULl0af2pWEF83tWrVwnM2fmr+JgiCIHTA7axs2bLFihXTeKIh/vvf/5YsWbJChQo//fRT27ZtFy9e/Pz5cyM+hJOUlMbjxbi5BiG8e+vv8MT95IknBw/cO37s8eNHbm/f+rOrOJywyMiEr79HJnnk98yzZ8/s7Owa5Y969epVr14d/2lQSfzL4U/NCoIgCIL4Zqlfv36VKlWghhpP/DIqV67cvn17Gxubc+fO8Xi8z3ieQqEUClP8/MJfPPe6ePHlwYP3t2y+snzZyXlzD02dsmeszTaE0SM3D7Fe3/fXpb1+WfRbnyVDrNZjCbtqwvidM6bvW7b05Gb7y7DMC+dfPHzo6uoaJIgQZmV99E2y/y3kkd8zHA7nzJkzc/LHxIkTf//9dzyBQSJbtGgxadIkzQqCIAiC+GbB3Q1GmOfUP7kxMTGpXbt227Zthw4dumbNmjt37kTqfP1fS2amTCQSh4fF+/qGOTn5Xbn8euuWq7bT9vbvt9y0zfRaNUYX/9Gs2A//LNSoPqpNa9vffl06dsy2FctPnzj++NVLH19OWFhYXEKCGHvU7Pt/BHnk94xcLpdKpSn5IzAwEDLauHHjn376ady4cVwuV7OCIAiCIL5ZfHx8Ro4cWadOHY0qfpZWrVpBPV+8eBEREZGampqZmZnnpJKCCOHdO+/XrjlvYb6mccOJNaqNqlxxWPmyQ8qUtixVYnCJYuZ6jvglAVthW6RQrox1xfJDq1UZ2ajBhEG/r1q96uytm29hk5p9/48gjyQM8NXO+0MQBEEQxpGRkfHhw4cuXbp8at4fUKJEiYYNG5qbm69cufLChQuurq4ikSj3R26yshRh/Lh7d51377o5Y/q+/v2Wt2s7s3ZNm9IlLYr/OEhPCvMfiv9oVrrk4Fo1Rrc1ndGv77Lxf+xYv+787VvvAgMEaWnSf787JXkkYQDySIIgCOI7Izo6+uLFi7Vr19Y448eULl0at7y+ffvOnz8fBhkcHJye6zsOSqUqNVXK48W8fOm9f9/dMTZboY9VKw/X077CDialLBrUGz9qhP1m+8uwSR8ffmJiGvKmyWXhQx5JGIA8kiAIgvjOcHV1XbZsWZUqVTTm+DENGzacNm2as7NzWhqcTJnnYBqpNMvHm79l85WePy+oVGFYiWLmhdH6+CUB+2XffTduOHHqlD1vHH2RN00uCx/ySMIA5JEEQRDEd8bFixe7d+9eqlQpjTlmU6FChc6dOy9duvTq1auenp5JSUl5doJMT8/w9grdtvWqleW6tqYzqlUZUbK4MR0fCzyUK2PdqGF218mVZx2euIsSxJocFybkkYQByCMJgiCI7waVSpWammpvb1+xYsUffvgB+oifJiYmpqamY8aM2b17t4eHR1pamia2Dmq1Wi5X8ngxd++8X7nidJdOc8uUttQzua8hmJSybNVi6pRJuy+cfxEQIJDLFYU6CSV5JGEA8kiCIAjiu0EmkwUEBMyYMYNtg4RElitXrlmzZlu3bvX39/+UcmG5TKZISBAfPHC/1y+LTEpZ6Nnb1xZKFDNv33bm5k2X4+NTsrLkhaeS5JGEAcgjCYIgiO+GtLS0c+fODRgwgPXIjh07Llmy5Pnz53w+P/dgGi3JyekfPnAXLDj6c7f5VSuPKFHsf9MV8stD8R/NKpYf2qb19D/GbX/1yicpKY8W1gKBPJIwAHkkQRAE8d2QkJAwZ86cVq1a1apVy8LCYseOHc7Ozrln89GiUqlSUiQOT9zn2x1p2Xxq+bLWesb2NYdSJQbXqD5q6pQ9Vy6/DguLK4wPdpNHEgYgjyQIgiC+DxQKBZ/P79u3L25qQ4cOffXqVWJiomZdXkAi09MzXFy4M2fsr1BuyNffDPmpMLD/inNnn8XFJSsUeYwcyg/kkYQByCMJgiCI74Po6Oh79+6NGzdu48aNnp6eycnwqs810aWkSCCRY222Nqw//isZlG1cqFJpeK9fFl27+iYyMkFTtgKCPJIwAHkkQRAE8X0QFxfn5OR048YNDw+PrKysz4w+wSqJJPPFC69ZMw9AIkuVGKxnZt9cqFJ5+KgRm2/ecEpKSlOpCmzYDXkkYQDySIIgCOL7QCKRQCXlcrnm70+jVKp8fcOWLT2Z/Tr7G26J1IYSxQahLDNn7H/3zj8j43MO/Y8gjyQMQB5JEARBfB+oVCqF4ovmU4RpLV1yolWLad9un8jcAWVp1nTyrJkHIiMTCmrMDXkkYQDySIIgCKJIERub9OC+y699lnxbo7O/JJQra92ty7zTp5/y+XGa0uYP8kjCAOSRBEEQRNFBpVI5OwdOnbyn3k/j9CTs+wg1qo0aOmSDg4O7XF4ATZLkkYQByCMJgiCIooNUmnXxwss6tcaYlPoaP3uY/1CimHm5Mla7d98UicT57yVJHkkYgDySIAiCKDq4fOAuXHDMpJRFgfSMLF3SomnjSfPmHFq65MTsWQeGWK+vW2esboSyJla/9l48edJuREDo1XNhmdKWxX/8aNcli5uXL2vdqMGEVi2mNWsyGZvorjUujB2z7cEDF6VSpSm2sZBHEgYgjyQIgiCKDocO3u/Te7GedRkd4KNdOs+9fu0N9NT5fcCVy69/67MEpsiuLV1ycP26f2zdcvXFcy8vT57DE/cxNluhiaxHQh8rlBvSrMmk3r0W2YzessDu6MoVp+fNPaxnosaFNq1sV608I5Vm5XMOIPJIwgDkkQRBEETRYfKk3bA3PevKT2jRfMqhg/eCg6NgbEqlar7dkZ9yRLBq5eFwVo4PX6VSiUSp5889H9BvuXZDZKNF86nLlp549dJbLlPI5UqFQhkpSOje1U4bx+gAVTX7fZVQKM5nL0nySMIA5JEEQRBEUSAlReLhHmI2cGXBfrqmcsVhvX5ZdOf2+8xMZt7Ky5deWVutY1d16TRn69arUVEiyFxggGD0qC3awT1VKg83H7T64UNXX98wUYKYzSGIjUn6uVsBeCQCfPTxY7f4uGRN0kZBHkkYgDySIAiCKApERSacP/e8a5d5er6Vz5A9rsV63drzwUFRarU6MFBgv+lSpYrDEMaO2ebiwk1Ly4iMTLh08VWLZlO0H86pXnXkpIm7JJLMiIj4gICIkOBo/I5MFqBHtmo5bdvWq1xuJFt84yCPJAxAHkkQBEEUBeB5G9ZfaNPKVs+3CiRYDl574fwLhUKJHT165Nqu7QyEzZuvKNVqlUr91MHjj3Hbq1Qaro1froyVtdV6gSDh7Nln8M5DB+8LIoTYtgA9sl7dcRPG73R1DcouvZGQRxIGII8kCIIgigIe7iGjRmwupGkja9UYPXHCzpiYxKwsma9vGIQVAUIJs4yOFsEU69YZq/sV7xLFzLHE0mJd545zzAau3LnjelgYM3N4AXpkzeqjzc1WO73xZYtvHOSRhAHIIwmCIIiiwAfnwAH9VsCu9HyroEKnjrPPn38uEAhFolSXD4Fvnfx4vBiJJPPmjbfWVuv1IiOULM5M9Iif7dvO3LrlKp8fi0wWoEcy43iaTXn8yI0tvnGQRxIGII8kCIIgigKF7ZG1aoweZLbq9WuOQqFUq/+SSLLS05mekVMn72lYf7xeZN1QSB7JhmtXHdniGwd5JGEA8kiCIAiiKFDYHlm6pEXVyiP27b0THh6P3alUqrCwuIsXXnTqMFs7o2SegTyS+IZJSkpycXFZtGiRnZ3d8ePHk5PzNUEAQRAEQXydFLZHsmHXzpvsiBkgEAgvXXzZsvlUvTh6gTyS+IaRyWRQSQ6H4+PjExYWJpcz018RBEEQxHfGv9AeWb3qyHNnnyUmpsrlCrVanZKS/vat/y89Fn7+U4eF5JElig0yKWVx44YTW3zjII8kDIATXalUZmYDp8z/N90JgiAI4iuksD2yfr0/Jk3c5eLCTU/PiI1NzMqSK5WquLikZUtPtm0zQy+ybigkjyxXxrpxo4kPH7qyxTcO8kiCIAiCIIjCnfendEmL3r8senDfBeIYGhp75vTT1685kQJhZoYMv8Avy5S2ZD+rnTsUkkdWqTS8a5d5z595ssU3DvJIgiAIgiCIv/z8wu3mHWnWZLKebxVIaFB//JzZB1NSJBkZsufPvayt1i9bevLJE3e5XCmRZB06eL9FsykmpfIebVNIHlm7po215fp3b/3Z4hsHeSRBEARBEMRf/NDYPbtvQdr0fKtAwrix2x4+cFEqVYmJqUcOPyhf1rpli6mbNl1KS8tQKJTv3vkvsDtSo9oova3YUEgeCWNesfy0r28YW3zjII8kCIIgCIL4C4b35o3vb32W6PlWPkPpkha1ao7+c8+tmOhEtVrt4OA+edLu4j8y04APH7bp8SO35OT0hATxw4euXTrPLV9uiN7mCIXkkV06zb158210tIgtvnGQRxIEQRAEQfyVlSUXClPGjtkGw9NTrvyEGtVGWVmue/HCW6lUZWTINm642C6nybN1y2mLFhzj8WJUKlVUZMK8uYfznAOoMDzSpLTlILPVQUFR6emZbPGNgzySIAiCIAiCQa1Wr1t7HnqnZ135CW1NZ9y+9S4mJjEjI0sgEFpbritRTDOepqyJlWnr6W+d/DMzZRJJprNzoM3oLdoNtaEwPLJ2LRtb271QZ7bgRkMeSRAEQRAEocHhicfkibv1rMvoUKeWjbXV+kcPXb08ea9e+my2v9y2zXTt2hLFzGvVGA1zdXDw8PMNf/fWf+H8o00aTSxVYrA2DkLL5lMXLjj69KlnYIDgjaNvgfTgHGS26szppwqFUlNsYyGPJAiCIAiC0BAdJdq/7y70zqSUhZ57GRFq17T5tfeSFctPrV97fvbMA9272VWrMkI3QlkTq149F06b+iciIAwbujG3RyKR/n2X2807jAiLFh7L58xEJYubVyw/dNXKM35+4SpVfueEJo8kCIIgCIL4m5cvvPv3W1696kg9A/s+Qvmy1q1b2d688VZT2vxBHkkQBEEQBPE3ERHx584+b2f6uW/MfLuhaeNJO7ZfDwgQaEqbP8gjCYIgCIIg/kYqzeLxYmbN2A/l0pOwbz38VHvs6JGb3d2DxWKJprT5gzySIAiCIAjiI+RyxeNHbhPG7yxrYqUdXv1Nh+I/DjIpbWlutvrUyScSSb7m+tGFPJIgCIIgCOIj1Gp1clLa5cuvB/RfUaXScD0n+xZD+bLW3bvZHTn8ID4uWalUacqZb8gjCYIgCIIg8iA0NPbM6aeDzFbXqTVGT8u+rVC2jFXrVrbbtl3jcPL1FcTckEcSBEEQBEHkjVgsOXzogdnvqypWGFqimLmen339ofiPg9gB2tOm/hkUFCWTKTQFKyDIIwmCIAiCIPJGqVQlJqaePfNs4IAVBfu9xH8nmJS27N7Nbtu2a5DIjAyZWp3fCSP1II8kCIIgCIL4HKG8mEsXX43/Y0ezJpP1RO1rDvXr/TF0yIZjRx9xOGEymaLAJRKQRxIEQRAEQRhALJY8fuQ2Y/q+ls2nVig/pGTxr/cdN/JWvqx108aTxo3dfuXK64QEsaYMhQB5JEEQBEEQhAFUKnVmhozLjTxx/HHHDrMrVxymZ29fT6hYfmjrVrY7tl/3cA+RSrNUqgIbnZ0b8kiCIAiCIIgvAlrGD429c+f9ooXHevZYUL6s9dfTMImclCtj1b2b3ZzZBy+cf+HnG15Qk41/BvJIgiAIgiCIf4arC3f3rpvDh27q0nnuT3XGlioxuPiP/5vpyrFf7L161ZFtWtlamK/ZtvXqG0dfiSSzACeJ/AzkkQRBEARBEP8MlUqVkSETCsXnzj0fPWpL5YrDIHN6hvfvhJLFzStVGPZbn6WbNl7iciPFYkmhvsjWgzySIAiCIAjiH6NSqeVyRUSE8K2T37mzz1euOG1utrp2LZvSJS30VK8wArS1Vk2b335dOt/uyOlTT5898wwMEKSnZygUSk3+/hXIIwmCIAiCIIwH6paWluHtFXru7DNY3eiRm/v+trR9u5mNGkyoUml4AbZTlitj/VPtse1MZ/z265KRI+zt5h0+euTh+3cBKSmSf1kftZBHEgRBEARBFAxKpSouLunFc68d269Pmrira5d5NaqNKmtiZVLKonRJCzhlyeLmCCWKDdIGrSbqLixRjImG+KVLIliYlLIsU9qyaeNJQ6w3bLa//NTBIzY28X/ljrqQRxIEQRAEQRQMarU6K0ueKErl82M5nLD37wMePnQ9fuzx9m3Xli05OXH8Tmur9b/2XtKh3Sw2mLaeXq6MNSQSrtm65TTt8u5d7QYOWDH+jx3z5hzasP7C0aMP79x57/ia4+kRwuPFiERi7KUw5hX/p5BHEgRBEARBFBYymTwmJjEoKMrVhfvokevVq44nTzzZ++dtNuzaeWPhgmOzZx5YMP/ozu3XtcsPHbx/7uzzhw9d3jj6cjj86OjEzEyZJsWvCfJIgiAIgiAIwhjIIwmCIAiCIAhjII8kCIIgCIIgjIE8kiAIgiAIgjAG8kiCIAiCIAjCGMgjCYIgCIIgCGMgjyQIgiAIgiCMgTySIAiCIAiCMAbySIIgCIIgCMIYyCMJgiAIgiAIYyCPJAiCIAiCIIyBPJIgCIIgCIIwBvJIgiAIgiAIwhjIIwmCIAiCIAhjII8kCIIgCIIgjIE8kiAIgiAIgjAG8kiCIAiCIAjCGMgjCYIgCIIgCGMgjyQIgiAIgiCMgTySIAiCIAiCMAbySIIgCIIgCMIYyCMJgiAIgiAIYyCPJAiCIAiCIP45f/31//inomQQbY0CAAAAAElFTkSuQmCC)"
      ],
      "metadata": {
        "id": "A9EBdxsCJtIy"
      }
    },
    {
      "cell_type": "code",
      "source": [
        "classifier = svm.SVC(kernel = 'linear')"
      ],
      "metadata": {
        "id": "LsOOv42BIxuV"
      },
      "execution_count": 19,
      "outputs": []
    },
    {
      "cell_type": "code",
      "source": [
        "#training the SVM classifier\n",
        "classifier.fit(X_train, Y_train)"
      ],
      "metadata": {
        "colab": {
          "base_uri": "https://localhost:8080/"
        },
        "id": "2ySpCDxJJf_l",
        "outputId": "34eaaa78-410d-4ee2-8781-54927ae6ea1b"
      },
      "execution_count": 20,
      "outputs": [
        {
          "output_type": "execute_result",
          "data": {
            "text/plain": [
              "SVC(kernel='linear')"
            ]
          },
          "metadata": {},
          "execution_count": 20
        }
      ]
    },
    {
      "cell_type": "markdown",
      "source": [
        "##**Model Evaluation with Accuracy Score**"
      ],
      "metadata": {
        "id": "9QqmW_ZbKaKT"
      }
    },
    {
      "cell_type": "code",
      "source": [
        "# Accuracy Score on the training data\n",
        "X_train_prediction = classifier.predict(X_train)\n",
        "training_data_accuracy = accuracy_score(X_train_prediction, Y_train)\n",
        "print(\"Accuracy score of the training data :\", training_data_accuracy)\n",
        "print(\"Accuracy score of the training data in percentage :\", training_data_accuracy*100)"
      ],
      "metadata": {
        "colab": {
          "base_uri": "https://localhost:8080/"
        },
        "id": "UtVjDSElKYmh",
        "outputId": "bf49d9e5-cfa6-465e-a276-14ecd4cb6c43"
      },
      "execution_count": 25,
      "outputs": [
        {
          "output_type": "stream",
          "name": "stdout",
          "text": [
            "Accuracy score of the training data : 0.7833876221498371\n",
            "Accuracy score of the training data in percentage : 78.33876221498372\n"
          ]
        }
      ]
    },
    {
      "cell_type": "code",
      "source": [
        "# Accuracy Score on the training data\n",
        "X_test_prediction = classifier.predict(X_test)\n",
        "test_data_accuracy = accuracy_score(X_test_prediction, Y_test)\n",
        "print(\"Accuracy score of the test data :\", test_data_accuracy)\n",
        "print(\"Accuracy score of the test data in percentage :\", test_data_accuracy*100)"
      ],
      "metadata": {
        "colab": {
          "base_uri": "https://localhost:8080/"
        },
        "id": "64sQRtngKkxm",
        "outputId": "9934e718-ac9e-4ab1-c06a-39a24e29a2fd"
      },
      "execution_count": 27,
      "outputs": [
        {
          "output_type": "stream",
          "name": "stdout",
          "text": [
            "Accuracy score of the test data : 0.7727272727272727\n",
            "Accuracy score of the test data in percentage : 77.27272727272727\n"
          ]
        }
      ]
    },
    {
      "cell_type": "markdown",
      "source": [
        "##**Predictive System**"
      ],
      "metadata": {
        "id": "Q5zRGv_oLEI5"
      }
    },
    {
      "cell_type": "code",
      "source": [
        "input_data = (5,166,72,19,175,25.8,0.587,51)\n",
        "# the answer is [1] (diabete)\n",
        "\n",
        "# Chaning the input_data to numpy array\n",
        "input_numpy = np.asarray(input_data)\n",
        "\n",
        "# Reshape the array as we are prediciting for on data point, so that our model isn't confused\n",
        "input_reshaped = input_numpy.reshape(1,-1)\n",
        "\n",
        "prediction = classifier.predict(input_reshaped)\n",
        "print(prediction) #gives the result in array\n",
        "\n",
        "if (prediction[0] == 1):\n",
        "  print(\"The person has diabete.\")\n",
        "else:\n",
        "  print(\"The person doesn't have diabete.\")"
      ],
      "metadata": {
        "colab": {
          "base_uri": "https://localhost:8080/"
        },
        "id": "yy-oEemiK8lg",
        "outputId": "76e80eed-f83a-459b-be49-20cf7b933c94"
      },
      "execution_count": 28,
      "outputs": [
        {
          "output_type": "stream",
          "name": "stdout",
          "text": [
            "[1]\n",
            "The person has diabete.\n"
          ]
        },
        {
          "output_type": "stream",
          "name": "stderr",
          "text": [
            "/usr/local/lib/python3.8/dist-packages/sklearn/base.py:450: UserWarning: X does not have valid feature names, but SVC was fitted with feature names\n",
            "  warnings.warn(\n"
          ]
        }
      ]
    }
  ]
}