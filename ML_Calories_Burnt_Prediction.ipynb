{
  "nbformat": 4,
  "nbformat_minor": 0,
  "metadata": {
    "colab": {
      "provenance": [],
      "authorship_tag": "ABX9TyMly0c4w7qh3NtMqCocmFpH",
      "include_colab_link": true
    },
    "kernelspec": {
      "name": "python3",
      "display_name": "Python 3"
    },
    "language_info": {
      "name": "python"
    }
  },
  "cells": [
    {
      "cell_type": "markdown",
      "metadata": {
        "id": "view-in-github",
        "colab_type": "text"
      },
      "source": [
        "<a href=\"https://colab.research.google.com/github/AlienX77-cmd/Machine-Learning-Practice-Project/blob/main/ML_Calories_Burnt_Prediction.ipynb\" target=\"_parent\"><img src=\"https://colab.research.google.com/assets/colab-badge.svg\" alt=\"Open In Colab\"/></a>"
      ]
    },
    {
      "cell_type": "code",
      "execution_count": 1,
      "metadata": {
        "id": "646Ojh1OXR6R"
      },
      "outputs": [],
      "source": [
        "import numpy as np\n",
        "import pandas as pd\n",
        "import matplotlib.pyplot as plt\n",
        "import seaborn as sns\n",
        "from sklearn.model_selection import train_test_split\n",
        "from xgboost import XGBRegressor\n",
        "from sklearn import metrics"
      ]
    },
    {
      "cell_type": "markdown",
      "source": [
        "###*Using calories.csv and exercise.csv files*"
      ],
      "metadata": {
        "id": "FtTTiTh_XpaI"
      }
    },
    {
      "cell_type": "code",
      "source": [
        "from google.colab import files\n",
        "uploaded = files.upload()"
      ],
      "metadata": {
        "colab": {
          "base_uri": "https://localhost:8080/",
          "height": 75
        },
        "id": "MNbGjfKrXnLN",
        "outputId": "9cdc3c12-78e6-45dc-e6ae-fcacf8fa1fbd"
      },
      "execution_count": 12,
      "outputs": [
        {
          "output_type": "display_data",
          "data": {
            "text/plain": [
              "<IPython.core.display.HTML object>"
            ],
            "text/html": [
              "\n",
              "     <input type=\"file\" id=\"files-c1cf7f8f-882f-4a37-ae4e-f19749a4ad37\" name=\"files[]\" multiple disabled\n",
              "        style=\"border:none\" />\n",
              "     <output id=\"result-c1cf7f8f-882f-4a37-ae4e-f19749a4ad37\">\n",
              "      Upload widget is only available when the cell has been executed in the\n",
              "      current browser session. Please rerun this cell to enable.\n",
              "      </output>\n",
              "      <script>// Copyright 2017 Google LLC\n",
              "//\n",
              "// Licensed under the Apache License, Version 2.0 (the \"License\");\n",
              "// you may not use this file except in compliance with the License.\n",
              "// You may obtain a copy of the License at\n",
              "//\n",
              "//      http://www.apache.org/licenses/LICENSE-2.0\n",
              "//\n",
              "// Unless required by applicable law or agreed to in writing, software\n",
              "// distributed under the License is distributed on an \"AS IS\" BASIS,\n",
              "// WITHOUT WARRANTIES OR CONDITIONS OF ANY KIND, either express or implied.\n",
              "// See the License for the specific language governing permissions and\n",
              "// limitations under the License.\n",
              "\n",
              "/**\n",
              " * @fileoverview Helpers for google.colab Python module.\n",
              " */\n",
              "(function(scope) {\n",
              "function span(text, styleAttributes = {}) {\n",
              "  const element = document.createElement('span');\n",
              "  element.textContent = text;\n",
              "  for (const key of Object.keys(styleAttributes)) {\n",
              "    element.style[key] = styleAttributes[key];\n",
              "  }\n",
              "  return element;\n",
              "}\n",
              "\n",
              "// Max number of bytes which will be uploaded at a time.\n",
              "const MAX_PAYLOAD_SIZE = 100 * 1024;\n",
              "\n",
              "function _uploadFiles(inputId, outputId) {\n",
              "  const steps = uploadFilesStep(inputId, outputId);\n",
              "  const outputElement = document.getElementById(outputId);\n",
              "  // Cache steps on the outputElement to make it available for the next call\n",
              "  // to uploadFilesContinue from Python.\n",
              "  outputElement.steps = steps;\n",
              "\n",
              "  return _uploadFilesContinue(outputId);\n",
              "}\n",
              "\n",
              "// This is roughly an async generator (not supported in the browser yet),\n",
              "// where there are multiple asynchronous steps and the Python side is going\n",
              "// to poll for completion of each step.\n",
              "// This uses a Promise to block the python side on completion of each step,\n",
              "// then passes the result of the previous step as the input to the next step.\n",
              "function _uploadFilesContinue(outputId) {\n",
              "  const outputElement = document.getElementById(outputId);\n",
              "  const steps = outputElement.steps;\n",
              "\n",
              "  const next = steps.next(outputElement.lastPromiseValue);\n",
              "  return Promise.resolve(next.value.promise).then((value) => {\n",
              "    // Cache the last promise value to make it available to the next\n",
              "    // step of the generator.\n",
              "    outputElement.lastPromiseValue = value;\n",
              "    return next.value.response;\n",
              "  });\n",
              "}\n",
              "\n",
              "/**\n",
              " * Generator function which is called between each async step of the upload\n",
              " * process.\n",
              " * @param {string} inputId Element ID of the input file picker element.\n",
              " * @param {string} outputId Element ID of the output display.\n",
              " * @return {!Iterable<!Object>} Iterable of next steps.\n",
              " */\n",
              "function* uploadFilesStep(inputId, outputId) {\n",
              "  const inputElement = document.getElementById(inputId);\n",
              "  inputElement.disabled = false;\n",
              "\n",
              "  const outputElement = document.getElementById(outputId);\n",
              "  outputElement.innerHTML = '';\n",
              "\n",
              "  const pickedPromise = new Promise((resolve) => {\n",
              "    inputElement.addEventListener('change', (e) => {\n",
              "      resolve(e.target.files);\n",
              "    });\n",
              "  });\n",
              "\n",
              "  const cancel = document.createElement('button');\n",
              "  inputElement.parentElement.appendChild(cancel);\n",
              "  cancel.textContent = 'Cancel upload';\n",
              "  const cancelPromise = new Promise((resolve) => {\n",
              "    cancel.onclick = () => {\n",
              "      resolve(null);\n",
              "    };\n",
              "  });\n",
              "\n",
              "  // Wait for the user to pick the files.\n",
              "  const files = yield {\n",
              "    promise: Promise.race([pickedPromise, cancelPromise]),\n",
              "    response: {\n",
              "      action: 'starting',\n",
              "    }\n",
              "  };\n",
              "\n",
              "  cancel.remove();\n",
              "\n",
              "  // Disable the input element since further picks are not allowed.\n",
              "  inputElement.disabled = true;\n",
              "\n",
              "  if (!files) {\n",
              "    return {\n",
              "      response: {\n",
              "        action: 'complete',\n",
              "      }\n",
              "    };\n",
              "  }\n",
              "\n",
              "  for (const file of files) {\n",
              "    const li = document.createElement('li');\n",
              "    li.append(span(file.name, {fontWeight: 'bold'}));\n",
              "    li.append(span(\n",
              "        `(${file.type || 'n/a'}) - ${file.size} bytes, ` +\n",
              "        `last modified: ${\n",
              "            file.lastModifiedDate ? file.lastModifiedDate.toLocaleDateString() :\n",
              "                                    'n/a'} - `));\n",
              "    const percent = span('0% done');\n",
              "    li.appendChild(percent);\n",
              "\n",
              "    outputElement.appendChild(li);\n",
              "\n",
              "    const fileDataPromise = new Promise((resolve) => {\n",
              "      const reader = new FileReader();\n",
              "      reader.onload = (e) => {\n",
              "        resolve(e.target.result);\n",
              "      };\n",
              "      reader.readAsArrayBuffer(file);\n",
              "    });\n",
              "    // Wait for the data to be ready.\n",
              "    let fileData = yield {\n",
              "      promise: fileDataPromise,\n",
              "      response: {\n",
              "        action: 'continue',\n",
              "      }\n",
              "    };\n",
              "\n",
              "    // Use a chunked sending to avoid message size limits. See b/62115660.\n",
              "    let position = 0;\n",
              "    do {\n",
              "      const length = Math.min(fileData.byteLength - position, MAX_PAYLOAD_SIZE);\n",
              "      const chunk = new Uint8Array(fileData, position, length);\n",
              "      position += length;\n",
              "\n",
              "      const base64 = btoa(String.fromCharCode.apply(null, chunk));\n",
              "      yield {\n",
              "        response: {\n",
              "          action: 'append',\n",
              "          file: file.name,\n",
              "          data: base64,\n",
              "        },\n",
              "      };\n",
              "\n",
              "      let percentDone = fileData.byteLength === 0 ?\n",
              "          100 :\n",
              "          Math.round((position / fileData.byteLength) * 100);\n",
              "      percent.textContent = `${percentDone}% done`;\n",
              "\n",
              "    } while (position < fileData.byteLength);\n",
              "  }\n",
              "\n",
              "  // All done.\n",
              "  yield {\n",
              "    response: {\n",
              "      action: 'complete',\n",
              "    }\n",
              "  };\n",
              "}\n",
              "\n",
              "scope.google = scope.google || {};\n",
              "scope.google.colab = scope.google.colab || {};\n",
              "scope.google.colab._files = {\n",
              "  _uploadFiles,\n",
              "  _uploadFilesContinue,\n",
              "};\n",
              "})(self);\n",
              "</script> "
            ]
          },
          "metadata": {}
        },
        {
          "output_type": "stream",
          "name": "stdout",
          "text": [
            "Saving calories.csv to calories.csv\n"
          ]
        }
      ]
    },
    {
      "cell_type": "markdown",
      "source": [
        "##**Data Collection & Processing**"
      ],
      "metadata": {
        "id": "-K2M9kv7X72w"
      }
    },
    {
      "cell_type": "code",
      "source": [
        "# Loading the calories data from csv file to Pandas dataframe\n",
        "calories = pd.read_csv('/content/calories.csv')\n",
        "\n",
        "# Loading the exercise data from csv file to Pandas dataframe\n",
        "exercise = pd.read_csv('/content/exercise.csv')"
      ],
      "metadata": {
        "id": "l-H_lmbsX12W"
      },
      "execution_count": 13,
      "outputs": []
    },
    {
      "cell_type": "code",
      "source": [
        "# Printing first 5 rows of the calories dataframe\n",
        "calories.head()"
      ],
      "metadata": {
        "colab": {
          "base_uri": "https://localhost:8080/",
          "height": 206
        },
        "id": "DJZudb4ZYG3J",
        "outputId": "ca5b39d9-dafb-4ed0-bbb4-ff67eb5d836b"
      },
      "execution_count": 14,
      "outputs": [
        {
          "output_type": "execute_result",
          "data": {
            "text/plain": [
              "    User_ID  Calories\n",
              "0  14733363     231.0\n",
              "1  14861698      66.0\n",
              "2  11179863      26.0\n",
              "3  16180408      71.0\n",
              "4  17771927      35.0"
            ],
            "text/html": [
              "\n",
              "  <div id=\"df-f9e8cf12-c856-455f-add7-d8f1f9e9fef4\">\n",
              "    <div class=\"colab-df-container\">\n",
              "      <div>\n",
              "<style scoped>\n",
              "    .dataframe tbody tr th:only-of-type {\n",
              "        vertical-align: middle;\n",
              "    }\n",
              "\n",
              "    .dataframe tbody tr th {\n",
              "        vertical-align: top;\n",
              "    }\n",
              "\n",
              "    .dataframe thead th {\n",
              "        text-align: right;\n",
              "    }\n",
              "</style>\n",
              "<table border=\"1\" class=\"dataframe\">\n",
              "  <thead>\n",
              "    <tr style=\"text-align: right;\">\n",
              "      <th></th>\n",
              "      <th>User_ID</th>\n",
              "      <th>Calories</th>\n",
              "    </tr>\n",
              "  </thead>\n",
              "  <tbody>\n",
              "    <tr>\n",
              "      <th>0</th>\n",
              "      <td>14733363</td>\n",
              "      <td>231.0</td>\n",
              "    </tr>\n",
              "    <tr>\n",
              "      <th>1</th>\n",
              "      <td>14861698</td>\n",
              "      <td>66.0</td>\n",
              "    </tr>\n",
              "    <tr>\n",
              "      <th>2</th>\n",
              "      <td>11179863</td>\n",
              "      <td>26.0</td>\n",
              "    </tr>\n",
              "    <tr>\n",
              "      <th>3</th>\n",
              "      <td>16180408</td>\n",
              "      <td>71.0</td>\n",
              "    </tr>\n",
              "    <tr>\n",
              "      <th>4</th>\n",
              "      <td>17771927</td>\n",
              "      <td>35.0</td>\n",
              "    </tr>\n",
              "  </tbody>\n",
              "</table>\n",
              "</div>\n",
              "      <button class=\"colab-df-convert\" onclick=\"convertToInteractive('df-f9e8cf12-c856-455f-add7-d8f1f9e9fef4')\"\n",
              "              title=\"Convert this dataframe to an interactive table.\"\n",
              "              style=\"display:none;\">\n",
              "        \n",
              "  <svg xmlns=\"http://www.w3.org/2000/svg\" height=\"24px\"viewBox=\"0 0 24 24\"\n",
              "       width=\"24px\">\n",
              "    <path d=\"M0 0h24v24H0V0z\" fill=\"none\"/>\n",
              "    <path d=\"M18.56 5.44l.94 2.06.94-2.06 2.06-.94-2.06-.94-.94-2.06-.94 2.06-2.06.94zm-11 1L8.5 8.5l.94-2.06 2.06-.94-2.06-.94L8.5 2.5l-.94 2.06-2.06.94zm10 10l.94 2.06.94-2.06 2.06-.94-2.06-.94-.94-2.06-.94 2.06-2.06.94z\"/><path d=\"M17.41 7.96l-1.37-1.37c-.4-.4-.92-.59-1.43-.59-.52 0-1.04.2-1.43.59L10.3 9.45l-7.72 7.72c-.78.78-.78 2.05 0 2.83L4 21.41c.39.39.9.59 1.41.59.51 0 1.02-.2 1.41-.59l7.78-7.78 2.81-2.81c.8-.78.8-2.07 0-2.86zM5.41 20L4 18.59l7.72-7.72 1.47 1.35L5.41 20z\"/>\n",
              "  </svg>\n",
              "      </button>\n",
              "      \n",
              "  <style>\n",
              "    .colab-df-container {\n",
              "      display:flex;\n",
              "      flex-wrap:wrap;\n",
              "      gap: 12px;\n",
              "    }\n",
              "\n",
              "    .colab-df-convert {\n",
              "      background-color: #E8F0FE;\n",
              "      border: none;\n",
              "      border-radius: 50%;\n",
              "      cursor: pointer;\n",
              "      display: none;\n",
              "      fill: #1967D2;\n",
              "      height: 32px;\n",
              "      padding: 0 0 0 0;\n",
              "      width: 32px;\n",
              "    }\n",
              "\n",
              "    .colab-df-convert:hover {\n",
              "      background-color: #E2EBFA;\n",
              "      box-shadow: 0px 1px 2px rgba(60, 64, 67, 0.3), 0px 1px 3px 1px rgba(60, 64, 67, 0.15);\n",
              "      fill: #174EA6;\n",
              "    }\n",
              "\n",
              "    [theme=dark] .colab-df-convert {\n",
              "      background-color: #3B4455;\n",
              "      fill: #D2E3FC;\n",
              "    }\n",
              "\n",
              "    [theme=dark] .colab-df-convert:hover {\n",
              "      background-color: #434B5C;\n",
              "      box-shadow: 0px 1px 3px 1px rgba(0, 0, 0, 0.15);\n",
              "      filter: drop-shadow(0px 1px 2px rgba(0, 0, 0, 0.3));\n",
              "      fill: #FFFFFF;\n",
              "    }\n",
              "  </style>\n",
              "\n",
              "      <script>\n",
              "        const buttonEl =\n",
              "          document.querySelector('#df-f9e8cf12-c856-455f-add7-d8f1f9e9fef4 button.colab-df-convert');\n",
              "        buttonEl.style.display =\n",
              "          google.colab.kernel.accessAllowed ? 'block' : 'none';\n",
              "\n",
              "        async function convertToInteractive(key) {\n",
              "          const element = document.querySelector('#df-f9e8cf12-c856-455f-add7-d8f1f9e9fef4');\n",
              "          const dataTable =\n",
              "            await google.colab.kernel.invokeFunction('convertToInteractive',\n",
              "                                                     [key], {});\n",
              "          if (!dataTable) return;\n",
              "\n",
              "          const docLinkHtml = 'Like what you see? Visit the ' +\n",
              "            '<a target=\"_blank\" href=https://colab.research.google.com/notebooks/data_table.ipynb>data table notebook</a>'\n",
              "            + ' to learn more about interactive tables.';\n",
              "          element.innerHTML = '';\n",
              "          dataTable['output_type'] = 'display_data';\n",
              "          await google.colab.output.renderOutput(dataTable, element);\n",
              "          const docLink = document.createElement('div');\n",
              "          docLink.innerHTML = docLinkHtml;\n",
              "          element.appendChild(docLink);\n",
              "        }\n",
              "      </script>\n",
              "    </div>\n",
              "  </div>\n",
              "  "
            ]
          },
          "metadata": {},
          "execution_count": 14
        }
      ]
    },
    {
      "cell_type": "code",
      "source": [
        "# Printing first 5 rows of the exercise dataframe\n",
        "exercise.head()"
      ],
      "metadata": {
        "colab": {
          "base_uri": "https://localhost:8080/",
          "height": 250
        },
        "id": "gyGDnjH1YJWa",
        "outputId": "06bacc0f-0214-47b3-f966-a2a9ea2947ee"
      },
      "execution_count": 15,
      "outputs": [
        {
          "output_type": "execute_result",
          "data": {
            "text/plain": [
              "    User_ID  Gender  Age  Height  Weight  Duration  Heart_Rate  Body_Temp\n",
              "0  14733363    male   68   190.0    94.0      29.0       105.0       40.8\n",
              "1  14861698  female   20   166.0    60.0      14.0        94.0       40.3\n",
              "2  11179863    male   69   179.0    79.0       5.0        88.0       38.7\n",
              "3  16180408  female   34   179.0    71.0      13.0       100.0       40.5\n",
              "4  17771927  female   27   154.0    58.0      10.0        81.0       39.8"
            ],
            "text/html": [
              "\n",
              "  <div id=\"df-3593ef7a-f245-4a6f-bfe8-4563c42acca3\">\n",
              "    <div class=\"colab-df-container\">\n",
              "      <div>\n",
              "<style scoped>\n",
              "    .dataframe tbody tr th:only-of-type {\n",
              "        vertical-align: middle;\n",
              "    }\n",
              "\n",
              "    .dataframe tbody tr th {\n",
              "        vertical-align: top;\n",
              "    }\n",
              "\n",
              "    .dataframe thead th {\n",
              "        text-align: right;\n",
              "    }\n",
              "</style>\n",
              "<table border=\"1\" class=\"dataframe\">\n",
              "  <thead>\n",
              "    <tr style=\"text-align: right;\">\n",
              "      <th></th>\n",
              "      <th>User_ID</th>\n",
              "      <th>Gender</th>\n",
              "      <th>Age</th>\n",
              "      <th>Height</th>\n",
              "      <th>Weight</th>\n",
              "      <th>Duration</th>\n",
              "      <th>Heart_Rate</th>\n",
              "      <th>Body_Temp</th>\n",
              "    </tr>\n",
              "  </thead>\n",
              "  <tbody>\n",
              "    <tr>\n",
              "      <th>0</th>\n",
              "      <td>14733363</td>\n",
              "      <td>male</td>\n",
              "      <td>68</td>\n",
              "      <td>190.0</td>\n",
              "      <td>94.0</td>\n",
              "      <td>29.0</td>\n",
              "      <td>105.0</td>\n",
              "      <td>40.8</td>\n",
              "    </tr>\n",
              "    <tr>\n",
              "      <th>1</th>\n",
              "      <td>14861698</td>\n",
              "      <td>female</td>\n",
              "      <td>20</td>\n",
              "      <td>166.0</td>\n",
              "      <td>60.0</td>\n",
              "      <td>14.0</td>\n",
              "      <td>94.0</td>\n",
              "      <td>40.3</td>\n",
              "    </tr>\n",
              "    <tr>\n",
              "      <th>2</th>\n",
              "      <td>11179863</td>\n",
              "      <td>male</td>\n",
              "      <td>69</td>\n",
              "      <td>179.0</td>\n",
              "      <td>79.0</td>\n",
              "      <td>5.0</td>\n",
              "      <td>88.0</td>\n",
              "      <td>38.7</td>\n",
              "    </tr>\n",
              "    <tr>\n",
              "      <th>3</th>\n",
              "      <td>16180408</td>\n",
              "      <td>female</td>\n",
              "      <td>34</td>\n",
              "      <td>179.0</td>\n",
              "      <td>71.0</td>\n",
              "      <td>13.0</td>\n",
              "      <td>100.0</td>\n",
              "      <td>40.5</td>\n",
              "    </tr>\n",
              "    <tr>\n",
              "      <th>4</th>\n",
              "      <td>17771927</td>\n",
              "      <td>female</td>\n",
              "      <td>27</td>\n",
              "      <td>154.0</td>\n",
              "      <td>58.0</td>\n",
              "      <td>10.0</td>\n",
              "      <td>81.0</td>\n",
              "      <td>39.8</td>\n",
              "    </tr>\n",
              "  </tbody>\n",
              "</table>\n",
              "</div>\n",
              "      <button class=\"colab-df-convert\" onclick=\"convertToInteractive('df-3593ef7a-f245-4a6f-bfe8-4563c42acca3')\"\n",
              "              title=\"Convert this dataframe to an interactive table.\"\n",
              "              style=\"display:none;\">\n",
              "        \n",
              "  <svg xmlns=\"http://www.w3.org/2000/svg\" height=\"24px\"viewBox=\"0 0 24 24\"\n",
              "       width=\"24px\">\n",
              "    <path d=\"M0 0h24v24H0V0z\" fill=\"none\"/>\n",
              "    <path d=\"M18.56 5.44l.94 2.06.94-2.06 2.06-.94-2.06-.94-.94-2.06-.94 2.06-2.06.94zm-11 1L8.5 8.5l.94-2.06 2.06-.94-2.06-.94L8.5 2.5l-.94 2.06-2.06.94zm10 10l.94 2.06.94-2.06 2.06-.94-2.06-.94-.94-2.06-.94 2.06-2.06.94z\"/><path d=\"M17.41 7.96l-1.37-1.37c-.4-.4-.92-.59-1.43-.59-.52 0-1.04.2-1.43.59L10.3 9.45l-7.72 7.72c-.78.78-.78 2.05 0 2.83L4 21.41c.39.39.9.59 1.41.59.51 0 1.02-.2 1.41-.59l7.78-7.78 2.81-2.81c.8-.78.8-2.07 0-2.86zM5.41 20L4 18.59l7.72-7.72 1.47 1.35L5.41 20z\"/>\n",
              "  </svg>\n",
              "      </button>\n",
              "      \n",
              "  <style>\n",
              "    .colab-df-container {\n",
              "      display:flex;\n",
              "      flex-wrap:wrap;\n",
              "      gap: 12px;\n",
              "    }\n",
              "\n",
              "    .colab-df-convert {\n",
              "      background-color: #E8F0FE;\n",
              "      border: none;\n",
              "      border-radius: 50%;\n",
              "      cursor: pointer;\n",
              "      display: none;\n",
              "      fill: #1967D2;\n",
              "      height: 32px;\n",
              "      padding: 0 0 0 0;\n",
              "      width: 32px;\n",
              "    }\n",
              "\n",
              "    .colab-df-convert:hover {\n",
              "      background-color: #E2EBFA;\n",
              "      box-shadow: 0px 1px 2px rgba(60, 64, 67, 0.3), 0px 1px 3px 1px rgba(60, 64, 67, 0.15);\n",
              "      fill: #174EA6;\n",
              "    }\n",
              "\n",
              "    [theme=dark] .colab-df-convert {\n",
              "      background-color: #3B4455;\n",
              "      fill: #D2E3FC;\n",
              "    }\n",
              "\n",
              "    [theme=dark] .colab-df-convert:hover {\n",
              "      background-color: #434B5C;\n",
              "      box-shadow: 0px 1px 3px 1px rgba(0, 0, 0, 0.15);\n",
              "      filter: drop-shadow(0px 1px 2px rgba(0, 0, 0, 0.3));\n",
              "      fill: #FFFFFF;\n",
              "    }\n",
              "  </style>\n",
              "\n",
              "      <script>\n",
              "        const buttonEl =\n",
              "          document.querySelector('#df-3593ef7a-f245-4a6f-bfe8-4563c42acca3 button.colab-df-convert');\n",
              "        buttonEl.style.display =\n",
              "          google.colab.kernel.accessAllowed ? 'block' : 'none';\n",
              "\n",
              "        async function convertToInteractive(key) {\n",
              "          const element = document.querySelector('#df-3593ef7a-f245-4a6f-bfe8-4563c42acca3');\n",
              "          const dataTable =\n",
              "            await google.colab.kernel.invokeFunction('convertToInteractive',\n",
              "                                                     [key], {});\n",
              "          if (!dataTable) return;\n",
              "\n",
              "          const docLinkHtml = 'Like what you see? Visit the ' +\n",
              "            '<a target=\"_blank\" href=https://colab.research.google.com/notebooks/data_table.ipynb>data table notebook</a>'\n",
              "            + ' to learn more about interactive tables.';\n",
              "          element.innerHTML = '';\n",
              "          dataTable['output_type'] = 'display_data';\n",
              "          await google.colab.output.renderOutput(dataTable, element);\n",
              "          const docLink = document.createElement('div');\n",
              "          docLink.innerHTML = docLinkHtml;\n",
              "          element.appendChild(docLink);\n",
              "        }\n",
              "      </script>\n",
              "    </div>\n",
              "  </div>\n",
              "  "
            ]
          },
          "metadata": {},
          "execution_count": 15
        }
      ]
    },
    {
      "cell_type": "markdown",
      "source": [
        "###***Combining the two dataframes***"
      ],
      "metadata": {
        "id": "A5o4UKZHYg54"
      }
    },
    {
      "cell_type": "code",
      "source": [
        "calories_data = pd.concat([exercise, calories['Calories']], axis=1)"
      ],
      "metadata": {
        "id": "CFCXAm3EYbZy"
      },
      "execution_count": 16,
      "outputs": []
    },
    {
      "cell_type": "code",
      "source": [
        "calories_data.head()"
      ],
      "metadata": {
        "colab": {
          "base_uri": "https://localhost:8080/",
          "height": 270
        },
        "id": "hAsGe9g9Zb6b",
        "outputId": "a18bf68e-5d31-44aa-c4eb-7ee1d2accee8"
      },
      "execution_count": 17,
      "outputs": [
        {
          "output_type": "execute_result",
          "data": {
            "text/plain": [
              "    User_ID  Gender  Age  Height  Weight  Duration  Heart_Rate  Body_Temp  \\\n",
              "0  14733363    male   68   190.0    94.0      29.0       105.0       40.8   \n",
              "1  14861698  female   20   166.0    60.0      14.0        94.0       40.3   \n",
              "2  11179863    male   69   179.0    79.0       5.0        88.0       38.7   \n",
              "3  16180408  female   34   179.0    71.0      13.0       100.0       40.5   \n",
              "4  17771927  female   27   154.0    58.0      10.0        81.0       39.8   \n",
              "\n",
              "   Calories  \n",
              "0     231.0  \n",
              "1      66.0  \n",
              "2      26.0  \n",
              "3      71.0  \n",
              "4      35.0  "
            ],
            "text/html": [
              "\n",
              "  <div id=\"df-a70b5df0-1e7c-4b57-b96b-92b49e2e5e6e\">\n",
              "    <div class=\"colab-df-container\">\n",
              "      <div>\n",
              "<style scoped>\n",
              "    .dataframe tbody tr th:only-of-type {\n",
              "        vertical-align: middle;\n",
              "    }\n",
              "\n",
              "    .dataframe tbody tr th {\n",
              "        vertical-align: top;\n",
              "    }\n",
              "\n",
              "    .dataframe thead th {\n",
              "        text-align: right;\n",
              "    }\n",
              "</style>\n",
              "<table border=\"1\" class=\"dataframe\">\n",
              "  <thead>\n",
              "    <tr style=\"text-align: right;\">\n",
              "      <th></th>\n",
              "      <th>User_ID</th>\n",
              "      <th>Gender</th>\n",
              "      <th>Age</th>\n",
              "      <th>Height</th>\n",
              "      <th>Weight</th>\n",
              "      <th>Duration</th>\n",
              "      <th>Heart_Rate</th>\n",
              "      <th>Body_Temp</th>\n",
              "      <th>Calories</th>\n",
              "    </tr>\n",
              "  </thead>\n",
              "  <tbody>\n",
              "    <tr>\n",
              "      <th>0</th>\n",
              "      <td>14733363</td>\n",
              "      <td>male</td>\n",
              "      <td>68</td>\n",
              "      <td>190.0</td>\n",
              "      <td>94.0</td>\n",
              "      <td>29.0</td>\n",
              "      <td>105.0</td>\n",
              "      <td>40.8</td>\n",
              "      <td>231.0</td>\n",
              "    </tr>\n",
              "    <tr>\n",
              "      <th>1</th>\n",
              "      <td>14861698</td>\n",
              "      <td>female</td>\n",
              "      <td>20</td>\n",
              "      <td>166.0</td>\n",
              "      <td>60.0</td>\n",
              "      <td>14.0</td>\n",
              "      <td>94.0</td>\n",
              "      <td>40.3</td>\n",
              "      <td>66.0</td>\n",
              "    </tr>\n",
              "    <tr>\n",
              "      <th>2</th>\n",
              "      <td>11179863</td>\n",
              "      <td>male</td>\n",
              "      <td>69</td>\n",
              "      <td>179.0</td>\n",
              "      <td>79.0</td>\n",
              "      <td>5.0</td>\n",
              "      <td>88.0</td>\n",
              "      <td>38.7</td>\n",
              "      <td>26.0</td>\n",
              "    </tr>\n",
              "    <tr>\n",
              "      <th>3</th>\n",
              "      <td>16180408</td>\n",
              "      <td>female</td>\n",
              "      <td>34</td>\n",
              "      <td>179.0</td>\n",
              "      <td>71.0</td>\n",
              "      <td>13.0</td>\n",
              "      <td>100.0</td>\n",
              "      <td>40.5</td>\n",
              "      <td>71.0</td>\n",
              "    </tr>\n",
              "    <tr>\n",
              "      <th>4</th>\n",
              "      <td>17771927</td>\n",
              "      <td>female</td>\n",
              "      <td>27</td>\n",
              "      <td>154.0</td>\n",
              "      <td>58.0</td>\n",
              "      <td>10.0</td>\n",
              "      <td>81.0</td>\n",
              "      <td>39.8</td>\n",
              "      <td>35.0</td>\n",
              "    </tr>\n",
              "  </tbody>\n",
              "</table>\n",
              "</div>\n",
              "      <button class=\"colab-df-convert\" onclick=\"convertToInteractive('df-a70b5df0-1e7c-4b57-b96b-92b49e2e5e6e')\"\n",
              "              title=\"Convert this dataframe to an interactive table.\"\n",
              "              style=\"display:none;\">\n",
              "        \n",
              "  <svg xmlns=\"http://www.w3.org/2000/svg\" height=\"24px\"viewBox=\"0 0 24 24\"\n",
              "       width=\"24px\">\n",
              "    <path d=\"M0 0h24v24H0V0z\" fill=\"none\"/>\n",
              "    <path d=\"M18.56 5.44l.94 2.06.94-2.06 2.06-.94-2.06-.94-.94-2.06-.94 2.06-2.06.94zm-11 1L8.5 8.5l.94-2.06 2.06-.94-2.06-.94L8.5 2.5l-.94 2.06-2.06.94zm10 10l.94 2.06.94-2.06 2.06-.94-2.06-.94-.94-2.06-.94 2.06-2.06.94z\"/><path d=\"M17.41 7.96l-1.37-1.37c-.4-.4-.92-.59-1.43-.59-.52 0-1.04.2-1.43.59L10.3 9.45l-7.72 7.72c-.78.78-.78 2.05 0 2.83L4 21.41c.39.39.9.59 1.41.59.51 0 1.02-.2 1.41-.59l7.78-7.78 2.81-2.81c.8-.78.8-2.07 0-2.86zM5.41 20L4 18.59l7.72-7.72 1.47 1.35L5.41 20z\"/>\n",
              "  </svg>\n",
              "      </button>\n",
              "      \n",
              "  <style>\n",
              "    .colab-df-container {\n",
              "      display:flex;\n",
              "      flex-wrap:wrap;\n",
              "      gap: 12px;\n",
              "    }\n",
              "\n",
              "    .colab-df-convert {\n",
              "      background-color: #E8F0FE;\n",
              "      border: none;\n",
              "      border-radius: 50%;\n",
              "      cursor: pointer;\n",
              "      display: none;\n",
              "      fill: #1967D2;\n",
              "      height: 32px;\n",
              "      padding: 0 0 0 0;\n",
              "      width: 32px;\n",
              "    }\n",
              "\n",
              "    .colab-df-convert:hover {\n",
              "      background-color: #E2EBFA;\n",
              "      box-shadow: 0px 1px 2px rgba(60, 64, 67, 0.3), 0px 1px 3px 1px rgba(60, 64, 67, 0.15);\n",
              "      fill: #174EA6;\n",
              "    }\n",
              "\n",
              "    [theme=dark] .colab-df-convert {\n",
              "      background-color: #3B4455;\n",
              "      fill: #D2E3FC;\n",
              "    }\n",
              "\n",
              "    [theme=dark] .colab-df-convert:hover {\n",
              "      background-color: #434B5C;\n",
              "      box-shadow: 0px 1px 3px 1px rgba(0, 0, 0, 0.15);\n",
              "      filter: drop-shadow(0px 1px 2px rgba(0, 0, 0, 0.3));\n",
              "      fill: #FFFFFF;\n",
              "    }\n",
              "  </style>\n",
              "\n",
              "      <script>\n",
              "        const buttonEl =\n",
              "          document.querySelector('#df-a70b5df0-1e7c-4b57-b96b-92b49e2e5e6e button.colab-df-convert');\n",
              "        buttonEl.style.display =\n",
              "          google.colab.kernel.accessAllowed ? 'block' : 'none';\n",
              "\n",
              "        async function convertToInteractive(key) {\n",
              "          const element = document.querySelector('#df-a70b5df0-1e7c-4b57-b96b-92b49e2e5e6e');\n",
              "          const dataTable =\n",
              "            await google.colab.kernel.invokeFunction('convertToInteractive',\n",
              "                                                     [key], {});\n",
              "          if (!dataTable) return;\n",
              "\n",
              "          const docLinkHtml = 'Like what you see? Visit the ' +\n",
              "            '<a target=\"_blank\" href=https://colab.research.google.com/notebooks/data_table.ipynb>data table notebook</a>'\n",
              "            + ' to learn more about interactive tables.';\n",
              "          element.innerHTML = '';\n",
              "          dataTable['output_type'] = 'display_data';\n",
              "          await google.colab.output.renderOutput(dataTable, element);\n",
              "          const docLink = document.createElement('div');\n",
              "          docLink.innerHTML = docLinkHtml;\n",
              "          element.appendChild(docLink);\n",
              "        }\n",
              "      </script>\n",
              "    </div>\n",
              "  </div>\n",
              "  "
            ]
          },
          "metadata": {},
          "execution_count": 17
        }
      ]
    },
    {
      "cell_type": "code",
      "source": [
        "# Showing the number of rows (data points) and columns (features)\n",
        "calories_data.shape"
      ],
      "metadata": {
        "colab": {
          "base_uri": "https://localhost:8080/"
        },
        "id": "0GUjE9WdZiHI",
        "outputId": "ae4e2219-f64f-414e-8191-42c4ada7290c"
      },
      "execution_count": 18,
      "outputs": [
        {
          "output_type": "execute_result",
          "data": {
            "text/plain": [
              "(15000, 9)"
            ]
          },
          "metadata": {},
          "execution_count": 18
        }
      ]
    },
    {
      "cell_type": "code",
      "source": [
        "# Showing information about the data\n",
        "calories_data.info()"
      ],
      "metadata": {
        "colab": {
          "base_uri": "https://localhost:8080/"
        },
        "id": "u3_4EdTUZp65",
        "outputId": "277f736b-212b-428f-9999-c05e6cd1ca48"
      },
      "execution_count": 19,
      "outputs": [
        {
          "output_type": "stream",
          "name": "stdout",
          "text": [
            "<class 'pandas.core.frame.DataFrame'>\n",
            "RangeIndex: 15000 entries, 0 to 14999\n",
            "Data columns (total 9 columns):\n",
            " #   Column      Non-Null Count  Dtype  \n",
            "---  ------      --------------  -----  \n",
            " 0   User_ID     15000 non-null  int64  \n",
            " 1   Gender      15000 non-null  object \n",
            " 2   Age         15000 non-null  int64  \n",
            " 3   Height      15000 non-null  float64\n",
            " 4   Weight      15000 non-null  float64\n",
            " 5   Duration    15000 non-null  float64\n",
            " 6   Heart_Rate  15000 non-null  float64\n",
            " 7   Body_Temp   15000 non-null  float64\n",
            " 8   Calories    15000 non-null  float64\n",
            "dtypes: float64(6), int64(2), object(1)\n",
            "memory usage: 1.0+ MB\n"
          ]
        }
      ]
    },
    {
      "cell_type": "code",
      "source": [
        "# Checking for missing values\n",
        "calories_data.isnull().sum()"
      ],
      "metadata": {
        "colab": {
          "base_uri": "https://localhost:8080/"
        },
        "id": "9qiXWSW5ZtbT",
        "outputId": "01538ac8-a9f1-4179-d9bc-1bf08e8e4175"
      },
      "execution_count": 20,
      "outputs": [
        {
          "output_type": "execute_result",
          "data": {
            "text/plain": [
              "User_ID       0\n",
              "Gender        0\n",
              "Age           0\n",
              "Height        0\n",
              "Weight        0\n",
              "Duration      0\n",
              "Heart_Rate    0\n",
              "Body_Temp     0\n",
              "Calories      0\n",
              "dtype: int64"
            ]
          },
          "metadata": {},
          "execution_count": 20
        }
      ]
    },
    {
      "cell_type": "markdown",
      "source": [
        "##**Data Analysis and Visualization**"
      ],
      "metadata": {
        "id": "Luf4PurQZzDf"
      }
    },
    {
      "cell_type": "code",
      "source": [
        "# Showing the statistical measures about the data\n",
        "calories_data.describe()"
      ],
      "metadata": {
        "colab": {
          "base_uri": "https://localhost:8080/",
          "height": 364
        },
        "id": "p3LVHY10Zx-k",
        "outputId": "916e5d54-97be-40c2-adca-78d2162a9baa"
      },
      "execution_count": 21,
      "outputs": [
        {
          "output_type": "execute_result",
          "data": {
            "text/plain": [
              "            User_ID           Age        Height        Weight      Duration  \\\n",
              "count  1.500000e+04  15000.000000  15000.000000  15000.000000  15000.000000   \n",
              "mean   1.497736e+07     42.789800    174.465133     74.966867     15.530600   \n",
              "std    2.872851e+06     16.980264     14.258114     15.035657      8.319203   \n",
              "min    1.000116e+07     20.000000    123.000000     36.000000      1.000000   \n",
              "25%    1.247419e+07     28.000000    164.000000     63.000000      8.000000   \n",
              "50%    1.499728e+07     39.000000    175.000000     74.000000     16.000000   \n",
              "75%    1.744928e+07     56.000000    185.000000     87.000000     23.000000   \n",
              "max    1.999965e+07     79.000000    222.000000    132.000000     30.000000   \n",
              "\n",
              "         Heart_Rate     Body_Temp      Calories  \n",
              "count  15000.000000  15000.000000  15000.000000  \n",
              "mean      95.518533     40.025453     89.539533  \n",
              "std        9.583328      0.779230     62.456978  \n",
              "min       67.000000     37.100000      1.000000  \n",
              "25%       88.000000     39.600000     35.000000  \n",
              "50%       96.000000     40.200000     79.000000  \n",
              "75%      103.000000     40.600000    138.000000  \n",
              "max      128.000000     41.500000    314.000000  "
            ],
            "text/html": [
              "\n",
              "  <div id=\"df-a86d99f2-cd5d-4239-8658-325f493e7920\">\n",
              "    <div class=\"colab-df-container\">\n",
              "      <div>\n",
              "<style scoped>\n",
              "    .dataframe tbody tr th:only-of-type {\n",
              "        vertical-align: middle;\n",
              "    }\n",
              "\n",
              "    .dataframe tbody tr th {\n",
              "        vertical-align: top;\n",
              "    }\n",
              "\n",
              "    .dataframe thead th {\n",
              "        text-align: right;\n",
              "    }\n",
              "</style>\n",
              "<table border=\"1\" class=\"dataframe\">\n",
              "  <thead>\n",
              "    <tr style=\"text-align: right;\">\n",
              "      <th></th>\n",
              "      <th>User_ID</th>\n",
              "      <th>Age</th>\n",
              "      <th>Height</th>\n",
              "      <th>Weight</th>\n",
              "      <th>Duration</th>\n",
              "      <th>Heart_Rate</th>\n",
              "      <th>Body_Temp</th>\n",
              "      <th>Calories</th>\n",
              "    </tr>\n",
              "  </thead>\n",
              "  <tbody>\n",
              "    <tr>\n",
              "      <th>count</th>\n",
              "      <td>1.500000e+04</td>\n",
              "      <td>15000.000000</td>\n",
              "      <td>15000.000000</td>\n",
              "      <td>15000.000000</td>\n",
              "      <td>15000.000000</td>\n",
              "      <td>15000.000000</td>\n",
              "      <td>15000.000000</td>\n",
              "      <td>15000.000000</td>\n",
              "    </tr>\n",
              "    <tr>\n",
              "      <th>mean</th>\n",
              "      <td>1.497736e+07</td>\n",
              "      <td>42.789800</td>\n",
              "      <td>174.465133</td>\n",
              "      <td>74.966867</td>\n",
              "      <td>15.530600</td>\n",
              "      <td>95.518533</td>\n",
              "      <td>40.025453</td>\n",
              "      <td>89.539533</td>\n",
              "    </tr>\n",
              "    <tr>\n",
              "      <th>std</th>\n",
              "      <td>2.872851e+06</td>\n",
              "      <td>16.980264</td>\n",
              "      <td>14.258114</td>\n",
              "      <td>15.035657</td>\n",
              "      <td>8.319203</td>\n",
              "      <td>9.583328</td>\n",
              "      <td>0.779230</td>\n",
              "      <td>62.456978</td>\n",
              "    </tr>\n",
              "    <tr>\n",
              "      <th>min</th>\n",
              "      <td>1.000116e+07</td>\n",
              "      <td>20.000000</td>\n",
              "      <td>123.000000</td>\n",
              "      <td>36.000000</td>\n",
              "      <td>1.000000</td>\n",
              "      <td>67.000000</td>\n",
              "      <td>37.100000</td>\n",
              "      <td>1.000000</td>\n",
              "    </tr>\n",
              "    <tr>\n",
              "      <th>25%</th>\n",
              "      <td>1.247419e+07</td>\n",
              "      <td>28.000000</td>\n",
              "      <td>164.000000</td>\n",
              "      <td>63.000000</td>\n",
              "      <td>8.000000</td>\n",
              "      <td>88.000000</td>\n",
              "      <td>39.600000</td>\n",
              "      <td>35.000000</td>\n",
              "    </tr>\n",
              "    <tr>\n",
              "      <th>50%</th>\n",
              "      <td>1.499728e+07</td>\n",
              "      <td>39.000000</td>\n",
              "      <td>175.000000</td>\n",
              "      <td>74.000000</td>\n",
              "      <td>16.000000</td>\n",
              "      <td>96.000000</td>\n",
              "      <td>40.200000</td>\n",
              "      <td>79.000000</td>\n",
              "    </tr>\n",
              "    <tr>\n",
              "      <th>75%</th>\n",
              "      <td>1.744928e+07</td>\n",
              "      <td>56.000000</td>\n",
              "      <td>185.000000</td>\n",
              "      <td>87.000000</td>\n",
              "      <td>23.000000</td>\n",
              "      <td>103.000000</td>\n",
              "      <td>40.600000</td>\n",
              "      <td>138.000000</td>\n",
              "    </tr>\n",
              "    <tr>\n",
              "      <th>max</th>\n",
              "      <td>1.999965e+07</td>\n",
              "      <td>79.000000</td>\n",
              "      <td>222.000000</td>\n",
              "      <td>132.000000</td>\n",
              "      <td>30.000000</td>\n",
              "      <td>128.000000</td>\n",
              "      <td>41.500000</td>\n",
              "      <td>314.000000</td>\n",
              "    </tr>\n",
              "  </tbody>\n",
              "</table>\n",
              "</div>\n",
              "      <button class=\"colab-df-convert\" onclick=\"convertToInteractive('df-a86d99f2-cd5d-4239-8658-325f493e7920')\"\n",
              "              title=\"Convert this dataframe to an interactive table.\"\n",
              "              style=\"display:none;\">\n",
              "        \n",
              "  <svg xmlns=\"http://www.w3.org/2000/svg\" height=\"24px\"viewBox=\"0 0 24 24\"\n",
              "       width=\"24px\">\n",
              "    <path d=\"M0 0h24v24H0V0z\" fill=\"none\"/>\n",
              "    <path d=\"M18.56 5.44l.94 2.06.94-2.06 2.06-.94-2.06-.94-.94-2.06-.94 2.06-2.06.94zm-11 1L8.5 8.5l.94-2.06 2.06-.94-2.06-.94L8.5 2.5l-.94 2.06-2.06.94zm10 10l.94 2.06.94-2.06 2.06-.94-2.06-.94-.94-2.06-.94 2.06-2.06.94z\"/><path d=\"M17.41 7.96l-1.37-1.37c-.4-.4-.92-.59-1.43-.59-.52 0-1.04.2-1.43.59L10.3 9.45l-7.72 7.72c-.78.78-.78 2.05 0 2.83L4 21.41c.39.39.9.59 1.41.59.51 0 1.02-.2 1.41-.59l7.78-7.78 2.81-2.81c.8-.78.8-2.07 0-2.86zM5.41 20L4 18.59l7.72-7.72 1.47 1.35L5.41 20z\"/>\n",
              "  </svg>\n",
              "      </button>\n",
              "      \n",
              "  <style>\n",
              "    .colab-df-container {\n",
              "      display:flex;\n",
              "      flex-wrap:wrap;\n",
              "      gap: 12px;\n",
              "    }\n",
              "\n",
              "    .colab-df-convert {\n",
              "      background-color: #E8F0FE;\n",
              "      border: none;\n",
              "      border-radius: 50%;\n",
              "      cursor: pointer;\n",
              "      display: none;\n",
              "      fill: #1967D2;\n",
              "      height: 32px;\n",
              "      padding: 0 0 0 0;\n",
              "      width: 32px;\n",
              "    }\n",
              "\n",
              "    .colab-df-convert:hover {\n",
              "      background-color: #E2EBFA;\n",
              "      box-shadow: 0px 1px 2px rgba(60, 64, 67, 0.3), 0px 1px 3px 1px rgba(60, 64, 67, 0.15);\n",
              "      fill: #174EA6;\n",
              "    }\n",
              "\n",
              "    [theme=dark] .colab-df-convert {\n",
              "      background-color: #3B4455;\n",
              "      fill: #D2E3FC;\n",
              "    }\n",
              "\n",
              "    [theme=dark] .colab-df-convert:hover {\n",
              "      background-color: #434B5C;\n",
              "      box-shadow: 0px 1px 3px 1px rgba(0, 0, 0, 0.15);\n",
              "      filter: drop-shadow(0px 1px 2px rgba(0, 0, 0, 0.3));\n",
              "      fill: #FFFFFF;\n",
              "    }\n",
              "  </style>\n",
              "\n",
              "      <script>\n",
              "        const buttonEl =\n",
              "          document.querySelector('#df-a86d99f2-cd5d-4239-8658-325f493e7920 button.colab-df-convert');\n",
              "        buttonEl.style.display =\n",
              "          google.colab.kernel.accessAllowed ? 'block' : 'none';\n",
              "\n",
              "        async function convertToInteractive(key) {\n",
              "          const element = document.querySelector('#df-a86d99f2-cd5d-4239-8658-325f493e7920');\n",
              "          const dataTable =\n",
              "            await google.colab.kernel.invokeFunction('convertToInteractive',\n",
              "                                                     [key], {});\n",
              "          if (!dataTable) return;\n",
              "\n",
              "          const docLinkHtml = 'Like what you see? Visit the ' +\n",
              "            '<a target=\"_blank\" href=https://colab.research.google.com/notebooks/data_table.ipynb>data table notebook</a>'\n",
              "            + ' to learn more about interactive tables.';\n",
              "          element.innerHTML = '';\n",
              "          dataTable['output_type'] = 'display_data';\n",
              "          await google.colab.output.renderOutput(dataTable, element);\n",
              "          const docLink = document.createElement('div');\n",
              "          docLink.innerHTML = docLinkHtml;\n",
              "          element.appendChild(docLink);\n",
              "        }\n",
              "      </script>\n",
              "    </div>\n",
              "  </div>\n",
              "  "
            ]
          },
          "metadata": {},
          "execution_count": 21
        }
      ]
    },
    {
      "cell_type": "code",
      "source": [
        "sns.set()"
      ],
      "metadata": {
        "id": "1pkvCwmzZ5tJ"
      },
      "execution_count": 22,
      "outputs": []
    },
    {
      "cell_type": "code",
      "source": [
        "# Plotting the gender column in count plot\n",
        "sns.countplot(calories_data['Gender'])"
      ],
      "metadata": {
        "colab": {
          "base_uri": "https://localhost:8080/",
          "height": 359
        },
        "id": "zY9mXynAaDE2",
        "outputId": "e8510952-b9c0-4ee4-a27d-2e5e7242df44"
      },
      "execution_count": 24,
      "outputs": [
        {
          "output_type": "stream",
          "name": "stderr",
          "text": [
            "/usr/local/lib/python3.8/dist-packages/seaborn/_decorators.py:36: FutureWarning: Pass the following variable as a keyword arg: x. From version 0.12, the only valid positional argument will be `data`, and passing other arguments without an explicit keyword will result in an error or misinterpretation.\n",
            "  warnings.warn(\n"
          ]
        },
        {
          "output_type": "execute_result",
          "data": {
            "text/plain": [
              "<matplotlib.axes._subplots.AxesSubplot at 0x7f7c5d642040>"
            ]
          },
          "metadata": {},
          "execution_count": 24
        },
        {
          "output_type": "display_data",
          "data": {
            "text/plain": [
              "<Figure size 432x288 with 1 Axes>"
            ],
            "image/png": "[encoded data removed]"
          },
          "metadata": {}
        }
      ]
    },
    {
      "cell_type": "code",
      "source": [
        "# Showing the distribution of \"Age\" Column\n",
        "sns.distplot(calories_data['Age'])"
      ],
      "metadata": {
        "colab": {
          "base_uri": "https://localhost:8080/",
          "height": 359
        },
        "id": "W0NL2louaHBi",
        "outputId": "640ba493-fabc-4dbf-8da9-8d00a36bc795"
      },
      "execution_count": 25,
      "outputs": [
        {
          "output_type": "stream",
          "name": "stderr",
          "text": [
            "/usr/local/lib/python3.8/dist-packages/seaborn/distributions.py:2619: FutureWarning: `distplot` is a deprecated function and will be removed in a future version. Please adapt your code to use either `displot` (a figure-level function with similar flexibility) or `histplot` (an axes-level function for histograms).\n",
            "  warnings.warn(msg, FutureWarning)\n"
          ]
        },
        {
          "output_type": "execute_result",
          "data": {
            "text/plain": [
              "<matplotlib.axes._subplots.AxesSubplot at 0x7f7c5cb67520>"
            ]
          },
          "metadata": {},
          "execution_count": 25
        },
        {
          "output_type": "display_data",
          "data": {
            "text/plain": [
              "<Figure size 432x288 with 1 Axes>"
            ],
            "image/png": "[encoded data removed]"
          },
          "metadata": {}
        }
      ]
    },
    {
      "cell_type": "code",
      "source": [
        "# Showing the distribution of \"Height\" Column\n",
        "sns.distplot(calories_data['Height'])"
      ],
      "metadata": {
        "colab": {
          "base_uri": "https://localhost:8080/",
          "height": 359
        },
        "id": "k0SUCkV7aPWw",
        "outputId": "b4bf6acb-40db-4bb2-d1fd-e047d1b05199"
      },
      "execution_count": 26,
      "outputs": [
        {
          "output_type": "stream",
          "name": "stderr",
          "text": [
            "/usr/local/lib/python3.8/dist-packages/seaborn/distributions.py:2619: FutureWarning: `distplot` is a deprecated function and will be removed in a future version. Please adapt your code to use either `displot` (a figure-level function with similar flexibility) or `histplot` (an axes-level function for histograms).\n",
            "  warnings.warn(msg, FutureWarning)\n"
          ]
        },
        {
          "output_type": "execute_result",
          "data": {
            "text/plain": [
              "<matplotlib.axes._subplots.AxesSubplot at 0x7f7c57e31c10>"
            ]
          },
          "metadata": {},
          "execution_count": 26
        },
        {
          "output_type": "display_data",
          "data": {
            "text/plain": [
              "<Figure size 432x288 with 1 Axes>"
            ],
            "image/png": "[encoded data removed]"
          },
          "metadata": {}
        }
      ]
    },
    {
      "cell_type": "code",
      "source": [
        "# Showing the distribution of \"Weight\" Column\n",
        "sns.distplot(calories_data['Weight'])"
      ],
      "metadata": {
        "colab": {
          "base_uri": "https://localhost:8080/",
          "height": 359
        },
        "id": "_vheSAYIaSiP",
        "outputId": "e469b703-ff2a-4793-eea1-0d2406f9995c"
      },
      "execution_count": 27,
      "outputs": [
        {
          "output_type": "stream",
          "name": "stderr",
          "text": [
            "/usr/local/lib/python3.8/dist-packages/seaborn/distributions.py:2619: FutureWarning: `distplot` is a deprecated function and will be removed in a future version. Please adapt your code to use either `displot` (a figure-level function with similar flexibility) or `histplot` (an axes-level function for histograms).\n",
            "  warnings.warn(msg, FutureWarning)\n"
          ]
        },
        {
          "output_type": "execute_result",
          "data": {
            "text/plain": [
              "<matplotlib.axes._subplots.AxesSubplot at 0x7f7c57e01a30>"
            ]
          },
          "metadata": {},
          "execution_count": 27
        },
        {
          "output_type": "display_data",
          "data": {
            "text/plain": [
              "<Figure size 432x288 with 1 Axes>"
            ],
            "image/png": "[encoded data removed]"
          },
          "metadata": {}
        }
      ]
    },
    {
      "cell_type": "markdown",
      "source": [
        "###**- Correlation**\n",
        "\n",
        "  1. Positive Correlation (Moving in the same direction)\n",
        "  2. Negative Correlation (Moving in the opposite direction)"
      ],
      "metadata": {
        "id": "g2z4WRHlaW9C"
      }
    },
    {
      "cell_type": "code",
      "source": [
        "correlation = calories_data.corr()"
      ],
      "metadata": {
        "id": "vl1qUmIIaVRD"
      },
      "execution_count": 28,
      "outputs": []
    },
    {
      "cell_type": "code",
      "source": [
        "# Constructing a Heatmap to understand the correlation\n",
        "\n",
        "plt.figure(figsize=(10,10))\n",
        "sns.heatmap(correlation, cbar=True, square=True, fmt='.1f', annot=True, annot_kws={'size':8}, cmap='Blues')"
      ],
      "metadata": {
        "colab": {
          "base_uri": "https://localhost:8080/",
          "height": 620
        },
        "id": "oQ7CUuyJarVr",
        "outputId": "aba47079-d08e-496a-9dc1-02141fc8d082"
      },
      "execution_count": 29,
      "outputs": [
        {
          "output_type": "execute_result",
          "data": {
            "text/plain": [
              "<matplotlib.axes._subplots.AxesSubplot at 0x7f7c57c9ba00>"
            ]
          },
          "metadata": {},
          "execution_count": 29
        },
        {
          "output_type": "display_data",
          "data": {
            "text/plain": [
              "<Figure size 720x720 with 2 Axes>"
            ],
            "image/png": "[encoded data removed]"
          },
          "metadata": {}
        }
      ]
    },
    {
      "cell_type": "markdown",
      "source": [
        "###*- Converting text data (non-numerical data) to numerical values*"
      ],
      "metadata": {
        "id": "P0IfmCp5bSHP"
      }
    },
    {
      "cell_type": "code",
      "source": [
        "calories_data.replace({\"Gender\":{\"male\":0, \"female\":1}}, inplace=True)"
      ],
      "metadata": {
        "id": "vE-5eDl4bOSZ"
      },
      "execution_count": 30,
      "outputs": []
    },
    {
      "cell_type": "code",
      "source": [
        "calories_data.head()"
      ],
      "metadata": {
        "colab": {
          "base_uri": "https://localhost:8080/",
          "height": 270
        },
        "id": "_HK2Qq58bk1n",
        "outputId": "f73c3f67-27c7-41d2-e187-90812916e19b"
      },
      "execution_count": 31,
      "outputs": [
        {
          "output_type": "execute_result",
          "data": {
            "text/plain": [
              "    User_ID  Gender  Age  Height  Weight  Duration  Heart_Rate  Body_Temp  \\\n",
              "0  14733363       0   68   190.0    94.0      29.0       105.0       40.8   \n",
              "1  14861698       1   20   166.0    60.0      14.0        94.0       40.3   \n",
              "2  11179863       0   69   179.0    79.0       5.0        88.0       38.7   \n",
              "3  16180408       1   34   179.0    71.0      13.0       100.0       40.5   \n",
              "4  17771927       1   27   154.0    58.0      10.0        81.0       39.8   \n",
              "\n",
              "   Calories  \n",
              "0     231.0  \n",
              "1      66.0  \n",
              "2      26.0  \n",
              "3      71.0  \n",
              "4      35.0  "
            ],
            "text/html": [
              "\n",
              "  <div id=\"df-40a86c2c-276d-4fec-a76f-9d12740beaed\">\n",
              "    <div class=\"colab-df-container\">\n",
              "      <div>\n",
              "<style scoped>\n",
              "    .dataframe tbody tr th:only-of-type {\n",
              "        vertical-align: middle;\n",
              "    }\n",
              "\n",
              "    .dataframe tbody tr th {\n",
              "        vertical-align: top;\n",
              "    }\n",
              "\n",
              "    .dataframe thead th {\n",
              "        text-align: right;\n",
              "    }\n",
              "</style>\n",
              "<table border=\"1\" class=\"dataframe\">\n",
              "  <thead>\n",
              "    <tr style=\"text-align: right;\">\n",
              "      <th></th>\n",
              "      <th>User_ID</th>\n",
              "      <th>Gender</th>\n",
              "      <th>Age</th>\n",
              "      <th>Height</th>\n",
              "      <th>Weight</th>\n",
              "      <th>Duration</th>\n",
              "      <th>Heart_Rate</th>\n",
              "      <th>Body_Temp</th>\n",
              "      <th>Calories</th>\n",
              "    </tr>\n",
              "  </thead>\n",
              "  <tbody>\n",
              "    <tr>\n",
              "      <th>0</th>\n",
              "      <td>14733363</td>\n",
              "      <td>0</td>\n",
              "      <td>68</td>\n",
              "      <td>190.0</td>\n",
              "      <td>94.0</td>\n",
              "      <td>29.0</td>\n",
              "      <td>105.0</td>\n",
              "      <td>40.8</td>\n",
              "      <td>231.0</td>\n",
              "    </tr>\n",
              "    <tr>\n",
              "      <th>1</th>\n",
              "      <td>14861698</td>\n",
              "      <td>1</td>\n",
              "      <td>20</td>\n",
              "      <td>166.0</td>\n",
              "      <td>60.0</td>\n",
              "      <td>14.0</td>\n",
              "      <td>94.0</td>\n",
              "      <td>40.3</td>\n",
              "      <td>66.0</td>\n",
              "    </tr>\n",
              "    <tr>\n",
              "      <th>2</th>\n",
              "      <td>11179863</td>\n",
              "      <td>0</td>\n",
              "      <td>69</td>\n",
              "      <td>179.0</td>\n",
              "      <td>79.0</td>\n",
              "      <td>5.0</td>\n",
              "      <td>88.0</td>\n",
              "      <td>38.7</td>\n",
              "      <td>26.0</td>\n",
              "    </tr>\n",
              "    <tr>\n",
              "      <th>3</th>\n",
              "      <td>16180408</td>\n",
              "      <td>1</td>\n",
              "      <td>34</td>\n",
              "      <td>179.0</td>\n",
              "      <td>71.0</td>\n",
              "      <td>13.0</td>\n",
              "      <td>100.0</td>\n",
              "      <td>40.5</td>\n",
              "      <td>71.0</td>\n",
              "    </tr>\n",
              "    <tr>\n",
              "      <th>4</th>\n",
              "      <td>17771927</td>\n",
              "      <td>1</td>\n",
              "      <td>27</td>\n",
              "      <td>154.0</td>\n",
              "      <td>58.0</td>\n",
              "      <td>10.0</td>\n",
              "      <td>81.0</td>\n",
              "      <td>39.8</td>\n",
              "      <td>35.0</td>\n",
              "    </tr>\n",
              "  </tbody>\n",
              "</table>\n",
              "</div>\n",
              "      <button class=\"colab-df-convert\" onclick=\"convertToInteractive('df-40a86c2c-276d-4fec-a76f-9d12740beaed')\"\n",
              "              title=\"Convert this dataframe to an interactive table.\"\n",
              "              style=\"display:none;\">\n",
              "        \n",
              "  <svg xmlns=\"http://www.w3.org/2000/svg\" height=\"24px\"viewBox=\"0 0 24 24\"\n",
              "       width=\"24px\">\n",
              "    <path d=\"M0 0h24v24H0V0z\" fill=\"none\"/>\n",
              "    <path d=\"M18.56 5.44l.94 2.06.94-2.06 2.06-.94-2.06-.94-.94-2.06-.94 2.06-2.06.94zm-11 1L8.5 8.5l.94-2.06 2.06-.94-2.06-.94L8.5 2.5l-.94 2.06-2.06.94zm10 10l.94 2.06.94-2.06 2.06-.94-2.06-.94-.94-2.06-.94 2.06-2.06.94z\"/><path d=\"M17.41 7.96l-1.37-1.37c-.4-.4-.92-.59-1.43-.59-.52 0-1.04.2-1.43.59L10.3 9.45l-7.72 7.72c-.78.78-.78 2.05 0 2.83L4 21.41c.39.39.9.59 1.41.59.51 0 1.02-.2 1.41-.59l7.78-7.78 2.81-2.81c.8-.78.8-2.07 0-2.86zM5.41 20L4 18.59l7.72-7.72 1.47 1.35L5.41 20z\"/>\n",
              "  </svg>\n",
              "      </button>\n",
              "      \n",
              "  <style>\n",
              "    .colab-df-container {\n",
              "      display:flex;\n",
              "      flex-wrap:wrap;\n",
              "      gap: 12px;\n",
              "    }\n",
              "\n",
              "    .colab-df-convert {\n",
              "      background-color: #E8F0FE;\n",
              "      border: none;\n",
              "      border-radius: 50%;\n",
              "      cursor: pointer;\n",
              "      display: none;\n",
              "      fill: #1967D2;\n",
              "      height: 32px;\n",
              "      padding: 0 0 0 0;\n",
              "      width: 32px;\n",
              "    }\n",
              "\n",
              "    .colab-df-convert:hover {\n",
              "      background-color: #E2EBFA;\n",
              "      box-shadow: 0px 1px 2px rgba(60, 64, 67, 0.3), 0px 1px 3px 1px rgba(60, 64, 67, 0.15);\n",
              "      fill: #174EA6;\n",
              "    }\n",
              "\n",
              "    [theme=dark] .colab-df-convert {\n",
              "      background-color: #3B4455;\n",
              "      fill: #D2E3FC;\n",
              "    }\n",
              "\n",
              "    [theme=dark] .colab-df-convert:hover {\n",
              "      background-color: #434B5C;\n",
              "      box-shadow: 0px 1px 3px 1px rgba(0, 0, 0, 0.15);\n",
              "      filter: drop-shadow(0px 1px 2px rgba(0, 0, 0, 0.3));\n",
              "      fill: #FFFFFF;\n",
              "    }\n",
              "  </style>\n",
              "\n",
              "      <script>\n",
              "        const buttonEl =\n",
              "          document.querySelector('#df-40a86c2c-276d-4fec-a76f-9d12740beaed button.colab-df-convert');\n",
              "        buttonEl.style.display =\n",
              "          google.colab.kernel.accessAllowed ? 'block' : 'none';\n",
              "\n",
              "        async function convertToInteractive(key) {\n",
              "          const element = document.querySelector('#df-40a86c2c-276d-4fec-a76f-9d12740beaed');\n",
              "          const dataTable =\n",
              "            await google.colab.kernel.invokeFunction('convertToInteractive',\n",
              "                                                     [key], {});\n",
              "          if (!dataTable) return;\n",
              "\n",
              "          const docLinkHtml = 'Like what you see? Visit the ' +\n",
              "            '<a target=\"_blank\" href=https://colab.research.google.com/notebooks/data_table.ipynb>data table notebook</a>'\n",
              "            + ' to learn more about interactive tables.';\n",
              "          element.innerHTML = '';\n",
              "          dataTable['output_type'] = 'display_data';\n",
              "          await google.colab.output.renderOutput(dataTable, element);\n",
              "          const docLink = document.createElement('div');\n",
              "          docLink.innerHTML = docLinkHtml;\n",
              "          element.appendChild(docLink);\n",
              "        }\n",
              "      </script>\n",
              "    </div>\n",
              "  </div>\n",
              "  "
            ]
          },
          "metadata": {},
          "execution_count": 31
        }
      ]
    },
    {
      "cell_type": "markdown",
      "source": [
        "###*- Separating Features and Target*"
      ],
      "metadata": {
        "id": "T3pVMnF4bn0Z"
      }
    },
    {
      "cell_type": "code",
      "source": [
        "# X for storing Features and Y for storing Target\n",
        "\n",
        "X = calories_data.drop(columns=[\"User_ID\",\"Calories\"], axis=1)\n",
        "Y = calories_data[\"Calories\"]"
      ],
      "metadata": {
        "id": "fLRGKnwAblz5"
      },
      "execution_count": 32,
      "outputs": []
    },
    {
      "cell_type": "code",
      "source": [
        "print(X)"
      ],
      "metadata": {
        "colab": {
          "base_uri": "https://localhost:8080/"
        },
        "id": "9o22tAcqb-tq",
        "outputId": "4427cd13-8725-4239-a6c3-e4e65329407a"
      },
      "execution_count": 33,
      "outputs": [
        {
          "output_type": "stream",
          "name": "stdout",
          "text": [
            "       Gender  Age  Height  Weight  Duration  Heart_Rate  Body_Temp\n",
            "0           0   68   190.0    94.0      29.0       105.0       40.8\n",
            "1           1   20   166.0    60.0      14.0        94.0       40.3\n",
            "2           0   69   179.0    79.0       5.0        88.0       38.7\n",
            "3           1   34   179.0    71.0      13.0       100.0       40.5\n",
            "4           1   27   154.0    58.0      10.0        81.0       39.8\n",
            "...       ...  ...     ...     ...       ...         ...        ...\n",
            "14995       1   20   193.0    86.0      11.0        92.0       40.4\n",
            "14996       1   27   165.0    65.0       6.0        85.0       39.2\n",
            "14997       1   43   159.0    58.0      16.0        90.0       40.1\n",
            "14998       0   78   193.0    97.0       2.0        84.0       38.3\n",
            "14999       0   63   173.0    79.0      18.0        92.0       40.5\n",
            "\n",
            "[15000 rows x 7 columns]\n"
          ]
        }
      ]
    },
    {
      "cell_type": "code",
      "source": [
        "print(Y)"
      ],
      "metadata": {
        "colab": {
          "base_uri": "https://localhost:8080/"
        },
        "id": "rISZiGwub_ow",
        "outputId": "5fc1e444-838b-4940-9165-7b8986447b63"
      },
      "execution_count": 34,
      "outputs": [
        {
          "output_type": "stream",
          "name": "stdout",
          "text": [
            "0        231.0\n",
            "1         66.0\n",
            "2         26.0\n",
            "3         71.0\n",
            "4         35.0\n",
            "         ...  \n",
            "14995     45.0\n",
            "14996     23.0\n",
            "14997     75.0\n",
            "14998     11.0\n",
            "14999     98.0\n",
            "Name: Calories, Length: 15000, dtype: float64\n"
          ]
        }
      ]
    },
    {
      "cell_type": "markdown",
      "source": [
        "###*- Splitting the data into Training data and Test data*"
      ],
      "metadata": {
        "id": "3Vj44W-dcDqv"
      }
    },
    {
      "cell_type": "code",
      "source": [
        "X_train, X_test, Y_train, Y_test = train_test_split(X, Y, test_size=0.2, random_state =2)\n",
        "# test size = 0.2 means that 20% of data is test data and 80% of data is the training data"
      ],
      "metadata": {
        "id": "EL_czwaJcB3X"
      },
      "execution_count": 35,
      "outputs": []
    },
    {
      "cell_type": "code",
      "source": [
        "print(X.shape, X_train.shape, X_test.shape)"
      ],
      "metadata": {
        "colab": {
          "base_uri": "https://localhost:8080/"
        },
        "id": "9g4mLpyKcYho",
        "outputId": "8d975a38-78c9-4f7c-bbf4-27d34944562c"
      },
      "execution_count": 36,
      "outputs": [
        {
          "output_type": "stream",
          "name": "stdout",
          "text": [
            "(15000, 7) (12000, 7) (3000, 7)\n"
          ]
        }
      ]
    },
    {
      "cell_type": "markdown",
      "source": [
        "##**XGBoost Regressor Model Training**"
      ],
      "metadata": {
        "id": "50XQ9N5sceSg"
      }
    },
    {
      "cell_type": "code",
      "source": [
        "model = XGBRegressor()"
      ],
      "metadata": {
        "id": "K8hXoUQ3ccsr"
      },
      "execution_count": 37,
      "outputs": []
    },
    {
      "cell_type": "code",
      "source": [
        "model.fit(X_train, Y_train)"
      ],
      "metadata": {
        "colab": {
          "base_uri": "https://localhost:8080/"
        },
        "id": "TU4OBtqRcn59",
        "outputId": "27141d84-5500-4dca-a068-76ca94a5021e"
      },
      "execution_count": 38,
      "outputs": [
        {
          "output_type": "stream",
          "name": "stdout",
          "text": [
            "[15:42:26] WARNING: /workspace/src/objective/regression_obj.cu:152: reg:linear is now deprecated in favor of reg:squarederror.\n"
          ]
        },
        {
          "output_type": "execute_result",
          "data": {
            "text/plain": [
              "XGBRegressor()"
            ]
          },
          "metadata": {},
          "execution_count": 38
        }
      ]
    },
    {
      "cell_type": "markdown",
      "source": [
        "##**Model Evaluation (Using Mean Absolute Error)**"
      ],
      "metadata": {
        "id": "gYH5XQhmcsj4"
      }
    },
    {
      "cell_type": "markdown",
      "source": [
        "![Mean absolute error.png](data:image/png;base64,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)"
      ],
      "metadata": {
        "id": "O4VwxE01dn12"
      }
    },
    {
      "cell_type": "code",
      "source": [
        "# Prediction on Training data\n",
        "training_data_prediction = model.predict(X_train)"
      ],
      "metadata": {
        "id": "VoVli14qcqzF"
      },
      "execution_count": 39,
      "outputs": []
    },
    {
      "cell_type": "code",
      "source": [
        "print(training_data_prediction)"
      ],
      "metadata": {
        "colab": {
          "base_uri": "https://localhost:8080/"
        },
        "id": "ivrSuvFTc0zS",
        "outputId": "7192569a-2d33-4212-d0c7-e2b8bd47ca2f"
      },
      "execution_count": 40,
      "outputs": [
        {
          "output_type": "stream",
          "name": "stdout",
          "text": [
            "[  9.806499  35.532837  28.32333  ... 102.74845  179.59464   44.3327  ]\n"
          ]
        }
      ]
    },
    {
      "cell_type": "code",
      "source": [
        "# Using Mean Absolute Error\n",
        "mae = metrics.mean_absolute_error(Y_train, training_data_prediction)\n",
        "print(\"Mean Absolute Error (for training data) =\", mae)"
      ],
      "metadata": {
        "colab": {
          "base_uri": "https://localhost:8080/"
        },
        "id": "FwjLPHubc2tc",
        "outputId": "5031297a-bbca-4b2b-f4f8-a74fd7274e64"
      },
      "execution_count": 44,
      "outputs": [
        {
          "output_type": "stream",
          "name": "stdout",
          "text": [
            "Mean Absolute Error (for training data) = 2.5767704472566644\n"
          ]
        }
      ]
    },
    {
      "cell_type": "code",
      "source": [
        "# Prediction on Test data\n",
        "test_data_prediction = model.predict(X_test)"
      ],
      "metadata": {
        "id": "SdZ2rLbHc_qQ"
      },
      "execution_count": 48,
      "outputs": []
    },
    {
      "cell_type": "code",
      "source": [
        "print(test_data_prediction)"
      ],
      "metadata": {
        "colab": {
          "base_uri": "https://localhost:8080/"
        },
        "id": "I1YiKKCWdvzB",
        "outputId": "2c38d245-d383-4923-b0b8-da7d543b8342"
      },
      "execution_count": 49,
      "outputs": [
        {
          "output_type": "stream",
          "name": "stdout",
          "text": [
            "[129.06204  223.79721   39.181965 ... 145.59767   22.53474   92.29064 ]\n"
          ]
        }
      ]
    },
    {
      "cell_type": "code",
      "source": [
        "# Using Mean Absolute Error\n",
        "mae = metrics.mean_absolute_error(Y_test, test_data_prediction)\n",
        "print(\"Mean Absolute Error (for test data) =\", mae)"
      ],
      "metadata": {
        "colab": {
          "base_uri": "https://localhost:8080/"
        },
        "id": "lEVMkjk4dxGj",
        "outputId": "35d3382a-df95-462e-8fef-3893757fa115"
      },
      "execution_count": 50,
      "outputs": [
        {
          "output_type": "stream",
          "name": "stdout",
          "text": [
            "Mean Absolute Error (for test data) = 2.7159012502233186\n"
          ]
        }
      ]
    }
  ]
}